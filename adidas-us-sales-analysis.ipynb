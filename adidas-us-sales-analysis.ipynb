{
 "cells": [
  {
   "cell_type": "markdown",
   "id": "a1b9f3b9",
   "metadata": {
    "papermill": {
     "duration": 0.009148,
     "end_time": "2022-12-29T21:55:45.426114",
     "exception": false,
     "start_time": "2022-12-29T21:55:45.416966",
     "status": "completed"
    },
    "tags": []
   },
   "source": [
    "# 🙋🏾‍♂️Info\n",
    "* Author: Diego Ulysses de Melo\n",
    "* https://diegoumelo.owlstown.net/\n",
    "* Date: 27/12/2022"
   ]
  },
  {
   "cell_type": "markdown",
   "id": "a624d9be",
   "metadata": {
    "papermill": {
     "duration": 0.007594,
     "end_time": "2022-12-29T21:55:45.441879",
     "exception": false,
     "start_time": "2022-12-29T21:55:45.434285",
     "status": "completed"
    },
    "tags": []
   },
   "source": [
    "# 🧾 Table of Contents\n",
    "* 1. Preparing Tool Box\n",
    "* 2. Reading the Data\n",
    "* 3. Data Cleaning and Pre-processing\n",
    "* 4. Data Analysis              \n",
    "    4.1. Market Share of Retailers     \n",
    "    4.2. Total Sales per Product    \n",
    "    4.3. Total Sales per Region    \n",
    "    4.4. Total Sales by Month"
   ]
  },
  {
   "cell_type": "markdown",
   "id": "a08585cf",
   "metadata": {
    "papermill": {
     "duration": 0.007732,
     "end_time": "2022-12-29T21:55:45.457703",
     "exception": false,
     "start_time": "2022-12-29T21:55:45.449971",
     "status": "completed"
    },
    "tags": []
   },
   "source": [
    "# 🔧1. Preparing Tool Box"
   ]
  },
  {
   "cell_type": "code",
   "execution_count": 84,
   "id": "08ec0c9d",
   "metadata": {
    "execution": {
     "iopub.execute_input": "2022-12-29T21:55:45.515607Z",
     "iopub.status.busy": "2022-12-29T21:55:45.514728Z",
     "iopub.status.idle": "2022-12-29T21:55:46.851638Z",
     "shell.execute_reply": "2022-12-29T21:55:46.850221Z"
    },
    "papermill": {
     "duration": 1.348612,
     "end_time": "2022-12-29T21:55:46.854159",
     "exception": false,
     "start_time": "2022-12-29T21:55:45.505547",
     "status": "completed"
    },
    "tags": []
   },
   "outputs": [],
   "source": [
    "from matplotlib.ticker import EngFormatter\n",
    "\n",
    "import calendar\n",
    "import matplotlib.pyplot as plt\n",
    "import numpy as np\n",
    "import pandas as pd\n",
    "import plotly.express as px\n",
    "import plotly.io as pio\n",
    "import plotly.offline as pyo\n",
    "import time"
   ]
  },
  {
   "cell_type": "code",
   "execution_count": 30,
   "id": "c3a900f7",
   "metadata": {},
   "outputs": [
    {
     "name": "stdout",
     "output_type": "stream",
     "text": [
      "C:\\data\\Adidas_US_Sales_Datasets.xlsx\n"
     ]
    }
   ],
   "source": [
    "import os\n",
    "for dirname, _, filenames in os.walk('C:\\data'):\n",
    "    for filename in filenames:\n",
    "        print(os.path.join(dirname, filename))"
   ]
  },
  {
   "cell_type": "markdown",
   "id": "88ad5947",
   "metadata": {
    "papermill": {
     "duration": 0.007921,
     "end_time": "2022-12-29T21:55:46.870695",
     "exception": false,
     "start_time": "2022-12-29T21:55:46.862774",
     "status": "completed"
    },
    "tags": []
   },
   "source": [
    "# 📂2. Reading the Data"
   ]
  },
  {
   "cell_type": "code",
   "execution_count": 34,
   "id": "b95af209",
   "metadata": {
    "execution": {
     "iopub.execute_input": "2022-12-29T21:55:46.888485Z",
     "iopub.status.busy": "2022-12-29T21:55:46.887915Z",
     "iopub.status.idle": "2022-12-29T21:55:49.175883Z",
     "shell.execute_reply": "2022-12-29T21:55:49.174467Z"
    },
    "papermill": {
     "duration": 2.299387,
     "end_time": "2022-12-29T21:55:49.178089",
     "exception": false,
     "start_time": "2022-12-29T21:55:46.878702",
     "status": "completed"
    },
    "tags": []
   },
   "outputs": [],
   "source": [
    "#Create a DataFrame containing Adidas Sales dataset\n",
    "data = pd.read_excel('C:\\data\\Adidas_US_Sales_Datasets.xlsx')"
   ]
  },
  {
   "cell_type": "markdown",
   "id": "51629269",
   "metadata": {
    "papermill": {
     "duration": 0.007619,
     "end_time": "2022-12-29T21:55:49.195228",
     "exception": false,
     "start_time": "2022-12-29T21:55:49.187609",
     "status": "completed"
    },
    "tags": []
   },
   "source": [
    "# 🛁3. Data Cleaning and Pre-processing"
   ]
  },
  {
   "cell_type": "code",
   "execution_count": 9,
   "id": "088d4fb4",
   "metadata": {
    "execution": {
     "iopub.execute_input": "2022-12-29T21:55:49.213494Z",
     "iopub.status.busy": "2022-12-29T21:55:49.213085Z",
     "iopub.status.idle": "2022-12-29T21:55:49.245359Z",
     "shell.execute_reply": "2022-12-29T21:55:49.243900Z"
    },
    "papermill": {
     "duration": 0.043559,
     "end_time": "2022-12-29T21:55:49.247243",
     "exception": false,
     "start_time": "2022-12-29T21:55:49.203684",
     "status": "completed"
    },
    "tags": []
   },
   "outputs": [
    {
     "name": "stdout",
     "output_type": "stream",
     "text": [
      "<class 'pandas.core.frame.DataFrame'>\n",
      "RangeIndex: 9652 entries, 0 to 9651\n",
      "Data columns (total 14 columns):\n",
      " #   Column       Non-Null Count  Dtype  \n",
      "---  ------       --------------  -----  \n",
      " 0   Unnamed: 0   0 non-null      float64\n",
      " 1   Unnamed: 1   9649 non-null   object \n",
      " 2   Unnamed: 2   9650 non-null   object \n",
      " 3   Unnamed: 3   9649 non-null   object \n",
      " 4   Unnamed: 4   9649 non-null   object \n",
      " 5   Unnamed: 5   9649 non-null   object \n",
      " 6   Unnamed: 6   9649 non-null   object \n",
      " 7   Unnamed: 7   9649 non-null   object \n",
      " 8   Unnamed: 8   9649 non-null   object \n",
      " 9   Unnamed: 9   9649 non-null   object \n",
      " 10  Unnamed: 10  9649 non-null   object \n",
      " 11  Unnamed: 11  9649 non-null   object \n",
      " 12  Unnamed: 12  9649 non-null   object \n",
      " 13  Unnamed: 13  9649 non-null   object \n",
      "dtypes: float64(1), object(13)\n",
      "memory usage: 1.0+ MB\n"
     ]
    }
   ],
   "source": [
    "data.info()"
   ]
  },
  {
   "cell_type": "markdown",
   "id": "9598d9d9",
   "metadata": {
    "papermill": {
     "duration": 0.00775,
     "end_time": "2022-12-29T21:55:49.263307",
     "exception": false,
     "start_time": "2022-12-29T21:55:49.255557",
     "status": "completed"
    },
    "tags": []
   },
   "source": [
    "Initially, the DataFrame contains 14 columns and 9652 rows."
   ]
  },
  {
   "cell_type": "code",
   "execution_count": 10,
   "id": "c7fea458",
   "metadata": {
    "execution": {
     "iopub.execute_input": "2022-12-29T21:55:49.282004Z",
     "iopub.status.busy": "2022-12-29T21:55:49.280918Z",
     "iopub.status.idle": "2022-12-29T21:55:49.306383Z",
     "shell.execute_reply": "2022-12-29T21:55:49.305038Z"
    },
    "papermill": {
     "duration": 0.036867,
     "end_time": "2022-12-29T21:55:49.308449",
     "exception": false,
     "start_time": "2022-12-29T21:55:49.271582",
     "status": "completed"
    },
    "tags": []
   },
   "outputs": [
    {
     "data": {
      "text/html": [
       "<div>\n",
       "<style scoped>\n",
       "    .dataframe tbody tr th:only-of-type {\n",
       "        vertical-align: middle;\n",
       "    }\n",
       "\n",
       "    .dataframe tbody tr th {\n",
       "        vertical-align: top;\n",
       "    }\n",
       "\n",
       "    .dataframe thead th {\n",
       "        text-align: right;\n",
       "    }\n",
       "</style>\n",
       "<table border=\"1\" class=\"dataframe\">\n",
       "  <thead>\n",
       "    <tr style=\"text-align: right;\">\n",
       "      <th></th>\n",
       "      <th>Unnamed: 0</th>\n",
       "      <th>Unnamed: 1</th>\n",
       "      <th>Unnamed: 2</th>\n",
       "      <th>Unnamed: 3</th>\n",
       "      <th>Unnamed: 4</th>\n",
       "      <th>Unnamed: 5</th>\n",
       "      <th>Unnamed: 6</th>\n",
       "      <th>Unnamed: 7</th>\n",
       "      <th>Unnamed: 8</th>\n",
       "      <th>Unnamed: 9</th>\n",
       "      <th>Unnamed: 10</th>\n",
       "      <th>Unnamed: 11</th>\n",
       "      <th>Unnamed: 12</th>\n",
       "      <th>Unnamed: 13</th>\n",
       "    </tr>\n",
       "  </thead>\n",
       "  <tbody>\n",
       "    <tr>\n",
       "      <th>0</th>\n",
       "      <td>NaN</td>\n",
       "      <td>NaN</td>\n",
       "      <td>Adidas Sales Database</td>\n",
       "      <td>NaN</td>\n",
       "      <td>NaN</td>\n",
       "      <td>NaN</td>\n",
       "      <td>NaN</td>\n",
       "      <td>NaN</td>\n",
       "      <td>NaN</td>\n",
       "      <td>NaN</td>\n",
       "      <td>NaN</td>\n",
       "      <td>NaN</td>\n",
       "      <td>NaN</td>\n",
       "      <td>NaN</td>\n",
       "    </tr>\n",
       "    <tr>\n",
       "      <th>1</th>\n",
       "      <td>NaN</td>\n",
       "      <td>NaN</td>\n",
       "      <td>NaN</td>\n",
       "      <td>NaN</td>\n",
       "      <td>NaN</td>\n",
       "      <td>NaN</td>\n",
       "      <td>NaN</td>\n",
       "      <td>NaN</td>\n",
       "      <td>NaN</td>\n",
       "      <td>NaN</td>\n",
       "      <td>NaN</td>\n",
       "      <td>NaN</td>\n",
       "      <td>NaN</td>\n",
       "      <td>NaN</td>\n",
       "    </tr>\n",
       "    <tr>\n",
       "      <th>2</th>\n",
       "      <td>NaN</td>\n",
       "      <td>NaN</td>\n",
       "      <td>NaN</td>\n",
       "      <td>NaN</td>\n",
       "      <td>NaN</td>\n",
       "      <td>NaN</td>\n",
       "      <td>NaN</td>\n",
       "      <td>NaN</td>\n",
       "      <td>NaN</td>\n",
       "      <td>NaN</td>\n",
       "      <td>NaN</td>\n",
       "      <td>NaN</td>\n",
       "      <td>NaN</td>\n",
       "      <td>NaN</td>\n",
       "    </tr>\n",
       "    <tr>\n",
       "      <th>3</th>\n",
       "      <td>NaN</td>\n",
       "      <td>Retailer</td>\n",
       "      <td>Retailer ID</td>\n",
       "      <td>Invoice Date</td>\n",
       "      <td>Region</td>\n",
       "      <td>State</td>\n",
       "      <td>City</td>\n",
       "      <td>Product</td>\n",
       "      <td>Price per Unit</td>\n",
       "      <td>Units Sold</td>\n",
       "      <td>Total Sales</td>\n",
       "      <td>Operating Profit</td>\n",
       "      <td>Operating Margin</td>\n",
       "      <td>Sales Method</td>\n",
       "    </tr>\n",
       "    <tr>\n",
       "      <th>4</th>\n",
       "      <td>NaN</td>\n",
       "      <td>Foot Locker</td>\n",
       "      <td>1185732</td>\n",
       "      <td>2020-01-01 00:00:00</td>\n",
       "      <td>Northeast</td>\n",
       "      <td>New York</td>\n",
       "      <td>New York</td>\n",
       "      <td>Men's Street Footwear</td>\n",
       "      <td>50</td>\n",
       "      <td>1200</td>\n",
       "      <td>600000</td>\n",
       "      <td>300000</td>\n",
       "      <td>0.5</td>\n",
       "      <td>In-store</td>\n",
       "    </tr>\n",
       "    <tr>\n",
       "      <th>5</th>\n",
       "      <td>NaN</td>\n",
       "      <td>Foot Locker</td>\n",
       "      <td>1185732</td>\n",
       "      <td>2020-01-02 00:00:00</td>\n",
       "      <td>Northeast</td>\n",
       "      <td>New York</td>\n",
       "      <td>New York</td>\n",
       "      <td>Men's Athletic Footwear</td>\n",
       "      <td>50</td>\n",
       "      <td>1000</td>\n",
       "      <td>500000</td>\n",
       "      <td>150000</td>\n",
       "      <td>0.3</td>\n",
       "      <td>In-store</td>\n",
       "    </tr>\n",
       "    <tr>\n",
       "      <th>6</th>\n",
       "      <td>NaN</td>\n",
       "      <td>Foot Locker</td>\n",
       "      <td>1185732</td>\n",
       "      <td>2020-01-03 00:00:00</td>\n",
       "      <td>Northeast</td>\n",
       "      <td>New York</td>\n",
       "      <td>New York</td>\n",
       "      <td>Women's Street Footwear</td>\n",
       "      <td>40</td>\n",
       "      <td>1000</td>\n",
       "      <td>400000</td>\n",
       "      <td>140000</td>\n",
       "      <td>0.35</td>\n",
       "      <td>In-store</td>\n",
       "    </tr>\n",
       "    <tr>\n",
       "      <th>7</th>\n",
       "      <td>NaN</td>\n",
       "      <td>Foot Locker</td>\n",
       "      <td>1185732</td>\n",
       "      <td>2020-01-04 00:00:00</td>\n",
       "      <td>Northeast</td>\n",
       "      <td>New York</td>\n",
       "      <td>New York</td>\n",
       "      <td>Women's Athletic Footwear</td>\n",
       "      <td>45</td>\n",
       "      <td>850</td>\n",
       "      <td>382500</td>\n",
       "      <td>133875</td>\n",
       "      <td>0.35</td>\n",
       "      <td>In-store</td>\n",
       "    </tr>\n",
       "    <tr>\n",
       "      <th>8</th>\n",
       "      <td>NaN</td>\n",
       "      <td>Foot Locker</td>\n",
       "      <td>1185732</td>\n",
       "      <td>2020-01-05 00:00:00</td>\n",
       "      <td>Northeast</td>\n",
       "      <td>New York</td>\n",
       "      <td>New York</td>\n",
       "      <td>Men's Apparel</td>\n",
       "      <td>60</td>\n",
       "      <td>900</td>\n",
       "      <td>540000</td>\n",
       "      <td>162000</td>\n",
       "      <td>0.3</td>\n",
       "      <td>In-store</td>\n",
       "    </tr>\n",
       "    <tr>\n",
       "      <th>9</th>\n",
       "      <td>NaN</td>\n",
       "      <td>Foot Locker</td>\n",
       "      <td>1185732</td>\n",
       "      <td>2020-01-06 00:00:00</td>\n",
       "      <td>Northeast</td>\n",
       "      <td>New York</td>\n",
       "      <td>New York</td>\n",
       "      <td>Women's Apparel</td>\n",
       "      <td>50</td>\n",
       "      <td>1000</td>\n",
       "      <td>500000</td>\n",
       "      <td>125000</td>\n",
       "      <td>0.25</td>\n",
       "      <td>In-store</td>\n",
       "    </tr>\n",
       "  </tbody>\n",
       "</table>\n",
       "</div>"
      ],
      "text/plain": [
       "   Unnamed: 0   Unnamed: 1             Unnamed: 2           Unnamed: 3  \\\n",
       "0         NaN          NaN  Adidas Sales Database                  NaN   \n",
       "1         NaN          NaN                    NaN                  NaN   \n",
       "2         NaN          NaN                    NaN                  NaN   \n",
       "3         NaN     Retailer            Retailer ID         Invoice Date   \n",
       "4         NaN  Foot Locker                1185732  2020-01-01 00:00:00   \n",
       "5         NaN  Foot Locker                1185732  2020-01-02 00:00:00   \n",
       "6         NaN  Foot Locker                1185732  2020-01-03 00:00:00   \n",
       "7         NaN  Foot Locker                1185732  2020-01-04 00:00:00   \n",
       "8         NaN  Foot Locker                1185732  2020-01-05 00:00:00   \n",
       "9         NaN  Foot Locker                1185732  2020-01-06 00:00:00   \n",
       "\n",
       "  Unnamed: 4 Unnamed: 5 Unnamed: 6                 Unnamed: 7      Unnamed: 8  \\\n",
       "0        NaN        NaN        NaN                        NaN             NaN   \n",
       "1        NaN        NaN        NaN                        NaN             NaN   \n",
       "2        NaN        NaN        NaN                        NaN             NaN   \n",
       "3     Region      State       City                    Product  Price per Unit   \n",
       "4  Northeast   New York   New York      Men's Street Footwear              50   \n",
       "5  Northeast   New York   New York    Men's Athletic Footwear              50   \n",
       "6  Northeast   New York   New York    Women's Street Footwear              40   \n",
       "7  Northeast   New York   New York  Women's Athletic Footwear              45   \n",
       "8  Northeast   New York   New York              Men's Apparel              60   \n",
       "9  Northeast   New York   New York            Women's Apparel              50   \n",
       "\n",
       "   Unnamed: 9  Unnamed: 10       Unnamed: 11       Unnamed: 12   Unnamed: 13  \n",
       "0         NaN          NaN               NaN               NaN           NaN  \n",
       "1         NaN          NaN               NaN               NaN           NaN  \n",
       "2         NaN          NaN               NaN               NaN           NaN  \n",
       "3  Units Sold  Total Sales  Operating Profit  Operating Margin  Sales Method  \n",
       "4        1200       600000            300000               0.5      In-store  \n",
       "5        1000       500000            150000               0.3      In-store  \n",
       "6        1000       400000            140000              0.35      In-store  \n",
       "7         850       382500            133875              0.35      In-store  \n",
       "8         900       540000            162000               0.3      In-store  \n",
       "9        1000       500000            125000              0.25      In-store  "
      ]
     },
     "execution_count": 10,
     "metadata": {},
     "output_type": "execute_result"
    }
   ],
   "source": [
    "data.head(10)"
   ]
  },
  {
   "cell_type": "code",
   "execution_count": 35,
   "id": "7c206fa5",
   "metadata": {
    "execution": {
     "iopub.execute_input": "2022-12-29T21:55:49.327214Z",
     "iopub.status.busy": "2022-12-29T21:55:49.326872Z",
     "iopub.status.idle": "2022-12-29T21:55:49.337870Z",
     "shell.execute_reply": "2022-12-29T21:55:49.336880Z"
    },
    "papermill": {
     "duration": 0.023206,
     "end_time": "2022-12-29T21:55:49.340263",
     "exception": false,
     "start_time": "2022-12-29T21:55:49.317057",
     "status": "completed"
    },
    "tags": []
   },
   "outputs": [],
   "source": [
    "#Remove the column 'Unnamed: 0'\n",
    "data.drop('Unnamed: 0', axis=1, inplace=True)\n",
    "\n",
    "#Remove rows 0, 1 and 2\n",
    "data.drop(labels=[0, 1, 2], axis=0, inplace=True)"
   ]
  },
  {
   "cell_type": "code",
   "execution_count": 12,
   "id": "7160fd19",
   "metadata": {
    "execution": {
     "iopub.execute_input": "2022-12-29T21:55:49.358736Z",
     "iopub.status.busy": "2022-12-29T21:55:49.358406Z",
     "iopub.status.idle": "2022-12-29T21:55:49.376100Z",
     "shell.execute_reply": "2022-12-29T21:55:49.374416Z"
    },
    "papermill": {
     "duration": 0.029829,
     "end_time": "2022-12-29T21:55:49.378643",
     "exception": false,
     "start_time": "2022-12-29T21:55:49.348814",
     "status": "completed"
    },
    "tags": []
   },
   "outputs": [
    {
     "data": {
      "text/html": [
       "<div>\n",
       "<style scoped>\n",
       "    .dataframe tbody tr th:only-of-type {\n",
       "        vertical-align: middle;\n",
       "    }\n",
       "\n",
       "    .dataframe tbody tr th {\n",
       "        vertical-align: top;\n",
       "    }\n",
       "\n",
       "    .dataframe thead th {\n",
       "        text-align: right;\n",
       "    }\n",
       "</style>\n",
       "<table border=\"1\" class=\"dataframe\">\n",
       "  <thead>\n",
       "    <tr style=\"text-align: right;\">\n",
       "      <th></th>\n",
       "      <th>Unnamed: 1</th>\n",
       "      <th>Unnamed: 2</th>\n",
       "      <th>Unnamed: 3</th>\n",
       "      <th>Unnamed: 4</th>\n",
       "      <th>Unnamed: 5</th>\n",
       "      <th>Unnamed: 6</th>\n",
       "      <th>Unnamed: 7</th>\n",
       "      <th>Unnamed: 8</th>\n",
       "      <th>Unnamed: 9</th>\n",
       "      <th>Unnamed: 10</th>\n",
       "      <th>Unnamed: 11</th>\n",
       "      <th>Unnamed: 12</th>\n",
       "      <th>Unnamed: 13</th>\n",
       "    </tr>\n",
       "  </thead>\n",
       "  <tbody>\n",
       "    <tr>\n",
       "      <th>3</th>\n",
       "      <td>Retailer</td>\n",
       "      <td>Retailer ID</td>\n",
       "      <td>Invoice Date</td>\n",
       "      <td>Region</td>\n",
       "      <td>State</td>\n",
       "      <td>City</td>\n",
       "      <td>Product</td>\n",
       "      <td>Price per Unit</td>\n",
       "      <td>Units Sold</td>\n",
       "      <td>Total Sales</td>\n",
       "      <td>Operating Profit</td>\n",
       "      <td>Operating Margin</td>\n",
       "      <td>Sales Method</td>\n",
       "    </tr>\n",
       "    <tr>\n",
       "      <th>4</th>\n",
       "      <td>Foot Locker</td>\n",
       "      <td>1185732</td>\n",
       "      <td>2020-01-01 00:00:00</td>\n",
       "      <td>Northeast</td>\n",
       "      <td>New York</td>\n",
       "      <td>New York</td>\n",
       "      <td>Men's Street Footwear</td>\n",
       "      <td>50</td>\n",
       "      <td>1200</td>\n",
       "      <td>600000</td>\n",
       "      <td>300000</td>\n",
       "      <td>0.5</td>\n",
       "      <td>In-store</td>\n",
       "    </tr>\n",
       "    <tr>\n",
       "      <th>5</th>\n",
       "      <td>Foot Locker</td>\n",
       "      <td>1185732</td>\n",
       "      <td>2020-01-02 00:00:00</td>\n",
       "      <td>Northeast</td>\n",
       "      <td>New York</td>\n",
       "      <td>New York</td>\n",
       "      <td>Men's Athletic Footwear</td>\n",
       "      <td>50</td>\n",
       "      <td>1000</td>\n",
       "      <td>500000</td>\n",
       "      <td>150000</td>\n",
       "      <td>0.3</td>\n",
       "      <td>In-store</td>\n",
       "    </tr>\n",
       "    <tr>\n",
       "      <th>6</th>\n",
       "      <td>Foot Locker</td>\n",
       "      <td>1185732</td>\n",
       "      <td>2020-01-03 00:00:00</td>\n",
       "      <td>Northeast</td>\n",
       "      <td>New York</td>\n",
       "      <td>New York</td>\n",
       "      <td>Women's Street Footwear</td>\n",
       "      <td>40</td>\n",
       "      <td>1000</td>\n",
       "      <td>400000</td>\n",
       "      <td>140000</td>\n",
       "      <td>0.35</td>\n",
       "      <td>In-store</td>\n",
       "    </tr>\n",
       "    <tr>\n",
       "      <th>7</th>\n",
       "      <td>Foot Locker</td>\n",
       "      <td>1185732</td>\n",
       "      <td>2020-01-04 00:00:00</td>\n",
       "      <td>Northeast</td>\n",
       "      <td>New York</td>\n",
       "      <td>New York</td>\n",
       "      <td>Women's Athletic Footwear</td>\n",
       "      <td>45</td>\n",
       "      <td>850</td>\n",
       "      <td>382500</td>\n",
       "      <td>133875</td>\n",
       "      <td>0.35</td>\n",
       "      <td>In-store</td>\n",
       "    </tr>\n",
       "    <tr>\n",
       "      <th>8</th>\n",
       "      <td>Foot Locker</td>\n",
       "      <td>1185732</td>\n",
       "      <td>2020-01-05 00:00:00</td>\n",
       "      <td>Northeast</td>\n",
       "      <td>New York</td>\n",
       "      <td>New York</td>\n",
       "      <td>Men's Apparel</td>\n",
       "      <td>60</td>\n",
       "      <td>900</td>\n",
       "      <td>540000</td>\n",
       "      <td>162000</td>\n",
       "      <td>0.3</td>\n",
       "      <td>In-store</td>\n",
       "    </tr>\n",
       "    <tr>\n",
       "      <th>9</th>\n",
       "      <td>Foot Locker</td>\n",
       "      <td>1185732</td>\n",
       "      <td>2020-01-06 00:00:00</td>\n",
       "      <td>Northeast</td>\n",
       "      <td>New York</td>\n",
       "      <td>New York</td>\n",
       "      <td>Women's Apparel</td>\n",
       "      <td>50</td>\n",
       "      <td>1000</td>\n",
       "      <td>500000</td>\n",
       "      <td>125000</td>\n",
       "      <td>0.25</td>\n",
       "      <td>In-store</td>\n",
       "    </tr>\n",
       "    <tr>\n",
       "      <th>10</th>\n",
       "      <td>Foot Locker</td>\n",
       "      <td>1185732</td>\n",
       "      <td>2020-01-07 00:00:00</td>\n",
       "      <td>Northeast</td>\n",
       "      <td>New York</td>\n",
       "      <td>New York</td>\n",
       "      <td>Men's Street Footwear</td>\n",
       "      <td>50</td>\n",
       "      <td>1250</td>\n",
       "      <td>625000</td>\n",
       "      <td>312500</td>\n",
       "      <td>0.5</td>\n",
       "      <td>In-store</td>\n",
       "    </tr>\n",
       "    <tr>\n",
       "      <th>11</th>\n",
       "      <td>Foot Locker</td>\n",
       "      <td>1185732</td>\n",
       "      <td>2020-01-08 00:00:00</td>\n",
       "      <td>Northeast</td>\n",
       "      <td>New York</td>\n",
       "      <td>New York</td>\n",
       "      <td>Men's Athletic Footwear</td>\n",
       "      <td>50</td>\n",
       "      <td>900</td>\n",
       "      <td>450000</td>\n",
       "      <td>135000</td>\n",
       "      <td>0.3</td>\n",
       "      <td>Outlet</td>\n",
       "    </tr>\n",
       "    <tr>\n",
       "      <th>12</th>\n",
       "      <td>Foot Locker</td>\n",
       "      <td>1185732</td>\n",
       "      <td>2020-01-21 00:00:00</td>\n",
       "      <td>Northeast</td>\n",
       "      <td>New York</td>\n",
       "      <td>New York</td>\n",
       "      <td>Women's Street Footwear</td>\n",
       "      <td>40</td>\n",
       "      <td>950</td>\n",
       "      <td>380000</td>\n",
       "      <td>133000</td>\n",
       "      <td>0.35</td>\n",
       "      <td>Outlet</td>\n",
       "    </tr>\n",
       "  </tbody>\n",
       "</table>\n",
       "</div>"
      ],
      "text/plain": [
       "     Unnamed: 1   Unnamed: 2           Unnamed: 3 Unnamed: 4 Unnamed: 5  \\\n",
       "3      Retailer  Retailer ID         Invoice Date     Region      State   \n",
       "4   Foot Locker      1185732  2020-01-01 00:00:00  Northeast   New York   \n",
       "5   Foot Locker      1185732  2020-01-02 00:00:00  Northeast   New York   \n",
       "6   Foot Locker      1185732  2020-01-03 00:00:00  Northeast   New York   \n",
       "7   Foot Locker      1185732  2020-01-04 00:00:00  Northeast   New York   \n",
       "8   Foot Locker      1185732  2020-01-05 00:00:00  Northeast   New York   \n",
       "9   Foot Locker      1185732  2020-01-06 00:00:00  Northeast   New York   \n",
       "10  Foot Locker      1185732  2020-01-07 00:00:00  Northeast   New York   \n",
       "11  Foot Locker      1185732  2020-01-08 00:00:00  Northeast   New York   \n",
       "12  Foot Locker      1185732  2020-01-21 00:00:00  Northeast   New York   \n",
       "\n",
       "   Unnamed: 6                 Unnamed: 7      Unnamed: 8  Unnamed: 9  \\\n",
       "3        City                    Product  Price per Unit  Units Sold   \n",
       "4    New York      Men's Street Footwear              50        1200   \n",
       "5    New York    Men's Athletic Footwear              50        1000   \n",
       "6    New York    Women's Street Footwear              40        1000   \n",
       "7    New York  Women's Athletic Footwear              45         850   \n",
       "8    New York              Men's Apparel              60         900   \n",
       "9    New York            Women's Apparel              50        1000   \n",
       "10   New York      Men's Street Footwear              50        1250   \n",
       "11   New York    Men's Athletic Footwear              50         900   \n",
       "12   New York    Women's Street Footwear              40         950   \n",
       "\n",
       "    Unnamed: 10       Unnamed: 11       Unnamed: 12   Unnamed: 13  \n",
       "3   Total Sales  Operating Profit  Operating Margin  Sales Method  \n",
       "4        600000            300000               0.5      In-store  \n",
       "5        500000            150000               0.3      In-store  \n",
       "6        400000            140000              0.35      In-store  \n",
       "7        382500            133875              0.35      In-store  \n",
       "8        540000            162000               0.3      In-store  \n",
       "9        500000            125000              0.25      In-store  \n",
       "10       625000            312500               0.5      In-store  \n",
       "11       450000            135000               0.3        Outlet  \n",
       "12       380000            133000              0.35        Outlet  "
      ]
     },
     "execution_count": 12,
     "metadata": {},
     "output_type": "execute_result"
    }
   ],
   "source": [
    "data.head(10)"
   ]
  },
  {
   "cell_type": "code",
   "execution_count": 36,
   "id": "e0ff7901",
   "metadata": {
    "execution": {
     "iopub.execute_input": "2022-12-29T21:55:49.397973Z",
     "iopub.status.busy": "2022-12-29T21:55:49.397615Z",
     "iopub.status.idle": "2022-12-29T21:55:49.403418Z",
     "shell.execute_reply": "2022-12-29T21:55:49.402030Z"
    },
    "papermill": {
     "duration": 0.018068,
     "end_time": "2022-12-29T21:55:49.405732",
     "exception": false,
     "start_time": "2022-12-29T21:55:49.387664",
     "status": "completed"
    },
    "tags": []
   },
   "outputs": [],
   "source": [
    "data.columns = data.iloc[0]"
   ]
  },
  {
   "cell_type": "code",
   "execution_count": 55,
   "id": "7f6e81c8",
   "metadata": {
    "execution": {
     "iopub.execute_input": "2022-12-29T21:55:49.424992Z",
     "iopub.status.busy": "2022-12-29T21:55:49.424652Z",
     "iopub.status.idle": "2022-12-29T21:55:49.443408Z",
     "shell.execute_reply": "2022-12-29T21:55:49.442425Z"
    },
    "papermill": {
     "duration": 0.030639,
     "end_time": "2022-12-29T21:55:49.445286",
     "exception": false,
     "start_time": "2022-12-29T21:55:49.414647",
     "status": "completed"
    },
    "tags": []
   },
   "outputs": [
    {
     "data": {
      "text/html": [
       "<div>\n",
       "<style scoped>\n",
       "    .dataframe tbody tr th:only-of-type {\n",
       "        vertical-align: middle;\n",
       "    }\n",
       "\n",
       "    .dataframe tbody tr th {\n",
       "        vertical-align: top;\n",
       "    }\n",
       "\n",
       "    .dataframe thead th {\n",
       "        text-align: right;\n",
       "    }\n",
       "</style>\n",
       "<table border=\"1\" class=\"dataframe\">\n",
       "  <thead>\n",
       "    <tr style=\"text-align: right;\">\n",
       "      <th>3</th>\n",
       "      <th>Retailer</th>\n",
       "      <th>Retailer ID</th>\n",
       "      <th>Invoice Date</th>\n",
       "      <th>Region</th>\n",
       "      <th>State</th>\n",
       "      <th>City</th>\n",
       "      <th>Product</th>\n",
       "      <th>Price per Unit</th>\n",
       "      <th>Units Sold</th>\n",
       "      <th>Total Sales</th>\n",
       "      <th>Operating Profit</th>\n",
       "      <th>Operating Margin</th>\n",
       "      <th>Sales Method</th>\n",
       "    </tr>\n",
       "  </thead>\n",
       "  <tbody>\n",
       "    <tr>\n",
       "      <th>3</th>\n",
       "      <td>Retailer</td>\n",
       "      <td>Retailer ID</td>\n",
       "      <td>Invoice Date</td>\n",
       "      <td>Region</td>\n",
       "      <td>State</td>\n",
       "      <td>City</td>\n",
       "      <td>Product</td>\n",
       "      <td>Price per Unit</td>\n",
       "      <td>Units Sold</td>\n",
       "      <td>Total Sales</td>\n",
       "      <td>Operating Profit</td>\n",
       "      <td>Operating Margin</td>\n",
       "      <td>Sales Method</td>\n",
       "    </tr>\n",
       "    <tr>\n",
       "      <th>4</th>\n",
       "      <td>Foot Locker</td>\n",
       "      <td>1185732</td>\n",
       "      <td>2020-01-01 00:00:00</td>\n",
       "      <td>Northeast</td>\n",
       "      <td>New York</td>\n",
       "      <td>New York</td>\n",
       "      <td>Men's Street Footwear</td>\n",
       "      <td>50</td>\n",
       "      <td>1200</td>\n",
       "      <td>600000</td>\n",
       "      <td>300000</td>\n",
       "      <td>0.5</td>\n",
       "      <td>In-store</td>\n",
       "    </tr>\n",
       "    <tr>\n",
       "      <th>5</th>\n",
       "      <td>Foot Locker</td>\n",
       "      <td>1185732</td>\n",
       "      <td>2020-01-02 00:00:00</td>\n",
       "      <td>Northeast</td>\n",
       "      <td>New York</td>\n",
       "      <td>New York</td>\n",
       "      <td>Men's Athletic Footwear</td>\n",
       "      <td>50</td>\n",
       "      <td>1000</td>\n",
       "      <td>500000</td>\n",
       "      <td>150000</td>\n",
       "      <td>0.3</td>\n",
       "      <td>In-store</td>\n",
       "    </tr>\n",
       "    <tr>\n",
       "      <th>6</th>\n",
       "      <td>Foot Locker</td>\n",
       "      <td>1185732</td>\n",
       "      <td>2020-01-03 00:00:00</td>\n",
       "      <td>Northeast</td>\n",
       "      <td>New York</td>\n",
       "      <td>New York</td>\n",
       "      <td>Women's Street Footwear</td>\n",
       "      <td>40</td>\n",
       "      <td>1000</td>\n",
       "      <td>400000</td>\n",
       "      <td>140000</td>\n",
       "      <td>0.35</td>\n",
       "      <td>In-store</td>\n",
       "    </tr>\n",
       "    <tr>\n",
       "      <th>7</th>\n",
       "      <td>Foot Locker</td>\n",
       "      <td>1185732</td>\n",
       "      <td>2020-01-04 00:00:00</td>\n",
       "      <td>Northeast</td>\n",
       "      <td>New York</td>\n",
       "      <td>New York</td>\n",
       "      <td>Women's Athletic Footwear</td>\n",
       "      <td>45</td>\n",
       "      <td>850</td>\n",
       "      <td>382500</td>\n",
       "      <td>133875</td>\n",
       "      <td>0.35</td>\n",
       "      <td>In-store</td>\n",
       "    </tr>\n",
       "    <tr>\n",
       "      <th>8</th>\n",
       "      <td>Foot Locker</td>\n",
       "      <td>1185732</td>\n",
       "      <td>2020-01-05 00:00:00</td>\n",
       "      <td>Northeast</td>\n",
       "      <td>New York</td>\n",
       "      <td>New York</td>\n",
       "      <td>Men's Apparel</td>\n",
       "      <td>60</td>\n",
       "      <td>900</td>\n",
       "      <td>540000</td>\n",
       "      <td>162000</td>\n",
       "      <td>0.3</td>\n",
       "      <td>In-store</td>\n",
       "    </tr>\n",
       "    <tr>\n",
       "      <th>9</th>\n",
       "      <td>Foot Locker</td>\n",
       "      <td>1185732</td>\n",
       "      <td>2020-01-06 00:00:00</td>\n",
       "      <td>Northeast</td>\n",
       "      <td>New York</td>\n",
       "      <td>New York</td>\n",
       "      <td>Women's Apparel</td>\n",
       "      <td>50</td>\n",
       "      <td>1000</td>\n",
       "      <td>500000</td>\n",
       "      <td>125000</td>\n",
       "      <td>0.25</td>\n",
       "      <td>In-store</td>\n",
       "    </tr>\n",
       "    <tr>\n",
       "      <th>10</th>\n",
       "      <td>Foot Locker</td>\n",
       "      <td>1185732</td>\n",
       "      <td>2020-01-07 00:00:00</td>\n",
       "      <td>Northeast</td>\n",
       "      <td>New York</td>\n",
       "      <td>New York</td>\n",
       "      <td>Men's Street Footwear</td>\n",
       "      <td>50</td>\n",
       "      <td>1250</td>\n",
       "      <td>625000</td>\n",
       "      <td>312500</td>\n",
       "      <td>0.5</td>\n",
       "      <td>In-store</td>\n",
       "    </tr>\n",
       "    <tr>\n",
       "      <th>11</th>\n",
       "      <td>Foot Locker</td>\n",
       "      <td>1185732</td>\n",
       "      <td>2020-01-08 00:00:00</td>\n",
       "      <td>Northeast</td>\n",
       "      <td>New York</td>\n",
       "      <td>New York</td>\n",
       "      <td>Men's Athletic Footwear</td>\n",
       "      <td>50</td>\n",
       "      <td>900</td>\n",
       "      <td>450000</td>\n",
       "      <td>135000</td>\n",
       "      <td>0.3</td>\n",
       "      <td>Outlet</td>\n",
       "    </tr>\n",
       "    <tr>\n",
       "      <th>12</th>\n",
       "      <td>Foot Locker</td>\n",
       "      <td>1185732</td>\n",
       "      <td>2020-01-21 00:00:00</td>\n",
       "      <td>Northeast</td>\n",
       "      <td>New York</td>\n",
       "      <td>New York</td>\n",
       "      <td>Women's Street Footwear</td>\n",
       "      <td>40</td>\n",
       "      <td>950</td>\n",
       "      <td>380000</td>\n",
       "      <td>133000</td>\n",
       "      <td>0.35</td>\n",
       "      <td>Outlet</td>\n",
       "    </tr>\n",
       "  </tbody>\n",
       "</table>\n",
       "</div>"
      ],
      "text/plain": [
       "3      Retailer  Retailer ID         Invoice Date     Region     State  \\\n",
       "3      Retailer  Retailer ID         Invoice Date     Region     State   \n",
       "4   Foot Locker      1185732  2020-01-01 00:00:00  Northeast  New York   \n",
       "5   Foot Locker      1185732  2020-01-02 00:00:00  Northeast  New York   \n",
       "6   Foot Locker      1185732  2020-01-03 00:00:00  Northeast  New York   \n",
       "7   Foot Locker      1185732  2020-01-04 00:00:00  Northeast  New York   \n",
       "8   Foot Locker      1185732  2020-01-05 00:00:00  Northeast  New York   \n",
       "9   Foot Locker      1185732  2020-01-06 00:00:00  Northeast  New York   \n",
       "10  Foot Locker      1185732  2020-01-07 00:00:00  Northeast  New York   \n",
       "11  Foot Locker      1185732  2020-01-08 00:00:00  Northeast  New York   \n",
       "12  Foot Locker      1185732  2020-01-21 00:00:00  Northeast  New York   \n",
       "\n",
       "3       City                    Product  Price per Unit  Units Sold  \\\n",
       "3       City                    Product  Price per Unit  Units Sold   \n",
       "4   New York      Men's Street Footwear              50        1200   \n",
       "5   New York    Men's Athletic Footwear              50        1000   \n",
       "6   New York    Women's Street Footwear              40        1000   \n",
       "7   New York  Women's Athletic Footwear              45         850   \n",
       "8   New York              Men's Apparel              60         900   \n",
       "9   New York            Women's Apparel              50        1000   \n",
       "10  New York      Men's Street Footwear              50        1250   \n",
       "11  New York    Men's Athletic Footwear              50         900   \n",
       "12  New York    Women's Street Footwear              40         950   \n",
       "\n",
       "3   Total Sales  Operating Profit  Operating Margin  Sales Method  \n",
       "3   Total Sales  Operating Profit  Operating Margin  Sales Method  \n",
       "4        600000            300000               0.5      In-store  \n",
       "5        500000            150000               0.3      In-store  \n",
       "6        400000            140000              0.35      In-store  \n",
       "7        382500            133875              0.35      In-store  \n",
       "8        540000            162000               0.3      In-store  \n",
       "9        500000            125000              0.25      In-store  \n",
       "10       625000            312500               0.5      In-store  \n",
       "11       450000            135000               0.3        Outlet  \n",
       "12       380000            133000              0.35        Outlet  "
      ]
     },
     "execution_count": 55,
     "metadata": {},
     "output_type": "execute_result"
    }
   ],
   "source": [
    "data.head(10)"
   ]
  },
  {
   "cell_type": "code",
   "execution_count": 37,
   "id": "e0076cd9",
   "metadata": {
    "execution": {
     "iopub.execute_input": "2022-12-29T21:55:49.465100Z",
     "iopub.status.busy": "2022-12-29T21:55:49.464785Z",
     "iopub.status.idle": "2022-12-29T21:55:49.472782Z",
     "shell.execute_reply": "2022-12-29T21:55:49.471612Z"
    },
    "papermill": {
     "duration": 0.02045,
     "end_time": "2022-12-29T21:55:49.474931",
     "exception": false,
     "start_time": "2022-12-29T21:55:49.454481",
     "status": "completed"
    },
    "tags": []
   },
   "outputs": [],
   "source": [
    "#Remove the row 3 and reset the DataFrame index\n",
    "data.drop(labels=[3], axis=0, inplace=True)\n",
    "data.reset_index(drop=True, inplace=True)"
   ]
  },
  {
   "cell_type": "code",
   "execution_count": 38,
   "id": "d129e952",
   "metadata": {
    "execution": {
     "iopub.execute_input": "2022-12-29T21:55:49.494750Z",
     "iopub.status.busy": "2022-12-29T21:55:49.494412Z",
     "iopub.status.idle": "2022-12-29T21:55:49.524195Z",
     "shell.execute_reply": "2022-12-29T21:55:49.522228Z"
    },
    "papermill": {
     "duration": 0.042817,
     "end_time": "2022-12-29T21:55:49.526852",
     "exception": false,
     "start_time": "2022-12-29T21:55:49.484035",
     "status": "completed"
    },
    "tags": []
   },
   "outputs": [
    {
     "name": "stdout",
     "output_type": "stream",
     "text": [
      "0 duplicated records in 9648 total records. Resulting in 0.0% of duplicated records.\n"
     ]
    }
   ],
   "source": [
    "# Analyzing the duplicates\n",
    "print(f'{data.duplicated().sum()} duplicated records in '\n",
    "      f'{len(data)} total records.',\n",
    "      f'Resulting in {data.duplicated().sum()/len(data)*100:.1f}% of duplicated records.')"
   ]
  },
  {
   "cell_type": "code",
   "execution_count": 39,
   "id": "19aef5c6",
   "metadata": {
    "execution": {
     "iopub.execute_input": "2022-12-29T21:55:49.546977Z",
     "iopub.status.busy": "2022-12-29T21:55:49.546639Z",
     "iopub.status.idle": "2022-12-29T21:55:49.556955Z",
     "shell.execute_reply": "2022-12-29T21:55:49.555559Z"
    },
    "papermill": {
     "duration": 0.022928,
     "end_time": "2022-12-29T21:55:49.559215",
     "exception": false,
     "start_time": "2022-12-29T21:55:49.536287",
     "status": "completed"
    },
    "tags": []
   },
   "outputs": [
    {
     "name": "stdout",
     "output_type": "stream",
     "text": [
      "False\n"
     ]
    }
   ],
   "source": [
    "# Is there any null values?\n",
    "print(data.isnull().values.any())"
   ]
  },
  {
   "cell_type": "code",
   "execution_count": 40,
   "id": "760212cb",
   "metadata": {
    "execution": {
     "iopub.execute_input": "2022-12-29T21:55:49.579676Z",
     "iopub.status.busy": "2022-12-29T21:55:49.579343Z",
     "iopub.status.idle": "2022-12-29T21:55:49.626031Z",
     "shell.execute_reply": "2022-12-29T21:55:49.624992Z"
    },
    "papermill": {
     "duration": 0.059459,
     "end_time": "2022-12-29T21:55:49.628416",
     "exception": false,
     "start_time": "2022-12-29T21:55:49.568957",
     "status": "completed"
    },
    "tags": []
   },
   "outputs": [],
   "source": [
    "data['date_time'] = pd.to_datetime(data['Invoice Date'], errors='coerce')\n",
    "data['year'] = data['date_time'].dt.year\n",
    "data['month_name'] = list(map(lambda x: calendar.month_name[x], data['date_time'].dt.month))\n",
    "data['month'] = data['date_time'].dt.month\n",
    "data['day'] = data['date_time'].dt.day\n",
    "\n",
    "data.drop(columns=['Invoice Date', 'date_time'], inplace=True)"
   ]
  },
  {
   "cell_type": "code",
   "execution_count": 60,
   "id": "b37e313d",
   "metadata": {
    "execution": {
     "iopub.execute_input": "2022-12-29T21:55:49.648913Z",
     "iopub.status.busy": "2022-12-29T21:55:49.648475Z",
     "iopub.status.idle": "2022-12-29T21:55:49.666317Z",
     "shell.execute_reply": "2022-12-29T21:55:49.665250Z"
    },
    "papermill": {
     "duration": 0.03102,
     "end_time": "2022-12-29T21:55:49.668723",
     "exception": false,
     "start_time": "2022-12-29T21:55:49.637703",
     "status": "completed"
    },
    "tags": []
   },
   "outputs": [
    {
     "name": "stdout",
     "output_type": "stream",
     "text": [
      "<class 'pandas.core.frame.DataFrame'>\n",
      "RangeIndex: 9648 entries, 0 to 9647\n",
      "Data columns (total 16 columns):\n",
      " #   Column            Non-Null Count  Dtype \n",
      "---  ------            --------------  ----- \n",
      " 0   Retailer          9648 non-null   object\n",
      " 1   Retailer ID       9648 non-null   object\n",
      " 2   Region            9648 non-null   object\n",
      " 3   State             9648 non-null   object\n",
      " 4   City              9648 non-null   object\n",
      " 5   Product           9648 non-null   object\n",
      " 6   Price per Unit    9648 non-null   object\n",
      " 7   Units Sold        9648 non-null   object\n",
      " 8   Total Sales       9648 non-null   object\n",
      " 9   Operating Profit  9648 non-null   object\n",
      " 10  Operating Margin  9648 non-null   object\n",
      " 11  Sales Method      9648 non-null   object\n",
      " 12  year              9648 non-null   int64 \n",
      " 13  month_name        9648 non-null   object\n",
      " 14  month             9648 non-null   int64 \n",
      " 15  day               9648 non-null   int64 \n",
      "dtypes: int64(3), object(13)\n",
      "memory usage: 1.2+ MB\n"
     ]
    }
   ],
   "source": [
    "data.info()"
   ]
  },
  {
   "cell_type": "code",
   "execution_count": 41,
   "id": "76e51932",
   "metadata": {
    "execution": {
     "iopub.execute_input": "2022-12-29T21:55:49.689096Z",
     "iopub.status.busy": "2022-12-29T21:55:49.688722Z",
     "iopub.status.idle": "2022-12-29T21:55:49.703916Z",
     "shell.execute_reply": "2022-12-29T21:55:49.702629Z"
    },
    "papermill": {
     "duration": 0.028204,
     "end_time": "2022-12-29T21:55:49.706567",
     "exception": false,
     "start_time": "2022-12-29T21:55:49.678363",
     "status": "completed"
    },
    "tags": []
   },
   "outputs": [],
   "source": [
    "data['month_name'] = pd.Categorical(data['month_name'], categories=['January', 'February', 'March', 'April', 'May', 'June', 'July',\n",
    "                                                                   'August', 'September', 'October', 'November', 'December'], ordered=True)\n",
    "\n",
    "data = data.sort_values(['year', 'month'], ignore_index=True)"
   ]
  },
  {
   "cell_type": "code",
   "execution_count": 42,
   "id": "06f3361c",
   "metadata": {
    "execution": {
     "iopub.execute_input": "2022-12-29T21:55:49.727287Z",
     "iopub.status.busy": "2022-12-29T21:55:49.726384Z",
     "iopub.status.idle": "2022-12-29T21:55:49.752794Z",
     "shell.execute_reply": "2022-12-29T21:55:49.751556Z"
    },
    "papermill": {
     "duration": 0.03916,
     "end_time": "2022-12-29T21:55:49.755147",
     "exception": false,
     "start_time": "2022-12-29T21:55:49.715987",
     "status": "completed"
    },
    "tags": []
   },
   "outputs": [],
   "source": [
    "data[['Price per Unit', 'Total Sales', 'Operating Profit']] = data[['Price per Unit', 'Total Sales', 'Operating Profit']].astype(str).astype(float)"
   ]
  },
  {
   "cell_type": "code",
   "execution_count": 43,
   "id": "b019621e",
   "metadata": {
    "execution": {
     "iopub.execute_input": "2022-12-29T21:55:49.775485Z",
     "iopub.status.busy": "2022-12-29T21:55:49.775110Z",
     "iopub.status.idle": "2022-12-29T21:55:49.780291Z",
     "shell.execute_reply": "2022-12-29T21:55:49.779319Z"
    },
    "papermill": {
     "duration": 0.01839,
     "end_time": "2022-12-29T21:55:49.782752",
     "exception": false,
     "start_time": "2022-12-29T21:55:49.764362",
     "status": "completed"
    },
    "tags": []
   },
   "outputs": [],
   "source": [
    "data.rename(columns={'Retailer ID': 'Retailer_ID', 'Price per Unit': 'Price_per_Unit', 'Units Sold': 'Units_Sold',\n",
    "                    'Total Sales': 'Total_Sales', 'Operating Profit': 'Operating_Profit', 'Operatin Margin': 'Operatin_Margin',\n",
    "                    'Sales Method': 'Sales_Method'}, inplace=True)"
   ]
  },
  {
   "cell_type": "code",
   "execution_count": 44,
   "id": "4dd158b0",
   "metadata": {
    "execution": {
     "iopub.execute_input": "2022-12-29T21:55:49.803267Z",
     "iopub.status.busy": "2022-12-29T21:55:49.802710Z",
     "iopub.status.idle": "2022-12-29T21:55:49.812543Z",
     "shell.execute_reply": "2022-12-29T21:55:49.811465Z"
    },
    "papermill": {
     "duration": 0.022298,
     "end_time": "2022-12-29T21:55:49.814521",
     "exception": false,
     "start_time": "2022-12-29T21:55:49.792223",
     "status": "completed"
    },
    "tags": []
   },
   "outputs": [],
   "source": [
    "us_state_abb = {'Alabama': 'AL', 'Alaska': 'AK', 'Arizona': 'AZ', 'Arkansas': 'AR', 'California': 'CA', 'Colorado': 'CO', 'Connecticut': 'CT',\n",
    "                      'Delaware': 'DE', 'Florida': 'FL', 'Georgia': 'GA', 'Hawaii': 'HI', 'Idaho': 'ID', 'Illinois': 'IL', 'Indiana': 'IN', 'Iowa': 'IA',\n",
    "                      'Kansas': 'KS', 'Kentucky': 'KY', 'Louisiana': 'LA', 'Maine': 'ME', 'Maryland': 'MD', 'Massachusetts': 'MA', 'Michigan': 'MI',\n",
    "                      'Minnesota': 'MN', 'Mississippi': 'MS', 'Missouri': 'MO', 'Montana': 'MT', 'Nebraska': 'NE', 'Nevada': 'NV', 'New Hampshire': 'NH',\n",
    "                      'New Jersey': 'NJ', 'New Mexico': 'NM', 'New York': 'NY', 'North Carolina': 'NC', 'North Dakota': 'ND', 'Ohio': 'OH', 'Oklahoma': 'OK',\n",
    "                      'Oregon': 'OR', 'Pennsylvania': 'PA', 'Rhode Island': 'RI', 'South Carolina': 'SC', 'South Dakota': 'SD', 'Tennessee': 'TN', 'Texas': 'TX',\n",
    "                      'Utah': 'UT', 'Vermont': 'VT', 'Virginia': 'VA', 'Washington': 'WA', 'West Virginia': 'WV', 'Wisconsin': 'WI', 'Wyoming': 'WY',\n",
    "                      'District of Columbia': 'DC', 'American Samoa': 'AS', 'Guam': 'GU', 'Northern Mariana Islands': 'MP', 'Puerto Rico': 'PR',\n",
    "                      'United States Minor Outlying Islands': 'UM', 'U.S. Virgin Islands': 'VI'}\n",
    "data['State_Abb']=data['State'].map(us_state_abb)"
   ]
  },
  {
   "cell_type": "code",
   "execution_count": 45,
   "id": "d9f7af56",
   "metadata": {
    "execution": {
     "iopub.execute_input": "2022-12-29T21:55:49.834264Z",
     "iopub.status.busy": "2022-12-29T21:55:49.833921Z",
     "iopub.status.idle": "2022-12-29T21:55:49.851616Z",
     "shell.execute_reply": "2022-12-29T21:55:49.850173Z"
    },
    "papermill": {
     "duration": 0.030255,
     "end_time": "2022-12-29T21:55:49.853913",
     "exception": false,
     "start_time": "2022-12-29T21:55:49.823658",
     "status": "completed"
    },
    "tags": []
   },
   "outputs": [
    {
     "name": "stdout",
     "output_type": "stream",
     "text": [
      "<class 'pandas.core.frame.DataFrame'>\n",
      "RangeIndex: 9648 entries, 0 to 9647\n",
      "Data columns (total 17 columns):\n",
      " #   Column            Non-Null Count  Dtype   \n",
      "---  ------            --------------  -----   \n",
      " 0   Retailer          9648 non-null   object  \n",
      " 1   Retailer_ID       9648 non-null   object  \n",
      " 2   Region            9648 non-null   object  \n",
      " 3   State             9648 non-null   object  \n",
      " 4   City              9648 non-null   object  \n",
      " 5   Product           9648 non-null   object  \n",
      " 6   Price_per_Unit    9648 non-null   float64 \n",
      " 7   Units_Sold        9648 non-null   object  \n",
      " 8   Total_Sales       9648 non-null   float64 \n",
      " 9   Operating_Profit  9648 non-null   float64 \n",
      " 10  Operating Margin  9648 non-null   object  \n",
      " 11  Sales_Method      9648 non-null   object  \n",
      " 12  year              9648 non-null   int64   \n",
      " 13  month_name        9648 non-null   category\n",
      " 14  month             9648 non-null   int64   \n",
      " 15  day               9648 non-null   int64   \n",
      " 16  State_Abb         9648 non-null   object  \n",
      "dtypes: category(1), float64(3), int64(3), object(10)\n",
      "memory usage: 1.2+ MB\n"
     ]
    }
   ],
   "source": [
    "data.info()"
   ]
  },
  {
   "cell_type": "markdown",
   "id": "d1a2c861",
   "metadata": {
    "papermill": {
     "duration": 0.008715,
     "end_time": "2022-12-29T21:55:49.871976",
     "exception": false,
     "start_time": "2022-12-29T21:55:49.863261",
     "status": "completed"
    },
    "tags": []
   },
   "source": [
    "Finally, after cleaning the initial DataFrame by removing columns and rows with NaN values,\n",
    "we can see the column's names correctly assigned.\n",
    "From the information contained in the Invoice Data column, we added five new columns: year, month_name, month, day, and weekend."
   ]
  },
  {
   "cell_type": "code",
   "execution_count": 15,
   "id": "d14f0845",
   "metadata": {
    "execution": {
     "iopub.execute_input": "2022-12-29T21:55:49.892591Z",
     "iopub.status.busy": "2022-12-29T21:55:49.892246Z",
     "iopub.status.idle": "2022-12-29T21:55:49.914819Z",
     "shell.execute_reply": "2022-12-29T21:55:49.913649Z"
    },
    "papermill": {
     "duration": 0.036247,
     "end_time": "2022-12-29T21:55:49.917305",
     "exception": false,
     "start_time": "2022-12-29T21:55:49.881058",
     "status": "completed"
    },
    "tags": []
   },
   "outputs": [
    {
     "data": {
      "text/html": [
       "<div>\n",
       "<style scoped>\n",
       "    .dataframe tbody tr th:only-of-type {\n",
       "        vertical-align: middle;\n",
       "    }\n",
       "\n",
       "    .dataframe tbody tr th {\n",
       "        vertical-align: top;\n",
       "    }\n",
       "\n",
       "    .dataframe thead th {\n",
       "        text-align: right;\n",
       "    }\n",
       "</style>\n",
       "<table border=\"1\" class=\"dataframe\">\n",
       "  <thead>\n",
       "    <tr style=\"text-align: right;\">\n",
       "      <th>3</th>\n",
       "      <th>Retailer</th>\n",
       "      <th>Retailer_ID</th>\n",
       "      <th>Region</th>\n",
       "      <th>State</th>\n",
       "      <th>City</th>\n",
       "      <th>Product</th>\n",
       "      <th>Price_per_Unit</th>\n",
       "      <th>Units_Sold</th>\n",
       "      <th>Total_Sales</th>\n",
       "      <th>Operating_Profit</th>\n",
       "      <th>Operating Margin</th>\n",
       "      <th>Sales_Method</th>\n",
       "      <th>year</th>\n",
       "      <th>month_name</th>\n",
       "      <th>month</th>\n",
       "      <th>day</th>\n",
       "      <th>State_Abb</th>\n",
       "    </tr>\n",
       "  </thead>\n",
       "  <tbody>\n",
       "    <tr>\n",
       "      <th>0</th>\n",
       "      <td>Foot Locker</td>\n",
       "      <td>1185732</td>\n",
       "      <td>Northeast</td>\n",
       "      <td>New York</td>\n",
       "      <td>New York</td>\n",
       "      <td>Men's Street Footwear</td>\n",
       "      <td>50.0</td>\n",
       "      <td>1200</td>\n",
       "      <td>600000.0</td>\n",
       "      <td>300000.0</td>\n",
       "      <td>0.5</td>\n",
       "      <td>In-store</td>\n",
       "      <td>2020</td>\n",
       "      <td>January</td>\n",
       "      <td>1</td>\n",
       "      <td>1</td>\n",
       "      <td>NY</td>\n",
       "    </tr>\n",
       "    <tr>\n",
       "      <th>1</th>\n",
       "      <td>Foot Locker</td>\n",
       "      <td>1185732</td>\n",
       "      <td>Northeast</td>\n",
       "      <td>New York</td>\n",
       "      <td>New York</td>\n",
       "      <td>Men's Athletic Footwear</td>\n",
       "      <td>50.0</td>\n",
       "      <td>1000</td>\n",
       "      <td>500000.0</td>\n",
       "      <td>150000.0</td>\n",
       "      <td>0.3</td>\n",
       "      <td>In-store</td>\n",
       "      <td>2020</td>\n",
       "      <td>January</td>\n",
       "      <td>1</td>\n",
       "      <td>2</td>\n",
       "      <td>NY</td>\n",
       "    </tr>\n",
       "    <tr>\n",
       "      <th>2</th>\n",
       "      <td>Foot Locker</td>\n",
       "      <td>1185732</td>\n",
       "      <td>Northeast</td>\n",
       "      <td>New York</td>\n",
       "      <td>New York</td>\n",
       "      <td>Women's Street Footwear</td>\n",
       "      <td>40.0</td>\n",
       "      <td>1000</td>\n",
       "      <td>400000.0</td>\n",
       "      <td>140000.0</td>\n",
       "      <td>0.35</td>\n",
       "      <td>In-store</td>\n",
       "      <td>2020</td>\n",
       "      <td>January</td>\n",
       "      <td>1</td>\n",
       "      <td>3</td>\n",
       "      <td>NY</td>\n",
       "    </tr>\n",
       "    <tr>\n",
       "      <th>3</th>\n",
       "      <td>Foot Locker</td>\n",
       "      <td>1185732</td>\n",
       "      <td>Northeast</td>\n",
       "      <td>New York</td>\n",
       "      <td>New York</td>\n",
       "      <td>Women's Athletic Footwear</td>\n",
       "      <td>45.0</td>\n",
       "      <td>850</td>\n",
       "      <td>382500.0</td>\n",
       "      <td>133875.0</td>\n",
       "      <td>0.35</td>\n",
       "      <td>In-store</td>\n",
       "      <td>2020</td>\n",
       "      <td>January</td>\n",
       "      <td>1</td>\n",
       "      <td>4</td>\n",
       "      <td>NY</td>\n",
       "    </tr>\n",
       "    <tr>\n",
       "      <th>4</th>\n",
       "      <td>Foot Locker</td>\n",
       "      <td>1185732</td>\n",
       "      <td>Northeast</td>\n",
       "      <td>New York</td>\n",
       "      <td>New York</td>\n",
       "      <td>Men's Apparel</td>\n",
       "      <td>60.0</td>\n",
       "      <td>900</td>\n",
       "      <td>540000.0</td>\n",
       "      <td>162000.0</td>\n",
       "      <td>0.3</td>\n",
       "      <td>In-store</td>\n",
       "      <td>2020</td>\n",
       "      <td>January</td>\n",
       "      <td>1</td>\n",
       "      <td>5</td>\n",
       "      <td>NY</td>\n",
       "    </tr>\n",
       "    <tr>\n",
       "      <th>5</th>\n",
       "      <td>Foot Locker</td>\n",
       "      <td>1185732</td>\n",
       "      <td>Northeast</td>\n",
       "      <td>New York</td>\n",
       "      <td>New York</td>\n",
       "      <td>Women's Apparel</td>\n",
       "      <td>50.0</td>\n",
       "      <td>1000</td>\n",
       "      <td>500000.0</td>\n",
       "      <td>125000.0</td>\n",
       "      <td>0.25</td>\n",
       "      <td>In-store</td>\n",
       "      <td>2020</td>\n",
       "      <td>January</td>\n",
       "      <td>1</td>\n",
       "      <td>6</td>\n",
       "      <td>NY</td>\n",
       "    </tr>\n",
       "    <tr>\n",
       "      <th>6</th>\n",
       "      <td>Foot Locker</td>\n",
       "      <td>1185732</td>\n",
       "      <td>Northeast</td>\n",
       "      <td>New York</td>\n",
       "      <td>New York</td>\n",
       "      <td>Men's Street Footwear</td>\n",
       "      <td>50.0</td>\n",
       "      <td>1250</td>\n",
       "      <td>625000.0</td>\n",
       "      <td>312500.0</td>\n",
       "      <td>0.5</td>\n",
       "      <td>In-store</td>\n",
       "      <td>2020</td>\n",
       "      <td>January</td>\n",
       "      <td>1</td>\n",
       "      <td>7</td>\n",
       "      <td>NY</td>\n",
       "    </tr>\n",
       "    <tr>\n",
       "      <th>7</th>\n",
       "      <td>Foot Locker</td>\n",
       "      <td>1185732</td>\n",
       "      <td>Northeast</td>\n",
       "      <td>New York</td>\n",
       "      <td>New York</td>\n",
       "      <td>Men's Athletic Footwear</td>\n",
       "      <td>50.0</td>\n",
       "      <td>900</td>\n",
       "      <td>450000.0</td>\n",
       "      <td>135000.0</td>\n",
       "      <td>0.3</td>\n",
       "      <td>Outlet</td>\n",
       "      <td>2020</td>\n",
       "      <td>January</td>\n",
       "      <td>1</td>\n",
       "      <td>8</td>\n",
       "      <td>NY</td>\n",
       "    </tr>\n",
       "    <tr>\n",
       "      <th>8</th>\n",
       "      <td>Foot Locker</td>\n",
       "      <td>1185732</td>\n",
       "      <td>Northeast</td>\n",
       "      <td>New York</td>\n",
       "      <td>New York</td>\n",
       "      <td>Women's Street Footwear</td>\n",
       "      <td>40.0</td>\n",
       "      <td>950</td>\n",
       "      <td>380000.0</td>\n",
       "      <td>133000.0</td>\n",
       "      <td>0.35</td>\n",
       "      <td>Outlet</td>\n",
       "      <td>2020</td>\n",
       "      <td>January</td>\n",
       "      <td>1</td>\n",
       "      <td>21</td>\n",
       "      <td>NY</td>\n",
       "    </tr>\n",
       "    <tr>\n",
       "      <th>9</th>\n",
       "      <td>Foot Locker</td>\n",
       "      <td>1185732</td>\n",
       "      <td>Northeast</td>\n",
       "      <td>New York</td>\n",
       "      <td>New York</td>\n",
       "      <td>Women's Athletic Footwear</td>\n",
       "      <td>45.0</td>\n",
       "      <td>825</td>\n",
       "      <td>371250.0</td>\n",
       "      <td>129937.5</td>\n",
       "      <td>0.35</td>\n",
       "      <td>Outlet</td>\n",
       "      <td>2020</td>\n",
       "      <td>January</td>\n",
       "      <td>1</td>\n",
       "      <td>22</td>\n",
       "      <td>NY</td>\n",
       "    </tr>\n",
       "  </tbody>\n",
       "</table>\n",
       "</div>"
      ],
      "text/plain": [
       "3     Retailer Retailer_ID     Region     State      City  \\\n",
       "0  Foot Locker     1185732  Northeast  New York  New York   \n",
       "1  Foot Locker     1185732  Northeast  New York  New York   \n",
       "2  Foot Locker     1185732  Northeast  New York  New York   \n",
       "3  Foot Locker     1185732  Northeast  New York  New York   \n",
       "4  Foot Locker     1185732  Northeast  New York  New York   \n",
       "5  Foot Locker     1185732  Northeast  New York  New York   \n",
       "6  Foot Locker     1185732  Northeast  New York  New York   \n",
       "7  Foot Locker     1185732  Northeast  New York  New York   \n",
       "8  Foot Locker     1185732  Northeast  New York  New York   \n",
       "9  Foot Locker     1185732  Northeast  New York  New York   \n",
       "\n",
       "3                    Product  Price_per_Unit Units_Sold  Total_Sales  \\\n",
       "0      Men's Street Footwear            50.0       1200     600000.0   \n",
       "1    Men's Athletic Footwear            50.0       1000     500000.0   \n",
       "2    Women's Street Footwear            40.0       1000     400000.0   \n",
       "3  Women's Athletic Footwear            45.0        850     382500.0   \n",
       "4              Men's Apparel            60.0        900     540000.0   \n",
       "5            Women's Apparel            50.0       1000     500000.0   \n",
       "6      Men's Street Footwear            50.0       1250     625000.0   \n",
       "7    Men's Athletic Footwear            50.0        900     450000.0   \n",
       "8    Women's Street Footwear            40.0        950     380000.0   \n",
       "9  Women's Athletic Footwear            45.0        825     371250.0   \n",
       "\n",
       "3  Operating_Profit Operating Margin Sales_Method  year month_name  month  \\\n",
       "0          300000.0              0.5     In-store  2020    January      1   \n",
       "1          150000.0              0.3     In-store  2020    January      1   \n",
       "2          140000.0             0.35     In-store  2020    January      1   \n",
       "3          133875.0             0.35     In-store  2020    January      1   \n",
       "4          162000.0              0.3     In-store  2020    January      1   \n",
       "5          125000.0             0.25     In-store  2020    January      1   \n",
       "6          312500.0              0.5     In-store  2020    January      1   \n",
       "7          135000.0              0.3       Outlet  2020    January      1   \n",
       "8          133000.0             0.35       Outlet  2020    January      1   \n",
       "9          129937.5             0.35       Outlet  2020    January      1   \n",
       "\n",
       "3  day State_Abb  \n",
       "0    1        NY  \n",
       "1    2        NY  \n",
       "2    3        NY  \n",
       "3    4        NY  \n",
       "4    5        NY  \n",
       "5    6        NY  \n",
       "6    7        NY  \n",
       "7    8        NY  \n",
       "8   21        NY  \n",
       "9   22        NY  "
      ]
     },
     "execution_count": 15,
     "metadata": {},
     "output_type": "execute_result"
    }
   ],
   "source": [
    "data.head(10)"
   ]
  },
  {
   "cell_type": "markdown",
   "id": "4defc109",
   "metadata": {
    "papermill": {
     "duration": 0.009461,
     "end_time": "2022-12-29T21:55:49.936755",
     "exception": false,
     "start_time": "2022-12-29T21:55:49.927294",
     "status": "completed"
    },
    "tags": []
   },
   "source": [
    "# 🔎4. Data Analysis"
   ]
  },
  {
   "cell_type": "code",
   "execution_count": 142,
   "id": "60713466",
   "metadata": {
    "execution": {
     "iopub.execute_input": "2022-12-29T21:55:49.959001Z",
     "iopub.status.busy": "2022-12-29T21:55:49.958631Z",
     "iopub.status.idle": "2022-12-29T21:55:49.964868Z",
     "shell.execute_reply": "2022-12-29T21:55:49.963995Z"
    },
    "papermill": {
     "duration": 0.019912,
     "end_time": "2022-12-29T21:55:49.966669",
     "exception": false,
     "start_time": "2022-12-29T21:55:49.946757",
     "status": "completed"
    },
    "tags": []
   },
   "outputs": [],
   "source": [
    "#Group the data by feature and sum the total sales\n",
    "colors = ['#3f4788', '#365c8d', '#277f8e', '#1fa187', '#4ac16d', '#a0da39']\n",
    "def pieplot(df, feature):\n",
    "    df = df[[feature, 'Total_Sales']].groupby(feature, as_index=False).sum()\n",
    "    fig, ax = plt.subplots(figsize=(7, 4))\n",
    "    ax.pie(df['Total_Sales'], labels=df[feature], autopct='%1.1f%%', colors=colors, wedgeprops = {'linewidth':0.5, 'edgecolor':'white'}, shadow=True, startangle=90)\n",
    "    ax.set_title(f'Total Sales by {feature}')\n",
    "    ax.legend(df[feature],\n",
    "          title=feature,\n",
    "          loc=\"center left\",\n",
    "          bbox_to_anchor=(1.1, 0.35, 0, 1))\n",
    "    \n",
    "    #Show the plot\n",
    "    plt.show()\n",
    "    "
   ]
  },
  {
   "cell_type": "markdown",
   "id": "9703439e",
   "metadata": {
    "papermill": {
     "duration": 0.009287,
     "end_time": "2022-12-29T21:55:49.985580",
     "exception": false,
     "start_time": "2022-12-29T21:55:49.976293",
     "status": "completed"
    },
    "tags": []
   },
   "source": [
    "#    4.1. Market Share of Retailers"
   ]
  },
  {
   "cell_type": "code",
   "execution_count": 144,
   "id": "7b188915",
   "metadata": {
    "execution": {
     "iopub.execute_input": "2022-12-29T21:55:50.006089Z",
     "iopub.status.busy": "2022-12-29T21:55:50.005731Z",
     "iopub.status.idle": "2022-12-29T21:55:50.184781Z",
     "shell.execute_reply": "2022-12-29T21:55:50.183425Z"
    },
    "papermill": {
     "duration": 0.192342,
     "end_time": "2022-12-29T21:55:50.187477",
     "exception": false,
     "start_time": "2022-12-29T21:55:49.995135",
     "status": "completed"
    },
    "tags": []
   },
   "outputs": [
    {
     "data": {
      "image/png": "[encoded data removed]",
      "text/plain": [
       "<Figure size 700x400 with 1 Axes>"
      ]
     },
     "metadata": {},
     "output_type": "display_data"
    }
   ],
   "source": [
    "pieplot(data, 'Retailer')"
   ]
  },
  {
   "cell_type": "markdown",
   "id": "419b5f09",
   "metadata": {
    "papermill": {
     "duration": 0.013175,
     "end_time": "2022-12-29T21:55:50.214855",
     "exception": false,
     "start_time": "2022-12-29T21:55:50.201680",
     "status": "completed"
    },
    "tags": []
   },
   "source": [
    "Our dataset contains sales information for six retailers, about 50% of total sales are concentrated in two of them,\n",
    "in the first place, West Gear with 27.0%, followed by Foot Locker with 24.5%."
   ]
  },
  {
   "cell_type": "markdown",
   "id": "badffb3e",
   "metadata": {
    "papermill": {
     "duration": 0.012831,
     "end_time": "2022-12-29T21:55:50.241140",
     "exception": false,
     "start_time": "2022-12-29T21:55:50.228309",
     "status": "completed"
    },
    "tags": []
   },
   "source": [
    "# 4.2. Total Sales per Product"
   ]
  },
  {
   "cell_type": "code",
   "execution_count": 145,
   "id": "6a26e765",
   "metadata": {
    "execution": {
     "iopub.execute_input": "2022-12-29T21:55:50.264431Z",
     "iopub.status.busy": "2022-12-29T21:55:50.264031Z",
     "iopub.status.idle": "2022-12-29T21:55:50.407981Z",
     "shell.execute_reply": "2022-12-29T21:55:50.407220Z"
    },
    "papermill": {
     "duration": 0.157437,
     "end_time": "2022-12-29T21:55:50.409943",
     "exception": false,
     "start_time": "2022-12-29T21:55:50.252506",
     "status": "completed"
    },
    "tags": []
   },
   "outputs": [
    {
     "data": {
      "image/png": "[encoded data removed]",
      "text/plain": [
       "<Figure size 700x400 with 1 Axes>"
      ]
     },
     "metadata": {},
     "output_type": "display_data"
    }
   ],
   "source": [
    "pieplot(data, 'Product')"
   ]
  },
  {
   "cell_type": "markdown",
   "id": "ed11b172",
   "metadata": {
    "papermill": {
     "duration": 0.0144,
     "end_time": "2022-12-29T21:55:50.438488",
     "exception": false,
     "start_time": "2022-12-29T21:55:50.424088",
     "status": "completed"
    },
    "tags": []
   },
   "source": [
    "Men's Street Footwear has the highest sales amount."
   ]
  },
  {
   "cell_type": "markdown",
   "id": "c0901184",
   "metadata": {
    "papermill": {
     "duration": 0.012556,
     "end_time": "2022-12-29T21:55:50.467358",
     "exception": false,
     "start_time": "2022-12-29T21:55:50.454802",
     "status": "completed"
    },
    "tags": []
   },
   "source": [
    "# 4.4. Sales Method"
   ]
  },
  {
   "cell_type": "code",
   "execution_count": 146,
   "id": "12fb83eb",
   "metadata": {
    "execution": {
     "iopub.execute_input": "2022-12-29T21:55:50.491153Z",
     "iopub.status.busy": "2022-12-29T21:55:50.490509Z",
     "iopub.status.idle": "2022-12-29T21:55:50.591510Z",
     "shell.execute_reply": "2022-12-29T21:55:50.590692Z"
    },
    "papermill": {
     "duration": 0.115389,
     "end_time": "2022-12-29T21:55:50.593664",
     "exception": false,
     "start_time": "2022-12-29T21:55:50.478275",
     "status": "completed"
    },
    "tags": []
   },
   "outputs": [
    {
     "data": {
      "image/png": "[encoded data removed]",
      "text/plain": [
       "<Figure size 700x400 with 1 Axes>"
      ]
     },
     "metadata": {},
     "output_type": "display_data"
    }
   ],
   "source": [
    "pieplot(data, 'Sales_Method')"
   ]
  },
  {
   "cell_type": "markdown",
   "id": "447723bb",
   "metadata": {
    "papermill": {
     "duration": 0.015073,
     "end_time": "2022-12-29T21:55:50.623466",
     "exception": false,
     "start_time": "2022-12-29T21:55:50.608393",
     "status": "completed"
    },
    "tags": []
   },
   "source": [
    "In in-store and outlets appear as the preferred buying method of customers, representing almost three-quarters (72.4%) of total sales."
   ]
  },
  {
   "cell_type": "code",
   "execution_count": 128,
   "id": "80ca2eef",
   "metadata": {},
   "outputs": [
    {
     "data": {
      "image/png": "[encoded data removed]"
     },
     "metadata": {},
     "output_type": "display_data"
    }
   ],
   "source": [
    "fig = px.histogram(data, x=\"Retailer\", y=\"Total_Sales\", color='Product', title=\"Plot\", color_discrete_sequence=colors)\n",
    "fig.update_xaxes(title='Retailer')\n",
    "fig.update_yaxes(title='Sum of Total Sales')\n",
    "fig.update_layout(xaxis={'categoryorder':'total descending'})\n",
    "\n",
    "# Show figure\n",
    "# Added 'png' to save the figure in the notebook as static images to show in GitHub\n",
    "fig.show('png') "
   ]
  },
  {
   "cell_type": "markdown",
   "id": "0fdebf27",
   "metadata": {
    "papermill": {
     "duration": 0.014355,
     "end_time": "2022-12-29T21:55:50.653005",
     "exception": false,
     "start_time": "2022-12-29T21:55:50.638650",
     "status": "completed"
    },
    "tags": []
   },
   "source": [
    "# 4.5. Total Sales by Month"
   ]
  },
  {
   "cell_type": "code",
   "execution_count": 129,
   "id": "b09312f7",
   "metadata": {
    "execution": {
     "iopub.execute_input": "2022-12-29T21:55:50.681284Z",
     "iopub.status.busy": "2022-12-29T21:55:50.680901Z",
     "iopub.status.idle": "2022-12-29T21:55:50.858267Z",
     "shell.execute_reply": "2022-12-29T21:55:50.856294Z"
    },
    "papermill": {
     "duration": 0.192887,
     "end_time": "2022-12-29T21:55:50.860662",
     "exception": false,
     "start_time": "2022-12-29T21:55:50.667775",
     "status": "completed"
    },
    "tags": []
   },
   "outputs": [
    {
     "data": {
      "image/png": "[encoded data removed]",
      "text/plain": [
       "<Figure size 700x500 with 1 Axes>"
      ]
     },
     "metadata": {},
     "output_type": "display_data"
    }
   ],
   "source": [
    "month_sales = data[['month_name', 'Total_Sales']].groupby('month_name', as_index=False, sort=False).sum()\n",
    "formatter = EngFormatter()\n",
    "color_bar=['#3f4788']\n",
    "\n",
    "sort_order = ['January','February','March','April','May','June','July','August','September','October','November','December']\n",
    "fig, ax = plt.subplots(figsize=(7, 5))\n",
    "ax.bar(month_sales['month_name'], month_sales['Total_Sales'], width=0.2, color=color_bar)\n",
    "ax.set_title('Total Sales by Month')\n",
    "ax.set_ylabel('Total Sales')\n",
    "ax.set_xlabel('Month')\n",
    "ax.yaxis.set_major_formatter(formatter)\n",
    "plt.xticks(month_sales['month_name'], rotation=-45)\n",
    "    \n",
    "#Show the plot\n",
    "plt.show()"
   ]
  },
  {
   "cell_type": "markdown",
   "id": "90d9bc77",
   "metadata": {
    "papermill": {
     "duration": 0.011263,
     "end_time": "2022-12-29T21:55:50.883384",
     "exception": false,
     "start_time": "2022-12-29T21:55:50.872121",
     "status": "completed"
    },
    "tags": []
   },
   "source": [
    "In the available history, the month of July has the highest total sales, while March has the lowest value."
   ]
  },
  {
   "cell_type": "code",
   "execution_count": 47,
   "id": "2028d0d7",
   "metadata": {
    "execution": {
     "iopub.execute_input": "2022-12-29T21:55:50.908535Z",
     "iopub.status.busy": "2022-12-29T21:55:50.908142Z",
     "iopub.status.idle": "2022-12-29T21:55:51.943849Z",
     "shell.execute_reply": "2022-12-29T21:55:51.942741Z"
    },
    "papermill": {
     "duration": 1.050576,
     "end_time": "2022-12-29T21:55:51.945885",
     "exception": false,
     "start_time": "2022-12-29T21:55:50.895309",
     "status": "completed"
    },
    "tags": []
   },
   "outputs": [
    {
     "data": {
      "image/png": "[encoded data removed]"
     },
     "metadata": {},
     "output_type": "display_data"
    }
   ],
   "source": [
    "states = data[['State_Abb','Total_Sales']].groupby('State_Abb', as_index=False).sum()\n",
    "\n",
    "fig = px.choropleth(states, locations='State_Abb', color='Total_Sales', locationmode='USA-states', scope='usa', title=\"Total Sales per State\")\n",
    "\n",
    "# Show figure\n",
    "# Added 'png' to save the figure in the notebook as static images to show in GitHub\n",
    "fig.show('png')"
   ]
  }
 ],
 "metadata": {
  "kernelspec": {
   "display_name": "Python 3 (ipykernel)",
   "language": "python",
   "name": "python3"
  },
  "language_info": {
   "codemirror_mode": {
    "name": "ipython",
    "version": 3
   },
   "file_extension": ".py",
   "mimetype": "text/x-python",
   "name": "python",
   "nbconvert_exporter": "python",
   "pygments_lexer": "ipython3",
   "version": "3.9.13"
  },
  "papermill": {
   "default_parameters": {},
   "duration": 16.308105,
   "end_time": "2022-12-29T21:55:52.779650",
   "environment_variables": {},
   "exception": null,
   "input_path": "__notebook__.ipynb",
   "output_path": "__notebook__.ipynb",
   "parameters": {},
   "start_time": "2022-12-29T21:55:36.471545",
   "version": "2.3.4"
  }
 },
 "nbformat": 4,
 "nbformat_minor": 5
}
