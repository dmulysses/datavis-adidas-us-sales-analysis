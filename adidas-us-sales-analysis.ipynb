{
 "cells": [
  {
   "cell_type": "markdown",
   "id": "a1b9f3b9",
   "metadata": {
    "papermill": {
     "duration": 0.009148,
     "end_time": "2022-12-29T21:55:45.426114",
     "exception": false,
     "start_time": "2022-12-29T21:55:45.416966",
     "status": "completed"
    },
    "tags": []
   },
   "source": [
    "# 🙋🏾‍♂️Info\n",
    "* Author: Diego Ulysses de Melo\n",
    "* https://diegoumelo.owlstown.net/\n",
    "* Date: 27/12/2022"
   ]
  },
  {
   "cell_type": "markdown",
   "id": "a624d9be",
   "metadata": {
    "papermill": {
     "duration": 0.007594,
     "end_time": "2022-12-29T21:55:45.441879",
     "exception": false,
     "start_time": "2022-12-29T21:55:45.434285",
     "status": "completed"
    },
    "tags": []
   },
   "source": [
    "# 🧾 Table of Contents\n",
    "* 1. Preparing Tool Box\n",
    "* 2. Reading the Data\n",
    "* 3. Data Cleaning and Pre-processing\n",
    "* 4. Data Analysis              \n",
    "    4.1. Market Share of Retailers     \n",
    "    4.2. Total Sales per Product    \n",
    "    4.3. Total Sales per Region    \n",
    "    4.4. Total Sales by Month"
   ]
  },
  {
   "cell_type": "markdown",
   "id": "a08585cf",
   "metadata": {
    "papermill": {
     "duration": 0.007732,
     "end_time": "2022-12-29T21:55:45.457703",
     "exception": false,
     "start_time": "2022-12-29T21:55:45.449971",
     "status": "completed"
    },
    "tags": []
   },
   "source": [
    "# 🔧1. Preparing Tool Box"
   ]
  },
  {
   "cell_type": "code",
   "execution_count": 4,
   "id": "c3a900f7",
   "metadata": {},
   "outputs": [
    {
     "name": "stdout",
     "output_type": "stream",
     "text": [
      "\\data\\Adidas_US_Sales_Datasets.xlsx\n"
     ]
    }
   ],
   "source": [
    "import os\n",
    "for dirname, _, filenames in os.walk('\\data'):\n",
    "    for filename in filenames:\n",
    "        print(os.path.join(dirname, filename))"
   ]
  },
  {
   "cell_type": "code",
   "execution_count": 242,
   "id": "08ec0c9d",
   "metadata": {
    "execution": {
     "iopub.execute_input": "2022-12-29T21:55:45.515607Z",
     "iopub.status.busy": "2022-12-29T21:55:45.514728Z",
     "iopub.status.idle": "2022-12-29T21:55:46.851638Z",
     "shell.execute_reply": "2022-12-29T21:55:46.850221Z"
    },
    "papermill": {
     "duration": 1.348612,
     "end_time": "2022-12-29T21:55:46.854159",
     "exception": false,
     "start_time": "2022-12-29T21:55:45.505547",
     "status": "completed"
    },
    "tags": []
   },
   "outputs": [],
   "source": [
    "from matplotlib.ticker import EngFormatter\n",
    "\n",
    "import calendar\n",
    "import matplotlib.pyplot as plt\n",
    "import numpy as np\n",
    "import pandas as pd\n",
    "import plotly.express as px"
   ]
  },
  {
   "cell_type": "markdown",
   "id": "88ad5947",
   "metadata": {
    "papermill": {
     "duration": 0.007921,
     "end_time": "2022-12-29T21:55:46.870695",
     "exception": false,
     "start_time": "2022-12-29T21:55:46.862774",
     "status": "completed"
    },
    "tags": []
   },
   "source": [
    "# 📂2. Reading the Data"
   ]
  },
  {
   "cell_type": "code",
   "execution_count": 162,
   "id": "b95af209",
   "metadata": {
    "execution": {
     "iopub.execute_input": "2022-12-29T21:55:46.888485Z",
     "iopub.status.busy": "2022-12-29T21:55:46.887915Z",
     "iopub.status.idle": "2022-12-29T21:55:49.175883Z",
     "shell.execute_reply": "2022-12-29T21:55:49.174467Z"
    },
    "papermill": {
     "duration": 2.299387,
     "end_time": "2022-12-29T21:55:49.178089",
     "exception": false,
     "start_time": "2022-12-29T21:55:46.878702",
     "status": "completed"
    },
    "tags": []
   },
   "outputs": [],
   "source": [
    "# Create a DataFrame containing Adidas Sales dataset\n",
    "data = pd.read_excel('\\data\\Adidas_US_Sales_Datasets.xlsx')"
   ]
  },
  {
   "cell_type": "markdown",
   "id": "51629269",
   "metadata": {
    "papermill": {
     "duration": 0.007619,
     "end_time": "2022-12-29T21:55:49.195228",
     "exception": false,
     "start_time": "2022-12-29T21:55:49.187609",
     "status": "completed"
    },
    "tags": []
   },
   "source": [
    "# 🛁3. Data Cleaning and Pre-processing"
   ]
  },
  {
   "cell_type": "code",
   "execution_count": 6,
   "id": "088d4fb4",
   "metadata": {
    "execution": {
     "iopub.execute_input": "2022-12-29T21:55:49.213494Z",
     "iopub.status.busy": "2022-12-29T21:55:49.213085Z",
     "iopub.status.idle": "2022-12-29T21:55:49.245359Z",
     "shell.execute_reply": "2022-12-29T21:55:49.243900Z"
    },
    "papermill": {
     "duration": 0.043559,
     "end_time": "2022-12-29T21:55:49.247243",
     "exception": false,
     "start_time": "2022-12-29T21:55:49.203684",
     "status": "completed"
    },
    "tags": []
   },
   "outputs": [
    {
     "name": "stdout",
     "output_type": "stream",
     "text": [
      "<class 'pandas.core.frame.DataFrame'>\n",
      "RangeIndex: 9652 entries, 0 to 9651\n",
      "Data columns (total 14 columns):\n",
      " #   Column       Non-Null Count  Dtype  \n",
      "---  ------       --------------  -----  \n",
      " 0   Unnamed: 0   0 non-null      float64\n",
      " 1   Unnamed: 1   9649 non-null   object \n",
      " 2   Unnamed: 2   9650 non-null   object \n",
      " 3   Unnamed: 3   9649 non-null   object \n",
      " 4   Unnamed: 4   9649 non-null   object \n",
      " 5   Unnamed: 5   9649 non-null   object \n",
      " 6   Unnamed: 6   9649 non-null   object \n",
      " 7   Unnamed: 7   9649 non-null   object \n",
      " 8   Unnamed: 8   9649 non-null   object \n",
      " 9   Unnamed: 9   9649 non-null   object \n",
      " 10  Unnamed: 10  9649 non-null   object \n",
      " 11  Unnamed: 11  9649 non-null   object \n",
      " 12  Unnamed: 12  9649 non-null   object \n",
      " 13  Unnamed: 13  9649 non-null   object \n",
      "dtypes: float64(1), object(13)\n",
      "memory usage: 1.0+ MB\n"
     ]
    }
   ],
   "source": [
    "data.info()"
   ]
  },
  {
   "cell_type": "markdown",
   "id": "9598d9d9",
   "metadata": {
    "papermill": {
     "duration": 0.00775,
     "end_time": "2022-12-29T21:55:49.263307",
     "exception": false,
     "start_time": "2022-12-29T21:55:49.255557",
     "status": "completed"
    },
    "tags": []
   },
   "source": [
    "Initially, the DataFrame contains 14 columns and 9652 rows."
   ]
  },
  {
   "cell_type": "code",
   "execution_count": 7,
   "id": "c7fea458",
   "metadata": {
    "execution": {
     "iopub.execute_input": "2022-12-29T21:55:49.282004Z",
     "iopub.status.busy": "2022-12-29T21:55:49.280918Z",
     "iopub.status.idle": "2022-12-29T21:55:49.306383Z",
     "shell.execute_reply": "2022-12-29T21:55:49.305038Z"
    },
    "papermill": {
     "duration": 0.036867,
     "end_time": "2022-12-29T21:55:49.308449",
     "exception": false,
     "start_time": "2022-12-29T21:55:49.271582",
     "status": "completed"
    },
    "tags": []
   },
   "outputs": [
    {
     "data": {
      "text/html": [
       "<div>\n",
       "<style scoped>\n",
       "    .dataframe tbody tr th:only-of-type {\n",
       "        vertical-align: middle;\n",
       "    }\n",
       "\n",
       "    .dataframe tbody tr th {\n",
       "        vertical-align: top;\n",
       "    }\n",
       "\n",
       "    .dataframe thead th {\n",
       "        text-align: right;\n",
       "    }\n",
       "</style>\n",
       "<table border=\"1\" class=\"dataframe\">\n",
       "  <thead>\n",
       "    <tr style=\"text-align: right;\">\n",
       "      <th></th>\n",
       "      <th>Unnamed: 0</th>\n",
       "      <th>Unnamed: 1</th>\n",
       "      <th>Unnamed: 2</th>\n",
       "      <th>Unnamed: 3</th>\n",
       "      <th>Unnamed: 4</th>\n",
       "      <th>Unnamed: 5</th>\n",
       "      <th>Unnamed: 6</th>\n",
       "      <th>Unnamed: 7</th>\n",
       "      <th>Unnamed: 8</th>\n",
       "      <th>Unnamed: 9</th>\n",
       "      <th>Unnamed: 10</th>\n",
       "      <th>Unnamed: 11</th>\n",
       "      <th>Unnamed: 12</th>\n",
       "      <th>Unnamed: 13</th>\n",
       "    </tr>\n",
       "  </thead>\n",
       "  <tbody>\n",
       "    <tr>\n",
       "      <th>0</th>\n",
       "      <td>NaN</td>\n",
       "      <td>NaN</td>\n",
       "      <td>Adidas Sales Database</td>\n",
       "      <td>NaN</td>\n",
       "      <td>NaN</td>\n",
       "      <td>NaN</td>\n",
       "      <td>NaN</td>\n",
       "      <td>NaN</td>\n",
       "      <td>NaN</td>\n",
       "      <td>NaN</td>\n",
       "      <td>NaN</td>\n",
       "      <td>NaN</td>\n",
       "      <td>NaN</td>\n",
       "      <td>NaN</td>\n",
       "    </tr>\n",
       "    <tr>\n",
       "      <th>1</th>\n",
       "      <td>NaN</td>\n",
       "      <td>NaN</td>\n",
       "      <td>NaN</td>\n",
       "      <td>NaN</td>\n",
       "      <td>NaN</td>\n",
       "      <td>NaN</td>\n",
       "      <td>NaN</td>\n",
       "      <td>NaN</td>\n",
       "      <td>NaN</td>\n",
       "      <td>NaN</td>\n",
       "      <td>NaN</td>\n",
       "      <td>NaN</td>\n",
       "      <td>NaN</td>\n",
       "      <td>NaN</td>\n",
       "    </tr>\n",
       "    <tr>\n",
       "      <th>2</th>\n",
       "      <td>NaN</td>\n",
       "      <td>NaN</td>\n",
       "      <td>NaN</td>\n",
       "      <td>NaN</td>\n",
       "      <td>NaN</td>\n",
       "      <td>NaN</td>\n",
       "      <td>NaN</td>\n",
       "      <td>NaN</td>\n",
       "      <td>NaN</td>\n",
       "      <td>NaN</td>\n",
       "      <td>NaN</td>\n",
       "      <td>NaN</td>\n",
       "      <td>NaN</td>\n",
       "      <td>NaN</td>\n",
       "    </tr>\n",
       "    <tr>\n",
       "      <th>3</th>\n",
       "      <td>NaN</td>\n",
       "      <td>Retailer</td>\n",
       "      <td>Retailer ID</td>\n",
       "      <td>Invoice Date</td>\n",
       "      <td>Region</td>\n",
       "      <td>State</td>\n",
       "      <td>City</td>\n",
       "      <td>Product</td>\n",
       "      <td>Price per Unit</td>\n",
       "      <td>Units Sold</td>\n",
       "      <td>Total Sales</td>\n",
       "      <td>Operating Profit</td>\n",
       "      <td>Operating Margin</td>\n",
       "      <td>Sales Method</td>\n",
       "    </tr>\n",
       "    <tr>\n",
       "      <th>4</th>\n",
       "      <td>NaN</td>\n",
       "      <td>Foot Locker</td>\n",
       "      <td>1185732</td>\n",
       "      <td>2020-01-01 00:00:00</td>\n",
       "      <td>Northeast</td>\n",
       "      <td>New York</td>\n",
       "      <td>New York</td>\n",
       "      <td>Men's Street Footwear</td>\n",
       "      <td>50</td>\n",
       "      <td>1200</td>\n",
       "      <td>600000</td>\n",
       "      <td>300000</td>\n",
       "      <td>0.5</td>\n",
       "      <td>In-store</td>\n",
       "    </tr>\n",
       "    <tr>\n",
       "      <th>5</th>\n",
       "      <td>NaN</td>\n",
       "      <td>Foot Locker</td>\n",
       "      <td>1185732</td>\n",
       "      <td>2020-01-02 00:00:00</td>\n",
       "      <td>Northeast</td>\n",
       "      <td>New York</td>\n",
       "      <td>New York</td>\n",
       "      <td>Men's Athletic Footwear</td>\n",
       "      <td>50</td>\n",
       "      <td>1000</td>\n",
       "      <td>500000</td>\n",
       "      <td>150000</td>\n",
       "      <td>0.3</td>\n",
       "      <td>In-store</td>\n",
       "    </tr>\n",
       "    <tr>\n",
       "      <th>6</th>\n",
       "      <td>NaN</td>\n",
       "      <td>Foot Locker</td>\n",
       "      <td>1185732</td>\n",
       "      <td>2020-01-03 00:00:00</td>\n",
       "      <td>Northeast</td>\n",
       "      <td>New York</td>\n",
       "      <td>New York</td>\n",
       "      <td>Women's Street Footwear</td>\n",
       "      <td>40</td>\n",
       "      <td>1000</td>\n",
       "      <td>400000</td>\n",
       "      <td>140000</td>\n",
       "      <td>0.35</td>\n",
       "      <td>In-store</td>\n",
       "    </tr>\n",
       "    <tr>\n",
       "      <th>7</th>\n",
       "      <td>NaN</td>\n",
       "      <td>Foot Locker</td>\n",
       "      <td>1185732</td>\n",
       "      <td>2020-01-04 00:00:00</td>\n",
       "      <td>Northeast</td>\n",
       "      <td>New York</td>\n",
       "      <td>New York</td>\n",
       "      <td>Women's Athletic Footwear</td>\n",
       "      <td>45</td>\n",
       "      <td>850</td>\n",
       "      <td>382500</td>\n",
       "      <td>133875</td>\n",
       "      <td>0.35</td>\n",
       "      <td>In-store</td>\n",
       "    </tr>\n",
       "    <tr>\n",
       "      <th>8</th>\n",
       "      <td>NaN</td>\n",
       "      <td>Foot Locker</td>\n",
       "      <td>1185732</td>\n",
       "      <td>2020-01-05 00:00:00</td>\n",
       "      <td>Northeast</td>\n",
       "      <td>New York</td>\n",
       "      <td>New York</td>\n",
       "      <td>Men's Apparel</td>\n",
       "      <td>60</td>\n",
       "      <td>900</td>\n",
       "      <td>540000</td>\n",
       "      <td>162000</td>\n",
       "      <td>0.3</td>\n",
       "      <td>In-store</td>\n",
       "    </tr>\n",
       "    <tr>\n",
       "      <th>9</th>\n",
       "      <td>NaN</td>\n",
       "      <td>Foot Locker</td>\n",
       "      <td>1185732</td>\n",
       "      <td>2020-01-06 00:00:00</td>\n",
       "      <td>Northeast</td>\n",
       "      <td>New York</td>\n",
       "      <td>New York</td>\n",
       "      <td>Women's Apparel</td>\n",
       "      <td>50</td>\n",
       "      <td>1000</td>\n",
       "      <td>500000</td>\n",
       "      <td>125000</td>\n",
       "      <td>0.25</td>\n",
       "      <td>In-store</td>\n",
       "    </tr>\n",
       "  </tbody>\n",
       "</table>\n",
       "</div>"
      ],
      "text/plain": [
       "   Unnamed: 0   Unnamed: 1             Unnamed: 2           Unnamed: 3  \\\n",
       "0         NaN          NaN  Adidas Sales Database                  NaN   \n",
       "1         NaN          NaN                    NaN                  NaN   \n",
       "2         NaN          NaN                    NaN                  NaN   \n",
       "3         NaN     Retailer            Retailer ID         Invoice Date   \n",
       "4         NaN  Foot Locker                1185732  2020-01-01 00:00:00   \n",
       "5         NaN  Foot Locker                1185732  2020-01-02 00:00:00   \n",
       "6         NaN  Foot Locker                1185732  2020-01-03 00:00:00   \n",
       "7         NaN  Foot Locker                1185732  2020-01-04 00:00:00   \n",
       "8         NaN  Foot Locker                1185732  2020-01-05 00:00:00   \n",
       "9         NaN  Foot Locker                1185732  2020-01-06 00:00:00   \n",
       "\n",
       "  Unnamed: 4 Unnamed: 5 Unnamed: 6                 Unnamed: 7      Unnamed: 8  \\\n",
       "0        NaN        NaN        NaN                        NaN             NaN   \n",
       "1        NaN        NaN        NaN                        NaN             NaN   \n",
       "2        NaN        NaN        NaN                        NaN             NaN   \n",
       "3     Region      State       City                    Product  Price per Unit   \n",
       "4  Northeast   New York   New York      Men's Street Footwear              50   \n",
       "5  Northeast   New York   New York    Men's Athletic Footwear              50   \n",
       "6  Northeast   New York   New York    Women's Street Footwear              40   \n",
       "7  Northeast   New York   New York  Women's Athletic Footwear              45   \n",
       "8  Northeast   New York   New York              Men's Apparel              60   \n",
       "9  Northeast   New York   New York            Women's Apparel              50   \n",
       "\n",
       "   Unnamed: 9  Unnamed: 10       Unnamed: 11       Unnamed: 12   Unnamed: 13  \n",
       "0         NaN          NaN               NaN               NaN           NaN  \n",
       "1         NaN          NaN               NaN               NaN           NaN  \n",
       "2         NaN          NaN               NaN               NaN           NaN  \n",
       "3  Units Sold  Total Sales  Operating Profit  Operating Margin  Sales Method  \n",
       "4        1200       600000            300000               0.5      In-store  \n",
       "5        1000       500000            150000               0.3      In-store  \n",
       "6        1000       400000            140000              0.35      In-store  \n",
       "7         850       382500            133875              0.35      In-store  \n",
       "8         900       540000            162000               0.3      In-store  \n",
       "9        1000       500000            125000              0.25      In-store  "
      ]
     },
     "execution_count": 7,
     "metadata": {},
     "output_type": "execute_result"
    }
   ],
   "source": [
    "data.head(10)"
   ]
  },
  {
   "cell_type": "code",
   "execution_count": 163,
   "id": "7c206fa5",
   "metadata": {
    "execution": {
     "iopub.execute_input": "2022-12-29T21:55:49.327214Z",
     "iopub.status.busy": "2022-12-29T21:55:49.326872Z",
     "iopub.status.idle": "2022-12-29T21:55:49.337870Z",
     "shell.execute_reply": "2022-12-29T21:55:49.336880Z"
    },
    "papermill": {
     "duration": 0.023206,
     "end_time": "2022-12-29T21:55:49.340263",
     "exception": false,
     "start_time": "2022-12-29T21:55:49.317057",
     "status": "completed"
    },
    "tags": []
   },
   "outputs": [],
   "source": [
    "# Remove the column 'Unnamed: 0'\n",
    "data.drop('Unnamed: 0', axis=1, inplace=True)\n",
    "\n",
    "# Remove rows 0, 1 and 2\n",
    "data.drop(labels=[0, 1, 2], axis=0, inplace=True)"
   ]
  },
  {
   "cell_type": "code",
   "execution_count": 9,
   "id": "7160fd19",
   "metadata": {
    "execution": {
     "iopub.execute_input": "2022-12-29T21:55:49.358736Z",
     "iopub.status.busy": "2022-12-29T21:55:49.358406Z",
     "iopub.status.idle": "2022-12-29T21:55:49.376100Z",
     "shell.execute_reply": "2022-12-29T21:55:49.374416Z"
    },
    "papermill": {
     "duration": 0.029829,
     "end_time": "2022-12-29T21:55:49.378643",
     "exception": false,
     "start_time": "2022-12-29T21:55:49.348814",
     "status": "completed"
    },
    "tags": []
   },
   "outputs": [
    {
     "data": {
      "text/html": [
       "<div>\n",
       "<style scoped>\n",
       "    .dataframe tbody tr th:only-of-type {\n",
       "        vertical-align: middle;\n",
       "    }\n",
       "\n",
       "    .dataframe tbody tr th {\n",
       "        vertical-align: top;\n",
       "    }\n",
       "\n",
       "    .dataframe thead th {\n",
       "        text-align: right;\n",
       "    }\n",
       "</style>\n",
       "<table border=\"1\" class=\"dataframe\">\n",
       "  <thead>\n",
       "    <tr style=\"text-align: right;\">\n",
       "      <th></th>\n",
       "      <th>Unnamed: 1</th>\n",
       "      <th>Unnamed: 2</th>\n",
       "      <th>Unnamed: 3</th>\n",
       "      <th>Unnamed: 4</th>\n",
       "      <th>Unnamed: 5</th>\n",
       "      <th>Unnamed: 6</th>\n",
       "      <th>Unnamed: 7</th>\n",
       "      <th>Unnamed: 8</th>\n",
       "      <th>Unnamed: 9</th>\n",
       "      <th>Unnamed: 10</th>\n",
       "      <th>Unnamed: 11</th>\n",
       "      <th>Unnamed: 12</th>\n",
       "      <th>Unnamed: 13</th>\n",
       "    </tr>\n",
       "  </thead>\n",
       "  <tbody>\n",
       "    <tr>\n",
       "      <th>3</th>\n",
       "      <td>Retailer</td>\n",
       "      <td>Retailer ID</td>\n",
       "      <td>Invoice Date</td>\n",
       "      <td>Region</td>\n",
       "      <td>State</td>\n",
       "      <td>City</td>\n",
       "      <td>Product</td>\n",
       "      <td>Price per Unit</td>\n",
       "      <td>Units Sold</td>\n",
       "      <td>Total Sales</td>\n",
       "      <td>Operating Profit</td>\n",
       "      <td>Operating Margin</td>\n",
       "      <td>Sales Method</td>\n",
       "    </tr>\n",
       "    <tr>\n",
       "      <th>4</th>\n",
       "      <td>Foot Locker</td>\n",
       "      <td>1185732</td>\n",
       "      <td>2020-01-01 00:00:00</td>\n",
       "      <td>Northeast</td>\n",
       "      <td>New York</td>\n",
       "      <td>New York</td>\n",
       "      <td>Men's Street Footwear</td>\n",
       "      <td>50</td>\n",
       "      <td>1200</td>\n",
       "      <td>600000</td>\n",
       "      <td>300000</td>\n",
       "      <td>0.5</td>\n",
       "      <td>In-store</td>\n",
       "    </tr>\n",
       "    <tr>\n",
       "      <th>5</th>\n",
       "      <td>Foot Locker</td>\n",
       "      <td>1185732</td>\n",
       "      <td>2020-01-02 00:00:00</td>\n",
       "      <td>Northeast</td>\n",
       "      <td>New York</td>\n",
       "      <td>New York</td>\n",
       "      <td>Men's Athletic Footwear</td>\n",
       "      <td>50</td>\n",
       "      <td>1000</td>\n",
       "      <td>500000</td>\n",
       "      <td>150000</td>\n",
       "      <td>0.3</td>\n",
       "      <td>In-store</td>\n",
       "    </tr>\n",
       "    <tr>\n",
       "      <th>6</th>\n",
       "      <td>Foot Locker</td>\n",
       "      <td>1185732</td>\n",
       "      <td>2020-01-03 00:00:00</td>\n",
       "      <td>Northeast</td>\n",
       "      <td>New York</td>\n",
       "      <td>New York</td>\n",
       "      <td>Women's Street Footwear</td>\n",
       "      <td>40</td>\n",
       "      <td>1000</td>\n",
       "      <td>400000</td>\n",
       "      <td>140000</td>\n",
       "      <td>0.35</td>\n",
       "      <td>In-store</td>\n",
       "    </tr>\n",
       "    <tr>\n",
       "      <th>7</th>\n",
       "      <td>Foot Locker</td>\n",
       "      <td>1185732</td>\n",
       "      <td>2020-01-04 00:00:00</td>\n",
       "      <td>Northeast</td>\n",
       "      <td>New York</td>\n",
       "      <td>New York</td>\n",
       "      <td>Women's Athletic Footwear</td>\n",
       "      <td>45</td>\n",
       "      <td>850</td>\n",
       "      <td>382500</td>\n",
       "      <td>133875</td>\n",
       "      <td>0.35</td>\n",
       "      <td>In-store</td>\n",
       "    </tr>\n",
       "    <tr>\n",
       "      <th>8</th>\n",
       "      <td>Foot Locker</td>\n",
       "      <td>1185732</td>\n",
       "      <td>2020-01-05 00:00:00</td>\n",
       "      <td>Northeast</td>\n",
       "      <td>New York</td>\n",
       "      <td>New York</td>\n",
       "      <td>Men's Apparel</td>\n",
       "      <td>60</td>\n",
       "      <td>900</td>\n",
       "      <td>540000</td>\n",
       "      <td>162000</td>\n",
       "      <td>0.3</td>\n",
       "      <td>In-store</td>\n",
       "    </tr>\n",
       "    <tr>\n",
       "      <th>9</th>\n",
       "      <td>Foot Locker</td>\n",
       "      <td>1185732</td>\n",
       "      <td>2020-01-06 00:00:00</td>\n",
       "      <td>Northeast</td>\n",
       "      <td>New York</td>\n",
       "      <td>New York</td>\n",
       "      <td>Women's Apparel</td>\n",
       "      <td>50</td>\n",
       "      <td>1000</td>\n",
       "      <td>500000</td>\n",
       "      <td>125000</td>\n",
       "      <td>0.25</td>\n",
       "      <td>In-store</td>\n",
       "    </tr>\n",
       "    <tr>\n",
       "      <th>10</th>\n",
       "      <td>Foot Locker</td>\n",
       "      <td>1185732</td>\n",
       "      <td>2020-01-07 00:00:00</td>\n",
       "      <td>Northeast</td>\n",
       "      <td>New York</td>\n",
       "      <td>New York</td>\n",
       "      <td>Men's Street Footwear</td>\n",
       "      <td>50</td>\n",
       "      <td>1250</td>\n",
       "      <td>625000</td>\n",
       "      <td>312500</td>\n",
       "      <td>0.5</td>\n",
       "      <td>In-store</td>\n",
       "    </tr>\n",
       "    <tr>\n",
       "      <th>11</th>\n",
       "      <td>Foot Locker</td>\n",
       "      <td>1185732</td>\n",
       "      <td>2020-01-08 00:00:00</td>\n",
       "      <td>Northeast</td>\n",
       "      <td>New York</td>\n",
       "      <td>New York</td>\n",
       "      <td>Men's Athletic Footwear</td>\n",
       "      <td>50</td>\n",
       "      <td>900</td>\n",
       "      <td>450000</td>\n",
       "      <td>135000</td>\n",
       "      <td>0.3</td>\n",
       "      <td>Outlet</td>\n",
       "    </tr>\n",
       "    <tr>\n",
       "      <th>12</th>\n",
       "      <td>Foot Locker</td>\n",
       "      <td>1185732</td>\n",
       "      <td>2020-01-21 00:00:00</td>\n",
       "      <td>Northeast</td>\n",
       "      <td>New York</td>\n",
       "      <td>New York</td>\n",
       "      <td>Women's Street Footwear</td>\n",
       "      <td>40</td>\n",
       "      <td>950</td>\n",
       "      <td>380000</td>\n",
       "      <td>133000</td>\n",
       "      <td>0.35</td>\n",
       "      <td>Outlet</td>\n",
       "    </tr>\n",
       "  </tbody>\n",
       "</table>\n",
       "</div>"
      ],
      "text/plain": [
       "     Unnamed: 1   Unnamed: 2           Unnamed: 3 Unnamed: 4 Unnamed: 5  \\\n",
       "3      Retailer  Retailer ID         Invoice Date     Region      State   \n",
       "4   Foot Locker      1185732  2020-01-01 00:00:00  Northeast   New York   \n",
       "5   Foot Locker      1185732  2020-01-02 00:00:00  Northeast   New York   \n",
       "6   Foot Locker      1185732  2020-01-03 00:00:00  Northeast   New York   \n",
       "7   Foot Locker      1185732  2020-01-04 00:00:00  Northeast   New York   \n",
       "8   Foot Locker      1185732  2020-01-05 00:00:00  Northeast   New York   \n",
       "9   Foot Locker      1185732  2020-01-06 00:00:00  Northeast   New York   \n",
       "10  Foot Locker      1185732  2020-01-07 00:00:00  Northeast   New York   \n",
       "11  Foot Locker      1185732  2020-01-08 00:00:00  Northeast   New York   \n",
       "12  Foot Locker      1185732  2020-01-21 00:00:00  Northeast   New York   \n",
       "\n",
       "   Unnamed: 6                 Unnamed: 7      Unnamed: 8  Unnamed: 9  \\\n",
       "3        City                    Product  Price per Unit  Units Sold   \n",
       "4    New York      Men's Street Footwear              50        1200   \n",
       "5    New York    Men's Athletic Footwear              50        1000   \n",
       "6    New York    Women's Street Footwear              40        1000   \n",
       "7    New York  Women's Athletic Footwear              45         850   \n",
       "8    New York              Men's Apparel              60         900   \n",
       "9    New York            Women's Apparel              50        1000   \n",
       "10   New York      Men's Street Footwear              50        1250   \n",
       "11   New York    Men's Athletic Footwear              50         900   \n",
       "12   New York    Women's Street Footwear              40         950   \n",
       "\n",
       "    Unnamed: 10       Unnamed: 11       Unnamed: 12   Unnamed: 13  \n",
       "3   Total Sales  Operating Profit  Operating Margin  Sales Method  \n",
       "4        600000            300000               0.5      In-store  \n",
       "5        500000            150000               0.3      In-store  \n",
       "6        400000            140000              0.35      In-store  \n",
       "7        382500            133875              0.35      In-store  \n",
       "8        540000            162000               0.3      In-store  \n",
       "9        500000            125000              0.25      In-store  \n",
       "10       625000            312500               0.5      In-store  \n",
       "11       450000            135000               0.3        Outlet  \n",
       "12       380000            133000              0.35        Outlet  "
      ]
     },
     "execution_count": 9,
     "metadata": {},
     "output_type": "execute_result"
    }
   ],
   "source": [
    "data.head(10)"
   ]
  },
  {
   "cell_type": "code",
   "execution_count": 164,
   "id": "e0ff7901",
   "metadata": {
    "execution": {
     "iopub.execute_input": "2022-12-29T21:55:49.397973Z",
     "iopub.status.busy": "2022-12-29T21:55:49.397615Z",
     "iopub.status.idle": "2022-12-29T21:55:49.403418Z",
     "shell.execute_reply": "2022-12-29T21:55:49.402030Z"
    },
    "papermill": {
     "duration": 0.018068,
     "end_time": "2022-12-29T21:55:49.405732",
     "exception": false,
     "start_time": "2022-12-29T21:55:49.387664",
     "status": "completed"
    },
    "tags": []
   },
   "outputs": [],
   "source": [
    "# Copy the row 0 as the column name\n",
    "data.columns = data.iloc[0]"
   ]
  },
  {
   "cell_type": "code",
   "execution_count": 11,
   "id": "7f6e81c8",
   "metadata": {
    "execution": {
     "iopub.execute_input": "2022-12-29T21:55:49.424992Z",
     "iopub.status.busy": "2022-12-29T21:55:49.424652Z",
     "iopub.status.idle": "2022-12-29T21:55:49.443408Z",
     "shell.execute_reply": "2022-12-29T21:55:49.442425Z"
    },
    "papermill": {
     "duration": 0.030639,
     "end_time": "2022-12-29T21:55:49.445286",
     "exception": false,
     "start_time": "2022-12-29T21:55:49.414647",
     "status": "completed"
    },
    "tags": []
   },
   "outputs": [
    {
     "data": {
      "text/html": [
       "<div>\n",
       "<style scoped>\n",
       "    .dataframe tbody tr th:only-of-type {\n",
       "        vertical-align: middle;\n",
       "    }\n",
       "\n",
       "    .dataframe tbody tr th {\n",
       "        vertical-align: top;\n",
       "    }\n",
       "\n",
       "    .dataframe thead th {\n",
       "        text-align: right;\n",
       "    }\n",
       "</style>\n",
       "<table border=\"1\" class=\"dataframe\">\n",
       "  <thead>\n",
       "    <tr style=\"text-align: right;\">\n",
       "      <th>3</th>\n",
       "      <th>Retailer</th>\n",
       "      <th>Retailer ID</th>\n",
       "      <th>Invoice Date</th>\n",
       "      <th>Region</th>\n",
       "      <th>State</th>\n",
       "      <th>City</th>\n",
       "      <th>Product</th>\n",
       "      <th>Price per Unit</th>\n",
       "      <th>Units Sold</th>\n",
       "      <th>Total Sales</th>\n",
       "      <th>Operating Profit</th>\n",
       "      <th>Operating Margin</th>\n",
       "      <th>Sales Method</th>\n",
       "    </tr>\n",
       "  </thead>\n",
       "  <tbody>\n",
       "    <tr>\n",
       "      <th>3</th>\n",
       "      <td>Retailer</td>\n",
       "      <td>Retailer ID</td>\n",
       "      <td>Invoice Date</td>\n",
       "      <td>Region</td>\n",
       "      <td>State</td>\n",
       "      <td>City</td>\n",
       "      <td>Product</td>\n",
       "      <td>Price per Unit</td>\n",
       "      <td>Units Sold</td>\n",
       "      <td>Total Sales</td>\n",
       "      <td>Operating Profit</td>\n",
       "      <td>Operating Margin</td>\n",
       "      <td>Sales Method</td>\n",
       "    </tr>\n",
       "    <tr>\n",
       "      <th>4</th>\n",
       "      <td>Foot Locker</td>\n",
       "      <td>1185732</td>\n",
       "      <td>2020-01-01 00:00:00</td>\n",
       "      <td>Northeast</td>\n",
       "      <td>New York</td>\n",
       "      <td>New York</td>\n",
       "      <td>Men's Street Footwear</td>\n",
       "      <td>50</td>\n",
       "      <td>1200</td>\n",
       "      <td>600000</td>\n",
       "      <td>300000</td>\n",
       "      <td>0.5</td>\n",
       "      <td>In-store</td>\n",
       "    </tr>\n",
       "    <tr>\n",
       "      <th>5</th>\n",
       "      <td>Foot Locker</td>\n",
       "      <td>1185732</td>\n",
       "      <td>2020-01-02 00:00:00</td>\n",
       "      <td>Northeast</td>\n",
       "      <td>New York</td>\n",
       "      <td>New York</td>\n",
       "      <td>Men's Athletic Footwear</td>\n",
       "      <td>50</td>\n",
       "      <td>1000</td>\n",
       "      <td>500000</td>\n",
       "      <td>150000</td>\n",
       "      <td>0.3</td>\n",
       "      <td>In-store</td>\n",
       "    </tr>\n",
       "    <tr>\n",
       "      <th>6</th>\n",
       "      <td>Foot Locker</td>\n",
       "      <td>1185732</td>\n",
       "      <td>2020-01-03 00:00:00</td>\n",
       "      <td>Northeast</td>\n",
       "      <td>New York</td>\n",
       "      <td>New York</td>\n",
       "      <td>Women's Street Footwear</td>\n",
       "      <td>40</td>\n",
       "      <td>1000</td>\n",
       "      <td>400000</td>\n",
       "      <td>140000</td>\n",
       "      <td>0.35</td>\n",
       "      <td>In-store</td>\n",
       "    </tr>\n",
       "    <tr>\n",
       "      <th>7</th>\n",
       "      <td>Foot Locker</td>\n",
       "      <td>1185732</td>\n",
       "      <td>2020-01-04 00:00:00</td>\n",
       "      <td>Northeast</td>\n",
       "      <td>New York</td>\n",
       "      <td>New York</td>\n",
       "      <td>Women's Athletic Footwear</td>\n",
       "      <td>45</td>\n",
       "      <td>850</td>\n",
       "      <td>382500</td>\n",
       "      <td>133875</td>\n",
       "      <td>0.35</td>\n",
       "      <td>In-store</td>\n",
       "    </tr>\n",
       "    <tr>\n",
       "      <th>8</th>\n",
       "      <td>Foot Locker</td>\n",
       "      <td>1185732</td>\n",
       "      <td>2020-01-05 00:00:00</td>\n",
       "      <td>Northeast</td>\n",
       "      <td>New York</td>\n",
       "      <td>New York</td>\n",
       "      <td>Men's Apparel</td>\n",
       "      <td>60</td>\n",
       "      <td>900</td>\n",
       "      <td>540000</td>\n",
       "      <td>162000</td>\n",
       "      <td>0.3</td>\n",
       "      <td>In-store</td>\n",
       "    </tr>\n",
       "    <tr>\n",
       "      <th>9</th>\n",
       "      <td>Foot Locker</td>\n",
       "      <td>1185732</td>\n",
       "      <td>2020-01-06 00:00:00</td>\n",
       "      <td>Northeast</td>\n",
       "      <td>New York</td>\n",
       "      <td>New York</td>\n",
       "      <td>Women's Apparel</td>\n",
       "      <td>50</td>\n",
       "      <td>1000</td>\n",
       "      <td>500000</td>\n",
       "      <td>125000</td>\n",
       "      <td>0.25</td>\n",
       "      <td>In-store</td>\n",
       "    </tr>\n",
       "    <tr>\n",
       "      <th>10</th>\n",
       "      <td>Foot Locker</td>\n",
       "      <td>1185732</td>\n",
       "      <td>2020-01-07 00:00:00</td>\n",
       "      <td>Northeast</td>\n",
       "      <td>New York</td>\n",
       "      <td>New York</td>\n",
       "      <td>Men's Street Footwear</td>\n",
       "      <td>50</td>\n",
       "      <td>1250</td>\n",
       "      <td>625000</td>\n",
       "      <td>312500</td>\n",
       "      <td>0.5</td>\n",
       "      <td>In-store</td>\n",
       "    </tr>\n",
       "    <tr>\n",
       "      <th>11</th>\n",
       "      <td>Foot Locker</td>\n",
       "      <td>1185732</td>\n",
       "      <td>2020-01-08 00:00:00</td>\n",
       "      <td>Northeast</td>\n",
       "      <td>New York</td>\n",
       "      <td>New York</td>\n",
       "      <td>Men's Athletic Footwear</td>\n",
       "      <td>50</td>\n",
       "      <td>900</td>\n",
       "      <td>450000</td>\n",
       "      <td>135000</td>\n",
       "      <td>0.3</td>\n",
       "      <td>Outlet</td>\n",
       "    </tr>\n",
       "    <tr>\n",
       "      <th>12</th>\n",
       "      <td>Foot Locker</td>\n",
       "      <td>1185732</td>\n",
       "      <td>2020-01-21 00:00:00</td>\n",
       "      <td>Northeast</td>\n",
       "      <td>New York</td>\n",
       "      <td>New York</td>\n",
       "      <td>Women's Street Footwear</td>\n",
       "      <td>40</td>\n",
       "      <td>950</td>\n",
       "      <td>380000</td>\n",
       "      <td>133000</td>\n",
       "      <td>0.35</td>\n",
       "      <td>Outlet</td>\n",
       "    </tr>\n",
       "  </tbody>\n",
       "</table>\n",
       "</div>"
      ],
      "text/plain": [
       "3      Retailer  Retailer ID         Invoice Date     Region     State  \\\n",
       "3      Retailer  Retailer ID         Invoice Date     Region     State   \n",
       "4   Foot Locker      1185732  2020-01-01 00:00:00  Northeast  New York   \n",
       "5   Foot Locker      1185732  2020-01-02 00:00:00  Northeast  New York   \n",
       "6   Foot Locker      1185732  2020-01-03 00:00:00  Northeast  New York   \n",
       "7   Foot Locker      1185732  2020-01-04 00:00:00  Northeast  New York   \n",
       "8   Foot Locker      1185732  2020-01-05 00:00:00  Northeast  New York   \n",
       "9   Foot Locker      1185732  2020-01-06 00:00:00  Northeast  New York   \n",
       "10  Foot Locker      1185732  2020-01-07 00:00:00  Northeast  New York   \n",
       "11  Foot Locker      1185732  2020-01-08 00:00:00  Northeast  New York   \n",
       "12  Foot Locker      1185732  2020-01-21 00:00:00  Northeast  New York   \n",
       "\n",
       "3       City                    Product  Price per Unit  Units Sold  \\\n",
       "3       City                    Product  Price per Unit  Units Sold   \n",
       "4   New York      Men's Street Footwear              50        1200   \n",
       "5   New York    Men's Athletic Footwear              50        1000   \n",
       "6   New York    Women's Street Footwear              40        1000   \n",
       "7   New York  Women's Athletic Footwear              45         850   \n",
       "8   New York              Men's Apparel              60         900   \n",
       "9   New York            Women's Apparel              50        1000   \n",
       "10  New York      Men's Street Footwear              50        1250   \n",
       "11  New York    Men's Athletic Footwear              50         900   \n",
       "12  New York    Women's Street Footwear              40         950   \n",
       "\n",
       "3   Total Sales  Operating Profit  Operating Margin  Sales Method  \n",
       "3   Total Sales  Operating Profit  Operating Margin  Sales Method  \n",
       "4        600000            300000               0.5      In-store  \n",
       "5        500000            150000               0.3      In-store  \n",
       "6        400000            140000              0.35      In-store  \n",
       "7        382500            133875              0.35      In-store  \n",
       "8        540000            162000               0.3      In-store  \n",
       "9        500000            125000              0.25      In-store  \n",
       "10       625000            312500               0.5      In-store  \n",
       "11       450000            135000               0.3        Outlet  \n",
       "12       380000            133000              0.35        Outlet  "
      ]
     },
     "execution_count": 11,
     "metadata": {},
     "output_type": "execute_result"
    }
   ],
   "source": [
    "data.head(10)"
   ]
  },
  {
   "cell_type": "code",
   "execution_count": 165,
   "id": "e0076cd9",
   "metadata": {
    "execution": {
     "iopub.execute_input": "2022-12-29T21:55:49.465100Z",
     "iopub.status.busy": "2022-12-29T21:55:49.464785Z",
     "iopub.status.idle": "2022-12-29T21:55:49.472782Z",
     "shell.execute_reply": "2022-12-29T21:55:49.471612Z"
    },
    "papermill": {
     "duration": 0.02045,
     "end_time": "2022-12-29T21:55:49.474931",
     "exception": false,
     "start_time": "2022-12-29T21:55:49.454481",
     "status": "completed"
    },
    "tags": []
   },
   "outputs": [],
   "source": [
    "# Remove the row with index 3, and reset the DataFrame index\n",
    "data.drop(labels=[3], axis=0, inplace=True)\n",
    "data.reset_index(drop=True, inplace=True)"
   ]
  },
  {
   "cell_type": "code",
   "execution_count": 261,
   "id": "d129e952",
   "metadata": {
    "execution": {
     "iopub.execute_input": "2022-12-29T21:55:49.494750Z",
     "iopub.status.busy": "2022-12-29T21:55:49.494412Z",
     "iopub.status.idle": "2022-12-29T21:55:49.524195Z",
     "shell.execute_reply": "2022-12-29T21:55:49.522228Z"
    },
    "papermill": {
     "duration": 0.042817,
     "end_time": "2022-12-29T21:55:49.526852",
     "exception": false,
     "start_time": "2022-12-29T21:55:49.484035",
     "status": "completed"
    },
    "tags": []
   },
   "outputs": [
    {
     "name": "stdout",
     "output_type": "stream",
     "text": [
      "0 duplicated records in 9648 total records.\n",
      " Resulting in 0.0% of duplicated records.\n"
     ]
    }
   ],
   "source": [
    "# Analyzing the duplicates\n",
    "print(f'{data.duplicated().sum()} duplicated records in {len(data)} total records.\\n',\n",
    "      f'Resulting in {data.duplicated().sum()/len(data)*100:.1f}% of duplicated records.')"
   ]
  },
  {
   "cell_type": "code",
   "execution_count": 118,
   "id": "19aef5c6",
   "metadata": {
    "execution": {
     "iopub.execute_input": "2022-12-29T21:55:49.546977Z",
     "iopub.status.busy": "2022-12-29T21:55:49.546639Z",
     "iopub.status.idle": "2022-12-29T21:55:49.556955Z",
     "shell.execute_reply": "2022-12-29T21:55:49.555559Z"
    },
    "papermill": {
     "duration": 0.022928,
     "end_time": "2022-12-29T21:55:49.559215",
     "exception": false,
     "start_time": "2022-12-29T21:55:49.536287",
     "status": "completed"
    },
    "tags": []
   },
   "outputs": [
    {
     "name": "stdout",
     "output_type": "stream",
     "text": [
      "False\n"
     ]
    }
   ],
   "source": [
    "# Is there any null values?\n",
    "print(data.isnull().values.any())"
   ]
  },
  {
   "cell_type": "code",
   "execution_count": 166,
   "id": "760212cb",
   "metadata": {
    "execution": {
     "iopub.execute_input": "2022-12-29T21:55:49.579676Z",
     "iopub.status.busy": "2022-12-29T21:55:49.579343Z",
     "iopub.status.idle": "2022-12-29T21:55:49.626031Z",
     "shell.execute_reply": "2022-12-29T21:55:49.624992Z"
    },
    "papermill": {
     "duration": 0.059459,
     "end_time": "2022-12-29T21:55:49.628416",
     "exception": false,
     "start_time": "2022-12-29T21:55:49.568957",
     "status": "completed"
    },
    "tags": []
   },
   "outputs": [],
   "source": [
    "# Convert the Invoice Date column to the date format\n",
    "data['date_time'] = pd.to_datetime(data['Invoice Date'], errors='coerce')\n",
    "\n",
    "data['year'] = data['date_time'].dt.year\n",
    "data['month_name'] = list(map(lambda x: calendar.month_name[x], data['date_time'].dt.month))\n",
    "data['month'] = data['date_time'].dt.month\n",
    "data['day'] = data['date_time'].dt.day\n",
    "\n",
    "data.drop(columns=['Invoice Date', 'date_time'], inplace=True)"
   ]
  },
  {
   "cell_type": "code",
   "execution_count": 167,
   "id": "76e51932",
   "metadata": {
    "execution": {
     "iopub.execute_input": "2022-12-29T21:55:49.689096Z",
     "iopub.status.busy": "2022-12-29T21:55:49.688722Z",
     "iopub.status.idle": "2022-12-29T21:55:49.703916Z",
     "shell.execute_reply": "2022-12-29T21:55:49.702629Z"
    },
    "papermill": {
     "duration": 0.028204,
     "end_time": "2022-12-29T21:55:49.706567",
     "exception": false,
     "start_time": "2022-12-29T21:55:49.678363",
     "status": "completed"
    },
    "tags": []
   },
   "outputs": [],
   "source": [
    "# Order the column from January to December\n",
    "data['month_name'] = pd.Categorical(data['month_name'], categories=['January', 'February', 'March', 'April', 'May', 'June', 'July',\n",
    "                                                                   'August', 'September', 'October', 'November', 'December'], ordered=True)\n",
    "\n",
    "data = data.sort_values(['year', 'month'], ignore_index=True)"
   ]
  },
  {
   "cell_type": "code",
   "execution_count": 168,
   "id": "06f3361c",
   "metadata": {
    "execution": {
     "iopub.execute_input": "2022-12-29T21:55:49.727287Z",
     "iopub.status.busy": "2022-12-29T21:55:49.726384Z",
     "iopub.status.idle": "2022-12-29T21:55:49.752794Z",
     "shell.execute_reply": "2022-12-29T21:55:49.751556Z"
    },
    "papermill": {
     "duration": 0.03916,
     "end_time": "2022-12-29T21:55:49.755147",
     "exception": false,
     "start_time": "2022-12-29T21:55:49.715987",
     "status": "completed"
    },
    "tags": []
   },
   "outputs": [],
   "source": [
    "# Use the astype function to cast the object to float or int\n",
    "data[['Price per Unit', 'Total Sales', \n",
    "    'Operating Profit', 'Operating Margin']] = data[['Price per Unit', 'Total Sales',\n",
    "                                                    'Operating Profit', 'Operating Margin']].astype(str).astype(float)\n",
    "data[['Units Sold']] = data[['Units Sold']].astype(str).astype(int)"
   ]
  },
  {
   "cell_type": "code",
   "execution_count": 169,
   "id": "b019621e",
   "metadata": {
    "execution": {
     "iopub.execute_input": "2022-12-29T21:55:49.775485Z",
     "iopub.status.busy": "2022-12-29T21:55:49.775110Z",
     "iopub.status.idle": "2022-12-29T21:55:49.780291Z",
     "shell.execute_reply": "2022-12-29T21:55:49.779319Z"
    },
    "papermill": {
     "duration": 0.01839,
     "end_time": "2022-12-29T21:55:49.782752",
     "exception": false,
     "start_time": "2022-12-29T21:55:49.764362",
     "status": "completed"
    },
    "tags": []
   },
   "outputs": [],
   "source": [
    "data.rename(columns={'Retailer ID': 'Retailer_ID', 'Price per Unit': 'Price_per_Unit', 'Units Sold': 'Units_Sold',\n",
    "                    'Total Sales': 'Total_Sales', 'Operating Profit': 'Operating_Profit', 'Operating Margin': 'Operating_Margin',\n",
    "                    'Sales Method': 'Sales_Method'}, inplace=True)"
   ]
  },
  {
   "cell_type": "code",
   "execution_count": 170,
   "id": "4dd158b0",
   "metadata": {
    "execution": {
     "iopub.execute_input": "2022-12-29T21:55:49.803267Z",
     "iopub.status.busy": "2022-12-29T21:55:49.802710Z",
     "iopub.status.idle": "2022-12-29T21:55:49.812543Z",
     "shell.execute_reply": "2022-12-29T21:55:49.811465Z"
    },
    "papermill": {
     "duration": 0.022298,
     "end_time": "2022-12-29T21:55:49.814521",
     "exception": false,
     "start_time": "2022-12-29T21:55:49.792223",
     "status": "completed"
    },
    "tags": []
   },
   "outputs": [],
   "source": [
    "us_state_abb = {'Alabama': 'AL', 'Alaska': 'AK', 'Arizona': 'AZ', 'Arkansas': 'AR', 'California': 'CA', 'Colorado': 'CO', 'Connecticut': 'CT',\n",
    "                      'Delaware': 'DE', 'Florida': 'FL', 'Georgia': 'GA', 'Hawaii': 'HI', 'Idaho': 'ID', 'Illinois': 'IL', 'Indiana': 'IN', 'Iowa': 'IA',\n",
    "                      'Kansas': 'KS', 'Kentucky': 'KY', 'Louisiana': 'LA', 'Maine': 'ME', 'Maryland': 'MD', 'Massachusetts': 'MA', 'Michigan': 'MI',\n",
    "                      'Minnesota': 'MN', 'Mississippi': 'MS', 'Missouri': 'MO', 'Montana': 'MT', 'Nebraska': 'NE', 'Nevada': 'NV', 'New Hampshire': 'NH',\n",
    "                      'New Jersey': 'NJ', 'New Mexico': 'NM', 'New York': 'NY', 'North Carolina': 'NC', 'North Dakota': 'ND', 'Ohio': 'OH', 'Oklahoma': 'OK',\n",
    "                      'Oregon': 'OR', 'Pennsylvania': 'PA', 'Rhode Island': 'RI', 'South Carolina': 'SC', 'South Dakota': 'SD', 'Tennessee': 'TN', 'Texas': 'TX',\n",
    "                      'Utah': 'UT', 'Vermont': 'VT', 'Virginia': 'VA', 'Washington': 'WA', 'West Virginia': 'WV', 'Wisconsin': 'WI', 'Wyoming': 'WY',\n",
    "                      'District of Columbia': 'DC', 'American Samoa': 'AS', 'Guam': 'GU', 'Northern Mariana Islands': 'MP', 'Puerto Rico': 'PR',\n",
    "                      'United States Minor Outlying Islands': 'UM', 'U.S. Virgin Islands': 'VI'}\n",
    "data['State_Abb']=data['State'].map(us_state_abb)"
   ]
  },
  {
   "cell_type": "code",
   "execution_count": 138,
   "id": "d9f7af56",
   "metadata": {
    "execution": {
     "iopub.execute_input": "2022-12-29T21:55:49.834264Z",
     "iopub.status.busy": "2022-12-29T21:55:49.833921Z",
     "iopub.status.idle": "2022-12-29T21:55:49.851616Z",
     "shell.execute_reply": "2022-12-29T21:55:49.850173Z"
    },
    "papermill": {
     "duration": 0.030255,
     "end_time": "2022-12-29T21:55:49.853913",
     "exception": false,
     "start_time": "2022-12-29T21:55:49.823658",
     "status": "completed"
    },
    "tags": []
   },
   "outputs": [
    {
     "name": "stdout",
     "output_type": "stream",
     "text": [
      "<class 'pandas.core.frame.DataFrame'>\n",
      "RangeIndex: 9648 entries, 0 to 9647\n",
      "Data columns (total 17 columns):\n",
      " #   Column            Non-Null Count  Dtype   \n",
      "---  ------            --------------  -----   \n",
      " 0   Retailer          9648 non-null   object  \n",
      " 1   Retailer_ID       9648 non-null   object  \n",
      " 2   Region            9648 non-null   object  \n",
      " 3   State             9648 non-null   object  \n",
      " 4   City              9648 non-null   object  \n",
      " 5   Product           9648 non-null   object  \n",
      " 6   Price_per_Unit    9648 non-null   float64 \n",
      " 7   Units_Sold        9648 non-null   int32   \n",
      " 8   Total_Sales       9648 non-null   float64 \n",
      " 9   Operating_Profit  9648 non-null   float64 \n",
      " 10  Operating_Margin  9648 non-null   float64 \n",
      " 11  Sales_Method      9648 non-null   object  \n",
      " 12  year              9648 non-null   int64   \n",
      " 13  month_name        9648 non-null   category\n",
      " 14  month             9648 non-null   int64   \n",
      " 15  day               9648 non-null   int64   \n",
      " 16  State_Abb         9648 non-null   object  \n",
      "dtypes: category(1), float64(4), int32(1), int64(3), object(8)\n",
      "memory usage: 1.2+ MB\n"
     ]
    }
   ],
   "source": [
    "data.info()"
   ]
  },
  {
   "attachments": {},
   "cell_type": "markdown",
   "id": "d1a2c861",
   "metadata": {
    "papermill": {
     "duration": 0.008715,
     "end_time": "2022-12-29T21:55:49.871976",
     "exception": false,
     "start_time": "2022-12-29T21:55:49.863261",
     "status": "completed"
    },
    "tags": []
   },
   "source": [
    "Finally, after cleaning and pre-processing the initial DataFrame by removing columns and rows with NaN values,\n",
    "we can see the column's names and dtype correctly assigned.\n",
    "From the information contained in the Invoice Data column, we added four new columns: year, month_name, month and day."
   ]
  },
  {
   "cell_type": "code",
   "execution_count": 139,
   "id": "d14f0845",
   "metadata": {
    "execution": {
     "iopub.execute_input": "2022-12-29T21:55:49.892591Z",
     "iopub.status.busy": "2022-12-29T21:55:49.892246Z",
     "iopub.status.idle": "2022-12-29T21:55:49.914819Z",
     "shell.execute_reply": "2022-12-29T21:55:49.913649Z"
    },
    "papermill": {
     "duration": 0.036247,
     "end_time": "2022-12-29T21:55:49.917305",
     "exception": false,
     "start_time": "2022-12-29T21:55:49.881058",
     "status": "completed"
    },
    "tags": []
   },
   "outputs": [
    {
     "data": {
      "text/html": [
       "<div>\n",
       "<style scoped>\n",
       "    .dataframe tbody tr th:only-of-type {\n",
       "        vertical-align: middle;\n",
       "    }\n",
       "\n",
       "    .dataframe tbody tr th {\n",
       "        vertical-align: top;\n",
       "    }\n",
       "\n",
       "    .dataframe thead th {\n",
       "        text-align: right;\n",
       "    }\n",
       "</style>\n",
       "<table border=\"1\" class=\"dataframe\">\n",
       "  <thead>\n",
       "    <tr style=\"text-align: right;\">\n",
       "      <th>3</th>\n",
       "      <th>Retailer</th>\n",
       "      <th>Retailer_ID</th>\n",
       "      <th>Region</th>\n",
       "      <th>State</th>\n",
       "      <th>City</th>\n",
       "      <th>Product</th>\n",
       "      <th>Price_per_Unit</th>\n",
       "      <th>Units_Sold</th>\n",
       "      <th>Total_Sales</th>\n",
       "      <th>Operating_Profit</th>\n",
       "      <th>Operating_Margin</th>\n",
       "      <th>Sales_Method</th>\n",
       "      <th>year</th>\n",
       "      <th>month_name</th>\n",
       "      <th>month</th>\n",
       "      <th>day</th>\n",
       "      <th>State_Abb</th>\n",
       "    </tr>\n",
       "  </thead>\n",
       "  <tbody>\n",
       "    <tr>\n",
       "      <th>0</th>\n",
       "      <td>Foot Locker</td>\n",
       "      <td>1185732</td>\n",
       "      <td>Northeast</td>\n",
       "      <td>New York</td>\n",
       "      <td>New York</td>\n",
       "      <td>Men's Street Footwear</td>\n",
       "      <td>50.0</td>\n",
       "      <td>1200</td>\n",
       "      <td>600000.0</td>\n",
       "      <td>300000.0</td>\n",
       "      <td>0.50</td>\n",
       "      <td>In-store</td>\n",
       "      <td>2020</td>\n",
       "      <td>January</td>\n",
       "      <td>1</td>\n",
       "      <td>1</td>\n",
       "      <td>NY</td>\n",
       "    </tr>\n",
       "    <tr>\n",
       "      <th>1</th>\n",
       "      <td>Foot Locker</td>\n",
       "      <td>1185732</td>\n",
       "      <td>Northeast</td>\n",
       "      <td>New York</td>\n",
       "      <td>New York</td>\n",
       "      <td>Men's Athletic Footwear</td>\n",
       "      <td>50.0</td>\n",
       "      <td>1000</td>\n",
       "      <td>500000.0</td>\n",
       "      <td>150000.0</td>\n",
       "      <td>0.30</td>\n",
       "      <td>In-store</td>\n",
       "      <td>2020</td>\n",
       "      <td>January</td>\n",
       "      <td>1</td>\n",
       "      <td>2</td>\n",
       "      <td>NY</td>\n",
       "    </tr>\n",
       "    <tr>\n",
       "      <th>2</th>\n",
       "      <td>Foot Locker</td>\n",
       "      <td>1185732</td>\n",
       "      <td>Northeast</td>\n",
       "      <td>New York</td>\n",
       "      <td>New York</td>\n",
       "      <td>Women's Street Footwear</td>\n",
       "      <td>40.0</td>\n",
       "      <td>1000</td>\n",
       "      <td>400000.0</td>\n",
       "      <td>140000.0</td>\n",
       "      <td>0.35</td>\n",
       "      <td>In-store</td>\n",
       "      <td>2020</td>\n",
       "      <td>January</td>\n",
       "      <td>1</td>\n",
       "      <td>3</td>\n",
       "      <td>NY</td>\n",
       "    </tr>\n",
       "    <tr>\n",
       "      <th>3</th>\n",
       "      <td>Foot Locker</td>\n",
       "      <td>1185732</td>\n",
       "      <td>Northeast</td>\n",
       "      <td>New York</td>\n",
       "      <td>New York</td>\n",
       "      <td>Women's Athletic Footwear</td>\n",
       "      <td>45.0</td>\n",
       "      <td>850</td>\n",
       "      <td>382500.0</td>\n",
       "      <td>133875.0</td>\n",
       "      <td>0.35</td>\n",
       "      <td>In-store</td>\n",
       "      <td>2020</td>\n",
       "      <td>January</td>\n",
       "      <td>1</td>\n",
       "      <td>4</td>\n",
       "      <td>NY</td>\n",
       "    </tr>\n",
       "    <tr>\n",
       "      <th>4</th>\n",
       "      <td>Foot Locker</td>\n",
       "      <td>1185732</td>\n",
       "      <td>Northeast</td>\n",
       "      <td>New York</td>\n",
       "      <td>New York</td>\n",
       "      <td>Men's Apparel</td>\n",
       "      <td>60.0</td>\n",
       "      <td>900</td>\n",
       "      <td>540000.0</td>\n",
       "      <td>162000.0</td>\n",
       "      <td>0.30</td>\n",
       "      <td>In-store</td>\n",
       "      <td>2020</td>\n",
       "      <td>January</td>\n",
       "      <td>1</td>\n",
       "      <td>5</td>\n",
       "      <td>NY</td>\n",
       "    </tr>\n",
       "  </tbody>\n",
       "</table>\n",
       "</div>"
      ],
      "text/plain": [
       "3     Retailer Retailer_ID     Region     State      City  \\\n",
       "0  Foot Locker     1185732  Northeast  New York  New York   \n",
       "1  Foot Locker     1185732  Northeast  New York  New York   \n",
       "2  Foot Locker     1185732  Northeast  New York  New York   \n",
       "3  Foot Locker     1185732  Northeast  New York  New York   \n",
       "4  Foot Locker     1185732  Northeast  New York  New York   \n",
       "\n",
       "3                    Product  Price_per_Unit  Units_Sold  Total_Sales  \\\n",
       "0      Men's Street Footwear            50.0        1200     600000.0   \n",
       "1    Men's Athletic Footwear            50.0        1000     500000.0   \n",
       "2    Women's Street Footwear            40.0        1000     400000.0   \n",
       "3  Women's Athletic Footwear            45.0         850     382500.0   \n",
       "4              Men's Apparel            60.0         900     540000.0   \n",
       "\n",
       "3  Operating_Profit  Operating_Margin Sales_Method  year month_name  month  \\\n",
       "0          300000.0              0.50     In-store  2020    January      1   \n",
       "1          150000.0              0.30     In-store  2020    January      1   \n",
       "2          140000.0              0.35     In-store  2020    January      1   \n",
       "3          133875.0              0.35     In-store  2020    January      1   \n",
       "4          162000.0              0.30     In-store  2020    January      1   \n",
       "\n",
       "3  day State_Abb  \n",
       "0    1        NY  \n",
       "1    2        NY  \n",
       "2    3        NY  \n",
       "3    4        NY  \n",
       "4    5        NY  "
      ]
     },
     "execution_count": 139,
     "metadata": {},
     "output_type": "execute_result"
    }
   ],
   "source": [
    "data.head(5)"
   ]
  },
  {
   "cell_type": "markdown",
   "id": "4defc109",
   "metadata": {
    "papermill": {
     "duration": 0.009461,
     "end_time": "2022-12-29T21:55:49.936755",
     "exception": false,
     "start_time": "2022-12-29T21:55:49.927294",
     "status": "completed"
    },
    "tags": []
   },
   "source": [
    "# 🔎4. Data Analysis"
   ]
  },
  {
   "cell_type": "code",
   "execution_count": 155,
   "id": "60713466",
   "metadata": {
    "execution": {
     "iopub.execute_input": "2022-12-29T21:55:49.959001Z",
     "iopub.status.busy": "2022-12-29T21:55:49.958631Z",
     "iopub.status.idle": "2022-12-29T21:55:49.964868Z",
     "shell.execute_reply": "2022-12-29T21:55:49.963995Z"
    },
    "papermill": {
     "duration": 0.019912,
     "end_time": "2022-12-29T21:55:49.966669",
     "exception": false,
     "start_time": "2022-12-29T21:55:49.946757",
     "status": "completed"
    },
    "tags": []
   },
   "outputs": [],
   "source": [
    "# A color scheme based on the Viridis Color Palette\n",
    "colors = ['#3f4788', '#365c8d', '#277f8e', '#1fa187', '#4ac16d', '#a0da39']\n",
    "\n",
    "def pieplot(df, feature):\n",
    "    \n",
    "    # Group the total sales according to the feature name\n",
    "    df = df[[feature, 'Total_Sales']].groupby(feature, as_index=False).sum()\n",
    "    \n",
    "    # Create a pie plot\n",
    "    fig, ax = plt.subplots(figsize=(7, 4))\n",
    "    ax.pie(df['Total_Sales'], labels=df[feature], autopct='%1.1f%%', colors=colors,\n",
    "            wedgeprops = {'linewidth':0.5, 'edgecolor':'white'}, shadow=True, startangle=90)\n",
    "    ax.set_title(f'Total Sales by {feature}')\n",
    "    ax.legend(df[feature],\n",
    "          title=feature,\n",
    "          loc='center left',\n",
    "          bbox_to_anchor=(1.1, 0.35, 0, 1))\n",
    "\n",
    "    print(df)\n",
    "    print(f'\\n{df.describe()}')\n",
    "\n",
    "    #Show the plot\n",
    "    plt.show()"
   ]
  },
  {
   "attachments": {},
   "cell_type": "markdown",
   "id": "9703439e",
   "metadata": {
    "papermill": {
     "duration": 0.009287,
     "end_time": "2022-12-29T21:55:49.985580",
     "exception": false,
     "start_time": "2022-12-29T21:55:49.976293",
     "status": "completed"
    },
    "tags": []
   },
   "source": [
    "#    📍 4.1. Market Share of Retailers"
   ]
  },
  {
   "cell_type": "code",
   "execution_count": 156,
   "id": "7b188915",
   "metadata": {
    "execution": {
     "iopub.execute_input": "2022-12-29T21:55:50.006089Z",
     "iopub.status.busy": "2022-12-29T21:55:50.005731Z",
     "iopub.status.idle": "2022-12-29T21:55:50.184781Z",
     "shell.execute_reply": "2022-12-29T21:55:50.183425Z"
    },
    "papermill": {
     "duration": 0.192342,
     "end_time": "2022-12-29T21:55:50.187477",
     "exception": false,
     "start_time": "2022-12-29T21:55:49.995135",
     "status": "completed"
    },
    "tags": []
   },
   "outputs": [
    {
     "name": "stdout",
     "output_type": "stream",
     "text": [
      "3       Retailer  Total_Sales\n",
      "0         Amazon   77698912.0\n",
      "1    Foot Locker  220094720.0\n",
      "2         Kohl's  102114753.0\n",
      "3  Sports Direct  182470997.0\n",
      "4        Walmart   74558410.0\n",
      "5      West Gear  242964333.0\n",
      "\n",
      "3       Total_Sales\n",
      "count  6.000000e+00\n",
      "mean   1.499837e+08\n",
      "std    7.459474e+07\n",
      "min    7.455841e+07\n",
      "25%    8.380287e+07\n",
      "50%    1.422929e+08\n",
      "75%    2.106888e+08\n",
      "max    2.429643e+08\n"
     ]
    },
    {
     "data": {
      "image/png": "[encoded data removed]",
      "text/plain": [
       "<Figure size 700x400 with 1 Axes>"
      ]
     },
     "metadata": {},
     "output_type": "display_data"
    }
   ],
   "source": [
    "pieplot(data, 'Retailer')"
   ]
  },
  {
   "attachments": {},
   "cell_type": "markdown",
   "id": "419b5f09",
   "metadata": {
    "papermill": {
     "duration": 0.013175,
     "end_time": "2022-12-29T21:55:50.214855",
     "exception": false,
     "start_time": "2022-12-29T21:55:50.201680",
     "status": "completed"
    },
    "tags": []
   },
   "source": [
    "Our dataset contains sales information for six retailers, averaging a sales amount of 150M for each. About 50% of total sales are concentrated in two of them, in the first place, West Gear with 27.0% with 242M, followed by Foot Locker with 24.5% with 220M."
   ]
  },
  {
   "attachments": {},
   "cell_type": "markdown",
   "id": "badffb3e",
   "metadata": {
    "papermill": {
     "duration": 0.012831,
     "end_time": "2022-12-29T21:55:50.241140",
     "exception": false,
     "start_time": "2022-12-29T21:55:50.228309",
     "status": "completed"
    },
    "tags": []
   },
   "source": [
    "# 📍 4.2. Total Sales per Product"
   ]
  },
  {
   "cell_type": "code",
   "execution_count": 96,
   "id": "6a26e765",
   "metadata": {
    "execution": {
     "iopub.execute_input": "2022-12-29T21:55:50.264431Z",
     "iopub.status.busy": "2022-12-29T21:55:50.264031Z",
     "iopub.status.idle": "2022-12-29T21:55:50.407981Z",
     "shell.execute_reply": "2022-12-29T21:55:50.407220Z"
    },
    "papermill": {
     "duration": 0.157437,
     "end_time": "2022-12-29T21:55:50.409943",
     "exception": false,
     "start_time": "2022-12-29T21:55:50.252506",
     "status": "completed"
    },
    "tags": []
   },
   "outputs": [
    {
     "name": "stdout",
     "output_type": "stream",
     "text": [
      "3                    Product  Total_Sales\n",
      "0              Men's Apparel  123728632.0\n",
      "1    Men's Athletic Footwear  153673680.0\n",
      "2      Men's Street Footwear  208826244.0\n",
      "3            Women's Apparel  179038860.0\n",
      "4  Women's Athletic Footwear  106631896.0\n",
      "5    Women's Street Footwear  128002813.0\n",
      "\n",
      "3       Total_Sales\n",
      "count  6.000000e+00\n",
      "mean   1.499837e+08\n",
      "std    3.839826e+07\n",
      "min    1.066319e+08\n",
      "25%    1.247972e+08\n",
      "50%    1.408382e+08\n",
      "75%    1.726976e+08\n",
      "max    2.088262e+08\n"
     ]
    },
    {
     "data": {
      "image/png": "[encoded data removed]",
      "text/plain": [
       "<Figure size 700x400 with 1 Axes>"
      ]
     },
     "metadata": {},
     "output_type": "display_data"
    }
   ],
   "source": [
    "pieplot(data, 'Product')"
   ]
  },
  {
   "attachments": {},
   "cell_type": "markdown",
   "id": "ed11b172",
   "metadata": {
    "papermill": {
     "duration": 0.0144,
     "end_time": "2022-12-29T21:55:50.438488",
     "exception": false,
     "start_time": "2022-12-29T21:55:50.424088",
     "status": "completed"
    },
    "tags": []
   },
   "source": [
    "Men's Street Footwear has the highest total sales amount."
   ]
  },
  {
   "cell_type": "code",
   "execution_count": 259,
   "id": "80ca2eef",
   "metadata": {},
   "outputs": [
    {
     "data": {
      "application/vnd.plotly.v1+json": {
       "config": {
        "plotlyServerURL": "https://plot.ly"
       },
       "data": [
        {
         "alignmentgroup": "True",
         "bingroup": "x",
         "histfunc": "sum",
         "hovertemplate": "Product=Men's Street Footwear<br>Retailer=%{x}<br>sum of Total_Sales=%{y}<extra></extra>",
         "legendgroup": "Men's Street Footwear",
         "marker": {
          "color": "#1F77B4",
          "pattern": {
           "shape": ""
          }
         },
         "name": "Men's Street Footwear",
         "offsetgroup": "Men's Street Footwear",
         "orientation": "v",
         "showlegend": true,
         "type": "histogram",
         "x": [
          "Foot Locker",
          "West Gear",
          "Sports Direct",
          "Kohl's",
          "Amazon",
          "Walmart"
         ],
         "xaxis": "x",
         "y": [
          57481575,
          53165419,
          38672270,
          22421073,
          22161652,
          14924255
         ],
         "yaxis": "y"
        },
        {
         "alignmentgroup": "True",
         "bingroup": "x",
         "histfunc": "sum",
         "hovertemplate": "Product=Women's Apparel<br>Retailer=%{x}<br>sum of Total_Sales=%{y}<extra></extra>",
         "legendgroup": "Women's Apparel",
         "marker": {
          "color": "#FF7F0E",
          "pattern": {
           "shape": ""
          }
         },
         "name": "Women's Apparel",
         "offsetgroup": "Women's Apparel",
         "orientation": "v",
         "showlegend": true,
         "type": "histogram",
         "x": [
          "West Gear",
          "Foot Locker",
          "Sports Direct",
          "Kohl's",
          "Amazon",
          "Walmart"
         ],
         "xaxis": "x",
         "y": [
          47287512,
          43296114,
          37113257,
          20315239,
          15710639,
          15316099
         ],
         "yaxis": "y"
        },
        {
         "alignmentgroup": "True",
         "bingroup": "x",
         "histfunc": "sum",
         "hovertemplate": "Product=Men's Athletic Footwear<br>Retailer=%{x}<br>sum of Total_Sales=%{y}<extra></extra>",
         "legendgroup": "Men's Athletic Footwear",
         "marker": {
          "color": "#2CA02C",
          "pattern": {
           "shape": ""
          }
         },
         "name": "Men's Athletic Footwear",
         "offsetgroup": "Men's Athletic Footwear",
         "orientation": "v",
         "showlegend": true,
         "type": "histogram",
         "x": [
          "West Gear",
          "Foot Locker",
          "Sports Direct",
          "Kohl's",
          "Walmart",
          "Amazon"
         ],
         "xaxis": "x",
         "y": [
          42805852.00000001,
          36480415.00000001,
          30889734.000000004,
          17885316,
          13600404.000000002,
          12011959.000000002
         ],
         "yaxis": "y"
        },
        {
         "alignmentgroup": "True",
         "bingroup": "x",
         "histfunc": "sum",
         "hovertemplate": "Product=Women's Street Footwear<br>Retailer=%{x}<br>sum of Total_Sales=%{y}<extra></extra>",
         "legendgroup": "Women's Street Footwear",
         "marker": {
          "color": "#D62728",
          "pattern": {
           "shape": ""
          }
         },
         "name": "Women's Street Footwear",
         "offsetgroup": "Women's Street Footwear",
         "orientation": "v",
         "showlegend": true,
         "type": "histogram",
         "x": [
          "West Gear",
          "Foot Locker",
          "Sports Direct",
          "Kohl's",
          "Walmart",
          "Amazon"
         ],
         "xaxis": "x",
         "y": [
          36386546,
          29087997,
          27825162,
          14834291.000000002,
          10464180,
          9404637.000000002
         ],
         "yaxis": "y"
        },
        {
         "alignmentgroup": "True",
         "bingroup": "x",
         "histfunc": "sum",
         "hovertemplate": "Product=Men's Apparel<br>Retailer=%{x}<br>sum of Total_Sales=%{y}<extra></extra>",
         "legendgroup": "Men's Apparel",
         "marker": {
          "color": "#9467BD",
          "pattern": {
           "shape": ""
          }
         },
         "name": "Men's Apparel",
         "offsetgroup": "Men's Apparel",
         "orientation": "v",
         "showlegend": true,
         "type": "histogram",
         "x": [
          "West Gear",
          "Foot Locker",
          "Sports Direct",
          "Kohl's",
          "Walmart",
          "Amazon"
         ],
         "xaxis": "x",
         "y": [
          33263936,
          29508995,
          24825286,
          14164965,
          11490680,
          10474770
         ],
         "yaxis": "y"
        },
        {
         "alignmentgroup": "True",
         "bingroup": "x",
         "histfunc": "sum",
         "hovertemplate": "Product=Women's Athletic Footwear<br>Retailer=%{x}<br>sum of Total_Sales=%{y}<extra></extra>",
         "legendgroup": "Women's Athletic Footwear",
         "marker": {
          "color": "#8C564B",
          "pattern": {
           "shape": ""
          }
         },
         "name": "Women's Athletic Footwear",
         "offsetgroup": "Women's Athletic Footwear",
         "orientation": "v",
         "showlegend": true,
         "type": "histogram",
         "x": [
          "West Gear",
          "Foot Locker",
          "Sports Direct",
          "Kohl's",
          "Walmart",
          "Amazon"
         ],
         "xaxis": "x",
         "y": [
          30055068.000000004,
          24239624,
          23145288,
          12493869,
          8762792,
          7935255.000000001
         ],
         "yaxis": "y"
        }
       ],
       "layout": {
        "annotations": [
         {
          "showarrow": false,
          "text": "Below Mean!",
          "x": 4,
          "y": 130000000
         }
        ],
        "barmode": "relative",
        "height": 400,
        "legend": {
         "title": {
          "text": "Product"
         },
         "tracegroupgap": 0
        },
        "shapes": [
         {
          "line": {
           "color": "#440154",
           "dash": "dot",
           "width": 3
          },
          "opacity": 1,
          "type": "line",
          "x0": 0,
          "x1": 1,
          "xref": "paper",
          "y0": 150000000,
          "y1": 150000000,
          "yref": "y"
         }
        ],
        "template": {
         "data": {
          "bar": [
           {
            "error_x": {
             "color": "rgb(36,36,36)"
            },
            "error_y": {
             "color": "rgb(36,36,36)"
            },
            "marker": {
             "line": {
              "color": "white",
              "width": 0.5
             },
             "pattern": {
              "fillmode": "overlay",
              "size": 10,
              "solidity": 0.2
             }
            },
            "type": "bar"
           }
          ],
          "barpolar": [
           {
            "marker": {
             "line": {
              "color": "white",
              "width": 0.5
             },
             "pattern": {
              "fillmode": "overlay",
              "size": 10,
              "solidity": 0.2
             }
            },
            "type": "barpolar"
           }
          ],
          "carpet": [
           {
            "aaxis": {
             "endlinecolor": "rgb(36,36,36)",
             "gridcolor": "white",
             "linecolor": "white",
             "minorgridcolor": "white",
             "startlinecolor": "rgb(36,36,36)"
            },
            "baxis": {
             "endlinecolor": "rgb(36,36,36)",
             "gridcolor": "white",
             "linecolor": "white",
             "minorgridcolor": "white",
             "startlinecolor": "rgb(36,36,36)"
            },
            "type": "carpet"
           }
          ],
          "choropleth": [
           {
            "colorbar": {
             "outlinewidth": 1,
             "tickcolor": "rgb(36,36,36)",
             "ticks": "outside"
            },
            "type": "choropleth"
           }
          ],
          "contour": [
           {
            "colorbar": {
             "outlinewidth": 1,
             "tickcolor": "rgb(36,36,36)",
             "ticks": "outside"
            },
            "colorscale": [
             [
              0,
              "#440154"
             ],
             [
              0.1111111111111111,
              "#482878"
             ],
             [
              0.2222222222222222,
              "#3e4989"
             ],
             [
              0.3333333333333333,
              "#31688e"
             ],
             [
              0.4444444444444444,
              "#26828e"
             ],
             [
              0.5555555555555556,
              "#1f9e89"
             ],
             [
              0.6666666666666666,
              "#35b779"
             ],
             [
              0.7777777777777778,
              "#6ece58"
             ],
             [
              0.8888888888888888,
              "#b5de2b"
             ],
             [
              1,
              "#fde725"
             ]
            ],
            "type": "contour"
           }
          ],
          "contourcarpet": [
           {
            "colorbar": {
             "outlinewidth": 1,
             "tickcolor": "rgb(36,36,36)",
             "ticks": "outside"
            },
            "type": "contourcarpet"
           }
          ],
          "heatmap": [
           {
            "colorbar": {
             "outlinewidth": 1,
             "tickcolor": "rgb(36,36,36)",
             "ticks": "outside"
            },
            "colorscale": [
             [
              0,
              "#440154"
             ],
             [
              0.1111111111111111,
              "#482878"
             ],
             [
              0.2222222222222222,
              "#3e4989"
             ],
             [
              0.3333333333333333,
              "#31688e"
             ],
             [
              0.4444444444444444,
              "#26828e"
             ],
             [
              0.5555555555555556,
              "#1f9e89"
             ],
             [
              0.6666666666666666,
              "#35b779"
             ],
             [
              0.7777777777777778,
              "#6ece58"
             ],
             [
              0.8888888888888888,
              "#b5de2b"
             ],
             [
              1,
              "#fde725"
             ]
            ],
            "type": "heatmap"
           }
          ],
          "heatmapgl": [
           {
            "colorbar": {
             "outlinewidth": 1,
             "tickcolor": "rgb(36,36,36)",
             "ticks": "outside"
            },
            "colorscale": [
             [
              0,
              "#440154"
             ],
             [
              0.1111111111111111,
              "#482878"
             ],
             [
              0.2222222222222222,
              "#3e4989"
             ],
             [
              0.3333333333333333,
              "#31688e"
             ],
             [
              0.4444444444444444,
              "#26828e"
             ],
             [
              0.5555555555555556,
              "#1f9e89"
             ],
             [
              0.6666666666666666,
              "#35b779"
             ],
             [
              0.7777777777777778,
              "#6ece58"
             ],
             [
              0.8888888888888888,
              "#b5de2b"
             ],
             [
              1,
              "#fde725"
             ]
            ],
            "type": "heatmapgl"
           }
          ],
          "histogram": [
           {
            "marker": {
             "line": {
              "color": "white",
              "width": 0.6
             }
            },
            "type": "histogram"
           }
          ],
          "histogram2d": [
           {
            "colorbar": {
             "outlinewidth": 1,
             "tickcolor": "rgb(36,36,36)",
             "ticks": "outside"
            },
            "colorscale": [
             [
              0,
              "#440154"
             ],
             [
              0.1111111111111111,
              "#482878"
             ],
             [
              0.2222222222222222,
              "#3e4989"
             ],
             [
              0.3333333333333333,
              "#31688e"
             ],
             [
              0.4444444444444444,
              "#26828e"
             ],
             [
              0.5555555555555556,
              "#1f9e89"
             ],
             [
              0.6666666666666666,
              "#35b779"
             ],
             [
              0.7777777777777778,
              "#6ece58"
             ],
             [
              0.8888888888888888,
              "#b5de2b"
             ],
             [
              1,
              "#fde725"
             ]
            ],
            "type": "histogram2d"
           }
          ],
          "histogram2dcontour": [
           {
            "colorbar": {
             "outlinewidth": 1,
             "tickcolor": "rgb(36,36,36)",
             "ticks": "outside"
            },
            "colorscale": [
             [
              0,
              "#440154"
             ],
             [
              0.1111111111111111,
              "#482878"
             ],
             [
              0.2222222222222222,
              "#3e4989"
             ],
             [
              0.3333333333333333,
              "#31688e"
             ],
             [
              0.4444444444444444,
              "#26828e"
             ],
             [
              0.5555555555555556,
              "#1f9e89"
             ],
             [
              0.6666666666666666,
              "#35b779"
             ],
             [
              0.7777777777777778,
              "#6ece58"
             ],
             [
              0.8888888888888888,
              "#b5de2b"
             ],
             [
              1,
              "#fde725"
             ]
            ],
            "type": "histogram2dcontour"
           }
          ],
          "mesh3d": [
           {
            "colorbar": {
             "outlinewidth": 1,
             "tickcolor": "rgb(36,36,36)",
             "ticks": "outside"
            },
            "type": "mesh3d"
           }
          ],
          "parcoords": [
           {
            "line": {
             "colorbar": {
              "outlinewidth": 1,
              "tickcolor": "rgb(36,36,36)",
              "ticks": "outside"
             }
            },
            "type": "parcoords"
           }
          ],
          "pie": [
           {
            "automargin": true,
            "type": "pie"
           }
          ],
          "scatter": [
           {
            "fillpattern": {
             "fillmode": "overlay",
             "size": 10,
             "solidity": 0.2
            },
            "type": "scatter"
           }
          ],
          "scatter3d": [
           {
            "line": {
             "colorbar": {
              "outlinewidth": 1,
              "tickcolor": "rgb(36,36,36)",
              "ticks": "outside"
             }
            },
            "marker": {
             "colorbar": {
              "outlinewidth": 1,
              "tickcolor": "rgb(36,36,36)",
              "ticks": "outside"
             }
            },
            "type": "scatter3d"
           }
          ],
          "scattercarpet": [
           {
            "marker": {
             "colorbar": {
              "outlinewidth": 1,
              "tickcolor": "rgb(36,36,36)",
              "ticks": "outside"
             }
            },
            "type": "scattercarpet"
           }
          ],
          "scattergeo": [
           {
            "marker": {
             "colorbar": {
              "outlinewidth": 1,
              "tickcolor": "rgb(36,36,36)",
              "ticks": "outside"
             }
            },
            "type": "scattergeo"
           }
          ],
          "scattergl": [
           {
            "marker": {
             "colorbar": {
              "outlinewidth": 1,
              "tickcolor": "rgb(36,36,36)",
              "ticks": "outside"
             }
            },
            "type": "scattergl"
           }
          ],
          "scattermapbox": [
           {
            "marker": {
             "colorbar": {
              "outlinewidth": 1,
              "tickcolor": "rgb(36,36,36)",
              "ticks": "outside"
             }
            },
            "type": "scattermapbox"
           }
          ],
          "scatterpolar": [
           {
            "marker": {
             "colorbar": {
              "outlinewidth": 1,
              "tickcolor": "rgb(36,36,36)",
              "ticks": "outside"
             }
            },
            "type": "scatterpolar"
           }
          ],
          "scatterpolargl": [
           {
            "marker": {
             "colorbar": {
              "outlinewidth": 1,
              "tickcolor": "rgb(36,36,36)",
              "ticks": "outside"
             }
            },
            "type": "scatterpolargl"
           }
          ],
          "scatterternary": [
           {
            "marker": {
             "colorbar": {
              "outlinewidth": 1,
              "tickcolor": "rgb(36,36,36)",
              "ticks": "outside"
             }
            },
            "type": "scatterternary"
           }
          ],
          "surface": [
           {
            "colorbar": {
             "outlinewidth": 1,
             "tickcolor": "rgb(36,36,36)",
             "ticks": "outside"
            },
            "colorscale": [
             [
              0,
              "#440154"
             ],
             [
              0.1111111111111111,
              "#482878"
             ],
             [
              0.2222222222222222,
              "#3e4989"
             ],
             [
              0.3333333333333333,
              "#31688e"
             ],
             [
              0.4444444444444444,
              "#26828e"
             ],
             [
              0.5555555555555556,
              "#1f9e89"
             ],
             [
              0.6666666666666666,
              "#35b779"
             ],
             [
              0.7777777777777778,
              "#6ece58"
             ],
             [
              0.8888888888888888,
              "#b5de2b"
             ],
             [
              1,
              "#fde725"
             ]
            ],
            "type": "surface"
           }
          ],
          "table": [
           {
            "cells": {
             "fill": {
              "color": "rgb(237,237,237)"
             },
             "line": {
              "color": "white"
             }
            },
            "header": {
             "fill": {
              "color": "rgb(217,217,217)"
             },
             "line": {
              "color": "white"
             }
            },
            "type": "table"
           }
          ]
         },
         "layout": {
          "annotationdefaults": {
           "arrowhead": 0,
           "arrowwidth": 1
          },
          "autotypenumbers": "strict",
          "coloraxis": {
           "colorbar": {
            "outlinewidth": 1,
            "tickcolor": "rgb(36,36,36)",
            "ticks": "outside"
           }
          },
          "colorscale": {
           "diverging": [
            [
             0,
             "rgb(103,0,31)"
            ],
            [
             0.1,
             "rgb(178,24,43)"
            ],
            [
             0.2,
             "rgb(214,96,77)"
            ],
            [
             0.3,
             "rgb(244,165,130)"
            ],
            [
             0.4,
             "rgb(253,219,199)"
            ],
            [
             0.5,
             "rgb(247,247,247)"
            ],
            [
             0.6,
             "rgb(209,229,240)"
            ],
            [
             0.7,
             "rgb(146,197,222)"
            ],
            [
             0.8,
             "rgb(67,147,195)"
            ],
            [
             0.9,
             "rgb(33,102,172)"
            ],
            [
             1,
             "rgb(5,48,97)"
            ]
           ],
           "sequential": [
            [
             0,
             "#440154"
            ],
            [
             0.1111111111111111,
             "#482878"
            ],
            [
             0.2222222222222222,
             "#3e4989"
            ],
            [
             0.3333333333333333,
             "#31688e"
            ],
            [
             0.4444444444444444,
             "#26828e"
            ],
            [
             0.5555555555555556,
             "#1f9e89"
            ],
            [
             0.6666666666666666,
             "#35b779"
            ],
            [
             0.7777777777777778,
             "#6ece58"
            ],
            [
             0.8888888888888888,
             "#b5de2b"
            ],
            [
             1,
             "#fde725"
            ]
           ],
           "sequentialminus": [
            [
             0,
             "#440154"
            ],
            [
             0.1111111111111111,
             "#482878"
            ],
            [
             0.2222222222222222,
             "#3e4989"
            ],
            [
             0.3333333333333333,
             "#31688e"
            ],
            [
             0.4444444444444444,
             "#26828e"
            ],
            [
             0.5555555555555556,
             "#1f9e89"
            ],
            [
             0.6666666666666666,
             "#35b779"
            ],
            [
             0.7777777777777778,
             "#6ece58"
            ],
            [
             0.8888888888888888,
             "#b5de2b"
            ],
            [
             1,
             "#fde725"
            ]
           ]
          },
          "colorway": [
           "#1F77B4",
           "#FF7F0E",
           "#2CA02C",
           "#D62728",
           "#9467BD",
           "#8C564B",
           "#E377C2",
           "#7F7F7F",
           "#BCBD22",
           "#17BECF"
          ],
          "font": {
           "color": "rgb(36,36,36)"
          },
          "geo": {
           "bgcolor": "white",
           "lakecolor": "white",
           "landcolor": "white",
           "showlakes": true,
           "showland": true,
           "subunitcolor": "white"
          },
          "hoverlabel": {
           "align": "left"
          },
          "hovermode": "closest",
          "mapbox": {
           "style": "light"
          },
          "paper_bgcolor": "white",
          "plot_bgcolor": "white",
          "polar": {
           "angularaxis": {
            "gridcolor": "rgb(232,232,232)",
            "linecolor": "rgb(36,36,36)",
            "showgrid": false,
            "showline": true,
            "ticks": "outside"
           },
           "bgcolor": "white",
           "radialaxis": {
            "gridcolor": "rgb(232,232,232)",
            "linecolor": "rgb(36,36,36)",
            "showgrid": false,
            "showline": true,
            "ticks": "outside"
           }
          },
          "scene": {
           "xaxis": {
            "backgroundcolor": "white",
            "gridcolor": "rgb(232,232,232)",
            "gridwidth": 2,
            "linecolor": "rgb(36,36,36)",
            "showbackground": true,
            "showgrid": false,
            "showline": true,
            "ticks": "outside",
            "zeroline": false,
            "zerolinecolor": "rgb(36,36,36)"
           },
           "yaxis": {
            "backgroundcolor": "white",
            "gridcolor": "rgb(232,232,232)",
            "gridwidth": 2,
            "linecolor": "rgb(36,36,36)",
            "showbackground": true,
            "showgrid": false,
            "showline": true,
            "ticks": "outside",
            "zeroline": false,
            "zerolinecolor": "rgb(36,36,36)"
           },
           "zaxis": {
            "backgroundcolor": "white",
            "gridcolor": "rgb(232,232,232)",
            "gridwidth": 2,
            "linecolor": "rgb(36,36,36)",
            "showbackground": true,
            "showgrid": false,
            "showline": true,
            "ticks": "outside",
            "zeroline": false,
            "zerolinecolor": "rgb(36,36,36)"
           }
          },
          "shapedefaults": {
           "fillcolor": "black",
           "line": {
            "width": 0
           },
           "opacity": 0.3
          },
          "ternary": {
           "aaxis": {
            "gridcolor": "rgb(232,232,232)",
            "linecolor": "rgb(36,36,36)",
            "showgrid": false,
            "showline": true,
            "ticks": "outside"
           },
           "baxis": {
            "gridcolor": "rgb(232,232,232)",
            "linecolor": "rgb(36,36,36)",
            "showgrid": false,
            "showline": true,
            "ticks": "outside"
           },
           "bgcolor": "white",
           "caxis": {
            "gridcolor": "rgb(232,232,232)",
            "linecolor": "rgb(36,36,36)",
            "showgrid": false,
            "showline": true,
            "ticks": "outside"
           }
          },
          "title": {
           "x": 0.05
          },
          "xaxis": {
           "automargin": true,
           "gridcolor": "rgb(232,232,232)",
           "linecolor": "rgb(36,36,36)",
           "showgrid": false,
           "showline": true,
           "ticks": "outside",
           "title": {
            "standoff": 15
           },
           "zeroline": false,
           "zerolinecolor": "rgb(36,36,36)"
          },
          "yaxis": {
           "automargin": true,
           "gridcolor": "rgb(232,232,232)",
           "linecolor": "rgb(36,36,36)",
           "showgrid": false,
           "showline": true,
           "ticks": "outside",
           "title": {
            "standoff": 15
           },
           "zeroline": false,
           "zerolinecolor": "rgb(36,36,36)"
          }
         }
        },
        "title": {
         "text": "Discrete Distribution According "
        },
        "width": 600,
        "xaxis": {
         "anchor": "y",
         "categoryorder": "total descending",
         "domain": [
          0,
          1
         ],
         "title": {
          "text": "Retailer"
         }
        },
        "yaxis": {
         "anchor": "x",
         "domain": [
          0,
          1
         ],
         "title": {
          "text": "Sum of Total Sales"
         }
        }
       }
      },
      "text/html": [
       "<div>                            <div id=\"71526003-96b9-4733-af73-f118bbca0888\" class=\"plotly-graph-div\" style=\"height:400px; width:600px;\"></div>            <script type=\"text/javascript\">                require([\"plotly\"], function(Plotly) {                    window.PLOTLYENV=window.PLOTLYENV || {};                                    if (document.getElementById(\"71526003-96b9-4733-af73-f118bbca0888\")) {                    Plotly.newPlot(                        \"71526003-96b9-4733-af73-f118bbca0888\",                        [{\"alignmentgroup\":\"True\",\"bingroup\":\"x\",\"histfunc\":\"sum\",\"hovertemplate\":\"Product=Men's Street Footwear<br>Retailer=%{x}<br>sum of Total_Sales=%{y}<extra></extra>\",\"legendgroup\":\"Men's Street Footwear\",\"marker\":{\"color\":\"#1F77B4\",\"pattern\":{\"shape\":\"\"}},\"name\":\"Men's Street Footwear\",\"offsetgroup\":\"Men's Street Footwear\",\"orientation\":\"v\",\"showlegend\":true,\"x\":[\"Foot Locker\",\"West Gear\",\"Sports Direct\",\"Kohl's\",\"Amazon\",\"Walmart\"],\"xaxis\":\"x\",\"y\":[57481575.0,53165419.0,38672270.0,22421073.0,22161652.0,14924255.0],\"yaxis\":\"y\",\"type\":\"histogram\"},{\"alignmentgroup\":\"True\",\"bingroup\":\"x\",\"histfunc\":\"sum\",\"hovertemplate\":\"Product=Women's Apparel<br>Retailer=%{x}<br>sum of Total_Sales=%{y}<extra></extra>\",\"legendgroup\":\"Women's Apparel\",\"marker\":{\"color\":\"#FF7F0E\",\"pattern\":{\"shape\":\"\"}},\"name\":\"Women's Apparel\",\"offsetgroup\":\"Women's Apparel\",\"orientation\":\"v\",\"showlegend\":true,\"x\":[\"West Gear\",\"Foot Locker\",\"Sports Direct\",\"Kohl's\",\"Amazon\",\"Walmart\"],\"xaxis\":\"x\",\"y\":[47287512.0,43296114.0,37113257.0,20315239.0,15710639.0,15316099.0],\"yaxis\":\"y\",\"type\":\"histogram\"},{\"alignmentgroup\":\"True\",\"bingroup\":\"x\",\"histfunc\":\"sum\",\"hovertemplate\":\"Product=Men's Athletic Footwear<br>Retailer=%{x}<br>sum of Total_Sales=%{y}<extra></extra>\",\"legendgroup\":\"Men's Athletic Footwear\",\"marker\":{\"color\":\"#2CA02C\",\"pattern\":{\"shape\":\"\"}},\"name\":\"Men's Athletic Footwear\",\"offsetgroup\":\"Men's Athletic Footwear\",\"orientation\":\"v\",\"showlegend\":true,\"x\":[\"West Gear\",\"Foot Locker\",\"Sports Direct\",\"Kohl's\",\"Walmart\",\"Amazon\"],\"xaxis\":\"x\",\"y\":[42805852.00000001,36480415.00000001,30889734.000000004,17885316.0,13600404.000000002,12011959.000000002],\"yaxis\":\"y\",\"type\":\"histogram\"},{\"alignmentgroup\":\"True\",\"bingroup\":\"x\",\"histfunc\":\"sum\",\"hovertemplate\":\"Product=Women's Street Footwear<br>Retailer=%{x}<br>sum of Total_Sales=%{y}<extra></extra>\",\"legendgroup\":\"Women's Street Footwear\",\"marker\":{\"color\":\"#D62728\",\"pattern\":{\"shape\":\"\"}},\"name\":\"Women's Street Footwear\",\"offsetgroup\":\"Women's Street Footwear\",\"orientation\":\"v\",\"showlegend\":true,\"x\":[\"West Gear\",\"Foot Locker\",\"Sports Direct\",\"Kohl's\",\"Walmart\",\"Amazon\"],\"xaxis\":\"x\",\"y\":[36386546.0,29087997.0,27825162.0,14834291.000000002,10464180.0,9404637.000000002],\"yaxis\":\"y\",\"type\":\"histogram\"},{\"alignmentgroup\":\"True\",\"bingroup\":\"x\",\"histfunc\":\"sum\",\"hovertemplate\":\"Product=Men's Apparel<br>Retailer=%{x}<br>sum of Total_Sales=%{y}<extra></extra>\",\"legendgroup\":\"Men's Apparel\",\"marker\":{\"color\":\"#9467BD\",\"pattern\":{\"shape\":\"\"}},\"name\":\"Men's Apparel\",\"offsetgroup\":\"Men's Apparel\",\"orientation\":\"v\",\"showlegend\":true,\"x\":[\"West Gear\",\"Foot Locker\",\"Sports Direct\",\"Kohl's\",\"Walmart\",\"Amazon\"],\"xaxis\":\"x\",\"y\":[33263936.0,29508995.0,24825286.0,14164965.0,11490680.0,10474770.0],\"yaxis\":\"y\",\"type\":\"histogram\"},{\"alignmentgroup\":\"True\",\"bingroup\":\"x\",\"histfunc\":\"sum\",\"hovertemplate\":\"Product=Women's Athletic Footwear<br>Retailer=%{x}<br>sum of Total_Sales=%{y}<extra></extra>\",\"legendgroup\":\"Women's Athletic Footwear\",\"marker\":{\"color\":\"#8C564B\",\"pattern\":{\"shape\":\"\"}},\"name\":\"Women's Athletic Footwear\",\"offsetgroup\":\"Women's Athletic Footwear\",\"orientation\":\"v\",\"showlegend\":true,\"x\":[\"West Gear\",\"Foot Locker\",\"Sports Direct\",\"Kohl's\",\"Walmart\",\"Amazon\"],\"xaxis\":\"x\",\"y\":[30055068.000000004,24239624.0,23145288.0,12493869.0,8762792.0,7935255.000000001],\"yaxis\":\"y\",\"type\":\"histogram\"}],                        {\"template\":{\"data\":{\"histogram2dcontour\":[{\"type\":\"histogram2dcontour\",\"colorbar\":{\"outlinewidth\":1,\"tickcolor\":\"rgb(36,36,36)\",\"ticks\":\"outside\"},\"colorscale\":[[0.0,\"#440154\"],[0.1111111111111111,\"#482878\"],[0.2222222222222222,\"#3e4989\"],[0.3333333333333333,\"#31688e\"],[0.4444444444444444,\"#26828e\"],[0.5555555555555556,\"#1f9e89\"],[0.6666666666666666,\"#35b779\"],[0.7777777777777778,\"#6ece58\"],[0.8888888888888888,\"#b5de2b\"],[1.0,\"#fde725\"]]}],\"choropleth\":[{\"type\":\"choropleth\",\"colorbar\":{\"outlinewidth\":1,\"tickcolor\":\"rgb(36,36,36)\",\"ticks\":\"outside\"}}],\"histogram2d\":[{\"type\":\"histogram2d\",\"colorbar\":{\"outlinewidth\":1,\"tickcolor\":\"rgb(36,36,36)\",\"ticks\":\"outside\"},\"colorscale\":[[0.0,\"#440154\"],[0.1111111111111111,\"#482878\"],[0.2222222222222222,\"#3e4989\"],[0.3333333333333333,\"#31688e\"],[0.4444444444444444,\"#26828e\"],[0.5555555555555556,\"#1f9e89\"],[0.6666666666666666,\"#35b779\"],[0.7777777777777778,\"#6ece58\"],[0.8888888888888888,\"#b5de2b\"],[1.0,\"#fde725\"]]}],\"heatmap\":[{\"type\":\"heatmap\",\"colorbar\":{\"outlinewidth\":1,\"tickcolor\":\"rgb(36,36,36)\",\"ticks\":\"outside\"},\"colorscale\":[[0.0,\"#440154\"],[0.1111111111111111,\"#482878\"],[0.2222222222222222,\"#3e4989\"],[0.3333333333333333,\"#31688e\"],[0.4444444444444444,\"#26828e\"],[0.5555555555555556,\"#1f9e89\"],[0.6666666666666666,\"#35b779\"],[0.7777777777777778,\"#6ece58\"],[0.8888888888888888,\"#b5de2b\"],[1.0,\"#fde725\"]]}],\"heatmapgl\":[{\"type\":\"heatmapgl\",\"colorbar\":{\"outlinewidth\":1,\"tickcolor\":\"rgb(36,36,36)\",\"ticks\":\"outside\"},\"colorscale\":[[0.0,\"#440154\"],[0.1111111111111111,\"#482878\"],[0.2222222222222222,\"#3e4989\"],[0.3333333333333333,\"#31688e\"],[0.4444444444444444,\"#26828e\"],[0.5555555555555556,\"#1f9e89\"],[0.6666666666666666,\"#35b779\"],[0.7777777777777778,\"#6ece58\"],[0.8888888888888888,\"#b5de2b\"],[1.0,\"#fde725\"]]}],\"contourcarpet\":[{\"type\":\"contourcarpet\",\"colorbar\":{\"outlinewidth\":1,\"tickcolor\":\"rgb(36,36,36)\",\"ticks\":\"outside\"}}],\"contour\":[{\"type\":\"contour\",\"colorbar\":{\"outlinewidth\":1,\"tickcolor\":\"rgb(36,36,36)\",\"ticks\":\"outside\"},\"colorscale\":[[0.0,\"#440154\"],[0.1111111111111111,\"#482878\"],[0.2222222222222222,\"#3e4989\"],[0.3333333333333333,\"#31688e\"],[0.4444444444444444,\"#26828e\"],[0.5555555555555556,\"#1f9e89\"],[0.6666666666666666,\"#35b779\"],[0.7777777777777778,\"#6ece58\"],[0.8888888888888888,\"#b5de2b\"],[1.0,\"#fde725\"]]}],\"surface\":[{\"type\":\"surface\",\"colorbar\":{\"outlinewidth\":1,\"tickcolor\":\"rgb(36,36,36)\",\"ticks\":\"outside\"},\"colorscale\":[[0.0,\"#440154\"],[0.1111111111111111,\"#482878\"],[0.2222222222222222,\"#3e4989\"],[0.3333333333333333,\"#31688e\"],[0.4444444444444444,\"#26828e\"],[0.5555555555555556,\"#1f9e89\"],[0.6666666666666666,\"#35b779\"],[0.7777777777777778,\"#6ece58\"],[0.8888888888888888,\"#b5de2b\"],[1.0,\"#fde725\"]]}],\"mesh3d\":[{\"type\":\"mesh3d\",\"colorbar\":{\"outlinewidth\":1,\"tickcolor\":\"rgb(36,36,36)\",\"ticks\":\"outside\"}}],\"scatter\":[{\"fillpattern\":{\"fillmode\":\"overlay\",\"size\":10,\"solidity\":0.2},\"type\":\"scatter\"}],\"parcoords\":[{\"type\":\"parcoords\",\"line\":{\"colorbar\":{\"outlinewidth\":1,\"tickcolor\":\"rgb(36,36,36)\",\"ticks\":\"outside\"}}}],\"scatterpolargl\":[{\"type\":\"scatterpolargl\",\"marker\":{\"colorbar\":{\"outlinewidth\":1,\"tickcolor\":\"rgb(36,36,36)\",\"ticks\":\"outside\"}}}],\"bar\":[{\"error_x\":{\"color\":\"rgb(36,36,36)\"},\"error_y\":{\"color\":\"rgb(36,36,36)\"},\"marker\":{\"line\":{\"color\":\"white\",\"width\":0.5},\"pattern\":{\"fillmode\":\"overlay\",\"size\":10,\"solidity\":0.2}},\"type\":\"bar\"}],\"scattergeo\":[{\"type\":\"scattergeo\",\"marker\":{\"colorbar\":{\"outlinewidth\":1,\"tickcolor\":\"rgb(36,36,36)\",\"ticks\":\"outside\"}}}],\"scatterpolar\":[{\"type\":\"scatterpolar\",\"marker\":{\"colorbar\":{\"outlinewidth\":1,\"tickcolor\":\"rgb(36,36,36)\",\"ticks\":\"outside\"}}}],\"histogram\":[{\"marker\":{\"line\":{\"color\":\"white\",\"width\":0.6}},\"type\":\"histogram\"}],\"scattergl\":[{\"type\":\"scattergl\",\"marker\":{\"colorbar\":{\"outlinewidth\":1,\"tickcolor\":\"rgb(36,36,36)\",\"ticks\":\"outside\"}}}],\"scatter3d\":[{\"type\":\"scatter3d\",\"line\":{\"colorbar\":{\"outlinewidth\":1,\"tickcolor\":\"rgb(36,36,36)\",\"ticks\":\"outside\"}},\"marker\":{\"colorbar\":{\"outlinewidth\":1,\"tickcolor\":\"rgb(36,36,36)\",\"ticks\":\"outside\"}}}],\"scattermapbox\":[{\"type\":\"scattermapbox\",\"marker\":{\"colorbar\":{\"outlinewidth\":1,\"tickcolor\":\"rgb(36,36,36)\",\"ticks\":\"outside\"}}}],\"scatterternary\":[{\"type\":\"scatterternary\",\"marker\":{\"colorbar\":{\"outlinewidth\":1,\"tickcolor\":\"rgb(36,36,36)\",\"ticks\":\"outside\"}}}],\"scattercarpet\":[{\"type\":\"scattercarpet\",\"marker\":{\"colorbar\":{\"outlinewidth\":1,\"tickcolor\":\"rgb(36,36,36)\",\"ticks\":\"outside\"}}}],\"carpet\":[{\"aaxis\":{\"endlinecolor\":\"rgb(36,36,36)\",\"gridcolor\":\"white\",\"linecolor\":\"white\",\"minorgridcolor\":\"white\",\"startlinecolor\":\"rgb(36,36,36)\"},\"baxis\":{\"endlinecolor\":\"rgb(36,36,36)\",\"gridcolor\":\"white\",\"linecolor\":\"white\",\"minorgridcolor\":\"white\",\"startlinecolor\":\"rgb(36,36,36)\"},\"type\":\"carpet\"}],\"table\":[{\"cells\":{\"fill\":{\"color\":\"rgb(237,237,237)\"},\"line\":{\"color\":\"white\"}},\"header\":{\"fill\":{\"color\":\"rgb(217,217,217)\"},\"line\":{\"color\":\"white\"}},\"type\":\"table\"}],\"barpolar\":[{\"marker\":{\"line\":{\"color\":\"white\",\"width\":0.5},\"pattern\":{\"fillmode\":\"overlay\",\"size\":10,\"solidity\":0.2}},\"type\":\"barpolar\"}],\"pie\":[{\"automargin\":true,\"type\":\"pie\"}]},\"layout\":{\"autotypenumbers\":\"strict\",\"colorway\":[\"#1F77B4\",\"#FF7F0E\",\"#2CA02C\",\"#D62728\",\"#9467BD\",\"#8C564B\",\"#E377C2\",\"#7F7F7F\",\"#BCBD22\",\"#17BECF\"],\"font\":{\"color\":\"rgb(36,36,36)\"},\"hovermode\":\"closest\",\"hoverlabel\":{\"align\":\"left\"},\"paper_bgcolor\":\"white\",\"plot_bgcolor\":\"white\",\"polar\":{\"bgcolor\":\"white\",\"angularaxis\":{\"gridcolor\":\"rgb(232,232,232)\",\"linecolor\":\"rgb(36,36,36)\",\"showgrid\":false,\"showline\":true,\"ticks\":\"outside\"},\"radialaxis\":{\"gridcolor\":\"rgb(232,232,232)\",\"linecolor\":\"rgb(36,36,36)\",\"showgrid\":false,\"showline\":true,\"ticks\":\"outside\"}},\"ternary\":{\"bgcolor\":\"white\",\"aaxis\":{\"gridcolor\":\"rgb(232,232,232)\",\"linecolor\":\"rgb(36,36,36)\",\"showgrid\":false,\"showline\":true,\"ticks\":\"outside\"},\"baxis\":{\"gridcolor\":\"rgb(232,232,232)\",\"linecolor\":\"rgb(36,36,36)\",\"showgrid\":false,\"showline\":true,\"ticks\":\"outside\"},\"caxis\":{\"gridcolor\":\"rgb(232,232,232)\",\"linecolor\":\"rgb(36,36,36)\",\"showgrid\":false,\"showline\":true,\"ticks\":\"outside\"}},\"coloraxis\":{\"colorbar\":{\"outlinewidth\":1,\"tickcolor\":\"rgb(36,36,36)\",\"ticks\":\"outside\"}},\"colorscale\":{\"sequential\":[[0.0,\"#440154\"],[0.1111111111111111,\"#482878\"],[0.2222222222222222,\"#3e4989\"],[0.3333333333333333,\"#31688e\"],[0.4444444444444444,\"#26828e\"],[0.5555555555555556,\"#1f9e89\"],[0.6666666666666666,\"#35b779\"],[0.7777777777777778,\"#6ece58\"],[0.8888888888888888,\"#b5de2b\"],[1.0,\"#fde725\"]],\"sequentialminus\":[[0.0,\"#440154\"],[0.1111111111111111,\"#482878\"],[0.2222222222222222,\"#3e4989\"],[0.3333333333333333,\"#31688e\"],[0.4444444444444444,\"#26828e\"],[0.5555555555555556,\"#1f9e89\"],[0.6666666666666666,\"#35b779\"],[0.7777777777777778,\"#6ece58\"],[0.8888888888888888,\"#b5de2b\"],[1.0,\"#fde725\"]],\"diverging\":[[0.0,\"rgb(103,0,31)\"],[0.1,\"rgb(178,24,43)\"],[0.2,\"rgb(214,96,77)\"],[0.3,\"rgb(244,165,130)\"],[0.4,\"rgb(253,219,199)\"],[0.5,\"rgb(247,247,247)\"],[0.6,\"rgb(209,229,240)\"],[0.7,\"rgb(146,197,222)\"],[0.8,\"rgb(67,147,195)\"],[0.9,\"rgb(33,102,172)\"],[1.0,\"rgb(5,48,97)\"]]},\"xaxis\":{\"gridcolor\":\"rgb(232,232,232)\",\"linecolor\":\"rgb(36,36,36)\",\"showgrid\":false,\"showline\":true,\"ticks\":\"outside\",\"title\":{\"standoff\":15},\"zerolinecolor\":\"rgb(36,36,36)\",\"automargin\":true,\"zeroline\":false},\"yaxis\":{\"gridcolor\":\"rgb(232,232,232)\",\"linecolor\":\"rgb(36,36,36)\",\"showgrid\":false,\"showline\":true,\"ticks\":\"outside\",\"title\":{\"standoff\":15},\"zerolinecolor\":\"rgb(36,36,36)\",\"automargin\":true,\"zeroline\":false},\"scene\":{\"xaxis\":{\"backgroundcolor\":\"white\",\"gridcolor\":\"rgb(232,232,232)\",\"linecolor\":\"rgb(36,36,36)\",\"showbackground\":true,\"showgrid\":false,\"showline\":true,\"ticks\":\"outside\",\"zerolinecolor\":\"rgb(36,36,36)\",\"gridwidth\":2,\"zeroline\":false},\"yaxis\":{\"backgroundcolor\":\"white\",\"gridcolor\":\"rgb(232,232,232)\",\"linecolor\":\"rgb(36,36,36)\",\"showbackground\":true,\"showgrid\":false,\"showline\":true,\"ticks\":\"outside\",\"zerolinecolor\":\"rgb(36,36,36)\",\"gridwidth\":2,\"zeroline\":false},\"zaxis\":{\"backgroundcolor\":\"white\",\"gridcolor\":\"rgb(232,232,232)\",\"linecolor\":\"rgb(36,36,36)\",\"showbackground\":true,\"showgrid\":false,\"showline\":true,\"ticks\":\"outside\",\"zerolinecolor\":\"rgb(36,36,36)\",\"gridwidth\":2,\"zeroline\":false}},\"shapedefaults\":{\"fillcolor\":\"black\",\"line\":{\"width\":0},\"opacity\":0.3},\"annotationdefaults\":{\"arrowhead\":0,\"arrowwidth\":1},\"geo\":{\"bgcolor\":\"white\",\"landcolor\":\"white\",\"subunitcolor\":\"white\",\"showland\":true,\"showlakes\":true,\"lakecolor\":\"white\"},\"title\":{\"x\":0.05},\"mapbox\":{\"style\":\"light\"}}},\"xaxis\":{\"anchor\":\"y\",\"domain\":[0.0,1.0],\"title\":{\"text\":\"Retailer\"},\"categoryorder\":\"total descending\"},\"yaxis\":{\"anchor\":\"x\",\"domain\":[0.0,1.0],\"title\":{\"text\":\"Sum of Total Sales\"}},\"legend\":{\"title\":{\"text\":\"Product\"},\"tracegroupgap\":0},\"title\":{\"text\":\"Discrete Distribution According \"},\"barmode\":\"relative\",\"height\":400,\"width\":600,\"shapes\":[{\"line\":{\"color\":\"#440154\",\"dash\":\"dot\",\"width\":3},\"opacity\":1,\"type\":\"line\",\"x0\":0,\"x1\":1,\"xref\":\"paper\",\"y0\":150000000.0,\"y1\":150000000.0,\"yref\":\"y\"}],\"annotations\":[{\"showarrow\":false,\"text\":\"Below Mean!\",\"x\":4,\"y\":130000000.0}]},                        {\"responsive\": true}                    ).then(function(){\n",
       "                            \n",
       "var gd = document.getElementById('71526003-96b9-4733-af73-f118bbca0888');\n",
       "var x = new MutationObserver(function (mutations, observer) {{\n",
       "        var display = window.getComputedStyle(gd).display;\n",
       "        if (!display || display === 'none') {{\n",
       "            console.log([gd, 'removed!']);\n",
       "            Plotly.purge(gd);\n",
       "            observer.disconnect();\n",
       "        }}\n",
       "}});\n",
       "\n",
       "// Listen for the removal of the full notebook cells\n",
       "var notebookContainer = gd.closest('#notebook-container');\n",
       "if (notebookContainer) {{\n",
       "    x.observe(notebookContainer, {childList: true});\n",
       "}}\n",
       "\n",
       "// Listen for the clearing of the current output cell\n",
       "var outputEl = gd.closest('.output');\n",
       "if (outputEl) {{\n",
       "    x.observe(outputEl, {childList: true});\n",
       "}}\n",
       "\n",
       "                        })                };                });            </script>        </div>"
      ]
     },
     "metadata": {},
     "output_type": "display_data"
    }
   ],
   "source": [
    "# Group the total sales according to the retailer and product\n",
    "ga_multiple = data.groupby(['Retailer', 'Product']).agg('Total_Sales').sum()\n",
    "ga_multiple.columns = ['sum_of_total_sales']\n",
    "ga_multiple = ga_multiple.reset_index()\n",
    "ga_multiple.sort_values('Total_Sales', ascending=False, inplace=True)\n",
    "\n",
    "# Create a histogram plot\n",
    "fig = px.histogram(ga_multiple, x='Retailer', y='Total_Sales', color='Product',\n",
    "                    title='Discrete Distribution According ', template='simple_white')\n",
    "fig.update_xaxes(title='Retailer')\n",
    "fig.update_yaxes(title='Sum of Total Sales')\n",
    "fig.update_layout(xaxis={'categoryorder':'total descending'})\n",
    "\n",
    "# Add a horizontal 'mean' line\n",
    "fig.add_shape( type='line', line_color='#440154', line_width=3, opacity=1,\n",
    "                line_dash='dot', x0=0, x1=1, xref='paper', y0=1.5e8, y1=1.5e8, yref='y')\n",
    "# Add a text callout\n",
    "fig.add_annotation(text='Below Mean!', y=1.3e8, x=4, showarrow=False)\n",
    "\n",
    "# Show figure\n",
    "# Added 'png' to save the figure in the notebook as static images to show in GitHub\n",
    "fig.show('png') "
   ]
  },
  {
   "attachments": {},
   "cell_type": "markdown",
   "id": "e787750e",
   "metadata": {},
   "source": [
    "In this plot, we can combine the two results obtained previously. We can see that the total sales given by each product share the same tendency in all retailers, where Men's Street Footwear provides the highest total sales followed by Women's Apparel.\n",
    "While the total sales of West Gear are approximately 1.6 times higher than the mean of the six retailers the total sales of Walmart are 0.5 times smaller than the same mean.\n"
   ]
  },
  {
   "attachments": {},
   "cell_type": "markdown",
   "id": "c0901184",
   "metadata": {
    "papermill": {
     "duration": 0.012556,
     "end_time": "2022-12-29T21:55:50.467358",
     "exception": false,
     "start_time": "2022-12-29T21:55:50.454802",
     "status": "completed"
    },
    "tags": []
   },
   "source": [
    "# 📍 4.4. Sales Method"
   ]
  },
  {
   "cell_type": "code",
   "execution_count": 97,
   "id": "12fb83eb",
   "metadata": {
    "execution": {
     "iopub.execute_input": "2022-12-29T21:55:50.491153Z",
     "iopub.status.busy": "2022-12-29T21:55:50.490509Z",
     "iopub.status.idle": "2022-12-29T21:55:50.591510Z",
     "shell.execute_reply": "2022-12-29T21:55:50.590692Z"
    },
    "papermill": {
     "duration": 0.115389,
     "end_time": "2022-12-29T21:55:50.593664",
     "exception": false,
     "start_time": "2022-12-29T21:55:50.478275",
     "status": "completed"
    },
    "tags": []
   },
   "outputs": [
    {
     "name": "stdout",
     "output_type": "stream",
     "text": [
      "3 Sales_Method  Total_Sales\n",
      "0     In-store  356643750.0\n",
      "1       Online  247672882.0\n",
      "2       Outlet  295585493.0\n",
      "\n",
      "3       Total_Sales\n",
      "count  3.000000e+00\n",
      "mean   2.999674e+08\n",
      "std    5.461743e+07\n",
      "min    2.476729e+08\n",
      "25%    2.716292e+08\n",
      "50%    2.955855e+08\n",
      "75%    3.261146e+08\n",
      "max    3.566438e+08\n"
     ]
    },
    {
     "data": {
      "image/png": "[encoded data removed]",
      "text/plain": [
       "<Figure size 700x400 with 1 Axes>"
      ]
     },
     "metadata": {},
     "output_type": "display_data"
    }
   ],
   "source": [
    "pieplot(data, 'Sales_Method')"
   ]
  },
  {
   "cell_type": "markdown",
   "id": "447723bb",
   "metadata": {
    "papermill": {
     "duration": 0.015073,
     "end_time": "2022-12-29T21:55:50.623466",
     "exception": false,
     "start_time": "2022-12-29T21:55:50.608393",
     "status": "completed"
    },
    "tags": []
   },
   "source": [
    "In in-store and outlets appear as the preferred buying method of customers, representing almost three-quarters (72.4%) of total sales."
   ]
  },
  {
   "attachments": {},
   "cell_type": "markdown",
   "id": "0fdebf27",
   "metadata": {
    "papermill": {
     "duration": 0.014355,
     "end_time": "2022-12-29T21:55:50.653005",
     "exception": false,
     "start_time": "2022-12-29T21:55:50.638650",
     "status": "completed"
    },
    "tags": []
   },
   "source": [
    "# 📍 4.5. Total Sales by Month"
   ]
  },
  {
   "cell_type": "code",
   "execution_count": 217,
   "id": "b09312f7",
   "metadata": {
    "execution": {
     "iopub.execute_input": "2022-12-29T21:55:50.681284Z",
     "iopub.status.busy": "2022-12-29T21:55:50.680901Z",
     "iopub.status.idle": "2022-12-29T21:55:50.858267Z",
     "shell.execute_reply": "2022-12-29T21:55:50.856294Z"
    },
    "papermill": {
     "duration": 0.192887,
     "end_time": "2022-12-29T21:55:50.860662",
     "exception": false,
     "start_time": "2022-12-29T21:55:50.667775",
     "status": "completed"
    },
    "tags": []
   },
   "outputs": [
    {
     "data": {
      "image/png": "[encoded data removed]",
      "text/plain": [
       "<Figure size 700x500 with 1 Axes>"
      ]
     },
     "metadata": {},
     "output_type": "display_data"
    }
   ],
   "source": [
    "# Group the total sales according to the month's name\n",
    "month_sales = data[['month_name', 'Total_Sales']].groupby('month_name', as_index=False, sort=False).sum()\n",
    "\n",
    "formatter = EngFormatter()\n",
    "color_bar=['#3f4788']\n",
    "sort_order = ['January', 'February', 'March', 'April', 'May', 'June',\n",
    "            'July', 'August', 'September', 'October', 'November', 'December']\n",
    "\n",
    "# Create a bar plot\n",
    "fig, ax = plt.subplots(figsize=(7, 5))\n",
    "ax.bar(month_sales['month_name'], month_sales['Total_Sales'], width=0.2, color=color_bar)\n",
    "ax.set_title('Total Sales by Month')\n",
    "ax.set_ylabel('Total Sales')\n",
    "ax.set_xlabel('Month')\n",
    "ax.yaxis.set_major_formatter(formatter)\n",
    "plt.xticks(month_sales['month_name'], rotation=-45)\n",
    "    \n",
    "#Show the plot\n",
    "plt.show()"
   ]
  },
  {
   "cell_type": "markdown",
   "id": "90d9bc77",
   "metadata": {
    "papermill": {
     "duration": 0.011263,
     "end_time": "2022-12-29T21:55:50.883384",
     "exception": false,
     "start_time": "2022-12-29T21:55:50.872121",
     "status": "completed"
    },
    "tags": []
   },
   "source": [
    "In the available history, the month of July has the highest total sales, while March has the lowest value."
   ]
  },
  {
   "cell_type": "code",
   "execution_count": 257,
   "id": "2028d0d7",
   "metadata": {
    "execution": {
     "iopub.execute_input": "2022-12-29T21:55:50.908535Z",
     "iopub.status.busy": "2022-12-29T21:55:50.908142Z",
     "iopub.status.idle": "2022-12-29T21:55:51.943849Z",
     "shell.execute_reply": "2022-12-29T21:55:51.942741Z"
    },
    "papermill": {
     "duration": 1.050576,
     "end_time": "2022-12-29T21:55:51.945885",
     "exception": false,
     "start_time": "2022-12-29T21:55:50.895309",
     "status": "completed"
    },
    "tags": []
   },
   "outputs": [
    {
     "data": {
      "image/svg+xml": "<svg class=\"main-svg\" xmlns=\"http://www.w3.org/2000/svg\" xmlns:xlink=\"http://www.w3.org/1999/xlink\" width=\"600\" height=\"400\" style=\"\" viewBox=\"0 0 600 400\"><rect x=\"0\" y=\"0\" width=\"600\" height=\"400\" style=\"fill: rgb(255, 255, 255); fill-opacity: 1;\"/><defs id=\"defs-1289ee\"><g class=\"clips\"><clipPath id=\"clip1289eegeo\"><rect x=\"80\" y=\"105.3846153846154\" width=\"400\" height=\"209.23076923076917\"/></clipPath></g><g class=\"gradients\"><linearGradient x1=\"0\" x2=\"0\" y1=\"1\" y2=\"0\" id=\"g1289ee-cbcoloraxis\"><stop offset=\"0%\" stop-color=\"rgb(68, 1, 84)\" stop-opacity=\"1\"/><stop offset=\"11.111111%\" stop-color=\"rgb(72, 40, 120)\" stop-opacity=\"1\"/><stop offset=\"22.222222%\" stop-color=\"rgb(62, 73, 137)\" stop-opacity=\"1\"/><stop offset=\"33.333333%\" stop-color=\"rgb(49, 104, 142)\" stop-opacity=\"1\"/><stop offset=\"44.444444%\" stop-color=\"rgb(38, 130, 142)\" stop-opacity=\"1\"/><stop offset=\"55.555556%\" stop-color=\"rgb(31, 158, 137)\" stop-opacity=\"1\"/><stop offset=\"66.666667%\" stop-color=\"rgb(53, 183, 121)\" stop-opacity=\"1\"/><stop offset=\"77.777778%\" stop-color=\"rgb(110, 206, 88)\" stop-opacity=\"1\"/><stop offset=\"88.888889%\" stop-color=\"rgb(181, 222, 43)\" stop-opacity=\"1\"/><stop offset=\"100%\" stop-color=\"rgb(253, 231, 37)\" stop-opacity=\"1\"/></linearGradient></g><g class=\"patterns\"/></defs><g class=\"bglayer\"/><g class=\"layer-below\"><g class=\"imagelayer\"/><g class=\"shapelayer\"/></g><g class=\"cartesianlayer\"/><g class=\"polarlayer\"/><g class=\"smithlayer\"/><g class=\"ternarylayer\"/><g class=\"geolayer\"><g class=\"geo geo\" clip-path=\"url(#clip1289eegeo)\"><g class=\"layer bg\"><rect x=\"80\" y=\"105.3846153846154\" width=\"400\" height=\"209.23076923076917\" style=\"pointer-events: all; fill: rgb(255, 255, 255); fill-opacity: 1;\"/></g><g class=\"layer land\"><path d=\"M223.17097139806464,301.90991789524986L224.4921912033416,302.5508566381656L225.6290534639426,303.5823227383766L227.5346452168346,306.2326331728767L227.34997082627007,306.6895278590002L224.53249143560245,308.33786724826166L222.17973097772241,309.524297102749L221.1476049744012,310.83199169927286L219.34742019217904,309.73354877472207L219.52714810059214,307.585150608848L218.2906567507073,304.79339946338865L218.6642222042335,303.94694579450334L219.97678468491733,302.70673847289004L219.40593989788567,301.21514092997523L219.8728180336886,300.4987806942678L220.4373069846534,300.62603732127513ZM218.82407633387396,296.6744513854467L218.26488396544852,297.6495185867167L215.82640007699413,298.17574078466095L214.60358443611918,296.5564314092482L213.75890400477928,295.97400738420004L213.66457711568899,295.4554512531033L214.41336346633804,294.8062593849905L216.94501940853428,295.5136992890051ZM213.3816013301732,293.5763455048831L213.10140589793332,294.41893571425294L209.26130690559214,294.15883888817757L209.82412045157443,293.25242328025445ZM204.22291050100498,289.41906984731816L204.87491781361214,289.9391518874336L206.92420219429448,292.47008505738364L206.54867656658195,292.922458153432L205.9875150135221,292.7912892217805L203.46183977012262,292.52277765690104L202.62822566208658,290.7708219008466L202.349079263612,290.5105556997736ZM194.63604651974885,285.6059568693524L194.80651391928993,287.3523430481784L193.95927062645308,288.12024206437275L191.54777235613682,286.67323489558447L191.9264212163205,286.1603522708044L192.96004992674298,285.3958773850253ZM148.94409611643852,299.822308922477L149.88943628192382,299.9898035506534L150.52274969880764,300.79840054293476L149.2920494462854,302.1065880022953L147.83592720506383,303.14671872020676L147.09596039063845,302.457560648495L146.88101359854267,301.19711898589986L148.18867768466865,300.24011240621456ZM131.46827101556724,291.78109299539926L132.4593828765169,292.1961796776466L132.3992689816678,293.2326239255932L131.51347330775286,293.51475105212484L130.74987959045092,292.85595023099927L130.09461157502267,291.9766939180507ZM127.1046335197377,281.3777181263828L127.67513911822837,282.0519181639777L128.46258753600867,281.972091863988L129.2410321973593,282.8948175495782L130.31385120103158,283.520273995814L130.15665434883744,283.7897590038858L129.1212895345952,284.1367177734153L128.37441072800348,283.3417789648984L128.05226186827352,282.7645062401482L126.98401371923342,282.64869952702657L126.76393131375771,282.3278636920214ZM434.4044842204276,144.19986143468645L429.7487040172456,148.31379821256792L424.79552131379785,152.11001546708457L423.166568171603,157.31935439688772L422.72160282136605,159.27576394987733L423.1511580749835,160.85871148175954L423.7164747996652,163.2216282878178L426.63338722817565,166.6459454228829L428.962225581188,166.20447863612708L427.5646348361839,163.6621443645144L429.72532574049154,164.83013438214323L429.8330458101004,167.12042804768203L428.35232548848,168.147966072283L426.4548455198425,169.35223344584364L423.8440141779508,169.922625192628L420.0885110654809,172.27295826577927L417.7387866067994,173.28449773797172L414.58820641204807,174.4833301963056L410.8125570226968,177.56983694742365L410.47981447565144,177.78467745131087L412.78366681477996,176.82296119615813L418.31974864060214,174.3576525991329L420.3422471569761,175.33162654690625L413.0574371341311,179.5316298163092L409.4964495811636,180.45169192155646L409.5090641213235,180.17836892094778L409.4887082952437,179.43972696562838L408.28874267998253,181.88344489337322L408.2304147777401,181.96457900370848L409.99026498132855,181.8898331404926L410.00459200455344,184.25253375553814L410.017596093007,187.6295107260063L408.72632241708015,190.83462684976234L407.17226190255667,194.36243335623743L406.3640705427615,192.51965652016634L405.00807318009225,192.41814585447673L404.09060759783927,191.81232563979881L402.7320339213804,190.9651851533152L402.6575462286985,190.98148227867108L403.92606566493595,193.19706295579198L404.81922942413485,194.75311631921852L406.4708730925059,195.80233177156174L407.25459051543555,198.59613263747383L406.01775064425783,201.97430446558798L404.04501211699215,208.7380733669762L403.4378526852835,208.5311671161699L404.16670902032956,202.98560501379632L400.50787005670105,200.73748336646133L398.51440129390505,194.62952997209294L398.0584538155793,198.08790619724726L400.35600735354654,202.6538454133771L396.3893888925901,202.26249681908058L396.2373207284047,202.29334519785948L400.77921125123737,203.91083174227987L402.5150959342425,211.01546494887367L404.33753076002336,211.23443833012777L405.50911700682514,213.6768095554612L408.0064868595256,221.08370047475552L405.3258608887419,227.5064680980513L401.7823311348959,229.646872023902L399.4872098962618,231.04587482819596L398.608045136718,232.49248742830878L396.25708025289225,236.29490672743844L393.2854090265053,237.38954657835677L392.6650196189398,238.10565571541284L390.63203358553517,240.74624662722226L390.1878953100271,243.42742541074836L387.8293897165327,245.84250578001866L384.06994147846086,249.61037640323633L381.7245123684503,252.91906568204527L381.1024956298597,253.81598295666834L378.80498915981957,258.75490700397677L378.6355713288144,264.34235090665413L380.10238831762706,268.2153849088145L380.5584673015019,269.46622684789077L381.03037486858506,270.2515747015502L383.8001463884053,275.55920418008157L387.14836652115264,279.83418127845715L387.61083518156056,280.4836995278722L387.63190710710876,280.6120994760826L388.2245368620225,283.677762897511L388.2350705380738,283.7418940410789L392.84544737629847,291.92003573941224L393.52110474512443,296.9918750157216L393.6590036555741,299.9834953160172L392.8632978167517,304.0428508656197L392.71998037170255,304.85096868643984L390.8030765782212,306.1454536555797L387.2222566366778,305.7389273782078L385.6341723235968,302.65722547646465L382.769021670525,301.3330873247039L378.1522573090168,295.41470760469605L374.1420987077539,290.0948779018903L372.86727100694634,287.3886151940966L372.7616804177739,287.2721411211705L373.453831740609,282.0538746163449L373.4447189664712,281.98944291631466L370.9604955387159,278.12898637327703L364.9405882594888,272.4222747971185L362.22430107851113,271.58497083114185L356.03860576522754,275.8802131006871L354.8750736822496,275.61916516320736L354.7890063606579,275.62891499666193L351.21778265378106,272.41200915320974L346.82957614025986,270.9667071993609L339.4800094919308,272.65155815257265L333.84190606062185,272.2774595930556L333.58507323617573,272.29804248047435L332.9909077294233,272.4107942148871L328.56981058351795,273.20274268289666L325.896134125734,274.436528832661L326.0899965914568,274.75071791678045L327.24777493417986,276.5037724880235L327.3778016884309,279.63399131964457L328.95716431021907,281.02617355202653L328.4638997821204,281.453344274732L327.7272566628039,282.15830835976703L325.4885460124656,281.3301301697083L325.12836728874004,281.1578350574325L325.05004552212785,281.2936137494977L322.70217573116213,282.81393863929304L317.89927113003677,282.8301616182729L312.66336157383535,279.0442296713743L306.9003754564995,280.2622433215546L306.89797495810996,280.1970632226381L301.99119261881646,278.5964975528326L297.8533389791973,279.2910241329731L292.3368081345444,281.1529758537593L286.28296625329193,286.8767266777989L279.8697552888389,289.9953572852852L279.51639815073804,290.18834799315357L278.71800563907095,290.96317424785644L275.77422157548335,293.7939762030936L274.21947943112434,297.21439449728985L274.10603244242714,298.89927429411944L274.05441026738424,302.4627799684543L274.208129546169,304.2777075965349L274.36195725012726,306.156014918752L274.3601547352033,306.28532884288313L275.59430534541315,308.75752117386537L272.8732623785354,308.9130299206109L268.01956275419013,307.1364824361924L262.6713011311686,304.65987975031516L260.8141743023078,301.0355550238987L259.49139365342245,295.60247664395524L255.68386287466237,291.0941208093001L253.51355733810576,286.5032790872596L250.4583010140612,281.13367414085167L245.86681863655394,277.80642545727693L240.41833689480103,277.5883719002959L235.82198814191506,283.3378551135071L230.43840782680624,280.62287594290865L227.17790472131222,277.98464183118335L225.91891301063274,273.676501435792L224.1587216744242,269.4430471018234L220.58379793413454,265.6736019086556L217.53901370661333,262.9211026874684L215.47438331816647,259.9952480784856L204.23990964489002,258.6442590443399L203.83606213385917,261.761278638644L198.7044666470353,261.0746372269417L185.84989187174602,259.2288745702439L172.19422357264114,251.3681742212956L163.34453531706293,245.86103046237562L164.21379891239647,244.49638659908985L156.0293747712744,243.67677273051262L148.80079098611893,242.6925757549408L148.6153222090342,238.61384546156978L145.590009139558,233.33082406197178L142.91639860980555,231.75012919182592L142.80024495802684,229.4244119228706L139.46834767490645,228.2036611544478L137.75461450574986,225.6079252985947L134.60711412234565,224.3991428548968L132.3199089748197,223.46505756384164L131.24753778255274,222.09486443714604L131.0618484163126,221.84164203992088L131.4538151197235,217.5225739319534L127.67838488792853,208.4493589178801L125.7231924845293,196.7464503737446L126.4566966032126,195.0384429549572L124.6254961232454,191.83596778381911L122.01089704369207,184.3322847214182L123.10151622142249,178.06012640843926L121.36213017440559,173.12647020310288L124.47019402033584,167.33734547575864L126.19779885792659,160.92485943079697L126.18663412335283,154.73994084444655L130.3973442412735,148.4219410866109L134.81175370450947,137.80414278899894L135.73074598257887,135.4920236678504L137.7886753370118,125.37044484952321L138.14480125416353,118.62978458892883L137.6985275969445,114.83470938044627L138.555763477085,113.88327278389215L138.77924466240742,113.61447342336845L139.57918688542682,114.1995170854052L145.16156425687828,118.23929477272821L145.82441991328503,125.91950819077516L147.62121125301556,124.34179826360975L147.7802690211104,123.03930221779177L148.5647833939177,118.08122724428398L148.5501770902567,111.63083833190268L162.54455789428033,115.46601798132366L177.22924901978627,119.01156338441075L182.14783706375167,120.09142525957304L197.3584169029727,123.09432653957384L212.19851865276246,125.54077804392494L227.3706636287782,127.5561250431349L242.59890721949935,129.091118151304L259.85325668237346,130.24557652098906L277.27032757510574,130.78513647846876L287.87168553607023,130.80673321624437L287.84589433218434,127.91096515146404L289.5574534718153,127.82837815172417L290.47308077275,132.00089676308414L292.08973411270426,133.26493423079643L295.69677001292933,133.64005463480316L301.0046952151478,134.70589470123713L306.0528004522014,136.82748958183112L310.2252459847687,135.6474803995299L316.64374657109283,137.19899623686638L318.3172722831678,137.0184667668927L322.77521075719426,134.54239564531878L327.83046487395336,136.90103280463399L333.2189635261674,139.31292957634025L337.6720101025785,141.38728550937907L341.9526083419064,143.38383965298522L342.7336257209525,145.31957520481092L344.0477874497554,145.88221776588307L343.79946726308555,146.69817651980804L345.26811684149476,146.78125854023705L346.1975079907427,145.87926450047104L346.69028366460117,147.5873595799468L347.8755218988727,148.6833532010536L349.31801158884764,148.49651835428176L350.2619213205206,149.29155070500832L349.7520331938792,150.73865191156085L355.78145513488914,153.5988966221508L357.9527513536184,160.2819835214625L359.98663585495376,166.7983852542377L359.06410563407184,171.50283321285656L356.99134300748653,176.10270616785527L356.1957669433643,178.92945430868917L356.1563982270867,179.7302561311243L356.89180009664204,180.75685059167796L359.0390418505827,181.7184847555189L360.4299975165971,181.52049593031057L366.3001459323621,176.45622175527666L371.88933306298344,174.28867373819367L378.4218940454372,169.28605470183487L378.4242057209428,168.48567626762474L377.50447493714887,166.25348197773928L376.31449712452905,164.93592073553225L378.570759191895,163.2616104502253L383.93849384188746,162.24591755589574L388.872875123932,161.2610878161541L390.019083572527,157.94907813247136L390.5280009627124,157.24110436944108L395.05058006777614,150.5822237805699L397.07726730180696,148.65659852641943L405.10017493428455,146.77549950107078L414.77871639340583,144.25719956773952L414.8388765470596,142.2832357905403L416.3814748266667,141.53443068209214L418.28844906807706,139.73408208884052L419.1869221314891,135.9038971993375L419.17574665209327,129.69287517286222L421.4007905168623,123.0531312273057L423.6603654675125,124.4888458613288L426.618506578896,122.25766277037741L429.54006946568063,123.6762870393236L432.60333756183405,133.6904238332164L437.2198822118321,136.76781265113686L438.8575740215624,138.92283935332438L437.66675165401375,140.32364464327344ZM180.71754468758138,300.96002634301294L179.57500915058304,298.88736940365766L177.10068135983965,297.414172040547L175.59348086159687,295.2243496500759L174.8045276733368,295.345050130996L174.23960261989882,295.4410572278805L173.58134279926313,295.6078208877083L172.06703747344372,295.9792465784608L170.28160502839432,295.63631545879247L166.87603643669667,293.5592036801844L165.7021847271017,293.36055274265385L165.4994542537555,293.3314031741705L164.49755273210258,293.1304057958588L163.0254673611444,292.81600854708194L161.22832008026853,293.3412043536711L158.47688480945888,292.47006230999295L156.7908699810826,291.5078344945886L155.40870230075586,292.21532806742783L155.84717668089385,294.03964578005264L155.6105525023881,294.1297033237409L155.11675504676907,294.2865065321304L153.60602039479133,294.9712321580852L152.47803745456469,295.93136175172594L150.97504184037652,296.5688254275381L150.7281754858392,294.9953693664156L151.2384007087826,292.3406043970434L152.58487601992962,291.42858356126965L152.19785508330307,290.78376599371666L150.60876309412626,292.33996037526776L149.74657882507302,294.1736020718435L148.71515300400475,295.2207442522714L147.81930111749602,296.095495495882L148.53553474093204,297.0321748136853L148.8440249382525,297.39586564645435L148.3083034783672,298.1788338132377L147.52428206405742,299.3472693076868L145.97779690912188,300.4511383988973L144.5184918693382,301.2355719336406L144.11669125478167,302.41143070754606L141.75544026591942,303.6894128920611L141.6420849873799,303.9572209586993L141.21048095226837,304.914160124374L139.46633452429546,305.8828116504985L139.36425803772735,305.9200789064326L138.3425286439412,305.62195010323967L137.47291234103284,305.9948086972473L136.85080321865507,306.227264874316L136.30205449771188,306.48758621406114L135.20143909975297,306.9538021430184L133.80736077404077,307.6917068651454L131.0505196930244,308.03759907878936L130.88458672002,307.5478325997067L132.7499996601943,306.5717226270185L134.36437628045056,305.9705821768923L136.1497358237052,304.72220640106406L138.02804511465857,304.60428730521625L138.6672259024704,303.8391422426339L138.86549390398883,303.58196162631464L141.0150443066985,302.1503435574626L141.05608751889216,302.1073710345754L141.39239114851756,301.6259696514096L142.49894278183135,300.7542192973408L142.86871945923517,298.7339056967037L143.65384014975615,297.1677219824862L142.0057986490791,297.90359371999574L141.58648453907776,297.3940169456498L140.77443959095046,298.3227342382659L139.96452062186873,296.90116521793567L139.52034571712807,297.82766447045356L139.1815786686111,296.6001099802467L139.12558509543967,296.4336777254721L138.8562055530943,296.61458608037617L137.63728904413748,297.36177941758467L136.79275326410038,297.2639146859895L136.85939397128507,295.81835994676135L136.86112783244272,295.65702517030047L137.22475120957338,294.70859578683735L136.52144818368018,293.6980480381369L136.49278506349722,293.64815636183056L135.45153422444466,293.8084745872394L134.69235619991872,293.9301620168244L133.77357085454327,292.48895241214075L132.98114198869376,291.70598821648014L133.2382713044166,290.2157955618617L132.45672207950122,288.88933062655155L133.05936414128658,287.7884101120086L133.21640185442197,287.46753063731865L134.47544015587272,286.1508715787576L135.11938633049664,284.864448752421L136.128950918253,284.81170411977325L136.87744670471716,285.35766920232527L137.18880227672938,285.05352769305915L138.00909458754543,284.19090032148245L138.44229256075403,284.35907637047103L138.8461528507217,284.52135112704957L139.84294830573475,283.80095821794333L139.81804589326174,283.5915175128336L139.757462724816,282.55095327136644L139.16353286995158,282.0032790545344L140.1072639561804,281.07141370982947L139.40997237219483,281.01965768797595L138.13864566230194,281.4653316071268L137.7068397088993,281.9850667105544L137.3105367816196,281.6546497217579L136.89124573682898,281.2953539129517L136.2844778620838,281.29753578972344L135.22828556796773,281.33720327688184L133.67343289009358,280.4110070645353L133.41519374620543,279.245292141044L132.33084583299777,277.43866772737044L133.7304904883053,276.8207905665722L134.0809651803076,276.65733167864323L134.6784810367263,276.46934109917436L136.67680166016547,275.7746593192537L137.54402180175282,275.9071306380627L137.4431117497337,276.3062168633051L137.20907167807815,277.21513496851253L138.7497003408756,277.3581053247998L139.50073183574048,277.40342982818584L138.8377647694218,275.67179690584464L138.36079337130985,275.17299697966695L137.6840132440493,274.4804022173718L137.19048689381202,273.1424778132735L137.15173908642114,273.0445216186742L137.04472906953143,272.8667418743796L136.38125746139306,271.76841900404213L135.16915088586768,270.694344151567L135.33962696217162,270.4279804318031L135.97413606381065,269.4217930614517L137.5428821210609,269.60214866995506L137.7059858364203,269.62817551872365L139.08929158975695,268.62605093309725L139.4865348732557,267.36400360621303L140.58107509425963,266.2372990733908L141.31868464835296,266.0958394198276L141.5035805732044,266.0479622068891L143.3239342332021,265.0454346472728L144.0367004994573,265.2519951059603L144.14055246807342,265.2809155831803L144.3641923002549,265.07070291920616L145.5764311457661,263.9470318346089L146.90610004176398,264.54056472566015L147.53535034314498,265.73036172462605L147.93535135144316,265.2173098359468L149.4584704144346,265.3520967304221L149.42735678381302,265.9565995203974L150.84477698047368,266.35108355139795L151.75587430986434,266.03025380122335L153.7519799520214,266.7008429829234L155.5524725002469,266.7489408684148L156.30799144548567,267.0115400339098L157.47938719862577,266.4075033749182L158.4842649557878,266.7638948201013L158.99961559196387,266.9460531293126L159.08781419767013,266.95281269965955L160.078083377871,267.1070442948329L161.99148054597677,276.81691777232754L164.97280747976643,291.8477584432912L166.26955199307548,291.65069308084776L167.70100655605037,292.1079936710729L168.87118057818196,293.033561622245L170.49204241403353,294.47329253711376L171.38402463504758,292.67632369328356L172.47222134121012,291.46988429944764L173.53984595076517,292.61489149075896L174.7468510709382,293.4002745246705L176.3369656388082,294.1736150409152L177.7742415169591,295.72740715180066L180.1576764385111,298.15476501528315L183.12822113981713,298.89970637748854L183.77090116854922,300.48831307968834L183.43131010572515,301.9797576415056L182.27847777361632,301.33069733853984L182.161584618187,301.2998683069086Z\" style=\"stroke: none; fill: rgb(237, 237, 237); fill-opacity: 1;\"/></g><g class=\"layer subunits\"><path d=\"M304.631686950427,147.78939972955828L303.2092117930331,148.30241392390894L303.4464330370238,152.589650415694L303.30541966035275,152.53001748200978L302.0208119920101,153.4255644713282L300.8684186137685,154.24829861596095L300.1488586060642,155.64144452481486L301.382982503368,157.03491694264022L301.0305818682579,159.00529820338966L301.10175280178464,161.0930714322252L300.947716513239,162.79762945840378L302.6251133633432,164.17718059374164L303.26498450158783,164.21863585484738L305.0816338467688,165.25873806837268L305.6716401198435,165.75757709458776L306.13473715612315,166.5887881018574L307.54669374529607,167.83558521057392L309.45601975813776,168.85830454265368L309.7030893916922,169.50150436857558L309.79463560215186,171.33294994937313L309.984276603763,172.24178687131405L302.71275646187047,172.42575143552023L294.6523662963972,172.65748112496175L287.09422986073446,172.8935896515976L281.0449107438792,172.89947130333712L281.1503088864114,165.69944488145768L280.5543422745572,158.31552236771307L279.5786324638029,157.7217922609414L279.0993190013674,156.54404780775081L279.38697595779666,155.50353959257433L280.57576257724634,154.66481390755274L280.65162889359067,153.55794981142384L280.6598364621578,152.1257242315412L280.3904951210197,150.95285457957237L279.91634498181645,149.71393192742073L279.6531109676905,148.15195459207115L279.6662536219659,146.4632382324698L279.46478011640926,146.00716162998924L279.27874913627204,143.79951303793825L279.21978079400907,142.76162292791759L279.1599415731515,141.85380871158765L278.90351635117196,140.29703922816003L278.3120690404106,138.73786780133855L277.7229024857154,137.308494472895L277.67207057251653,135.95080216724403L277.6231676639304,134.4650121787895L277.7681876440441,133.49880085130462L277.8454214716701,132.59676381154713L277.39383209243425,131.4954200398547L277.27032757510574,130.78513647846876L282.70346712416415,130.82519081691333L287.87168553607023,130.80673321624437L287.85391345185343,128.81133066941942L287.84589433218434,127.91096515146404L288.7013957223921,127.83828638811968L289.5574534718153,127.82837815172417L289.83758768981284,129.11130207599257L290.47308077275,132.00089676308414L292.08973411270426,133.26493423079643L294.2262909470032,133.48088433657057L295.69677001292933,133.64005463480316L301.0046952151478,134.70589470123713L304.4097450706547,136.12385979079994L306.0528004522014,136.82748958183112L307.6435754233832,136.36365233179424L310.2252459847687,135.6474803995299L316.64374657109283,137.19899623686638L311.5485830568021,140.0439448173015L307.9837367088881,143.28270426940168L304.5853059090181,146.6860069137922ZM242.3348228236322,129.0686343813942L241.28769794649935,142.92985008719415L240.77582690909594,152.2159800814053L239.9015897589964,159.2104624920932L230.87381369588866,158.2303959485982L221.2146646846083,157.20954461489117L212.8481293839305,156.05273104993597L202.32732382664878,154.54804031523634L201.7187824795089,158.35451852756626L201.59710834790374,158.66610585158168L201.03941980270992,158.1130093148734L200.71700519945318,157.00146352339374L200.1306860335656,156.64111861994382L199.1075975333281,158.06275627260624L197.88567564797467,158.05843219865483L194.88619598764132,157.08262349691694L194.61205426598804,157.83130733535035L192.92084786733838,157.2022423971348L191.74652724194758,158.1219292769763L191.1285752702198,155.95081800228496L190.70102657080685,154.74373688286664L189.62438965556152,154.34653733111531L189.44182456604204,153.78118032773904L189.4654598798126,151.72647077620718L188.6790492718501,150.58316711437902L188.507783885609,148.09454748896457L188.08570079999635,146.9525403892609L187.5064536163817,146.64259706148903L186.76131053617564,147.56126108969778L185.55829042247785,148.2576190959805L184.74891037608054,147.30126581406358L185.05912651164476,145.36937145602434L185.76122484829529,145.04273140897715L185.74220732581347,142.98165379828788L186.59317144501077,141.1594872143309L187.5378413077861,139.5553479691389L185.93209584930696,139.1737002479661L184.86929423144645,137.83530975884787L183.85807029050102,135.24582390035044L183.22440863036195,133.92394630503662L182.2364865852699,132.99095259572948L181.4919126728518,131.57685474968747L181.7719811382135,130.24565339196602L180.880703905229,127.93977293038671L182.14783706375167,120.09142525957304L197.3584169029727,123.09432653957384L212.19851865276246,125.54077804392494L227.3706636287782,127.5561250431349ZM277.27032757510574,130.78513647846876L277.39383209243425,131.4954200398547L277.8454214716701,132.59676381154713L277.7681876440441,133.49880085130462L277.6231676639304,134.4650121787895L277.67207057251653,135.95080216724403L277.7229024857154,137.308494472895L278.3120690404106,138.73786780133855L278.90351635117196,140.29703922816003L279.1599415731515,141.85380871158765L279.21978079400907,142.76162292791759L279.27874913627204,143.79951303793825L279.46478011640926,146.00716162998924L279.6662536219659,146.4632382324698L279.6531109676905,148.15195459207115L279.91634498181645,149.71393192742073L280.3904951210197,150.95285457957237L280.6598364621578,152.1257242315412L280.65162889359067,153.55794981142384L270.51488850537663,153.7894044549584L261.8420692735372,153.49222744015145L250.88902942271798,152.90449214688817L240.77582690909594,152.2159800814053L241.28769794649935,142.92985008719415L242.3348228236322,129.0686343813942L242.59890721949935,129.091118151304L259.85325668237346,130.24557652098906ZM223.17097139806464,301.90991789524986L224.4921912033416,302.5508566381656L225.6290534639426,303.5823227383766L227.5346452168346,306.2326331728767L227.34997082627007,306.6895278590002L224.53249143560245,308.33786724826166L222.17973097772241,309.524297102749L221.1476049744012,310.83199169927286L219.34742019217904,309.73354877472207L219.52714810059214,307.585150608848L218.2906567507073,304.79339946338865L218.6642222042335,303.94694579450334L219.97678468491733,302.70673847289004L219.40593989788567,301.21514092997523L219.8728180336886,300.4987806942678L220.4373069846534,300.62603732127513ZM218.82407633387396,296.6744513854467L218.26488396544852,297.6495185867167L215.82640007699413,298.17574078466095L214.60358443611918,296.5564314092482L213.75890400477928,295.97400738420004L213.66457711568899,295.4554512531033L214.41336346633804,294.8062593849905L216.94501940853428,295.5136992890051ZM213.3816013301732,293.5763455048831L213.10140589793332,294.41893571425294L209.26130690559214,294.15883888817757L209.82412045157443,293.25242328025445ZM204.22291050100498,289.41906984731816L204.87491781361214,289.9391518874336L206.92420219429448,292.47008505738364L206.54867656658195,292.922458153432L205.9875150135221,292.7912892217805L203.46183977012262,292.52277765690104L202.62822566208658,290.7708219008466L202.349079263612,290.5105556997736ZM194.63604651974885,285.6059568693524L194.80651391928993,287.3523430481784L193.95927062645308,288.12024206437275L191.54777235613682,286.67323489558447L191.9264212163205,286.1603522708044L192.96004992674298,285.3958773850253ZM182.14783706375167,120.09142525957304L180.880703905229,127.93977293038671L181.7719811382135,130.24565339196602L181.4919126728518,131.57685474968747L182.2364865852699,132.99095259572948L183.22440863036195,133.92394630503662L183.85807029050102,135.24582390035044L184.86929423144645,137.83530975884787L185.93209584930696,139.1737002479661L187.5378413077861,139.5553479691389L186.59317144501077,141.1594872143309L185.74220732581347,142.98165379828788L185.76122484829529,145.04273140897715L185.05912651164476,145.36937145602434L184.74891037608054,147.30126581406358L185.55829042247785,148.2576190959805L186.76131053617564,147.56126108969778L187.5064536163817,146.64259706148903L188.08570079999635,146.9525403892609L188.507783885609,148.09454748896457L188.6790492718501,150.58316711437902L189.4654598798126,151.72647077620718L189.44182456604204,153.78118032773904L189.62438965556152,154.34653733111531L190.70102657080685,154.74373688286664L191.1285752702198,155.95081800228496L191.74652724194758,158.1219292769763L192.92084786733838,157.2022423971348L194.61205426598804,157.83130733535035L194.88619598764132,157.08262349691694L197.88567564797467,158.05843219865483L199.1075975333281,158.06275627260624L200.1306860335656,156.64111861994382L200.71700519945318,157.00146352339374L201.03941980270992,158.1130093148734L201.59710834790374,158.66610585158168L201.7166221922525,158.81763940407018L198.6977564136247,177.71748789707402L182.08729046668944,174.8634904597746L165.4575437181905,171.32976693857393L168.63536228985237,157.8595441108689L169.54135344361012,155.7817094091793L169.33854240953525,154.73033093080437L168.48105637955865,154.00025355578248L168.75582652876113,152.78835676850582L169.89120346965132,151.30231219723214L171.3375480844137,150.0192493083527L172.6314863200862,147.76481908324155L173.80597864026092,146.01929674846014L174.49338286910614,145.16852094437627L174.47182393670596,143.9625869295685L173.7279591484412,143.13150816403868L172.81818272908248,141.46102200026417L173.18420088255291,140.14186971379485L172.96816457775844,138.89309533974324L175.16869714438764,128.4773714656975L177.22924901978627,119.01156338441075L180.46390197846276,119.72775398748382ZM177.22924901978627,119.01156338441075L175.16869714438764,128.4773714656975L172.96816457775844,138.89309533974324L173.18420088255291,140.14186971379485L172.81818272908248,141.46102200026417L162.13036126724805,139.0153779124854L160.05462223664466,139.30485567806818L158.78672296195916,138.64940547703912L157.6318019710955,138.9603777124646L155.53331651258387,139.29433782189574L153.1918372764283,138.61274296650953L151.8961461430859,138.87494245558952L150.68342900976643,138.81918052880906L149.97789116133353,138.22295992471442L148.2490532109828,137.4120657441319L146.9706823959622,137.32857683117345L144.81174052261477,137.53568083986193L143.51794281797535,137.2361095778611L142.40012177154293,136.57655556441898L142.28733029962012,135.45862331970824L142.51553235052813,134.1682160918429L141.9823595065395,132.52178685794712L140.6489153365921,131.6564353299019L139.59233638062236,130.59720417323496L138.00362731301797,130.12195272785488L136.89813508133315,129.71989815250794L137.7886753370118,125.37044484952321L138.14480125416353,118.62978458892883L137.6985275969445,114.83470938044627L138.77924466240742,113.61447342336845L145.16156425687828,118.23929477272821L145.82441991328503,125.91950819077516L147.62121125301556,124.34179826360975L147.7212419921444,123.49413482429708L148.5647833939177,118.08122724428398L148.5501770902567,111.63083833190268L162.54455789428033,115.46601798132366L170.77501653852096,117.51289577968782ZM204.67945736893984,217.79513369316396L198.7044666470353,261.0746372269417L185.84989187174602,259.2288745702439L172.19422357264114,251.3681742212956L166.00178583466092,247.5237892197417L163.34453531706293,245.86103046237562L164.21379891239647,244.49638659908985L165.0320030632723,244.65908118584042L166.06004925737284,243.32389043120767L165.12196434131877,242.06790418315177L165.108445000222,240.86051243045344L165.0533992414496,239.44360299116858L166.6143202090525,237.94605759012887L167.7850667905647,234.56093713442027L170.01606714308753,233.38922033956652L169.0895384279496,231.73570762370883L168.5685814972747,230.15939244789354L168.35755453372394,228.71012962211893L168.24377380529256,227.6148316198928L168.2129676000775,226.93812509306088L168.91666365989687,225.4681599748053L168.8945688322458,223.92108484749582L169.01891082535866,222.46984715700677L169.35261549757263,220.7916195439961L169.0874811973697,219.66499135006444L169.659414079046,218.83934949491106L170.9124790063497,219.08726624708305L171.98713939048176,219.83409327857674L172.70918250164576,220.30931363270565L173.32562563382797,219.22151739975635L173.68866917454002,219.0231566892287L174.78987079528898,212.86561310131918L184.4355137099526,214.49926036306755L195.9455071869963,216.45456215382916ZM168.2129676000775,226.93812509306088L168.24377380529256,227.6148316198928L168.35755453372394,228.71012962211893L168.5685814972747,230.15939244789354L169.0895384279496,231.73570762370883L170.01606714308753,233.38922033956652L167.7850667905647,234.56093713442027L166.6143202090525,237.94605759012887L165.0533992414496,239.44360299116858L165.108445000222,240.86051243045344L165.12196434131877,242.06790418315177L166.06004925737284,243.32389043120767L165.0320030632723,244.65908118584042L164.21379891239647,244.49638659908985L156.0293747712744,243.67677273051262L149.38618725084498,242.75735346982327L148.80079098611893,242.6925757549408L148.6153222090342,238.61384546156978L145.590009139558,233.33082406197178L142.91639860980555,231.75012919182592L142.80024495802684,229.4244119228706L139.46834767490645,228.2036611544478L137.75461450574986,225.6079252985947L132.3199089748197,223.46505756384164L131.0618484163126,221.84164203992088L131.0955374355903,221.71452680122752L131.4538151197235,217.5225739319534L129.1714667615426,212.06866555405776L127.67838488792853,208.4493589178801L125.7231924845293,196.7464503737446L125.96180211702372,196.19827739944782L126.4566966032126,195.0384429549572L124.6632704994521,191.9841631662606L124.6254961232454,191.83596778381911L123.45138694127292,188.67768430936366L122.01089704369207,184.3322847214182L123.10151622142249,178.06012640843926L122.47058336455135,176.21843685651743L121.36213017440559,173.12647020310288L123.44568559851385,169.15571265718847L124.47019402033584,167.33734547575864L126.19779885792659,160.92485943079697L149.13068982641914,167.4552907113295L143.32944935939298,189.93965325960824L151.72220145527052,202.80270856623025L160.0822245569992,215.16610167531832ZM248.38470118359388,198.78578693577145L247.62319545852154,210.74412278728408L246.9033435824017,222.04834574262003L241.07866919263228,221.64782099434063L233.84331922366306,221.06768795231648L223.55467705711953,220.08459953206926L214.06847054284333,219.01289961024105L204.67945736893984,217.79513369316396L208.84596543804196,187.06937167189352L214.54443620987604,187.8263111809909L220.25056362079738,188.52318744562524L231.68325532822183,189.73644765557555L237.41411173740929,190.1871736790509L248.87804630890855,191.03852187265045L248.39724860646558,198.58874797489364ZM165.4575437181905,171.32976693857393L182.08729046668944,174.8634904597746L174.78987079528898,212.86561310131918L173.68866917454002,219.0231566892287L173.32562563382797,219.22151739975635L172.70918250164576,220.30931363270565L171.98713939048176,219.83409327857674L170.9124790063497,219.08726624708305L169.659414079046,218.83934949491106L169.0874811973697,219.66499135006444L169.35261549757263,220.7916195439961L169.01891082535866,222.46984715700677L168.8945688322458,223.92108484749582L168.91666365989687,225.4681599748053L168.2129676000775,226.93812509306088L160.0822245569992,215.16610167531832L151.72220145527052,202.80270856623025L143.32944935939298,189.93965325960824L149.13068982641914,167.4552907113295L165.4431255849987,171.39384693445157ZM198.7044666470353,261.0746372269417L204.67945736893984,217.79513369316396L214.06847054284333,219.01289961024105L223.55467705711953,220.08459953206926L233.84331922366306,221.06768795231648L241.07866919263228,221.64782099434063L240.79740554748793,225.45637298105953L239.30040482236996,245.72705205457422L238.23232338691318,260.1897945497832L232.27367713867406,259.7206406864592L220.7064273209675,258.6433172965718L214.8472849600613,258.013426994779L214.85787435832492,258.6739907748756L215.47438331816647,259.9952480784856L204.23990964489002,258.6442590443399L203.83606213385917,261.761278638644ZM172.81818272908248,141.46102200026417L173.7279591484412,143.13150816403868L174.47182393670596,143.9625869295685L174.49338286910614,145.16852094437627L173.80597864026092,146.01929674846014L172.6314863200862,147.76481908324155L171.3375480844137,150.0192493083527L169.89120346965132,151.30231219723214L168.75582652876113,152.78835676850582L168.48105637955865,154.00025355578248L169.33854240953525,154.73033093080437L169.54135344361012,155.7817094091793L168.63536228985237,157.8595441108689L165.4575437181905,171.32976693857393L165.4431255849987,171.39384693445157L149.13068982641914,167.4552907113295L126.19779885792659,160.92485943079697L126.18663412335283,154.73994084444655L130.3973442412735,148.4219410866109L133.0991443573143,141.99443373710955L135.73074598257887,135.4920236678504L136.89813508133315,129.71989815250794L138.00362731301797,130.12195272785488L139.59233638062236,130.59720417323496L140.6489153365921,131.6564353299019L141.9823595065395,132.52178685794712L142.51553235052813,134.1682160918429L142.28733029962012,135.45862331970824L142.40012177154293,136.57655556441898L143.51794281797535,137.2361095778611L144.81174052261477,137.53568083986193L146.9706823959622,137.32857683117345L148.2490532109828,137.4120657441319L149.97789116133353,138.22295992471442L150.68342900976643,138.81918052880906L151.8961461430859,138.87494245558952L153.1918372764283,138.61274296650953L155.53331651258387,139.29433782189574L157.6318019710955,138.9603777124646L158.78672296195916,138.64940547703912L160.05462223664466,139.30485567806818L162.13036126724805,139.0153779124854ZM182.08729046668944,174.8634904597746L198.6977564136247,177.71748789707402L197.50563793878442,185.18084010030879L208.84596543804196,187.06937167189352L204.67945736893984,217.79513369316396L195.9455071869963,216.45456215382916L184.4355137099526,214.49926036306755L174.78987079528898,212.86561310131918ZM201.59710834790374,158.66610585158168L201.7187824795089,158.35451852756626L202.32732382664878,154.54804031523634L212.8481293839305,156.05273104993597L221.2146646846083,157.20954461489117L230.87381369588866,158.2303959485982L239.9015897589964,159.2104624920932L238.7136651150994,174.87363130329277L237.41411173740929,190.1871736790509L231.68325532822183,189.73644765557555L220.25056362079738,188.52318744562524L214.54443620987604,187.8263111809909L208.84596543804196,187.06937167189352L197.50563793878442,185.18084010030879L198.6977564136247,177.71748789707402L201.7166221922525,158.81763940407018ZM322.46084941263246,229.42304987399405L322.424837498178,230.08511554305852L321.9392311608755,231.23853451486974L320.865249167926,232.0334241624734L320.7080726694172,233.36216472236214L319.80532028220074,234.4074660012692L320.0236911931021,236.6350495755758L319.34079105051615,237.40173635799016L319.2996158826604,238.06316339075045L318.1972646776375,238.65578327679296L318.2625453440172,239.771845938496L317.48941027523995,241.9239949440628L316.8634076299443,242.4202317949083L315.77866600181227,243.53312438149814L315.20849676770683,245.1431412491577L313.95210412182183,247.90544313915623L313.87986338384684,249.75041626691484L314.72726478768067,251.74532974082135L314.4728686271861,253.27001565654263L309.0650782247787,253.25861587903754L302.0988961494723,253.774046801174L295.95025004148243,253.93061433675553L296.2730219961526,249.52414783485014L294.78681551308733,249.48796139181277L293.55158746284144,249.64107056752067L293.2131169316691,249.12107675466234L293.2677227974086,242.3506534715662L293.30653917656474,234.8507988690107L291.9013341306386,226.70982706190222L299.36359422944946,226.62038646500162L306.1108686274332,226.46317895218493L312.5360917101517,226.17768517909525L319.54106977732016,226.24682876737756L320.0747809113172,227.13696512552838L319.4125015863674,228.0356626929335L318.82774188921405,228.9287418228074L318.4726032050851,229.67549571440543ZM281.0449107438792,172.89947130333712L287.09422986073446,172.8935896515976L294.6523662963972,172.65748112496175L302.71275646187047,172.42575143552023L309.984276603763,172.24178687131405L310.0759900544766,172.63081497299027L310.8601274781028,173.83759527269552L310.3850463566359,174.45270449746778L310.4648979387366,176.02431969158238L310.7916673594767,176.73000798840354L311.1464285094063,177.95974281862811L313.07662140724835,178.5788969803387L313.6527103993087,179.72978135420226L314.05113944373284,180.29885178313822L314.73130847733745,180.65410170489605L315.00060354131034,181.4932703417868L315.9144879089791,182.03080881970686L316.54090171956403,182.65052507640019L316.3754011208359,184.7665040658469L315.44508773775283,186.53374287009865L315.11013415608505,187.14588095956475L313.8043557859392,187.68127670415083L311.89636692676874,188.113614741162L311.44848061693017,189.51912304585574L312.2224982857112,190.0713405889315L312.50839398201083,191.24140484129322L311.8311216649962,192.5939977335242L311.51796718876386,193.79558102990842L310.07756113551187,195.05272365552105L309.9938009163279,196.4399806109284L309.2107325306868,195.81840787078465L308.0276812990544,194.62117810313885L301.73385709787823,195.06339996132738L295.12993405972776,195.30821570162823L289.94892897563244,195.39299229093865L284.76735450559124,195.42886376893063L284.3148611178093,194.04830683177818L284.5371095898235,192.66681177414955L284.3855726436515,191.28616132918182L283.78837818108656,189.05154904037397L283.41749231556054,188.13141715891425L282.9731825926626,187.8682397292846L282.97509799326986,186.09408542671514L282.60819817568733,184.84539293112152L281.582423845225,183.3976852095101L281.5848394592041,182.74103596533433L281.22347412592154,181.49215332277606L281.0076617775832,180.70346982922473L281.0111076048429,179.98153755757397L280.14077432324905,179.12359032801908L280.58494849861177,177.8797208079867L280.8820241852516,176.63510620549886L281.03114566702243,175.7833805813887L280.31349156233256,174.7305128280396L280.32476018272797,172.89554140940186ZM246.9033435824017,222.04834574262003L247.62319545852154,210.74412278728408L248.38470118359388,198.78578693577145L258.51459827653844,199.33769125738525L266.0798933037651,199.62852418579013L279.4775917781876,199.88952130382836L287.50272019159877,199.89050086302035L288.87554077030296,200.9321190838304L289.63403541088763,200.9243258757645L289.79830076559654,202.04154258026722L289.05256240719365,203.49770328091904L289.4412039348547,204.2179339215191L290.2238048417002,205.85518045143425L291.7648576405948,206.55902881424737L291.80866805068314,214.85662799449773L291.92910365904055,223.1534827261998L286.5643183322733,223.2064017818024L275.6766498379006,223.16039181913476L264.71293366108154,222.90629849110258L258.72101157075286,222.6792341891453L252.65298889756934,222.38566746355298ZM322.46084941263246,229.42304987399405L318.4726032050851,229.67549571440543L318.82774188921405,228.9287418228074L319.4125015863674,228.0356626929335L320.0747809113172,227.13696512552838L319.54106977732016,226.24682876737756L312.5360917101517,226.17768517909525L306.1108686274332,226.46317895218493L299.36359422944946,226.62038646500162L291.9013341306386,226.70982706190222L291.92910365904055,223.1534827261998L291.80866805068314,214.85662799449773L291.7648576405948,206.55902881424737L290.2238048417002,205.85518045143425L289.4412039348547,204.2179339215191L289.05256240719365,203.49770328091904L289.79830076559654,202.04154258026722L289.63403541088763,200.9243258757645L288.87554077030296,200.9321190838304L287.50272019159877,199.89050086302035L286.7361653127376,198.25019513133122L285.82629904117397,197.26767150370887L284.84399122325624,196.0865597394578L284.76735450559124,195.42886376893063L289.94892897563244,195.39299229093865L295.12993405972776,195.30821570162823L301.73385709787823,195.06339996132738L308.0276812990544,194.62117810313885L309.2107325306868,195.81840787078465L309.9938009163279,196.4399806109284L309.632431381804,198.36762590292676L310.2749901978918,200.70898355344627L311.26344035132144,202.24221694301156L312.4720680107762,203.49905590685518L313.9007923244078,204.47799821606918L314.4533118882093,204.7773786238186L314.99277661432075,206.19807495141362L315.143366922067,207.5086094247397L315.85299961854844,207.79799592494732L316.973433122792,207.2046961204398L318.12409818969076,208.38844267105748L317.90476915298495,209.85332912970432L317.4323138679523,211.0034702765754L317.12805533255244,212.4070516500962L318.05160466717587,213.5391339597113L319.2812822250146,214.51880359668297L319.98484615176454,214.54011502469052L321.6487876438456,216.08109710574792L322.2900064161015,216.30189349104302L322.80606183446656,218.11491687195024L322.7305281050767,219.30825679497588L323.56840065016047,221.16469865253913L324.2619665949233,220.9179468375724L325.3693685428942,222.02682859133358L325.2689287754546,222.82634941697205L325.43348095750395,224.0027320539009L324.5318896084058,224.72746155820477L323.2455025731051,225.67508628593094L323.1363387003833,226.4084389850949L322.81508839032824,227.5519812603286ZM248.38470118359388,198.78578693577145L248.39724860646558,198.58874797489364L248.87804630890855,191.03852187265045L237.41411173740929,190.1871736790509L238.7136651150994,174.87363130329277L249.56514899679146,175.6824822124757L257.8945527861875,176.15171995748648L269.0582922667303,176.57477063707955L270.4844985743703,177.59598164243442L272.5794855477419,178.23393394701952L273.02246014516885,177.91482257016946L274.3311155797179,177.93915213101718L276.367797455143,177.90500051904536L277.8112033873111,178.90670129569503L279.3356069904192,179.57715577071525L279.54946598104,180.23507795723134L280.0584492915942,180.56682342666386L281.0076617775832,180.70346982922473L281.22347412592154,181.49215332277606L281.5848394592041,182.74103596533433L281.582423845225,183.3976852095101L282.60819817568733,184.84539293112152L282.97509799326986,186.09408542671514L282.9731825926626,187.8682397292846L283.41749231556054,188.13141715891425L283.78837818108656,189.05154904037397L284.3855726436515,191.28616132918182L284.5371095898235,192.66681177414955L284.3148611178093,194.04830683177818L284.76735450559124,195.42886376893063L284.84399122325624,196.0865597394578L285.82629904117397,197.26767150370887L286.7361653127376,198.25019513133122L287.50272019159877,199.89050086302035L279.4775917781876,199.88952130382836L266.0798933037651,199.62852418579013L258.51459827653844,199.33769125738525ZM241.07866919263228,221.64782099434063L246.9033435824017,222.04834574262003L252.65298889756934,222.38566746355298L258.72101157075286,222.6792341891453L264.71293366108154,222.90629849110258L275.6766498379006,223.16039181913476L286.5643183322733,223.2064017818024L291.92910365904055,223.1534827261998L291.9013341306386,226.70982706190222L293.30653917656474,234.8507988690107L293.2677227974086,242.3506534715662L293.2131169316691,249.12107675466234L290.47506232082753,247.64774625682622L288.65904758211923,246.87745007076126L287.26598355398687,247.4133028370573L285.0460140355732,247.29149840943734L283.73096444004557,247.35901801984576L282.5791908583028,247.9495300183461L281.5907394024652,248.27557943451384L280.60476285582706,247.87738118583323L278.544159469244,248.32360469589383L277.5692743739863,247.00067396903663L276.5704911006274,248.10683797445438L274.84976870561087,247.55877204170127L273.06148032200684,246.34735001668957L271.1578247686987,247.09966203841051L270.37667396983596,245.2426748407804L267.4244970394078,245.3018940110446L265.63415002089425,244.8564856753199L263.5235566081307,244.26345366536975L262.59999227652446,242.5874277907212L260.9491947875625,243.05339247346313L259.9932581659234,242.4242868024881L258.48033546717727,241.50709943972024L258.7905203235454,234.14670997589695L259.11200066978995,226.51828935913875L253.00352003618042,226.2286279102246L246.89842922011792,225.87464269330093L240.79740554748793,225.45637298105953ZM280.65162889359067,153.55794981142384L280.57576257724634,154.66481390755274L279.38697595779666,155.50353959257433L279.0993190013674,156.54404780775081L279.5786324638029,157.7217922609414L280.5543422745572,158.31552236771307L281.1503088864114,165.69944488145768L281.0449107438792,172.89947130333712L280.32476018272797,172.89554140940186L280.31349156233256,174.7305128280396L281.03114566702243,175.7833805813887L280.8820241852516,176.63510620549886L280.58494849861177,177.8797208079867L280.14077432324905,179.12359032801908L281.0111076048429,179.98153755757397L281.0076617775832,180.70346982922473L280.0584492915942,180.56682342666386L279.54946598104,180.23507795723134L279.3356069904192,179.57715577071525L277.8112033873111,178.90670129569503L276.367797455143,177.90500051904536L274.3311155797179,177.93915213101718L273.02246014516885,177.91482257016946L272.5794855477419,178.23393394701952L270.4844985743703,177.59598164243442L269.0582922667303,176.57477063707955L257.8945527861875,176.15171995748648L249.56514899679146,175.6824822124757L238.7136651150994,174.87363130329277L239.9015897589964,159.2104624920932L240.77582690909594,152.2159800814053L250.88902942271798,152.90449214688817L261.8420692735372,153.49222744015145L270.51488850537663,153.7894044549584ZM295.95025004148243,253.93061433675553L302.0988961494723,253.774046801174L309.0650782247787,253.25861587903754L314.4728686271861,253.27001565654263L314.99466490944894,253.70321043131895L314.46977348625256,254.84709433714013L315.4674725080268,256.3721693770125L315.26476426327685,257.30217800696414L316.1736033024057,258.6332737740787L315.2930636155356,259.46728842550215L315.11544496623367,260.920283790757L313.91261567699127,262.16174274536627L313.4020911851231,263.8262174213319L312.897673824386,265.68586431076665L312.08967933671977,266.57548515272197L312.5202930684557,268.5207734938906L318.23132901825664,268.4251613101695L324.44481753511235,268.1131862575626L324.3559564499713,269.36444295597613L324.0144671706922,270.6972109192564L324.50123540756323,271.5826041015437L325.41738740643405,272.4389250873467L325.67618880817724,273.73121125591285L325.896134125734,274.436528832661L325.99084273066853,274.56105430302466L327.24777493417986,276.5037724880235L327.3778016884309,279.63399131964457L328.95716431021907,281.02617355202653L327.7272566628039,282.15830835976703L325.12836728874004,281.1578350574325L322.70217573116213,282.81393863929304L317.89927113003677,282.8301616182729L312.66336157383535,279.0442296713743L306.9003754564995,280.2622433215546L301.99119261881646,278.5964975528326L297.8533389791973,279.2910241329731L297.40191313484627,278.4525491563031L298.06802391453647,277.32768536092203L298.9917187316723,276.2607857706965L299.0408658052273,274.75690322314347L298.51272174353585,274.2468955710523L299.0685389731835,272.40300650099846L299.4750352130333,271.54266551367954L299.99930892429217,268.7157604034652L299.3767946947044,267.68461040393913L298.56913900218865,265.9368269379405L298.01930184731447,264.1814041021181L297.5699994165677,263.0123909470093L296.53854021515036,262.1175077003586ZM215.47438331816647,259.9952480784856L214.85787435832492,258.6739907748756L214.8472849600613,258.013426994779L220.7064273209675,258.6433172965718L232.27367713867406,259.7206406864592L238.23232338691318,260.1897945497832L239.30040482236996,245.72705205457422L240.79740554748793,225.45637298105953L246.89842922011792,225.87464269330093L253.00352003618042,226.2286279102246L259.11200066978995,226.51828935913875L258.7905203235454,234.14670997589695L258.48033546717727,241.50709943972024L259.9932581659234,242.4242868024881L260.9491947875625,243.05339247346313L262.59999227652446,242.5874277907212L263.5235566081307,244.26345366536975L265.63415002089425,244.8564856753199L267.4244970394078,245.3018940110446L270.37667396983596,245.2426748407804L271.1578247686987,247.09966203841051L273.06148032200684,246.34735001668957L274.84976870561087,247.55877204170127L276.5704911006274,248.10683797445438L277.5692743739863,247.00067396903663L278.544159469244,248.32360469589383L280.60476285582706,247.87738118583323L281.5907394024652,248.27557943451384L282.5791908583028,247.9495300183461L283.73096444004557,247.35901801984576L285.0460140355732,247.29149840943734L287.26598355398687,247.4133028370573L288.65904758211923,246.87745007076126L290.47506232082753,247.64774625682622L293.2131169316691,249.12107675466234L293.55158746284144,249.64107056752067L294.78681551308733,249.48796139181277L296.2730219961526,249.52414783485014L295.95025004148243,253.93061433675553L296.53854021515036,262.1175077003586L297.5699994165677,263.0123909470093L298.01930184731447,264.1814041021181L298.56913900218865,265.9368269379405L299.3767946947044,267.68461040393913L299.99930892429217,268.7157604034652L299.4750352130333,271.54266551367954L299.0685389731835,272.40300650099846L298.51272174353585,274.2468955710523L299.0408658052273,274.75690322314347L298.9917187316723,276.2607857706965L298.06802391453647,277.32768536092203L297.40191313484627,278.4525491563031L297.8533389791973,279.2910241329731L292.3368081345444,281.1529758537593L286.28296625329193,286.8767266777989L279.51639815073804,290.18834799315357L275.9528539398237,293.6661760208706L275.77422157548335,293.7939762030936L274.21947943112434,297.21439449728985L274.0928858930117,299.8067874587765L274.05441026738424,302.4627799684543L274.36195725012726,306.156014918752L275.06398718717213,307.7170444885238L275.59430534541315,308.75752117386537L272.8732623785354,308.9130299206109L268.01956275419013,307.1364824361924L262.6713011311686,304.65987975031516L260.8141743023078,301.0355550238987L259.49139365342245,295.60247664395524L255.68386287466237,291.0941208093001L254.07265006227237,287.7020355093732L253.51355733810576,286.5032790872596L250.4583010140612,281.13367414085167L245.86681863655394,277.80642545727693L243.35836486031616,277.71706201016696L240.41833689480103,277.5883719002959L235.82198814191506,283.3378551135071L230.43840782680624,280.62287594290865L229.37741006435422,279.7479741714261L227.17790472131222,277.98464183118335L225.91891301063274,273.676501435792L224.1587216744242,269.4430471018234L220.58379793413454,265.6736019086556L220.26494886905,265.44378386347637L217.53901370661333,262.9211026874684L215.69738761198545,260.28355670313647ZM409.6798714797594,169.0547894086194L413.9254370798784,168.14731129714022L419.03576500161705,167.04724238089727L420.16655885925377,171.09807594249168L420.0885110654809,172.27295826577927L417.7387866067994,173.28449773797172L414.58820641204807,174.4833301963056L413.7024170008137,175.24402950324884L410.79723440559303,177.505884788343L410.6786469393777,177.3314257524574L410.30397492809504,176.40689751302176L411.2938278420358,175.42519331484095L410.70582810270383,174.89067472044206ZM419.03576500161705,167.04724238089727L413.9254370798784,168.14731129714022L409.6798714797594,169.0547894086194L409.56469843705065,163.61145271624042L414.1196552993225,162.61570100514348L420.6924067750736,160.97639844725785L421.05181636077504,160.06551775323265L422.0388297014196,159.25672546806095L422.72160282136605,159.27576394987733L423.7164747996652,163.2216282878178L426.63338722817565,166.6459454228829L428.962225581188,166.20447863612708L428.48381987973016,165.31500259829687L427.5646348361839,163.6621443645144L429.72532574049154,164.83013438214323L429.81533897843156,166.23808132348256L429.8330458101004,167.12042804768203L427.2432957276324,168.86347793804947L426.4548455198425,169.35223344584364L423.8440141779508,169.922625192628L423.32344121903174,168.83742088971593L422.2294406962419,168.17711276270285L421.35080804114125,166.3033934755598ZM422.72160282136605,159.27576394987733L422.0388297014196,159.25672546806095L421.05181636077504,160.06551775323265L420.6924067750736,160.97639844725785L414.1196552993225,162.61570100514348L413.5035326564387,161.95929931790243L413.66924744446635,160.83503414174106L413.2408905163761,158.84669541119098L413.33839421357516,158.34864815091225L413.0270199759477,156.53459952764808L413.2824607739136,154.91495589036498L413.53733714404774,154.17389970855322L413.70553786116704,152.2382906474893L413.5337522880487,150.99866081261666L413.54465463316757,150.18515550401048L414.4268096376649,149.6187837287037L415.43272864026494,148.40952836613678L415.3891431211888,147.4069958360028L414.69605684881014,146.44032203502434L414.77871639340583,144.25719956773952L414.8388765470596,142.2832357905403L416.3814748266667,141.53443068209214L420.8070238673248,154.97157935456073L420.78586995097044,155.72387965303415L422.07008472654934,156.59875155306145L422.62462802362637,157.53509919236552L423.166568171603,157.31935439688772ZM420.0885110654809,172.27295826577927L420.16655885925377,171.09807594249168L419.03576500161705,167.04724238089727L421.35080804114125,166.3033934755598L422.2294406962419,168.17711276270285L423.32344121903174,168.83742088971593L423.8440141779508,169.922625192628L423.3765979310249,170.18371800664158ZM414.1196552993225,162.61570100514348L409.56469843705065,163.61145271624042L408.3388237585777,157.36446483782214L407.48453465018156,157.50493975958398L407.3529071354268,157.2672218028087L407.42380454565694,156.0368383561178L406.4737111467721,154.2462431370239L406.6427344703941,152.52182970690257L406.01910056019886,151.46165871790748L405.4264751887962,149.31809103378862L405.38616846799914,148.25203171976477L405.10017493428455,146.77549950107078L410.2107533098376,145.43893305202187L414.77871639340583,144.25719956773952L414.69605684881014,146.44032203502434L415.3891431211888,147.4069958360028L415.43272864026494,148.40952836613678L414.4268096376649,149.6187837287037L413.54465463316757,150.18515550401048L413.5337522880487,150.99866081261666L413.70553786116704,152.2382906474893L413.53733714404774,154.17389970855322L413.2824607739136,154.91495589036498L413.0270199759477,156.53459952764808L413.33839421357516,158.34864815091225L413.2408905163761,158.84669541119098L413.66924744446635,160.83503414174106L413.5035326564387,161.95929931790243ZM332.28162634832734,236.67373592770372L340.1088087832073,235.97528246403112L348.0942668061017,235.22078549819219L350.7766379357039,244.57927096256452L353.12580023612776,252.04281465440076L354.31757094902287,254.34803861312872L355.0601426650859,255.64751763245295L354.1347092864585,257.1411250821834L354.07754795074754,259.58810563231214L354.5784524036213,260.9807923552504L354.5677989666366,262.3661157057835L354.54886565034093,263.6860332253974L355.0838398577424,264.6123796015107L355.5202908721268,265.41795171379624L342.217496304533,266.88572060273043L338.5224427532763,267.68364305687487L338.4041945259489,268.28500548865054L340.1005037389778,269.9713175985021L339.9001196401567,271.56434653557574L339.4800094919308,272.65155815257265L333.58507323617573,272.29804248047435L332.4785901567667,260.57100677436785L332.5694330952779,248.1908952153107L332.8917324549097,238.14100013097288ZM339.4800094919308,272.65155815257265L339.9001196401567,271.56434653557574L340.1005037389778,269.9713175985021L338.4041945259489,268.28500548865054L338.5224427532763,267.68364305687487L342.217496304533,266.88572060273043L355.5202908721268,265.41795171379624L356.6963998586044,267.3873666913757L363.36751917639396,266.96072431389734L374.0413614900956,266.61734849433594L374.7495725060429,267.90058935552963L375.4942726357875,267.0642835410519L375.10153604986783,264.41310881297113L375.82362168330656,264.0412377821008L377.2633548942284,264.41967624003297L378.6355713288144,264.34235090665413L380.5584673015019,269.46622684789077L383.8001463884053,275.55920418008157L387.61083518156056,280.4836995278722L388.2245368620225,283.677762897511L392.84544737629847,291.92003573941224L393.52110474512443,296.9918750157216L393.6590036555741,299.9834953160172L392.71998037170255,304.85096868643984L390.8030765782212,306.1454536555797L387.2222566366778,305.7389273782078L386.5518930657906,304.408038536036L385.6341723235968,302.65722547646465L382.769021670525,301.3330873247039L380.6193550744721,298.5838464098297L378.1522573090168,295.41470760469605L374.1420987077539,290.0948779018903L372.7616804177739,287.2721411211705L373.4447189664712,281.98944291631466L370.9604955387159,278.12898637327703L364.9405882594888,272.4222747971185L362.22430107851113,271.58497083114185L356.03860576522754,275.8802131006871L354.7890063606579,275.62891499666193L351.1321540830808,272.42125872465283L346.82957614025986,270.9667071993609L342.6913031663453,271.8971446335891ZM355.5202908721268,265.41795171379624L355.0838398577424,264.6123796015107L354.54886565034093,263.6860332253974L354.5677989666366,262.3661157057835L354.5784524036213,260.9807923552504L354.07754795074754,259.58810563231214L354.1347092864585,257.1411250821834L355.0601426650859,255.64751763245295L354.31757094902287,254.34803861312872L353.12580023612776,252.04281465440076L350.7766379357039,244.57927096256452L348.0942668061017,235.22078549819219L352.8516931920408,234.74607664801374L356.14202124466834,234.28291174230935L363.8640232464867,233.34423231732558L363.2297713421857,234.09440373543038L362.4570484983358,235.65838601823964L364.32760563075794,236.73221174400635L365.44039227860355,237.04350019966625L366.9910099759024,239.28262067088414L367.91481718891714,240.5457773483363L370.37383553424473,242.05053273936943L370.9239713495108,242.9659081605975L372.5763693210099,243.98318044921012L373.58508377134496,245.69116237492864L375.86326891144887,246.87196196010825L376.5443310226256,248.5596854564977L377.08687862071747,249.33872642534723L376.9297190455838,249.96048030085876L378.2173170920727,250.62291049933964L379.10329232025117,251.9439164652251L379.32808075190354,253.36846320392303L379.96058611679535,253.6001328678301L381.1024956298597,253.81598295666834L378.80498915981957,258.75490700397677L378.6355713288144,264.34235090665413L377.2633548942284,264.41967624003297L375.82362168330656,264.0412377821008L375.10153604986783,264.41310881297113L375.4942726357875,267.0642835410519L374.7495725060429,267.90058935552963L374.0413614900956,266.61734849433594L363.36751917639396,266.96072431389734L356.6963998586044,267.3873666913757ZM314.4728686271861,253.27001565654263L314.72726478768067,251.74532974082135L313.87986338384684,249.75041626691484L313.95210412182183,247.90544313915623L315.20849676770683,245.1431412491577L315.77866600181227,243.53312438149814L316.8634076299443,242.4202317949083L317.48941027523995,241.9239949440628L318.2625453440172,239.771845938496L318.1972646776375,238.65578327679296L319.2996158826604,238.06316339075045L319.34079105051615,237.40173635799016L325.4824935870354,236.99779666172628L332.28162634832734,236.67373592770372L332.8917324549097,238.14100013097288L332.5694330952779,248.1908952153107L332.4785901567667,260.57100677436785L333.58507323617573,272.29804248047435L328.56981058351795,273.20274268289666L325.99084273066853,274.56105430302466L325.896134125734,274.436528832661L325.67618880817724,273.73121125591285L325.41738740643405,272.4389250873467L324.50123540756323,271.5826041015437L324.0144671706922,270.6972109192564L324.3559564499713,269.36444295597613L324.44481753511235,268.1131862575626L318.23132901825664,268.4251613101695L312.5202930684557,268.5207734938906L312.08967933671977,266.57548515272197L312.897673824386,265.68586431076665L313.4020911851231,263.8262174213319L313.91261567699127,262.16174274536627L315.11544496623367,260.920283790757L315.2930636155356,259.46728842550215L316.1736033024057,258.6332737740787L315.26476426327685,257.30217800696414L315.4674725080268,256.3721693770125L314.46977348625256,254.84709433714013L314.99466490944894,253.70321043131895ZM381.1024956298597,253.81598295666834L379.96058611679535,253.6001328678301L379.32808075190354,253.36846320392303L379.10329232025117,251.9439164652251L378.2173170920727,250.62291049933964L376.9297190455838,249.96048030085876L377.08687862071747,249.33872642534723L376.5443310226256,248.5596854564977L375.86326891144887,246.87196196010825L373.58508377134496,245.69116237492864L372.5763693210099,243.98318044921012L370.9239713495108,242.9659081605975L370.37383553424473,242.05053273936943L367.91481718891714,240.5457773483363L366.9910099759024,239.28262067088414L365.44039227860355,237.04350019966625L364.32760563075794,236.73221174400635L362.4570484983358,235.65838601823964L363.2297713421857,234.09440373543038L363.8640232464867,233.34423231732558L364.47928031715486,233.0605266442122L367.58094733918165,231.29523292585048L373.2671268326292,230.51662370521808L376.193850792132,230.3926150454377L376.3768804635802,231.029590326508L376.86396754361965,230.4857604048879L378.03221952979305,231.6305010013641L378.1684857146465,232.47454870855546L385.0671946364806,231.3857978184036L393.2854090265053,237.38954657835677L390.63203358553517,240.74624662722226L390.1878953100271,243.42742541074836L384.06994147846086,249.61037640323633ZM309.9938009163279,196.4399806109284L310.07756113551187,195.05272365552105L311.51796718876386,193.79558102990842L311.8311216649962,192.5939977335242L312.50839398201083,191.24140484129322L312.2224982857112,190.0713405889315L311.44848061693017,189.51912304585574L311.89636692676874,188.113614741162L313.8043557859392,187.68127670415083L315.11013415608505,187.14588095956475L315.44508773775283,186.53374287009865L316.3754011208359,184.7665040658469L316.54090171956403,182.65052507640019L315.9144879089791,182.03080881970686L315.00060354131034,181.4932703417868L314.73130847733745,180.65410170489605L314.05113944373284,180.29885178313822L313.6527103993087,179.72978135420226L319.41386350364786,179.37342232151394L325.24367248857095,178.94912916709967L329.5456475164404,178.66074196508038L329.79392344019817,180.68195052451546L331.6912033362773,184.60316552195917L332.4877976240862,193.50951487484417L333.2091152214092,202.43135890858252L332.79153769128914,204.6496696390742L333.29638298599167,205.13375083824252L333.7254490307346,206.48372159331024L333.81357768673234,207.4675302981724L333.32284750503095,208.04015151970344L333.04831369628215,209.3204593939658L331.9624727191233,211.13341288049008L331.28401980333854,213.23997663464934L331.18339017441133,214.8345755786916L331.31071283068707,215.41869464280182L330.6970254636528,216.52717988212623L331.30327539006294,217.20367649592072L330.25840415690647,217.88479712260857L328.9815203202611,218.64833482127216L329.3472920080136,220.2707495679598L328.61377799399173,220.98934024893623L327.0655941409701,220.38221816280804L325.4664326943123,220.10504081972618L325.04776734357415,220.86172877191478L325.3693685428942,222.02682859133358L324.2619665949233,220.9179468375724L323.56840065016047,221.16469865253913L322.7305281050767,219.30825679497588L322.80606183446656,218.11491687195024L322.2900064161015,216.30189349104302L321.6487876438456,216.08109710574792L319.98484615176454,214.54011502469052L319.2812822250146,214.51880359668297L318.05160466717587,213.5391339597113L317.12805533255244,212.4070516500962L317.4323138679523,211.0034702765754L317.90476915298495,209.85332912970432L318.12409818969076,208.38844267105748L316.973433122792,207.2046961204398L315.85299961854844,207.79799592494732L315.143366922067,207.5086094247397L314.99277661432075,206.19807495141362L314.4533118882093,204.7773786238186L313.9007923244078,204.47799821606918L312.4720680107762,203.49905590685518L311.26344035132144,202.24221694301156L310.2749901978918,200.70898355344627L309.632431381804,198.36762590292676ZM331.18339017441133,214.8345755786916L331.28401980333854,213.23997663464934L331.9624727191233,211.13341288049008L333.04831369628215,209.3204593939658L333.32284750503095,208.04015151970344L333.81357768673234,207.4675302981724L333.7254490307346,206.48372159331024L333.29638298599167,205.13375083824252L332.79153769128914,204.6496696390742L333.2091152214092,202.43135890858252L332.4877976240862,193.50951487484417L331.6912033362773,184.60316552195917L332.25382699994964,185.0803721160692L334.16308654555183,184.83834829036567L335.6271143356283,183.8405405052497L341.65876385763306,183.28800275059854L347.0089130570255,182.61580730946838L347.07840979966574,183.2030636826633L347.90511324091966,190.188813606682L348.7112555036929,197.64687610915752L349.3449428985167,203.00789932022673L349.0026799259463,203.37973600380508L349.64548834327377,204.89520604723253L349.4857135021819,205.51084795035877L348.49141757482334,205.62720430814738L347.65579569460533,206.45270325277875L346.24007333655334,206.28161996835945L346.2550264846535,207.80399774313076L345.4751667816058,208.4868292517914L344.84871120932223,209.88038921814297L344.0218977650415,210.16841969948598L342.95129766219844,212.59992371208182L341.72211462847514,212.06548110213754L341.24154891495573,211.18790238661973L340.3884057444809,212.79673868354928L339.7755382541191,213.71825032737456L338.4512526254509,212.98777761987412L337.124192578433,213.84244907110292L336.72597536699624,214.60750364079126L334.7538216548425,213.59836039893474L333.5874816141699,214.56190136813228L331.9826280158059,214.10607700509428L331.9776289986809,214.96575466087052ZM323.2455025731051,225.67508628593094L324.5318896084058,224.72746155820477L325.43348095750395,224.0027320539009L325.2689287754546,222.82634941697205L325.3693685428942,222.02682859133358L325.04776734357415,220.86172877191478L325.4664326943123,220.10504081972618L327.0655941409701,220.38221816280804L328.61377799399173,220.98934024893623L329.3472920080136,220.2707495679598L328.9815203202611,218.64833482127216L330.25840415690647,217.88479712260857L331.30327539006294,217.20367649592072L330.6970254636528,216.52717988212623L331.31071283068707,215.41869464280182L331.18339017441133,214.8345755786916L331.9776289986809,214.96575466087052L331.9826280158059,214.10607700509428L333.5874816141699,214.56190136813228L334.7538216548425,213.59836039893474L336.72597536699624,214.60750364079126L337.124192578433,213.84244907110292L338.4512526254509,212.98777761987412L339.7755382541191,213.71825032737456L340.3884057444809,212.79673868354928L341.24154891495573,211.18790238661973L341.72211462847514,212.06548110213754L342.95129766219844,212.59992371208182L344.0218977650415,210.16841969948598L344.84871120932223,209.88038921814297L345.4751667816058,208.4868292517914L346.2550264846535,207.80399774313076L346.24007333655334,206.28161996835945L347.65579569460533,206.45270325277875L348.49141757482334,205.62720430814738L349.4857135021819,205.51084795035877L349.64548834327377,204.89520604723253L349.0026799259463,203.37973600380508L349.3449428985167,203.00789932022673L351.33992824912536,202.90112085897766L352.42630791723565,203.56387647968552L354.24135033009696,205.06226032548892L355.53950416063753,205.4940260859587L356.5337459486389,205.96280720806556L357.88517728344084,205.58558874441474L359.01747023194537,205.89905258000255L360.1791413933214,205.275856891729L361.30748356527863,204.9870143256266L361.92114377868825,206.03169996110915L363.0945026841973,206.5978077852912L363.34978460813176,207.29321665572616L363.5047419962904,208.93416208008637L364.36543768383683,210.00874231389093L364.8426891823737,211.13778350901964L365.83452144188493,211.9923993039988L366.5871096690604,212.8142623846325L367.76843684530536,212.77298227111135L367.2351609152468,213.4511490998849L365.695457848737,215.40625164024357L363.9558313457217,216.58574124978264L363.89161618463913,217.25979303061274L363.3761656046244,218.12995727308322L361.9278654544409,219.19429265434462L361.85843421263553,219.27024645538694L361.78898363206736,219.34619179286892L361.41614849609255,220.12791213240848L360.51807215846117,220.5812386421427L360.2213329186729,220.75378879713645L358.55224324402536,221.4389169998637L354.484462984934,222.15385644717003L349.08905790099345,222.46160662359938L347.36976320374276,222.78709157140582L343.87913169600154,222.96427929673376L340.3226905031487,223.25914976325276L337.0017250419195,223.51020005511583L333.22847517872583,224.04547074490597L333.0423337404692,223.73103662793926L331.85769961647196,223.83135858383974L331.96198067175675,225.0779521656114ZM363.8640232464867,233.34423231732558L356.14202124466834,234.28291174230935L356.10087007415257,232.63098829902668L357.32611533857465,232.01391282641794L357.69910286958725,231.10467888366583L358.38167235594364,230.08903405262265L359.6333772207218,229.72812707769776L361.025994257144,229.212899881893L362.363542313817,228.3030808145325L362.8317168529342,227.57530465042203L363.94270635007246,226.8247105977892L363.86144089600435,226.2379740002619L365.2208975839717,224.98452719886637L365.79749510426495,225.63413919390592L367.79673335619145,223.81684786936063L368.9311887826642,223.8498145979197L369.68418687840665,222.40681835232732L370.81647139393084,221.90344756411122L370.5701161870526,220.80882529184657L370.5790611286099,219.80861028531598L368.2445948764953,220.29116679362448L370.5790611286099,219.80861028531598L380.8161220886934,218.4950638437556L392.778967222681,216.39903516829503L399.152037899022,215.0735479081249L404.8106844285501,213.82651859252832L405.50911700682514,213.6768095554612L406.130090882371,215.42876735855566L408.0064868595256,221.08370047475552L406.5022372419911,224.8382098492375L405.3258608887419,227.5064680980513L399.4872098962618,231.04587482819596L396.25708025289225,236.29490672743844L393.2854090265053,237.38954657835677L385.0671946364806,231.3857978184036L378.1684857146465,232.47454870855546L378.03221952979305,231.6305010013641L376.86396754361965,230.4857604048879L376.3768804635802,231.029590326508L376.193850792132,230.3926150454377L373.2671268326292,230.51662370521808L367.58094733918165,231.29523292585048L364.47928031715486,233.0605266442122ZM349.3449428985167,203.00789932022673L348.7112555036929,197.64687610915752L347.90511324091966,190.188813606682L347.07840979966574,183.2030636826633L349.93298824222563,182.7913370587343L352.50011351377407,182.46740235299524L354.6173248264877,182.1245534280538L358.35980870569244,183.2736137490577L361.20574776955505,183.26782900128973L365.15720795263155,181.61770980842783L368.10997493969654,178.96377888228216L370.86265184924275,177.5208712156993L372.53680150256235,187.70472147803673L371.7856943151065,188.22756122712468L372.16703359464765,189.16522630404228L372.22984531923055,190.95496412893482L371.9596088942848,193.06558310536906L371.6222876633719,194.78665585855742L371.6724253717136,195.5786226503576L370.3711578484837,197.58526758093495L369.75354541970023,198.08200638600238L369.02908878690863,198.39458368659348L368.25400843627756,198.38083609742387L367.1669624843019,199.87830750503014L367.1458246938836,201.27985551121185L367.10173341807155,202.01896253588671L366.6183515645971,202.4243315797196L366.4159317034697,201.5890523951059L365.6275626980944,201.5064642492939L365.0401229115487,203.3233341817472L365.21159488801914,205.02861541827298L364.52182539554747,206.19366413500688L363.0945026841973,206.5978077852912L361.92114377868825,206.03169996110915L361.30748356527863,204.9870143256266L360.1791413933214,205.275856891729L359.01747023194537,205.89905258000255L357.88517728344084,205.58558874441474L356.5337459486389,205.96280720806556L355.53950416063753,205.4940260859587L354.24135033009696,205.06226032548892L352.42630791723565,203.56387647968552L351.33992824912536,202.90112085897766ZM319.34079105051615,237.40173635799016L320.0236911931021,236.6350495755758L319.80532028220074,234.4074660012692L320.7080726694172,233.36216472236214L320.865249167926,232.0334241624734L321.9392311608755,231.23853451486974L322.424837498178,230.08511554305852L322.46084941263246,229.42304987399405L322.81508839032824,227.5519812603286L323.1363387003833,226.4084389850949L323.2455025731051,225.67508628593094L331.96198067175675,225.0779521656114L331.85769961647196,223.83135858383974L333.0423337404692,223.73103662793926L333.22847517872583,224.04547074490597L337.0017250419195,223.51020005511583L340.3226905031487,223.25914976325276L343.87913169600154,222.96427929673376L347.36976320374276,222.78709157140582L349.08905790099345,222.46160662359938L354.484462984934,222.15385644717003L358.55224324402536,221.4389169998637L360.2213329186729,220.75378879713645L360.51807215846117,220.5812386421427L360.2213329186729,220.75378879713645L358.55224324402536,221.4389169998637L367.54757944075266,220.46013855071834L368.2445948764953,220.29116679362448L370.5790611286099,219.80861028531598L370.5701161870526,220.80882529184657L370.81647139393084,221.90344756411122L369.68418687840665,222.40681835232732L368.9311887826642,223.8498145979197L367.79673335619145,223.81684786936063L365.79749510426495,225.63413919390592L365.2208975839717,224.98452719886637L363.86144089600435,226.2379740002619L363.94270635007246,226.8247105977892L362.8317168529342,227.57530465042203L362.363542313817,228.3030808145325L361.025994257144,229.212899881893L359.6333772207218,229.72812707769776L358.38167235594364,230.08903405262265L357.69910286958725,231.10467888366583L357.32611533857465,232.01391282641794L356.10087007415257,232.63098829902668L356.14202124466834,234.28291174230935L352.8516931920408,234.74607664801374L348.0942668061017,235.22078549819219L340.1088087832073,235.97528246403112L332.28162634832734,236.67373592770372L325.4824935870354,236.99779666172628ZM360.51807215846117,220.5812386421427L361.41614849609255,220.12791213240848L361.78898363206736,219.34619179286892L361.85843421263553,219.27024645538694L361.9278654544409,219.19429265434462L363.3761656046244,218.12995727308322L363.89161618463913,217.25979303061274L363.9558313457217,216.58574124978264L365.695457848737,215.40625164024357L367.2351609152468,213.4511490998849L367.76843684530536,212.77298227111135L368.19509193978405,214.04107762297838L368.826528851302,214.54589282886133L369.0015352749599,214.65278561437083L370.0331356104127,215.16280632207372L371.24488568071416,214.2442782137809L371.7480897347312,213.89976332295362L372.5383765413092,214.37629552271477L374.3087701516437,213.4958765201377L374.6861406768984,213.36865410005828L374.690469117183,212.90105582300941L374.64862769079895,212.640981083444L375.3877851504101,212.7884296048769L375.99999842475677,212.15500176198805L376.07738275729747,212.1423510059712L376.8725671696849,212.14521548362023L377.77007069460876,211.32879591451632L377.7822849753816,210.92615907674718L377.7389134278093,210.66632855319557L377.51005393051895,209.7697727583382L378.0511715649063,208.27687569368675L379.03794811015075,207.10796015610873L379.1561532001235,205.9520520990216L379.55802029410904,205.0813921022795L379.91563058864693,204.41835156965624L380.23296644511976,202.6256424484465L381.0959893770015,203.07666663269913L382.0366322779184,203.51291114141327L382.81694522210626,203.03993671926906L382.993916269478,202.27246683841065L383.4387751615425,201.25596411644273L383.68939377459094,200.4747045991544L383.84631873437615,200.04479409477716L384.3596130598797,200.2862228607318L385.01454706123,199.16241194111882L385.58722912803466,198.4543326650371L385.9681356189437,197.98197020061002L386.146277138957,197.68096352640583L386.57719445237996,197.0647127278428L386.64995917404605,195.37640516145268L386.6520833924915,194.97407747122554L389.71399576709325,196.33445196427988L389.96466401196096,196.42012883332387L390.3647826562807,194.86693592238538L390.52742265131496,194.90231474047556L391.240616803266,194.96402024895804L392.1057965822555,195.39750676094917L391.9327759789985,196.10280129316016L391.8957700444088,196.3114250645815L393.18908405690803,196.52501001185465L394.41126055962445,197.15321431529435L394.99369256495334,197.70747185160354L395.08502419357103,198.15928011391497L395.13994040791215,198.82000158554308L394.9392727657587,198.9948524978945L394.29963757486547,199.72784236340522L393.95236055331554,201.54308482447658L394.7891952746842,201.7789919688559L395.7113317351916,201.25755971688324L396.10898252837563,202.05057189128962L396.2373207284047,202.29334519785948L400.68940964211015,203.86241162042887L400.77921125123737,203.91083174227987L402.5150959342425,211.01546494887367L404.33753076002336,211.23443833012777L405.50911700682514,213.6768095554612L404.8106844285501,213.82651859252832L399.152037899022,215.0735479081249L392.778967222681,216.39903516829503L380.8161220886934,218.4950638437556L370.5790611286099,219.80861028531598L368.2445948764953,220.29116679362448L367.54757944075266,220.46013855071834L358.55224324402536,221.4389169998637L360.2213329186729,220.75378879713645ZM404.16670902032956,202.98560501379632L404.6775524315167,202.40284671805415L406.01775064425783,201.97430446558798L404.04501211699215,208.7380733669762L403.4378526852835,208.5311671161699ZM309.984276603763,172.24178687131405L309.79463560215186,171.33294994937313L309.7030893916922,169.50150436857558L309.45601975813776,168.85830454265368L307.54669374529607,167.83558521057392L306.13473715612315,166.5887881018574L305.6716401198435,165.75757709458776L305.0816338467688,165.25873806837268L303.26498450158783,164.21863585484738L302.6251133633432,164.17718059374164L300.947716513239,162.79762945840378L301.10175280178464,161.0930714322252L301.0305818682579,159.00529820338966L301.382982503368,157.03491694264022L300.1488586060642,155.64144452481486L300.8684186137685,154.24829861596095L302.0208119920101,153.4255644713282L303.30541966035275,152.53001748200978L303.4464330370238,152.589650415694L303.2092117930331,148.30241392390894L304.631686950427,147.78939972955828L309.8292387095855,145.9828198047747L313.121023566947,148.33706398406122L313.1935100028462,148.39790854236026L313.52907000143335,148.24774171349526L314.36867606297375,148.4574076370003L314.8654723484654,149.79493229317376L319.57468127164316,150.84976829945492L322.78470148374623,151.98153611199263L324.2367692261014,151.86676480807637L325.28447071479036,151.9120312286862L325.7328463935327,153.1167239558772L327.0248025663467,153.5307125847047L327.60040447181694,154.52781806111284L327.30874476168435,155.20741349402846L327.135855111011,156.4659771267588L328.32748567595,156.4282441677521L328.08623798773016,157.6938386577707L328.8660883479091,158.5427440562588L328.8603347113093,158.47771360639484L329.0061894766484,158.53032914825013L328.941901995455,158.6015724814925L327.0761702367547,161.5821581237983L327.9296539836673,162.4277058991379L331.41778984186453,157.13053344366784L332.24982796786725,156.98631873049862L329.9875519267476,163.16553227612354L329.1821335595509,168.62350821450912L328.55574367291956,173.08377777702623L329.5269054251698,176.75220766773077L329.5456475164404,178.66074196508038L325.24367248857095,178.94912916709967L319.41386350364786,179.37342232151394L313.6527103993087,179.72978135420226L313.07662140724835,178.5788969803387L311.1464285094063,177.95974281862811L310.7916673594767,176.73000798840354L310.4648979387366,176.02431969158238L310.3850463566359,174.45270449746778L310.8601274781028,173.83759527269552L310.0759900544766,172.63081497299027ZM367.76843684530536,212.77298227111135L366.5871096690604,212.8142623846325L365.83452144188493,211.9923993039988L364.8426891823737,211.13778350901964L364.36543768383683,210.00874231389093L363.5047419962904,208.93416208008637L363.34978460813176,207.29321665572616L363.0945026841973,206.5978077852912L364.52182539554747,206.19366413500688L365.21159488801914,205.02861541827298L365.0401229115487,203.3233341817472L365.6275626980944,201.5064642492939L366.4159317034697,201.5890523951059L366.6183515645971,202.4243315797196L367.10173341807155,202.01896253588671L367.1458246938836,201.27985551121185L367.1669624843019,199.87830750503014L368.25400843627756,198.38083609742387L369.02908878690863,198.39458368659348L369.75354541970023,198.08200638600238L370.3711578484837,197.58526758093495L371.6724253717136,195.5786226503576L371.6222876633719,194.78665585855742L371.9596088942848,193.06558310536906L372.22984531923055,190.95496412893482L372.16703359464765,189.16522630404228L371.7856943151065,188.22756122712468L372.53680150256235,187.70472147803673L373.68964485886727,194.71746618294384L379.6841172117785,193.69830209579123L380.29208691425333,197.60196692024022L381.08180873759693,196.7941368791915L381.8979055328521,195.71255109227332L382.9660607367835,195.18571153238258L383.64966220238085,194.25838940270387L385.3579571802977,194.27830292044314L385.9233783415224,193.5701890568938L386.8609206233367,192.79100957010058L388.76601367000796,193.03068895860423L389.72664087641715,193.98493319014614L390.3647826562807,194.86693592238538L389.96466401196096,196.42012883332387L389.71399576709325,196.33445196427988L386.6520833924915,194.97407747122554L386.64995917404605,195.37640516145268L386.57719445237996,197.0647127278428L386.146277138957,197.68096352640583L385.9681356189437,197.98197020061002L385.58722912803466,198.4543326650371L385.01454706123,199.16241194111882L384.3596130598797,200.2862228607318L383.84631873437615,200.04479409477716L383.68939377459094,200.4747045991544L383.4387751615425,201.25596411644273L382.993916269478,202.27246683841065L382.81694522210626,203.03993671926906L382.0366322779184,203.51291114141327L381.0959893770015,203.07666663269913L380.23296644511976,202.6256424484465L379.91563058864693,204.41835156965624L379.55802029410904,205.0813921022795L379.1561532001235,205.9520520990216L379.03794811015075,207.10796015610873L378.0511715649063,208.27687569368675L377.51005393051895,209.7697727583382L377.7389134278093,210.66632855319557L377.7822849753816,210.92615907674718L377.77007069460876,211.32879591451632L376.8725671696849,212.14521548362023L376.07738275729747,212.1423510059712L375.99999842475677,212.15500176198805L375.3877851504101,212.7884296048769L374.64862769079895,212.640981083444L374.690469117183,212.90105582300941L374.6861406768984,213.36865410005828L374.3087701516437,213.4958765201377L372.5383765413092,214.37629552271477L371.7480897347312,213.89976332295362L371.24488568071416,214.2442782137809L370.0331356104127,215.16280632207372L369.0015352749599,214.65278561437083L368.826528851302,214.54589282886133L368.19509193978405,214.04107762297838ZM407.1826080912132,198.27482157820106L403.32982011512934,199.12384804978643L400.8666064406909,189.55188218743183L401.11257578713634,188.89255131334488L401.5619324564377,188.4581667242449L402.90696429927846,188.56797458978377L402.1854616018978,189.5348498139693L402.7320339213804,190.9651851533152L404.81922942413485,194.75311631921852L406.54602020824655,195.78551296446415ZM395.08502419357103,198.15928011391497L394.99369256495334,197.70747185160354L394.41126055962445,197.15321431529435L394.7849405224048,196.6747967638462L395.7082703324118,197.3609433637261ZM406.01775064425783,201.97430446558798L404.6775524315167,202.40284671805415L404.16670902032956,202.98560501379632L400.50787005670105,200.73748336646133L398.51440129390505,194.62952997209294L398.0584538155793,198.08790619724726L400.35600735354654,202.6538454133771L396.2373207284047,202.29334519785948L396.10898252837563,202.05057189128962L395.7113317351916,201.25755971688324L394.7891952746842,201.7789919688559L393.95236055331554,201.54308482447658L394.29963757486547,199.72784236340522L394.9392727657587,198.9948524978945L395.13994040791215,198.82000158554308L395.08502419357103,198.15928011391497L395.7082703324118,197.3609433637261L394.7849405224048,196.6747967638462L394.41126055962445,197.15321431529435L393.18908405690803,196.52501001185465L391.8957700444088,196.3114250645815L391.9327759789985,196.10280129316016L392.1057965822555,195.39750676094917L391.240616803266,194.96402024895804L390.52742265131496,194.90231474047556L390.3647826562807,194.86693592238538L389.72664087641715,193.98493319014614L388.76601367000796,193.03068895860423L386.8609206233367,192.79100957010058L385.9233783415224,193.5701890568938L385.3579571802977,194.27830292044314L383.64966220238085,194.25838940270387L382.9660607367835,195.18571153238258L381.8979055328521,195.71255109227332L381.08180873759693,196.7941368791915L380.29208691425333,197.60196692024022L379.6841172117785,193.69830209579123L385.0066088922328,192.80361539389378L386.7875429830249,192.4029327681373L390.89216144036027,191.61082640022465L395.809663349325,190.61956911622468L400.8666064406909,189.55188218743183L403.32982011512934,199.12384804978643L407.1826080912132,198.27482157820106L407.25459051543555,198.59613263747383ZM402.7320339213804,190.9651851533152L402.1854616018978,189.5348498139693L402.90696429927846,188.56797458978377L403.93600196167756,187.598711312097L404.20575596672404,187.06659204985493L405.30466537639285,185.7407278132133L405.85274026873026,184.7394454644725L403.6538496280386,183.21171574695103L403.3937987228,182.3934926929623L402.6910543636201,182.3479685705994L402.49297577098525,181.11167001341852L402.9357246825077,180.00207423671134L402.4289032248393,179.10454909287228L403.1588366666266,178.26716243280532L403.7118324415052,176.32245544061487L404.3634315355802,175.83715573516838L409.34385124735184,177.85200654615875L409.4887082952437,179.43972696562838L408.2304147777401,181.96457900370848L409.99026498132855,181.8898331404926L410.017596093007,187.6295107260063L409.4709996876919,188.97341007630303L407.17226190255667,194.36243335623743L406.3640705427615,192.51965652016634L406.0508442855706,192.52252633746838L405.00807318009225,192.41814585447673L403.91301760383294,191.71670275130776ZM409.6798714797594,169.0547894086194L410.70582810270383,174.89067472044206L411.2938278420358,175.42519331484095L410.30397492809504,176.40689751302176L410.6786469393777,177.3314257524574L410.79723440559303,177.505884788343L410.47981447565144,177.78467745131087L418.31974864060214,174.3576525991329L420.3422471569761,175.33162654690625L415.23163642165326,178.32113972895525L413.0574371341311,179.5316298163092L409.4964495811636,180.45169192155646L409.4887082952437,179.43972696562838L409.34385124735184,177.85200654615875L404.3634315355802,175.83715573516838L403.30573889742186,175.53826681108188L402.2495006786661,175.23733186993798L401.6438635890923,174.22813334147526L401.6015166476282,173.36226239435314L400.79560049067163,172.8017810675555L399.30274244676787,171.85413150583406L391.81656068781706,173.4475515245893L383.7300589606873,175.04425144573418L375.0399082707793,176.61730744648042L374.6825855913014,174.54649381855597L378.6247121320025,169.18254312152357L378.4242057209428,168.48567626762474L377.50447493714887,166.25348197773928L379.90748118024453,164.94682042326974L384.2806939991615,164.3821313308004L388.8711228392764,164.1371795158089L392.37545810907886,160.79996971863358L391.4721387175018,157.9120798696885L390.69729305393287,157.00502807956445L395.05058006777614,150.5822237805699L397.07726730180696,148.65659852641943L405.10017493428455,146.77549950107078L405.38616846799914,148.25203171976477L405.4264751887962,149.31809103378862L406.01910056019886,151.46165871790748L406.6427344703941,152.52182970690257L406.4737111467721,154.2462431370239L407.42380454565694,156.0368383561178L407.3529071354268,157.2672218028087L407.48453465018156,157.50493975958398L408.3388237585777,157.36446483782214L409.56469843705065,163.61145271624042ZM372.53680150256235,187.70472147803673L370.86265184924275,177.5208712156993L374.69374983493907,174.61119463156928L374.6825855913014,174.54649381855597L375.0399082707793,176.61730744648042L383.7300589606873,175.04425144573418L391.81656068781706,173.4475515245893L399.30274244676787,171.85413150583406L400.79560049067163,172.8017810675555L401.6015166476282,173.36226239435314L401.6438635890923,174.22813334147526L402.2495006786661,175.23733186993798L403.30573889742186,175.53826681108188L404.3634315355802,175.83715573516838L403.7118324415052,176.32245544061487L403.1588366666266,178.26716243280532L402.4289032248393,179.10454909287228L402.9357246825077,180.00207423671134L402.49297577098525,181.11167001341852L402.6910543636201,182.3479685705994L403.3937987228,182.3934926929623L403.6538496280386,183.21171574695103L405.85274026873026,184.7394454644725L405.30466537639285,185.7407278132133L404.20575596672404,187.06659204985493L403.93600196167756,187.598711312097L402.90696429927846,188.56797458978377L401.5619324564377,188.4581667242449L401.11257578713634,188.89255131334488L400.8666064406909,189.55188218743183L395.809663349325,190.61956911622468L390.89216144036027,191.61082640022465L386.7875429830249,192.4029327681373L385.0066088922328,192.80361539389378L379.6841172117785,193.69830209579123L373.68964485886727,194.71746618294384ZM423.166568171603,157.31935439688772L422.62462802362637,157.53509919236552L422.07008472654934,156.59875155306145L420.78586995097044,155.72387965303415L420.8070238673248,154.97157935456073L416.3814748266667,141.53443068209214L418.28844906807706,139.73408208884052L418.715879983624,137.8591195801563L419.1869221314891,135.9038971993375L419.1781557806878,133.5411582181677L419.17574665209327,129.69287517286222L420.69717981102394,125.27984679289114L421.4007905168623,123.0531312273057L423.14061435075087,124.1678349377612L423.6603654675125,124.4888458613288L426.6835931060725,122.23808859501116L429.54006946568063,123.6762870393236L431.3650369533756,129.64229245985229L432.60333756183405,133.6904238332164L437.2198822118321,136.76781265113686L438.8575740215624,138.92283935332438L434.4044842204276,144.19986143468645L429.7487040172456,148.31379821256792L424.79552131379785,152.11001546708457ZM329.0061894766484,158.53032914825013L328.8603347113093,158.47771360639484L328.8660883479091,158.5427440562588L328.08623798773016,157.6938386577707L328.32748567595,156.4282441677521L327.135855111011,156.4659771267588L327.30874476168435,155.20741349402846L327.60040447181694,154.52781806111284L327.0248025663467,153.5307125847047L325.7328463935327,153.1167239558772L325.28447071479036,151.9120312286862L324.2367692261014,151.86676480807637L322.78470148374623,151.98153611199263L319.57468127164316,150.84976829945492L314.8654723484654,149.79493229317376L314.36867606297375,148.4574076370003L313.52907000143335,148.24774171349526L313.1935100028462,148.39790854236026L313.121023566947,148.33706398406122L313.1935100028462,148.39790854236026L317.1130607868941,146.19735554381947L321.16415725786584,143.43498369240444L325.57117154623603,140.54390927823152L324.2082219323037,144.69300346351258L327.2914205756163,145.4096690615815L331.25284180873916,147.9845806380605L335.7403315991822,145.83810663199932L340.84757676840735,144.5585533566259L342.1873957156483,146.5622912290063L343.79946726308555,146.69817651980804L345.26811684149476,146.78125854023705L348.2583025909914,149.48761792949335L343.65337791071346,150.71441391658936L343.5154145596549,150.73083638441778L339.2124831862225,150.37203796764936L335.2334821912468,152.36704372465414L331.69506343574255,153.37054778995258ZM354.6173248264877,182.1245534280538L352.50011351377407,182.46740235299524L349.93298824222563,182.7913370587343L347.07840979966574,183.2030636826633L347.0089130570255,182.61580730946838L341.65876385763306,183.28800275059854L335.6271143356283,183.8405405052497L336.6261631512491,182.68652395280083L338.50848582123865,178.6679956453441L338.2059707400089,173.62020757548248L335.8542807871236,169.05064874643995L335.81248783572966,165.76479724864413L336.8429508375678,161.84639472868582L337.9136711563829,159.17194210926817L339.88698080850554,157.11951158560635L340.6576168858071,159.59663591470485L341.21424330891466,155.7234414082501L342.3085245129799,154.810265439131L342.6630672210664,151.81538053270106L347.4189933423642,152.8132324943681L351.7639488675039,155.27412312225925L352.6442212524529,158.64817549839972L352.62229831922735,162.2133307405822L350.04862769612714,165.65247895326814L350.5833345737339,167.56457962449832L351.6609653222144,167.49090500553427L354.54652382738584,163.66917881786992L356.7076720589039,164.16120184473164L358.33057422738983,168.42901841412493L359.06410563407184,171.50283321285656L358.2795269859309,173.20513503343926L356.99134300748653,176.10270616785527L356.535792668155,177.62358762226648L356.1957669433643,178.92945430868917ZM148.94409611643852,299.822308922477L149.88943628192382,299.9898035506534L150.52274969880764,300.79840054293476L149.2920494462854,302.1065880022953L147.83592720506383,303.14671872020676L147.09596039063845,302.457560648495L146.88101359854267,301.19711898589986L148.18867768466865,300.24011240621456ZM131.46827101556724,291.78109299539926L132.4593828765169,292.1961796776466L132.3992689816678,293.2326239255932L131.51347330775286,293.51475105212484L130.74987959045092,292.85595023099927L130.09461157502267,291.9766939180507ZM127.1046335197377,281.3777181263828L127.67513911822837,282.0519181639777L128.46258753600867,281.972091863988L129.2410321973593,282.8948175495782L130.31385120103158,283.520273995814L130.15665434883744,283.7897590038858L129.1212895345952,284.1367177734153L128.37441072800348,283.3417789648984L128.05226186827352,282.7645062401482L126.98401371923342,282.64869952702657L126.76393131375771,282.3278636920214ZM175.59348086159687,295.2243496500759L174.23960261989882,295.4410572278805L172.06703747344372,295.9792465784608L170.28160502839432,295.63631545879247L166.87603643669667,293.5592036801844L165.4994542537555,293.3314031741705L163.0254673611444,292.81600854708194L161.22832008026853,293.3412043536711L158.47688480945888,292.47006230999295L156.7908699810826,291.5078344945886L155.40870230075586,292.21532806742783L155.84717668089385,294.03964578005264L155.11675504676907,294.2865065321304L153.60602039479133,294.9712321580852L152.47803745456469,295.93136175172594L150.97504184037652,296.5688254275381L150.7281754858392,294.9953693664156L151.2384007087826,292.3406043970434L152.58487601992962,291.42858356126965L152.19785508330307,290.78376599371666L150.60876309412626,292.33996037526776L149.74657882507302,294.1736020718435L147.81930111749602,296.095495495882L148.8440249382525,297.39586564645435L147.52428206405742,299.3472693076868L145.97779690912188,300.4511383988973L144.5184918693382,301.2355719336406L144.11669125478167,302.41143070754606L141.75544026591942,303.6894128920611L141.21048095226837,304.914160124374L139.36425803772735,305.9200789064326L138.3425286439412,305.62195010323967L136.85080321865507,306.227264874316L135.20143909975297,306.9538021430184L133.80736077404077,307.6917068651454L131.0505196930244,308.03759907878936L130.88458672002,307.5478325997067L132.7499996601943,306.5717226270185L134.36437628045056,305.9705821768923L136.1497358237052,304.72220640106406L138.02804511465857,304.60428730521625L138.86549390398883,303.58196162631464L141.0150443066985,302.1503435574626L141.39239114851756,301.6259696514096L142.49894278183135,300.7542192973408L142.86871945923517,298.7339056967037L143.65384014975615,297.1677219824862L142.0057986490791,297.90359371999574L141.58648453907776,297.3940169456498L140.77443959095046,298.3227342382659L139.96452062186873,296.90116521793567L139.52034571712807,297.82766447045356L139.12558509543967,296.4336777254721L137.63728904413748,297.36177941758467L136.79275326410038,297.2639146859895L136.86112783244272,295.65702517030047L137.22475120957338,294.70859578683735L136.49278506349722,293.64815636183056L134.69235619991872,293.9301620168244L133.77357085454327,292.48895241214075L132.98114198869376,291.70598821648014L133.2382713044166,290.2157955618617L132.45672207950122,288.88933062655155L133.21640185442197,287.46753063731865L134.47544015587272,286.1508715787576L135.11938633049664,284.864448752421L136.128950918253,284.81170411977325L136.87744670471716,285.35766920232527L138.00909458754543,284.19090032148245L138.8461528507217,284.52135112704957L139.84294830573475,283.80095821794333L139.757462724816,282.55095327136644L139.16353286995158,282.0032790545344L140.1072639561804,281.07141370982947L139.40997237219483,281.01965768797595L138.13864566230194,281.4653316071268L137.70383427725665,282.0077187707742L136.89124573682898,281.2953539129517L135.22828556796773,281.33720327688184L133.67343289009358,280.4110070645353L133.41519374620543,279.245292141044L132.33084583299777,277.43866772737044L134.0809651803076,276.65733167864323L136.67680166016547,275.7746593192537L137.54402180175282,275.9071306380627L137.20907167807815,277.21513496851253L139.50073183574048,277.40342982818584L138.8377647694218,275.67179690584464L137.6840132440493,274.4804022173718L137.15173908642114,273.0445216186742L136.38125746139306,271.76841900404213L135.16915088586768,270.694344151567L135.97413606381065,269.4217930614517L137.7059858364203,269.62817551872365L139.08929158975695,268.62605093309725L139.4865348732557,267.36400360621303L140.58107509425963,266.2372990733908L141.5035805732044,266.0479622068891L143.3239342332021,265.0454346472728L144.14055246807342,265.2809155831803L145.5764311457661,263.9470318346089L146.90610004176398,264.54056472566015L147.53535034314498,265.73036172462605L147.93535135144316,265.2173098359468L149.4584704144346,265.3520967304221L149.42735678381302,265.9565995203974L150.84477698047368,266.35108355139795L151.75587430986434,266.03025380122335L153.7519799520214,266.7008429829234L155.5524725002469,266.7489408684148L156.30799144548567,267.0115400339098L157.47938719862577,266.4075033749182L158.99961559196387,266.9460531293126L160.078083377871,267.1070442948329L161.99148054597677,276.81691777232754L164.97280747976643,291.8477584432912L166.26955199307548,291.65069308084776L167.70100655605037,292.1079936710729L168.7139994899686,292.9062928314658L168.87118057818196,293.033561622245L168.89366665355232,293.0517209241146L170.49204241403353,294.47329253711376L171.38402463504758,292.67632369328356L172.47222134121012,291.46988429944764L173.53984595076517,292.61489149075896L174.25309038131437,293.071492252953L174.7468510709382,293.4002745246705L176.3369656388082,294.1736150409152L177.51490166815276,295.4756415904418L177.7742415169591,295.72740715180066L180.1576764385111,298.15476501528315L183.12822113981713,298.89970637748854L183.77090116854922,300.48831307968834L183.43131010572515,301.9797576415056L182.27847777361632,301.33069733853984L180.72498196555313,300.9816218708976L179.57500915058304,298.88736940365766L177.10068135983965,297.414172040547Z\" style=\"fill: none; stroke-miterlimit: 2; stroke: rgb(255, 255, 255); stroke-opacity: 1; stroke-width: 1px;\"/></g><g class=\"layer backplot\"><g class=\"choroplethlayer\"><g class=\"trace choropleth\"><path class=\"choroplethlocation\" fill=\"rgb(68, 52, 126)\" d=\"M148.94409611643852,299.822308922477L149.88943628192382,299.9898035506534L150.52274969880764,300.79840054293476L149.2920494462854,302.1065880022953L147.83592720506383,303.14671872020676L147.09596039063845,302.457560648495L146.88101359854267,301.19711898589986L148.18867768466865,300.24011240621456ZM131.46827101556724,291.78109299539926L132.4593828765169,292.1961796776466L132.3992689816678,293.2326239255932L131.51347330775286,293.51475105212484L130.74987959045092,292.85595023099927L130.09461157502267,291.9766939180507ZM127.1046335197377,281.3777181263828L127.67513911822837,282.0519181639777L128.46258753600867,281.972091863988L129.2410321973593,282.8948175495782L130.31385120103158,283.520273995814L130.15665434883744,283.7897590038858L129.1212895345952,284.1367177734153L128.37441072800348,283.3417789648984L128.05226186827352,282.7645062401482L126.98401371923342,282.64869952702657L126.76393131375771,282.3278636920214ZM175.59348086159687,295.2243496500759L174.23960261989882,295.4410572278805L172.06703747344372,295.9792465784608L170.28160502839432,295.63631545879247L166.87603643669667,293.5592036801844L165.4994542537555,293.3314031741705L163.0254673611444,292.81600854708194L161.22832008026853,293.3412043536711L158.47688480945888,292.47006230999295L156.7908699810826,291.5078344945886L155.40870230075586,292.21532806742783L155.84717668089385,294.03964578005264L155.11675504676907,294.2865065321304L153.60602039479133,294.9712321580852L152.47803745456469,295.93136175172594L150.97504184037652,296.5688254275381L150.7281754858392,294.9953693664156L151.2384007087826,292.3406043970434L152.58487601992962,291.42858356126965L152.19785508330307,290.78376599371666L150.60876309412626,292.33996037526776L149.74657882507302,294.1736020718435L147.81930111749602,296.095495495882L148.8440249382525,297.39586564645435L147.52428206405742,299.3472693076868L145.97779690912188,300.4511383988973L144.5184918693382,301.2355719336406L144.11669125478167,302.41143070754606L141.75544026591942,303.6894128920611L141.21048095226837,304.914160124374L139.36425803772735,305.9200789064326L138.3425286439412,305.62195010323967L136.85080321865507,306.227264874316L135.20143909975297,306.9538021430184L133.80736077404077,307.6917068651454L131.0505196930244,308.03759907878936L130.88458672002,307.5478325997067L132.7499996601943,306.5717226270185L134.36437628045056,305.9705821768923L136.1497358237052,304.72220640106406L138.02804511465857,304.60428730521625L138.86549390398883,303.58196162631464L141.0150443066985,302.1503435574626L141.39239114851756,301.6259696514096L142.49894278183135,300.7542192973408L142.86871945923517,298.7339056967037L143.65384014975615,297.1677219824862L142.0057986490791,297.90359371999574L141.58648453907776,297.3940169456498L140.77443959095046,298.3227342382659L139.96452062186873,296.90116521793567L139.52034571712807,297.82766447045356L139.12558509543967,296.4336777254721L137.63728904413748,297.36177941758467L136.79275326410038,297.2639146859895L136.86112783244272,295.65702517030047L137.22475120957338,294.70859578683735L136.49278506349722,293.64815636183056L134.69235619991872,293.9301620168244L133.77357085454327,292.48895241214075L132.98114198869376,291.70598821648014L133.2382713044166,290.2157955618617L132.45672207950122,288.88933062655155L133.21640185442197,287.46753063731865L134.47544015587272,286.1508715787576L135.11938633049664,284.864448752421L136.128950918253,284.81170411977325L136.87744670471716,285.35766920232527L138.00909458754543,284.19090032148245L138.8461528507217,284.52135112704957L139.84294830573475,283.80095821794333L139.757462724816,282.55095327136644L139.16353286995158,282.0032790545344L140.1072639561804,281.07141370982947L139.40997237219483,281.01965768797595L138.13864566230194,281.4653316071268L137.70383427725665,282.0077187707742L136.89124573682898,281.2953539129517L135.22828556796773,281.33720327688184L133.67343289009358,280.4110070645353L133.41519374620543,279.245292141044L132.33084583299777,277.43866772737044L134.0809651803076,276.65733167864323L136.67680166016547,275.7746593192537L137.54402180175282,275.9071306380627L137.20907167807815,277.21513496851253L139.50073183574048,277.40342982818584L138.8377647694218,275.67179690584464L137.6840132440493,274.4804022173718L137.15173908642114,273.0445216186742L136.38125746139306,271.76841900404213L135.16915088586768,270.694344151567L135.97413606381065,269.4217930614517L137.7059858364203,269.62817551872365L139.08929158975695,268.62605093309725L139.4865348732557,267.36400360621303L140.58107509425963,266.2372990733908L141.5035805732044,266.0479622068891L143.3239342332021,265.0454346472728L144.14055246807342,265.2809155831803L145.5764311457661,263.9470318346089L146.90610004176398,264.54056472566015L147.53535034314498,265.73036172462605L147.93535135144316,265.2173098359468L149.4584704144346,265.3520967304221L149.42735678381302,265.9565995203974L150.84477698047368,266.35108355139795L151.75587430986434,266.03025380122335L153.7519799520214,266.7008429829234L155.5524725002469,266.7489408684148L156.30799144548567,267.0115400339098L157.47938719862577,266.4075033749182L158.99961559196387,266.9460531293126L160.078083377871,267.1070442948329L161.99148054597677,276.81691777232754L164.97280747976643,291.8477584432912L166.26955199307548,291.65069308084776L167.70100655605037,292.1079936710729L168.7139994899686,292.9062928314658L168.87118057818196,293.033561622245L168.89366665355232,293.0517209241146L170.49204241403353,294.47329253711376L171.38402463504758,292.67632369328356L172.47222134121012,291.46988429944764L173.53984595076517,292.61489149075896L174.25309038131437,293.071492252953L174.7468510709382,293.4002745246705L176.3369656388082,294.1736150409152L177.51490166815276,295.4756415904418L177.7742415169591,295.72740715180066L180.1576764385111,298.15476501528315L183.12822113981713,298.89970637748854L183.77090116854922,300.48831307968834L183.43131010572515,301.9797576415056L182.27847777361632,301.33069733853984L180.72498196555313,300.9816218708976L179.57500915058304,298.88736940365766L177.10068135983965,297.414172040547Z\" style=\"stroke: rgb(68, 68, 68); stroke-opacity: 1; stroke-width: 1px; opacity: 1;\"/><path class=\"choroplethlocation\" fill=\"rgb(64, 67, 134)\" d=\"M332.28162634832734,236.67373592770372L340.1088087832073,235.97528246403112L348.0942668061017,235.22078549819219L350.7766379357039,244.57927096256452L353.12580023612776,252.04281465440076L354.31757094902287,254.34803861312872L355.0601426650859,255.64751763245295L354.1347092864585,257.1411250821834L354.07754795074754,259.58810563231214L354.5784524036213,260.9807923552504L354.5677989666366,262.3661157057835L354.54886565034093,263.6860332253974L355.0838398577424,264.6123796015107L355.5202908721268,265.41795171379624L342.217496304533,266.88572060273043L338.5224427532763,267.68364305687487L338.4041945259489,268.28500548865054L340.1005037389778,269.9713175985021L339.9001196401567,271.56434653557574L339.4800094919308,272.65155815257265L333.58507323617573,272.29804248047435L332.4785901567667,260.57100677436785L332.5694330952779,248.1908952153107L332.8917324549097,238.14100013097288Z\" style=\"stroke: rgb(68, 68, 68); stroke-opacity: 1; stroke-width: 1px; opacity: 1;\"/><path class=\"choroplethlocation\" fill=\"rgb(72, 41, 121)\" d=\"M322.46084941263246,229.42304987399405L322.424837498178,230.08511554305852L321.9392311608755,231.23853451486974L320.865249167926,232.0334241624734L320.7080726694172,233.36216472236214L319.80532028220074,234.4074660012692L320.0236911931021,236.6350495755758L319.34079105051615,237.40173635799016L319.2996158826604,238.06316339075045L318.1972646776375,238.65578327679296L318.2625453440172,239.771845938496L317.48941027523995,241.9239949440628L316.8634076299443,242.4202317949083L315.77866600181227,243.53312438149814L315.20849676770683,245.1431412491577L313.95210412182183,247.90544313915623L313.87986338384684,249.75041626691484L314.72726478768067,251.74532974082135L314.4728686271861,253.27001565654263L309.0650782247787,253.25861587903754L302.0988961494723,253.774046801174L295.95025004148243,253.93061433675553L296.2730219961526,249.52414783485014L294.78681551308733,249.48796139181277L293.55158746284144,249.64107056752067L293.2131169316691,249.12107675466234L293.2677227974086,242.3506534715662L293.30653917656474,234.8507988690107L291.9013341306386,226.70982706190222L299.36359422944946,226.62038646500162L306.1108686274332,226.46317895218493L312.5360917101517,226.17768517909525L319.54106977732016,226.24682876737756L320.0747809113172,227.13696512552838L319.4125015863674,228.0356626929335L318.82774188921405,228.9287418228074L318.4726032050851,229.67549571440543Z\" style=\"stroke: rgb(68, 68, 68); stroke-opacity: 1; stroke-width: 1px; opacity: 1;\"/><path class=\"choroplethlocation\" fill=\"rgb(67, 57, 129)\" d=\"M204.67945736893984,217.79513369316396L198.7044666470353,261.0746372269417L185.84989187174602,259.2288745702439L172.19422357264114,251.3681742212956L166.00178583466092,247.5237892197417L163.34453531706293,245.86103046237562L164.21379891239647,244.49638659908985L165.0320030632723,244.65908118584042L166.06004925737284,243.32389043120767L165.12196434131877,242.06790418315177L165.108445000222,240.86051243045344L165.0533992414496,239.44360299116858L166.6143202090525,237.94605759012887L167.7850667905647,234.56093713442027L170.01606714308753,233.38922033956652L169.0895384279496,231.73570762370883L168.5685814972747,230.15939244789354L168.35755453372394,228.71012962211893L168.24377380529256,227.6148316198928L168.2129676000775,226.93812509306088L168.91666365989687,225.4681599748053L168.8945688322458,223.92108484749582L169.01891082535866,222.46984715700677L169.35261549757263,220.7916195439961L169.0874811973697,219.66499135006444L169.659414079046,218.83934949491106L170.9124790063497,219.08726624708305L171.98713939048176,219.83409327857674L172.70918250164576,220.30931363270565L173.32562563382797,219.22151739975635L173.68866917454002,219.0231566892287L174.78987079528898,212.86561310131918L184.4355137099526,214.49926036306755L195.9455071869963,216.45456215382916Z\" style=\"stroke: rgb(68, 68, 68); stroke-opacity: 1; stroke-width: 1px; opacity: 1;\"/><path class=\"choroplethlocation\" fill=\"rgb(208, 225, 41)\" d=\"M168.2129676000775,226.93812509306088L168.24377380529256,227.6148316198928L168.35755453372394,228.71012962211893L168.5685814972747,230.15939244789354L169.0895384279496,231.73570762370883L170.01606714308753,233.38922033956652L167.7850667905647,234.56093713442027L166.6143202090525,237.94605759012887L165.0533992414496,239.44360299116858L165.108445000222,240.86051243045344L165.12196434131877,242.06790418315177L166.06004925737284,243.32389043120767L165.0320030632723,244.65908118584042L164.21379891239647,244.49638659908985L156.0293747712744,243.67677273051262L149.38618725084498,242.75735346982327L148.80079098611893,242.6925757549408L148.6153222090342,238.61384546156978L145.590009139558,233.33082406197178L142.91639860980555,231.75012919182592L142.80024495802684,229.4244119228706L139.46834767490645,228.2036611544478L137.75461450574986,225.6079252985947L132.3199089748197,223.46505756384164L131.0618484163126,221.84164203992088L131.0955374355903,221.71452680122752L131.4538151197235,217.5225739319534L129.1714667615426,212.06866555405776L127.67838488792853,208.4493589178801L125.7231924845293,196.7464503737446L125.96180211702372,196.19827739944782L126.4566966032126,195.0384429549572L124.6632704994521,191.9841631662606L124.6254961232454,191.83596778381911L123.45138694127292,188.67768430936366L122.01089704369207,184.3322847214182L123.10151622142249,178.06012640843926L122.47058336455135,176.21843685651743L121.36213017440559,173.12647020310288L123.44568559851385,169.15571265718847L124.47019402033584,167.33734547575864L126.19779885792659,160.92485943079697L149.13068982641914,167.4552907113295L143.32944935939298,189.93965325960824L151.72220145527052,202.80270856623025L160.0822245569992,215.16610167531832Z\" style=\"stroke: rgb(68, 68, 68); stroke-opacity: 1; stroke-width: 1px; opacity: 1;\"/><path class=\"choroplethlocation\" fill=\"rgb(58, 83, 139)\" d=\"M248.38470118359388,198.78578693577145L247.62319545852154,210.74412278728408L246.9033435824017,222.04834574262003L241.07866919263228,221.64782099434063L233.84331922366306,221.06768795231648L223.55467705711953,220.08459953206926L214.06847054284333,219.01289961024105L204.67945736893984,217.79513369316396L208.84596543804196,187.06937167189352L214.54443620987604,187.8263111809909L220.25056362079738,188.52318744562524L231.68325532822183,189.73644765557555L237.41411173740929,190.1871736790509L248.87804630890855,191.03852187265045L248.39724860646558,198.58874797489364Z\" style=\"stroke: rgb(68, 68, 68); stroke-opacity: 1; stroke-width: 1px; opacity: 1;\"/><path class=\"choroplethlocation\" fill=\"rgb(71, 35, 115)\" d=\"M409.6798714797594,169.0547894086194L413.9254370798784,168.14731129714022L419.03576500161705,167.04724238089727L420.16655885925377,171.09807594249168L420.0885110654809,172.27295826577927L417.7387866067994,173.28449773797172L414.58820641204807,174.4833301963056L413.7024170008137,175.24402950324884L410.79723440559303,177.505884788343L410.6786469393777,177.3314257524574L410.30397492809504,176.40689751302176L411.2938278420358,175.42519331484095L410.70582810270383,174.89067472044206Z\" style=\"stroke: rgb(68, 68, 68); stroke-opacity: 1; stroke-width: 1px; opacity: 1;\"/><path class=\"choroplethlocation\" fill=\"rgb(72, 39, 119)\" d=\"M407.1826080912132,198.27482157820106L403.32982011512934,199.12384804978643L400.8666064406909,189.55188218743183L401.11257578713634,188.89255131334488L401.5619324564377,188.4581667242449L402.90696429927846,188.56797458978377L402.1854616018978,189.5348498139693L402.7320339213804,190.9651851533152L404.81922942413485,194.75311631921852L406.54602020824655,195.78551296446415Z\" style=\"stroke: rgb(68, 68, 68); stroke-opacity: 1; stroke-width: 1px; opacity: 1;\"/><path class=\"choroplethlocation\" fill=\"rgb(198, 224, 42)\" d=\"M339.4800094919308,272.65155815257265L339.9001196401567,271.56434653557574L340.1005037389778,269.9713175985021L338.4041945259489,268.28500548865054L338.5224427532763,267.68364305687487L342.217496304533,266.88572060273043L355.5202908721268,265.41795171379624L356.6963998586044,267.3873666913757L363.36751917639396,266.96072431389734L374.0413614900956,266.61734849433594L374.7495725060429,267.90058935552963L375.4942726357875,267.0642835410519L375.10153604986783,264.41310881297113L375.82362168330656,264.0412377821008L377.2633548942284,264.41967624003297L378.6355713288144,264.34235090665413L380.5584673015019,269.46622684789077L383.8001463884053,275.55920418008157L387.61083518156056,280.4836995278722L388.2245368620225,283.677762897511L392.84544737629847,291.92003573941224L393.52110474512443,296.9918750157216L393.6590036555741,299.9834953160172L392.71998037170255,304.85096868643984L390.8030765782212,306.1454536555797L387.2222566366778,305.7389273782078L386.5518930657906,304.408038536036L385.6341723235968,302.65722547646465L382.769021670525,301.3330873247039L380.6193550744721,298.5838464098297L378.1522573090168,295.41470760469605L374.1420987077539,290.0948779018903L372.7616804177739,287.2721411211705L373.4447189664712,281.98944291631466L370.9604955387159,278.12898637327703L364.9405882594888,272.4222747971185L362.22430107851113,271.58497083114185L356.03860576522754,275.8802131006871L354.7890063606579,275.62891499666193L351.1321540830808,272.42125872465283L346.82957614025986,270.9667071993609L342.6913031663453,271.8971446335891Z\" style=\"stroke: rgb(68, 68, 68); stroke-opacity: 1; stroke-width: 1px; opacity: 1;\"/><path class=\"choroplethlocation\" fill=\"rgb(62, 74, 137)\" d=\"M355.5202908721268,265.41795171379624L355.0838398577424,264.6123796015107L354.54886565034093,263.6860332253974L354.5677989666366,262.3661157057835L354.5784524036213,260.9807923552504L354.07754795074754,259.58810563231214L354.1347092864585,257.1411250821834L355.0601426650859,255.64751763245295L354.31757094902287,254.34803861312872L353.12580023612776,252.04281465440076L350.7766379357039,244.57927096256452L348.0942668061017,235.22078549819219L352.8516931920408,234.74607664801374L356.14202124466834,234.28291174230935L363.8640232464867,233.34423231732558L363.2297713421857,234.09440373543038L362.4570484983358,235.65838601823964L364.32760563075794,236.73221174400635L365.44039227860355,237.04350019966625L366.9910099759024,239.28262067088414L367.91481718891714,240.5457773483363L370.37383553424473,242.05053273936943L370.9239713495108,242.9659081605975L372.5763693210099,243.98318044921012L373.58508377134496,245.69116237492864L375.86326891144887,246.87196196010825L376.5443310226256,248.5596854564977L377.08687862071747,249.33872642534723L376.9297190455838,249.96048030085876L378.2173170920727,250.62291049933964L379.10329232025117,251.9439164652251L379.32808075190354,253.36846320392303L379.96058611679535,253.6001328678301L381.1024956298597,253.81598295666834L378.80498915981957,258.75490700397677L378.6355713288144,264.34235090665413L377.2633548942284,264.41967624003297L375.82362168330656,264.0412377821008L375.10153604986783,264.41310881297113L375.4942726357875,267.0642835410519L374.7495725060429,267.90058935552963L374.0413614900956,266.61734849433594L363.36751917639396,266.96072431389734L356.6963998586044,267.3873666913757Z\" style=\"stroke: rgb(68, 68, 68); stroke-opacity: 1; stroke-width: 1px; opacity: 1;\"/><path class=\"choroplethlocation\" fill=\"rgb(55, 89, 140)\" d=\"M223.17097139806464,301.90991789524986L224.4921912033416,302.5508566381656L225.6290534639426,303.5823227383766L227.5346452168346,306.2326331728767L227.34997082627007,306.6895278590002L224.53249143560245,308.33786724826166L222.17973097772241,309.524297102749L221.1476049744012,310.83199169927286L219.34742019217904,309.73354877472207L219.52714810059214,307.585150608848L218.2906567507073,304.79339946338865L218.6642222042335,303.94694579450334L219.97678468491733,302.70673847289004L219.40593989788567,301.21514092997523L219.8728180336886,300.4987806942678L220.4373069846534,300.62603732127513ZM218.82407633387396,296.6744513854467L218.26488396544852,297.6495185867167L215.82640007699413,298.17574078466095L214.60358443611918,296.5564314092482L213.75890400477928,295.97400738420004L213.66457711568899,295.4554512531033L214.41336346633804,294.8062593849905L216.94501940853428,295.5136992890051ZM213.3816013301732,293.5763455048831L213.10140589793332,294.41893571425294L209.26130690559214,294.15883888817757L209.82412045157443,293.25242328025445ZM204.22291050100498,289.41906984731816L204.87491781361214,289.9391518874336L206.92420219429448,292.47008505738364L206.54867656658195,292.922458153432L205.9875150135221,292.7912892217805L203.46183977012262,292.52277765690104L202.62822566208658,290.7708219008466L202.349079263612,290.5105556997736ZM194.63604651974885,285.6059568693524L194.80651391928993,287.3523430481784L193.95927062645308,288.12024206437275L191.54777235613682,286.67323489558447L191.9264212163205,286.1603522708044L192.96004992674298,285.3958773850253Z\" style=\"stroke: rgb(68, 68, 68); stroke-opacity: 1; stroke-width: 1px; opacity: 1;\"/><path class=\"choroplethlocation\" fill=\"rgb(69, 10, 92)\" d=\"M281.0449107438792,172.89947130333712L287.09422986073446,172.8935896515976L294.6523662963972,172.65748112496175L302.71275646187047,172.42575143552023L309.984276603763,172.24178687131405L310.0759900544766,172.63081497299027L310.8601274781028,173.83759527269552L310.3850463566359,174.45270449746778L310.4648979387366,176.02431969158238L310.7916673594767,176.73000798840354L311.1464285094063,177.95974281862811L313.07662140724835,178.5788969803387L313.6527103993087,179.72978135420226L314.05113944373284,180.29885178313822L314.73130847733745,180.65410170489605L315.00060354131034,181.4932703417868L315.9144879089791,182.03080881970686L316.54090171956403,182.65052507640019L316.3754011208359,184.7665040658469L315.44508773775283,186.53374287009865L315.11013415608505,187.14588095956475L313.8043557859392,187.68127670415083L311.89636692676874,188.113614741162L311.44848061693017,189.51912304585574L312.2224982857112,190.0713405889315L312.50839398201083,191.24140484129322L311.8311216649962,192.5939977335242L311.51796718876386,193.79558102990842L310.07756113551187,195.05272365552105L309.9938009163279,196.4399806109284L309.2107325306868,195.81840787078465L308.0276812990544,194.62117810313885L301.73385709787823,195.06339996132738L295.12993405972776,195.30821570162823L289.94892897563244,195.39299229093865L284.76735450559124,195.42886376893063L284.3148611178093,194.04830683177818L284.5371095898235,192.66681177414955L284.3855726436515,191.28616132918182L283.78837818108656,189.05154904037397L283.41749231556054,188.13141715891425L282.9731825926626,187.8682397292846L282.97509799326986,186.09408542671514L282.60819817568733,184.84539293112152L281.582423845225,183.3976852095101L281.5848394592041,182.74103596533433L281.22347412592154,181.49215332277606L281.0076617775832,180.70346982922473L281.0111076048429,179.98153755757397L280.14077432324905,179.12359032801908L280.58494849861177,177.8797208079867L280.8820241852516,176.63510620549886L281.03114566702243,175.7833805813887L280.31349156233256,174.7305128280396L280.32476018272797,172.89554140940186Z\" style=\"stroke: rgb(68, 68, 68); stroke-opacity: 1; stroke-width: 1px; opacity: 1;\"/><path class=\"choroplethlocation\" fill=\"rgb(61, 75, 137)\" d=\"M182.14783706375167,120.09142525957304L180.880703905229,127.93977293038671L181.7719811382135,130.24565339196602L181.4919126728518,131.57685474968747L182.2364865852699,132.99095259572948L183.22440863036195,133.92394630503662L183.85807029050102,135.24582390035044L184.86929423144645,137.83530975884787L185.93209584930696,139.1737002479661L187.5378413077861,139.5553479691389L186.59317144501077,141.1594872143309L185.74220732581347,142.98165379828788L185.76122484829529,145.04273140897715L185.05912651164476,145.36937145602434L184.74891037608054,147.30126581406358L185.55829042247785,148.2576190959805L186.76131053617564,147.56126108969778L187.5064536163817,146.64259706148903L188.08570079999635,146.9525403892609L188.507783885609,148.09454748896457L188.6790492718501,150.58316711437902L189.4654598798126,151.72647077620718L189.44182456604204,153.78118032773904L189.62438965556152,154.34653733111531L190.70102657080685,154.74373688286664L191.1285752702198,155.95081800228496L191.74652724194758,158.1219292769763L192.92084786733838,157.2022423971348L194.61205426598804,157.83130733535035L194.88619598764132,157.08262349691694L197.88567564797467,158.05843219865483L199.1075975333281,158.06275627260624L200.1306860335656,156.64111861994382L200.71700519945318,157.00146352339374L201.03941980270992,158.1130093148734L201.59710834790374,158.66610585158168L201.7166221922525,158.81763940407018L198.6977564136247,177.71748789707402L182.08729046668944,174.8634904597746L165.4575437181905,171.32976693857393L168.63536228985237,157.8595441108689L169.54135344361012,155.7817094091793L169.33854240953525,154.73033093080437L168.48105637955865,154.00025355578248L168.75582652876113,152.78835676850582L169.89120346965132,151.30231219723214L171.3375480844137,150.0192493083527L172.6314863200862,147.76481908324155L173.80597864026092,146.01929674846014L174.49338286910614,145.16852094437627L174.47182393670596,143.9625869295685L173.7279591484412,143.13150816403868L172.81818272908248,141.46102200026417L173.18420088255291,140.14186971379485L172.96816457775844,138.89309533974324L175.16869714438764,128.4773714656975L177.22924901978627,119.01156338441075L180.46390197846276,119.72775398748382Z\" style=\"stroke: rgb(68, 68, 68); stroke-opacity: 1; stroke-width: 1px; opacity: 1;\"/><path class=\"choroplethlocation\" fill=\"rgb(70, 24, 105)\" d=\"M309.9938009163279,196.4399806109284L310.07756113551187,195.05272365552105L311.51796718876386,193.79558102990842L311.8311216649962,192.5939977335242L312.50839398201083,191.24140484129322L312.2224982857112,190.0713405889315L311.44848061693017,189.51912304585574L311.89636692676874,188.113614741162L313.8043557859392,187.68127670415083L315.11013415608505,187.14588095956475L315.44508773775283,186.53374287009865L316.3754011208359,184.7665040658469L316.54090171956403,182.65052507640019L315.9144879089791,182.03080881970686L315.00060354131034,181.4932703417868L314.73130847733745,180.65410170489605L314.05113944373284,180.29885178313822L313.6527103993087,179.72978135420226L319.41386350364786,179.37342232151394L325.24367248857095,178.94912916709967L329.5456475164404,178.66074196508038L329.79392344019817,180.68195052451546L331.6912033362773,184.60316552195917L332.4877976240862,193.50951487484417L333.2091152214092,202.43135890858252L332.79153769128914,204.6496696390742L333.29638298599167,205.13375083824252L333.7254490307346,206.48372159331024L333.81357768673234,207.4675302981724L333.32284750503095,208.04015151970344L333.04831369628215,209.3204593939658L331.9624727191233,211.13341288049008L331.28401980333854,213.23997663464934L331.18339017441133,214.8345755786916L331.31071283068707,215.41869464280182L330.6970254636528,216.52717988212623L331.30327539006294,217.20367649592072L330.25840415690647,217.88479712260857L328.9815203202611,218.64833482127216L329.3472920080136,220.2707495679598L328.61377799399173,220.98934024893623L327.0655941409701,220.38221816280804L325.4664326943123,220.10504081972618L325.04776734357415,220.86172877191478L325.3693685428942,222.02682859133358L324.2619665949233,220.9179468375724L323.56840065016047,221.16469865253913L322.7305281050767,219.30825679497588L322.80606183446656,218.11491687195024L322.2900064161015,216.30189349104302L321.6487876438456,216.08109710574792L319.98484615176454,214.54011502469052L319.2812822250146,214.51880359668297L318.05160466717587,213.5391339597113L317.12805533255244,212.4070516500962L317.4323138679523,211.0034702765754L317.90476915298495,209.85332912970432L318.12409818969076,208.38844267105748L316.973433122792,207.2046961204398L315.85299961854844,207.79799592494732L315.143366922067,207.5086094247397L314.99277661432075,206.19807495141362L314.4533118882093,204.7773786238186L313.9007923244078,204.47799821606918L312.4720680107762,203.49905590685518L311.26344035132144,202.24221694301156L310.2749901978918,200.70898355344627L309.632431381804,198.36762590292676Z\" style=\"stroke: rgb(68, 68, 68); stroke-opacity: 1; stroke-width: 1px; opacity: 1;\"/><path class=\"choroplethlocation\" fill=\"rgb(70, 19, 100)\" d=\"M331.18339017441133,214.8345755786916L331.28401980333854,213.23997663464934L331.9624727191233,211.13341288049008L333.04831369628215,209.3204593939658L333.32284750503095,208.04015151970344L333.81357768673234,207.4675302981724L333.7254490307346,206.48372159331024L333.29638298599167,205.13375083824252L332.79153769128914,204.6496696390742L333.2091152214092,202.43135890858252L332.4877976240862,193.50951487484417L331.6912033362773,184.60316552195917L332.25382699994964,185.0803721160692L334.16308654555183,184.83834829036567L335.6271143356283,183.8405405052497L341.65876385763306,183.28800275059854L347.0089130570255,182.61580730946838L347.07840979966574,183.2030636826633L347.90511324091966,190.188813606682L348.7112555036929,197.64687610915752L349.3449428985167,203.00789932022673L349.0026799259463,203.37973600380508L349.64548834327377,204.89520604723253L349.4857135021819,205.51084795035877L348.49141757482334,205.62720430814738L347.65579569460533,206.45270325277875L346.24007333655334,206.28161996835945L346.2550264846535,207.80399774313076L345.4751667816058,208.4868292517914L344.84871120932223,209.88038921814297L344.0218977650415,210.16841969948598L342.95129766219844,212.59992371208182L341.72211462847514,212.06548110213754L341.24154891495573,211.18790238661973L340.3884057444809,212.79673868354928L339.7755382541191,213.71825032737456L338.4512526254509,212.98777761987412L337.124192578433,213.84244907110292L336.72597536699624,214.60750364079126L334.7538216548425,213.59836039893474L333.5874816141699,214.56190136813228L331.9826280158059,214.10607700509428L331.9776289986809,214.96575466087052Z\" style=\"stroke: rgb(68, 68, 68); stroke-opacity: 1; stroke-width: 1px; opacity: 1;\"/><path class=\"choroplethlocation\" fill=\"rgb(70, 25, 106)\" d=\"M246.9033435824017,222.04834574262003L247.62319545852154,210.74412278728408L248.38470118359388,198.78578693577145L258.51459827653844,199.33769125738525L266.0798933037651,199.62852418579013L279.4775917781876,199.88952130382836L287.50272019159877,199.89050086302035L288.87554077030296,200.9321190838304L289.63403541088763,200.9243258757645L289.79830076559654,202.04154258026722L289.05256240719365,203.49770328091904L289.4412039348547,204.2179339215191L290.2238048417002,205.85518045143425L291.7648576405948,206.55902881424737L291.80866805068314,214.85662799449773L291.92910365904055,223.1534827261998L286.5643183322733,223.2064017818024L275.6766498379006,223.16039181913476L264.71293366108154,222.90629849110258L258.72101157075286,222.6792341891453L252.65298889756934,222.38566746355298Z\" style=\"stroke: rgb(68, 68, 68); stroke-opacity: 1; stroke-width: 1px; opacity: 1;\"/><path class=\"choroplethlocation\" fill=\"rgb(71, 26, 107)\" d=\"M323.2455025731051,225.67508628593094L324.5318896084058,224.72746155820477L325.43348095750395,224.0027320539009L325.2689287754546,222.82634941697205L325.3693685428942,222.02682859133358L325.04776734357415,220.86172877191478L325.4664326943123,220.10504081972618L327.0655941409701,220.38221816280804L328.61377799399173,220.98934024893623L329.3472920080136,220.2707495679598L328.9815203202611,218.64833482127216L330.25840415690647,217.88479712260857L331.30327539006294,217.20367649592072L330.6970254636528,216.52717988212623L331.31071283068707,215.41869464280182L331.18339017441133,214.8345755786916L331.9776289986809,214.96575466087052L331.9826280158059,214.10607700509428L333.5874816141699,214.56190136813228L334.7538216548425,213.59836039893474L336.72597536699624,214.60750364079126L337.124192578433,213.84244907110292L338.4512526254509,212.98777761987412L339.7755382541191,213.71825032737456L340.3884057444809,212.79673868354928L341.24154891495573,211.18790238661973L341.72211462847514,212.06548110213754L342.95129766219844,212.59992371208182L344.0218977650415,210.16841969948598L344.84871120932223,209.88038921814297L345.4751667816058,208.4868292517914L346.2550264846535,207.80399774313076L346.24007333655334,206.28161996835945L347.65579569460533,206.45270325277875L348.49141757482334,205.62720430814738L349.4857135021819,205.51084795035877L349.64548834327377,204.89520604723253L349.0026799259463,203.37973600380508L349.3449428985167,203.00789932022673L351.33992824912536,202.90112085897766L352.42630791723565,203.56387647968552L354.24135033009696,205.06226032548892L355.53950416063753,205.4940260859587L356.5337459486389,205.96280720806556L357.88517728344084,205.58558874441474L359.01747023194537,205.89905258000255L360.1791413933214,205.275856891729L361.30748356527863,204.9870143256266L361.92114377868825,206.03169996110915L363.0945026841973,206.5978077852912L363.34978460813176,207.29321665572616L363.5047419962904,208.93416208008637L364.36543768383683,210.00874231389093L364.8426891823737,211.13778350901964L365.83452144188493,211.9923993039988L366.5871096690604,212.8142623846325L367.76843684530536,212.77298227111135L367.2351609152468,213.4511490998849L365.695457848737,215.40625164024357L363.9558313457217,216.58574124978264L363.89161618463913,217.25979303061274L363.3761656046244,218.12995727308322L361.9278654544409,219.19429265434462L361.85843421263553,219.27024645538694L361.78898363206736,219.34619179286892L361.41614849609255,220.12791213240848L360.51807215846117,220.5812386421427L360.2213329186729,220.75378879713645L358.55224324402536,221.4389169998637L354.484462984934,222.15385644717003L349.08905790099345,222.46160662359938L347.36976320374276,222.78709157140582L343.87913169600154,222.96427929673376L340.3226905031487,223.25914976325276L337.0017250419195,223.51020005511583L333.22847517872583,224.04547074490597L333.0423337404692,223.73103662793926L331.85769961647196,223.83135858383974L331.96198067175675,225.0779521656114Z\" style=\"stroke: rgb(68, 68, 68); stroke-opacity: 1; stroke-width: 1px; opacity: 1;\"/><path class=\"choroplethlocation\" fill=\"rgb(52, 96, 141)\" d=\"M295.95025004148243,253.93061433675553L302.0988961494723,253.774046801174L309.0650782247787,253.25861587903754L314.4728686271861,253.27001565654263L314.99466490944894,253.70321043131895L314.46977348625256,254.84709433714013L315.4674725080268,256.3721693770125L315.26476426327685,257.30217800696414L316.1736033024057,258.6332737740787L315.2930636155356,259.46728842550215L315.11544496623367,260.920283790757L313.91261567699127,262.16174274536627L313.4020911851231,263.8262174213319L312.897673824386,265.68586431076665L312.08967933671977,266.57548515272197L312.5202930684557,268.5207734938906L318.23132901825664,268.4251613101695L324.44481753511235,268.1131862575626L324.3559564499713,269.36444295597613L324.0144671706922,270.6972109192564L324.50123540756323,271.5826041015437L325.41738740643405,272.4389250873467L325.67618880817724,273.73121125591285L325.896134125734,274.436528832661L325.99084273066853,274.56105430302466L327.24777493417986,276.5037724880235L327.3778016884309,279.63399131964457L328.95716431021907,281.02617355202653L327.7272566628039,282.15830835976703L325.12836728874004,281.1578350574325L322.70217573116213,282.81393863929304L317.89927113003677,282.8301616182729L312.66336157383535,279.0442296713743L306.9003754564995,280.2622433215546L301.99119261881646,278.5964975528326L297.8533389791973,279.2910241329731L297.40191313484627,278.4525491563031L298.06802391453647,277.32768536092203L298.9917187316723,276.2607857706965L299.0408658052273,274.75690322314347L298.51272174353585,274.2468955710523L299.0685389731835,272.40300650099846L299.4750352130333,271.54266551367954L299.99930892429217,268.7157604034652L299.3767946947044,267.68461040393913L298.56913900218865,265.9368269379405L298.01930184731447,264.1814041021181L297.5699994165677,263.0123909470093L296.53854021515036,262.1175077003586Z\" style=\"stroke: rgb(68, 68, 68); stroke-opacity: 1; stroke-width: 1px; opacity: 1;\"/><path class=\"choroplethlocation\" fill=\"rgb(71, 32, 113)\" d=\"M419.03576500161705,167.04724238089727L413.9254370798784,168.14731129714022L409.6798714797594,169.0547894086194L409.56469843705065,163.61145271624042L414.1196552993225,162.61570100514348L420.6924067750736,160.97639844725785L421.05181636077504,160.06551775323265L422.0388297014196,159.25672546806095L422.72160282136605,159.27576394987733L423.7164747996652,163.2216282878178L426.63338722817565,166.6459454228829L428.962225581188,166.20447863612708L428.48381987973016,165.31500259829687L427.5646348361839,163.6621443645144L429.72532574049154,164.83013438214323L429.81533897843156,166.23808132348256L429.8330458101004,167.12042804768203L427.2432957276324,168.86347793804947L426.4548455198425,169.35223344584364L423.8440141779508,169.922625192628L423.32344121903174,168.83742088971593L422.2294406962419,168.17711276270285L421.35080804114125,166.3033934755598Z\" style=\"stroke: rgb(68, 68, 68); stroke-opacity: 1; stroke-width: 1px; opacity: 1;\"/><path class=\"choroplethlocation\" fill=\"rgb(69, 12, 94)\" d=\"M406.01775064425783,201.97430446558798L404.6775524315167,202.40284671805415L404.16670902032956,202.98560501379632L400.50787005670105,200.73748336646133L398.51440129390505,194.62952997209294L398.0584538155793,198.08790619724726L400.35600735354654,202.6538454133771L396.2373207284047,202.29334519785948L396.10898252837563,202.05057189128962L395.7113317351916,201.25755971688324L394.7891952746842,201.7789919688559L393.95236055331554,201.54308482447658L394.29963757486547,199.72784236340522L394.9392727657587,198.9948524978945L395.13994040791215,198.82000158554308L395.08502419357103,198.15928011391497L395.7082703324118,197.3609433637261L394.7849405224048,196.6747967638462L394.41126055962445,197.15321431529435L393.18908405690803,196.52501001185465L391.8957700444088,196.3114250645815L391.9327759789985,196.10280129316016L392.1057965822555,195.39750676094917L391.240616803266,194.96402024895804L390.52742265131496,194.90231474047556L390.3647826562807,194.86693592238538L389.72664087641715,193.98493319014614L388.76601367000796,193.03068895860423L386.8609206233367,192.79100957010058L385.9233783415224,193.5701890568938L385.3579571802977,194.27830292044314L383.64966220238085,194.25838940270387L382.9660607367835,195.18571153238258L381.8979055328521,195.71255109227332L381.08180873759693,196.7941368791915L380.29208691425333,197.60196692024022L379.6841172117785,193.69830209579123L385.0066088922328,192.80361539389378L386.7875429830249,192.4029327681373L390.89216144036027,191.61082640022465L395.809663349325,190.61956911622468L400.8666064406909,189.55188218743183L403.32982011512934,199.12384804978643L407.1826080912132,198.27482157820106L407.25459051543555,198.59613263747383Z\" style=\"stroke: rgb(68, 68, 68); stroke-opacity: 1; stroke-width: 1px; opacity: 1;\"/><path class=\"choroplethlocation\" fill=\"rgb(70, 21, 102)\" d=\"M423.166568171603,157.31935439688772L422.62462802362637,157.53509919236552L422.07008472654934,156.59875155306145L420.78586995097044,155.72387965303415L420.8070238673248,154.97157935456073L416.3814748266667,141.53443068209214L418.28844906807706,139.73408208884052L418.715879983624,137.8591195801563L419.1869221314891,135.9038971993375L419.1781557806878,133.5411582181677L419.17574665209327,129.69287517286222L420.69717981102394,125.27984679289114L421.4007905168623,123.0531312273057L423.14061435075087,124.1678349377612L423.6603654675125,124.4888458613288L426.6835931060725,122.23808859501116L429.54006946568063,123.6762870393236L431.3650369533756,129.64229245985229L432.60333756183405,133.6904238332164L437.2198822118321,136.76781265113686L438.8575740215624,138.92283935332438L434.4044842204276,144.19986143468645L429.7487040172456,148.31379821256792L424.79552131379785,152.11001546708457Z\" style=\"stroke: rgb(68, 68, 68); stroke-opacity: 1; stroke-width: 1px; opacity: 1;\"/><path class=\"choroplethlocation\" fill=\"rgb(62, 72, 136)\" d=\"M329.0061894766484,158.53032914825013L328.8603347113093,158.47771360639484L328.8660883479091,158.5427440562588L328.08623798773016,157.6938386577707L328.32748567595,156.4282441677521L327.135855111011,156.4659771267588L327.30874476168435,155.20741349402846L327.60040447181694,154.52781806111284L327.0248025663467,153.5307125847047L325.7328463935327,153.1167239558772L325.28447071479036,151.9120312286862L324.2367692261014,151.86676480807637L322.78470148374623,151.98153611199263L319.57468127164316,150.84976829945492L314.8654723484654,149.79493229317376L314.36867606297375,148.4574076370003L313.52907000143335,148.24774171349526L313.1935100028462,148.39790854236026L313.121023566947,148.33706398406122L313.1935100028462,148.39790854236026L317.1130607868941,146.19735554381947L321.16415725786584,143.43498369240444L325.57117154623603,140.54390927823152L324.2082219323037,144.69300346351258L327.2914205756163,145.4096690615815L331.25284180873916,147.9845806380605L335.7403315991822,145.83810663199932L340.84757676840735,144.5585533566259L342.1873957156483,146.5622912290063L343.79946726308555,146.69817651980804L345.26811684149476,146.78125854023705L348.2583025909914,149.48761792949335L343.65337791071346,150.71441391658936L343.5154145596549,150.73083638441778L339.2124831862225,150.37203796764936L335.2334821912468,152.36704372465414L331.69506343574255,153.37054778995258ZM354.6173248264877,182.1245534280538L352.50011351377407,182.46740235299524L349.93298824222563,182.7913370587343L347.07840979966574,183.2030636826633L347.0089130570255,182.61580730946838L341.65876385763306,183.28800275059854L335.6271143356283,183.8405405052497L336.6261631512491,182.68652395280083L338.50848582123865,178.6679956453441L338.2059707400089,173.62020757548248L335.8542807871236,169.05064874643995L335.81248783572966,165.76479724864413L336.8429508375678,161.84639472868582L337.9136711563829,159.17194210926817L339.88698080850554,157.11951158560635L340.6576168858071,159.59663591470485L341.21424330891466,155.7234414082501L342.3085245129799,154.810265439131L342.6630672210664,151.81538053270106L347.4189933423642,152.8132324943681L351.7639488675039,155.27412312225925L352.6442212524529,158.64817549839972L352.62229831922735,162.2133307405822L350.04862769612714,165.65247895326814L350.5833345737339,167.56457962449832L351.6609653222144,167.49090500553427L354.54652382738584,163.66917881786992L356.7076720589039,164.16120184473164L358.33057422738983,168.42901841412493L359.06410563407184,171.50283321285656L358.2795269859309,173.20513503343926L356.99134300748653,176.10270616785527L356.535792668155,177.62358762226648L356.1957669433643,178.92945430868917Z\" style=\"stroke: rgb(68, 68, 68); stroke-opacity: 1; stroke-width: 1px; opacity: 1;\"/><path class=\"choroplethlocation\" fill=\"rgb(69, 10, 92)\" d=\"M304.631686950427,147.78939972955828L303.2092117930331,148.30241392390894L303.4464330370238,152.589650415694L303.30541966035275,152.53001748200978L302.0208119920101,153.4255644713282L300.8684186137685,154.24829861596095L300.1488586060642,155.64144452481486L301.382982503368,157.03491694264022L301.0305818682579,159.00529820338966L301.10175280178464,161.0930714322252L300.947716513239,162.79762945840378L302.6251133633432,164.17718059374164L303.26498450158783,164.21863585484738L305.0816338467688,165.25873806837268L305.6716401198435,165.75757709458776L306.13473715612315,166.5887881018574L307.54669374529607,167.83558521057392L309.45601975813776,168.85830454265368L309.7030893916922,169.50150436857558L309.79463560215186,171.33294994937313L309.984276603763,172.24178687131405L302.71275646187047,172.42575143552023L294.6523662963972,172.65748112496175L287.09422986073446,172.8935896515976L281.0449107438792,172.89947130333712L281.1503088864114,165.69944488145768L280.5543422745572,158.31552236771307L279.5786324638029,157.7217922609414L279.0993190013674,156.54404780775081L279.38697595779666,155.50353959257433L280.57576257724634,154.66481390755274L280.65162889359067,153.55794981142384L280.6598364621578,152.1257242315412L280.3904951210197,150.95285457957237L279.91634498181645,149.71393192742073L279.6531109676905,148.15195459207115L279.6662536219659,146.4632382324698L279.46478011640926,146.00716162998924L279.27874913627204,143.79951303793825L279.21978079400907,142.76162292791759L279.1599415731515,141.85380871158765L278.90351635117196,140.29703922816003L278.3120690404106,138.73786780133855L277.7229024857154,137.308494472895L277.67207057251653,135.95080216724403L277.6231676639304,134.4650121787895L277.7681876440441,133.49880085130462L277.8454214716701,132.59676381154713L277.39383209243425,131.4954200398547L277.27032757510574,130.78513647846876L282.70346712416415,130.82519081691333L287.87168553607023,130.80673321624437L287.85391345185343,128.81133066941942L287.84589433218434,127.91096515146404L288.7013957223921,127.83828638811968L289.5574534718153,127.82837815172417L289.83758768981284,129.11130207599257L290.47308077275,132.00089676308414L292.08973411270426,133.26493423079643L294.2262909470032,133.48088433657057L295.69677001292933,133.64005463480316L301.0046952151478,134.70589470123713L304.4097450706547,136.12385979079994L306.0528004522014,136.82748958183112L307.6435754233832,136.36365233179424L310.2252459847687,135.6474803995299L316.64374657109283,137.19899623686638L311.5485830568021,140.0439448173015L307.9837367088881,143.28270426940168L304.5853059090181,146.6860069137922Z\" style=\"stroke: rgb(68, 68, 68); stroke-opacity: 1; stroke-width: 1px; opacity: 1;\"/><path class=\"choroplethlocation\" fill=\"rgb(70, 24, 105)\" d=\"M322.46084941263246,229.42304987399405L318.4726032050851,229.67549571440543L318.82774188921405,228.9287418228074L319.4125015863674,228.0356626929335L320.0747809113172,227.13696512552838L319.54106977732016,226.24682876737756L312.5360917101517,226.17768517909525L306.1108686274332,226.46317895218493L299.36359422944946,226.62038646500162L291.9013341306386,226.70982706190222L291.92910365904055,223.1534827261998L291.80866805068314,214.85662799449773L291.7648576405948,206.55902881424737L290.2238048417002,205.85518045143425L289.4412039348547,204.2179339215191L289.05256240719365,203.49770328091904L289.79830076559654,202.04154258026722L289.63403541088763,200.9243258757645L288.87554077030296,200.9321190838304L287.50272019159877,199.89050086302035L286.7361653127376,198.25019513133122L285.82629904117397,197.26767150370887L284.84399122325624,196.0865597394578L284.76735450559124,195.42886376893063L289.94892897563244,195.39299229093865L295.12993405972776,195.30821570162823L301.73385709787823,195.06339996132738L308.0276812990544,194.62117810313885L309.2107325306868,195.81840787078465L309.9938009163279,196.4399806109284L309.632431381804,198.36762590292676L310.2749901978918,200.70898355344627L311.26344035132144,202.24221694301156L312.4720680107762,203.49905590685518L313.9007923244078,204.47799821606918L314.4533118882093,204.7773786238186L314.99277661432075,206.19807495141362L315.143366922067,207.5086094247397L315.85299961854844,207.79799592494732L316.973433122792,207.2046961204398L318.12409818969076,208.38844267105748L317.90476915298495,209.85332912970432L317.4323138679523,211.0034702765754L317.12805533255244,212.4070516500962L318.05160466717587,213.5391339597113L319.2812822250146,214.51880359668297L319.98484615176454,214.54011502469052L321.6487876438456,216.08109710574792L322.2900064161015,216.30189349104302L322.80606183446656,218.11491687195024L322.7305281050767,219.30825679497588L323.56840065016047,221.16469865253913L324.2619665949233,220.9179468375724L325.3693685428942,222.02682859133358L325.2689287754546,222.82634941697205L325.43348095750395,224.0027320539009L324.5318896084058,224.72746155820477L323.2455025731051,225.67508628593094L323.1363387003833,226.4084389850949L322.81508839032824,227.5519812603286Z\" style=\"stroke: rgb(68, 68, 68); stroke-opacity: 1; stroke-width: 1px; opacity: 1;\"/><path class=\"choroplethlocation\" fill=\"rgb(67, 56, 128)\" d=\"M314.4728686271861,253.27001565654263L314.72726478768067,251.74532974082135L313.87986338384684,249.75041626691484L313.95210412182183,247.90544313915623L315.20849676770683,245.1431412491577L315.77866600181227,243.53312438149814L316.8634076299443,242.4202317949083L317.48941027523995,241.9239949440628L318.2625453440172,239.771845938496L318.1972646776375,238.65578327679296L319.2996158826604,238.06316339075045L319.34079105051615,237.40173635799016L325.4824935870354,236.99779666172628L332.28162634832734,236.67373592770372L332.8917324549097,238.14100013097288L332.5694330952779,248.1908952153107L332.4785901567667,260.57100677436785L333.58507323617573,272.29804248047435L328.56981058351795,273.20274268289666L325.99084273066853,274.56105430302466L325.896134125734,274.436528832661L325.67618880817724,273.73121125591285L325.41738740643405,272.4389250873467L324.50123540756323,271.5826041015437L324.0144671706922,270.6972109192564L324.3559564499713,269.36444295597613L324.44481753511235,268.1131862575626L318.23132901825664,268.4251613101695L312.5202930684557,268.5207734938906L312.08967933671977,266.57548515272197L312.897673824386,265.68586431076665L313.4020911851231,263.8262174213319L313.91261567699127,262.16174274536627L315.11544496623367,260.920283790757L315.2930636155356,259.46728842550215L316.1736033024057,258.6332737740787L315.26476426327685,257.30217800696414L315.4674725080268,256.3721693770125L314.46977348625256,254.84709433714013L314.99466490944894,253.70321043131895Z\" style=\"stroke: rgb(68, 68, 68); stroke-opacity: 1; stroke-width: 1px; opacity: 1;\"/><path class=\"choroplethlocation\" fill=\"rgb(67, 57, 129)\" d=\"M242.3348228236322,129.0686343813942L241.28769794649935,142.92985008719415L240.77582690909594,152.2159800814053L239.9015897589964,159.2104624920932L230.87381369588866,158.2303959485982L221.2146646846083,157.20954461489117L212.8481293839305,156.05273104993597L202.32732382664878,154.54804031523634L201.7187824795089,158.35451852756626L201.59710834790374,158.66610585158168L201.03941980270992,158.1130093148734L200.71700519945318,157.00146352339374L200.1306860335656,156.64111861994382L199.1075975333281,158.06275627260624L197.88567564797467,158.05843219865483L194.88619598764132,157.08262349691694L194.61205426598804,157.83130733535035L192.92084786733838,157.2022423971348L191.74652724194758,158.1219292769763L191.1285752702198,155.95081800228496L190.70102657080685,154.74373688286664L189.62438965556152,154.34653733111531L189.44182456604204,153.78118032773904L189.4654598798126,151.72647077620718L188.6790492718501,150.58316711437902L188.507783885609,148.09454748896457L188.08570079999635,146.9525403892609L187.5064536163817,146.64259706148903L186.76131053617564,147.56126108969778L185.55829042247785,148.2576190959805L184.74891037608054,147.30126581406358L185.05912651164476,145.36937145602434L185.76122484829529,145.04273140897715L185.74220732581347,142.98165379828788L186.59317144501077,141.1594872143309L187.5378413077861,139.5553479691389L185.93209584930696,139.1737002479661L184.86929423144645,137.83530975884787L183.85807029050102,135.24582390035044L183.22440863036195,133.92394630503662L182.2364865852699,132.99095259572948L181.4919126728518,131.57685474968747L181.7719811382135,130.24565339196602L180.880703905229,127.93977293038671L182.14783706375167,120.09142525957304L197.3584169029727,123.09432653957384L212.19851865276246,125.54077804392494L227.3706636287782,127.5561250431349Z\" style=\"stroke: rgb(68, 68, 68); stroke-opacity: 1; stroke-width: 1px; opacity: 1;\"/><path class=\"choroplethlocation\" fill=\"rgb(52, 97, 141)\" d=\"M363.8640232464867,233.34423231732558L356.14202124466834,234.28291174230935L356.10087007415257,232.63098829902668L357.32611533857465,232.01391282641794L357.69910286958725,231.10467888366583L358.38167235594364,230.08903405262265L359.6333772207218,229.72812707769776L361.025994257144,229.212899881893L362.363542313817,228.3030808145325L362.8317168529342,227.57530465042203L363.94270635007246,226.8247105977892L363.86144089600435,226.2379740002619L365.2208975839717,224.98452719886637L365.79749510426495,225.63413919390592L367.79673335619145,223.81684786936063L368.9311887826642,223.8498145979197L369.68418687840665,222.40681835232732L370.81647139393084,221.90344756411122L370.5701161870526,220.80882529184657L370.5790611286099,219.80861028531598L368.2445948764953,220.29116679362448L370.5790611286099,219.80861028531598L380.8161220886934,218.4950638437556L392.778967222681,216.39903516829503L399.152037899022,215.0735479081249L404.8106844285501,213.82651859252832L405.50911700682514,213.6768095554612L406.130090882371,215.42876735855566L408.0064868595256,221.08370047475552L406.5022372419911,224.8382098492375L405.3258608887419,227.5064680980513L399.4872098962618,231.04587482819596L396.25708025289225,236.29490672743844L393.2854090265053,237.38954657835677L385.0671946364806,231.3857978184036L378.1684857146465,232.47454870855546L378.03221952979305,231.6305010013641L376.86396754361965,230.4857604048879L376.3768804635802,231.029590326508L376.193850792132,230.3926150454377L373.2671268326292,230.51662370521808L367.58094733918165,231.29523292585048L364.47928031715486,233.0605266442122Z\" style=\"stroke: rgb(68, 68, 68); stroke-opacity: 1; stroke-width: 1px; opacity: 1;\"/><path class=\"choroplethlocation\" fill=\"rgb(69, 12, 94)\" d=\"M277.27032757510574,130.78513647846876L277.39383209243425,131.4954200398547L277.8454214716701,132.59676381154713L277.7681876440441,133.49880085130462L277.6231676639304,134.4650121787895L277.67207057251653,135.95080216724403L277.7229024857154,137.308494472895L278.3120690404106,138.73786780133855L278.90351635117196,140.29703922816003L279.1599415731515,141.85380871158765L279.21978079400907,142.76162292791759L279.27874913627204,143.79951303793825L279.46478011640926,146.00716162998924L279.6662536219659,146.4632382324698L279.6531109676905,148.15195459207115L279.91634498181645,149.71393192742073L280.3904951210197,150.95285457957237L280.6598364621578,152.1257242315412L280.65162889359067,153.55794981142384L270.51488850537663,153.7894044549584L261.8420692735372,153.49222744015145L250.88902942271798,152.90449214688817L240.77582690909594,152.2159800814053L241.28769794649935,142.92985008719415L242.3348228236322,129.0686343813942L242.59890721949935,129.091118151304L259.85325668237346,130.24557652098906Z\" style=\"stroke: rgb(68, 68, 68); stroke-opacity: 1; stroke-width: 1px; opacity: 1;\"/><path class=\"choroplethlocation\" fill=\"rgb(68, 1, 84)\" d=\"M248.38470118359388,198.78578693577145L248.39724860646558,198.58874797489364L248.87804630890855,191.03852187265045L237.41411173740929,190.1871736790509L238.7136651150994,174.87363130329277L249.56514899679146,175.6824822124757L257.8945527861875,176.15171995748648L269.0582922667303,176.57477063707955L270.4844985743703,177.59598164243442L272.5794855477419,178.23393394701952L273.02246014516885,177.91482257016946L274.3311155797179,177.93915213101718L276.367797455143,177.90500051904536L277.8112033873111,178.90670129569503L279.3356069904192,179.57715577071525L279.54946598104,180.23507795723134L280.0584492915942,180.56682342666386L281.0076617775832,180.70346982922473L281.22347412592154,181.49215332277606L281.5848394592041,182.74103596533433L281.582423845225,183.3976852095101L282.60819817568733,184.84539293112152L282.97509799326986,186.09408542671514L282.9731825926626,187.8682397292846L283.41749231556054,188.13141715891425L283.78837818108656,189.05154904037397L284.3855726436515,191.28616132918182L284.5371095898235,192.66681177414955L284.3148611178093,194.04830683177818L284.76735450559124,195.42886376893063L284.84399122325624,196.0865597394578L285.82629904117397,197.26767150370887L286.7361653127376,198.25019513133122L287.50272019159877,199.89050086302035L279.4775917781876,199.88952130382836L266.0798933037651,199.62852418579013L258.51459827653844,199.33769125738525Z\" style=\"stroke: rgb(68, 68, 68); stroke-opacity: 1; stroke-width: 1px; opacity: 1;\"/><path class=\"choroplethlocation\" fill=\"rgb(66, 60, 131)\" d=\"M422.72160282136605,159.27576394987733L422.0388297014196,159.25672546806095L421.05181636077504,160.06551775323265L420.6924067750736,160.97639844725785L414.1196552993225,162.61570100514348L413.5035326564387,161.95929931790243L413.66924744446635,160.83503414174106L413.2408905163761,158.84669541119098L413.33839421357516,158.34864815091225L413.0270199759477,156.53459952764808L413.2824607739136,154.91495589036498L413.53733714404774,154.17389970855322L413.70553786116704,152.2382906474893L413.5337522880487,150.99866081261666L413.54465463316757,150.18515550401048L414.4268096376649,149.6187837287037L415.43272864026494,148.40952836613678L415.3891431211888,147.4069958360028L414.69605684881014,146.44032203502434L414.77871639340583,144.25719956773952L414.8388765470596,142.2832357905403L416.3814748266667,141.53443068209214L420.8070238673248,154.97157935456073L420.78586995097044,155.72387965303415L422.07008472654934,156.59875155306145L422.62462802362637,157.53509919236552L423.166568171603,157.31935439688772Z\" style=\"stroke: rgb(68, 68, 68); stroke-opacity: 1; stroke-width: 1px; opacity: 1;\"/><path class=\"choroplethlocation\" fill=\"rgb(70, 25, 106)\" d=\"M402.7320339213804,190.9651851533152L402.1854616018978,189.5348498139693L402.90696429927846,188.56797458978377L403.93600196167756,187.598711312097L404.20575596672404,187.06659204985493L405.30466537639285,185.7407278132133L405.85274026873026,184.7394454644725L403.6538496280386,183.21171574695103L403.3937987228,182.3934926929623L402.6910543636201,182.3479685705994L402.49297577098525,181.11167001341852L402.9357246825077,180.00207423671134L402.4289032248393,179.10454909287228L403.1588366666266,178.26716243280532L403.7118324415052,176.32245544061487L404.3634315355802,175.83715573516838L409.34385124735184,177.85200654615875L409.4887082952437,179.43972696562838L408.2304147777401,181.96457900370848L409.99026498132855,181.8898331404926L410.017596093007,187.6295107260063L409.4709996876919,188.97341007630303L407.17226190255667,194.36243335623743L406.3640705427615,192.51965652016634L406.0508442855706,192.52252633746838L405.00807318009225,192.41814585447673L403.91301760383294,191.71670275130776Z\" style=\"stroke: rgb(68, 68, 68); stroke-opacity: 1; stroke-width: 1px; opacity: 1;\"/><path class=\"choroplethlocation\" fill=\"rgb(60, 78, 138)\" d=\"M198.7044666470353,261.0746372269417L204.67945736893984,217.79513369316396L214.06847054284333,219.01289961024105L223.55467705711953,220.08459953206926L233.84331922366306,221.06768795231648L241.07866919263228,221.64782099434063L240.79740554748793,225.45637298105953L239.30040482236996,245.72705205457422L238.23232338691318,260.1897945497832L232.27367713867406,259.7206406864592L220.7064273209675,258.6433172965718L214.8472849600613,258.013426994779L214.85787435832492,258.6739907748756L215.47438331816647,259.9952480784856L204.23990964489002,258.6442590443399L203.83606213385917,261.761278638644Z\" style=\"stroke: rgb(68, 68, 68); stroke-opacity: 1; stroke-width: 1px; opacity: 1;\"/><path class=\"choroplethlocation\" fill=\"rgb(58, 82, 139)\" d=\"M165.4575437181905,171.32976693857393L182.08729046668944,174.8634904597746L174.78987079528898,212.86561310131918L173.68866917454002,219.0231566892287L173.32562563382797,219.22151739975635L172.70918250164576,220.30931363270565L171.98713939048176,219.83409327857674L170.9124790063497,219.08726624708305L169.659414079046,218.83934949491106L169.0874811973697,219.66499135006444L169.35261549757263,220.7916195439961L169.01891082535866,222.46984715700677L168.8945688322458,223.92108484749582L168.91666365989687,225.4681599748053L168.2129676000775,226.93812509306088L160.0822245569992,215.16610167531832L151.72220145527052,202.80270856623025L143.32944935939298,189.93965325960824L149.13068982641914,167.4552907113295L165.4431255849987,171.39384693445157Z\" style=\"stroke: rgb(68, 68, 68); stroke-opacity: 1; stroke-width: 1px; opacity: 1;\"/><path class=\"choroplethlocation\" fill=\"rgb(253, 231, 37)\" d=\"M409.6798714797594,169.0547894086194L410.70582810270383,174.89067472044206L411.2938278420358,175.42519331484095L410.30397492809504,176.40689751302176L410.6786469393777,177.3314257524574L410.79723440559303,177.505884788343L410.47981447565144,177.78467745131087L418.31974864060214,174.3576525991329L420.3422471569761,175.33162654690625L415.23163642165326,178.32113972895525L413.0574371341311,179.5316298163092L409.4964495811636,180.45169192155646L409.4887082952437,179.43972696562838L409.34385124735184,177.85200654615875L404.3634315355802,175.83715573516838L403.30573889742186,175.53826681108188L402.2495006786661,175.23733186993798L401.6438635890923,174.22813334147526L401.6015166476282,173.36226239435314L400.79560049067163,172.8017810675555L399.30274244676787,171.85413150583406L391.81656068781706,173.4475515245893L383.7300589606873,175.04425144573418L375.0399082707793,176.61730744648042L374.6825855913014,174.54649381855597L378.6247121320025,169.18254312152357L378.4242057209428,168.48567626762474L377.50447493714887,166.25348197773928L379.90748118024453,164.94682042326974L384.2806939991615,164.3821313308004L388.8711228392764,164.1371795158089L392.37545810907886,160.79996971863358L391.4721387175018,157.9120798696885L390.69729305393287,157.00502807956445L395.05058006777614,150.5822237805699L397.07726730180696,148.65659852641943L405.10017493428455,146.77549950107078L405.38616846799914,148.25203171976477L405.4264751887962,149.31809103378862L406.01910056019886,151.46165871790748L406.6427344703941,152.52182970690257L406.4737111467721,154.2462431370239L407.42380454565694,156.0368383561178L407.3529071354268,157.2672218028087L407.48453465018156,157.50493975958398L408.3388237585777,157.36446483782214L409.56469843705065,163.61145271624042Z\" style=\"stroke: rgb(68, 68, 68); stroke-opacity: 1; stroke-width: 1px; opacity: 1;\"/><path class=\"choroplethlocation\" fill=\"rgb(63, 71, 136)\" d=\"M349.3449428985167,203.00789932022673L348.7112555036929,197.64687610915752L347.90511324091966,190.188813606682L347.07840979966574,183.2030636826633L349.93298824222563,182.7913370587343L352.50011351377407,182.46740235299524L354.6173248264877,182.1245534280538L358.35980870569244,183.2736137490577L361.20574776955505,183.26782900128973L365.15720795263155,181.61770980842783L368.10997493969654,178.96377888228216L370.86265184924275,177.5208712156993L372.53680150256235,187.70472147803673L371.7856943151065,188.22756122712468L372.16703359464765,189.16522630404228L372.22984531923055,190.95496412893482L371.9596088942848,193.06558310536906L371.6222876633719,194.78665585855742L371.6724253717136,195.5786226503576L370.3711578484837,197.58526758093495L369.75354541970023,198.08200638600238L369.02908878690863,198.39458368659348L368.25400843627756,198.38083609742387L367.1669624843019,199.87830750503014L367.1458246938836,201.27985551121185L367.10173341807155,202.01896253588671L366.6183515645971,202.4243315797196L366.4159317034697,201.5890523951059L365.6275626980944,201.5064642492939L365.0401229115487,203.3233341817472L365.21159488801914,205.02861541827298L364.52182539554747,206.19366413500688L363.0945026841973,206.5978077852912L361.92114377868825,206.03169996110915L361.30748356527863,204.9870143256266L360.1791413933214,205.275856891729L359.01747023194537,205.89905258000255L357.88517728344084,205.58558874441474L356.5337459486389,205.96280720806556L355.53950416063753,205.4940260859587L354.24135033009696,205.06226032548892L352.42630791723565,203.56387647968552L351.33992824912536,202.90112085897766Z\" style=\"stroke: rgb(68, 68, 68); stroke-opacity: 1; stroke-width: 1px; opacity: 1;\"/><path class=\"choroplethlocation\" fill=\"rgb(71, 29, 110)\" d=\"M241.07866919263228,221.64782099434063L246.9033435824017,222.04834574262003L252.65298889756934,222.38566746355298L258.72101157075286,222.6792341891453L264.71293366108154,222.90629849110258L275.6766498379006,223.16039181913476L286.5643183322733,223.2064017818024L291.92910365904055,223.1534827261998L291.9013341306386,226.70982706190222L293.30653917656474,234.8507988690107L293.2677227974086,242.3506534715662L293.2131169316691,249.12107675466234L290.47506232082753,247.64774625682622L288.65904758211923,246.87745007076126L287.26598355398687,247.4133028370573L285.0460140355732,247.29149840943734L283.73096444004557,247.35901801984576L282.5791908583028,247.9495300183461L281.5907394024652,248.27557943451384L280.60476285582706,247.87738118583323L278.544159469244,248.32360469589383L277.5692743739863,247.00067396903663L276.5704911006274,248.10683797445438L274.84976870561087,247.55877204170127L273.06148032200684,246.34735001668957L271.1578247686987,247.09966203841051L270.37667396983596,245.2426748407804L267.4244970394078,245.3018940110446L265.63415002089425,244.8564856753199L263.5235566081307,244.26345366536975L262.59999227652446,242.5874277907212L260.9491947875625,243.05339247346313L259.9932581659234,242.4242868024881L258.48033546717727,241.50709943972024L258.7905203235454,234.14670997589695L259.11200066978995,226.51828935913875L253.00352003618042,226.2286279102246L246.89842922011792,225.87464269330093L240.79740554748793,225.45637298105953Z\" style=\"stroke: rgb(68, 68, 68); stroke-opacity: 1; stroke-width: 1px; opacity: 1;\"/><path class=\"choroplethlocation\" fill=\"rgb(57, 85, 139)\" d=\"M172.81818272908248,141.46102200026417L173.7279591484412,143.13150816403868L174.47182393670596,143.9625869295685L174.49338286910614,145.16852094437627L173.80597864026092,146.01929674846014L172.6314863200862,147.76481908324155L171.3375480844137,150.0192493083527L169.89120346965132,151.30231219723214L168.75582652876113,152.78835676850582L168.48105637955865,154.00025355578248L169.33854240953525,154.73033093080437L169.54135344361012,155.7817094091793L168.63536228985237,157.8595441108689L165.4575437181905,171.32976693857393L165.4431255849987,171.39384693445157L149.13068982641914,167.4552907113295L126.19779885792659,160.92485943079697L126.18663412335283,154.73994084444655L130.3973442412735,148.4219410866109L133.0991443573143,141.99443373710955L135.73074598257887,135.4920236678504L136.89813508133315,129.71989815250794L138.00362731301797,130.12195272785488L139.59233638062236,130.59720417323496L140.6489153365921,131.6564353299019L141.9823595065395,132.52178685794712L142.51553235052813,134.1682160918429L142.28733029962012,135.45862331970824L142.40012177154293,136.57655556441898L143.51794281797535,137.2361095778611L144.81174052261477,137.53568083986193L146.9706823959622,137.32857683117345L148.2490532109828,137.4120657441319L149.97789116133353,138.22295992471442L150.68342900976643,138.81918052880906L151.8961461430859,138.87494245558952L153.1918372764283,138.61274296650953L155.53331651258387,139.29433782189574L157.6318019710955,138.9603777124646L158.78672296195916,138.64940547703912L160.05462223664466,139.30485567806818L162.13036126724805,139.0153779124854Z\" style=\"stroke: rgb(68, 68, 68); stroke-opacity: 1; stroke-width: 1px; opacity: 1;\"/><path class=\"choroplethlocation\" fill=\"rgb(71, 28, 109)\" d=\"M372.53680150256235,187.70472147803673L370.86265184924275,177.5208712156993L374.69374983493907,174.61119463156928L374.6825855913014,174.54649381855597L375.0399082707793,176.61730744648042L383.7300589606873,175.04425144573418L391.81656068781706,173.4475515245893L399.30274244676787,171.85413150583406L400.79560049067163,172.8017810675555L401.6015166476282,173.36226239435314L401.6438635890923,174.22813334147526L402.2495006786661,175.23733186993798L403.30573889742186,175.53826681108188L404.3634315355802,175.83715573516838L403.7118324415052,176.32245544061487L403.1588366666266,178.26716243280532L402.4289032248393,179.10454909287228L402.9357246825077,180.00207423671134L402.49297577098525,181.11167001341852L402.6910543636201,182.3479685705994L403.3937987228,182.3934926929623L403.6538496280386,183.21171574695103L405.85274026873026,184.7394454644725L405.30466537639285,185.7407278132133L404.20575596672404,187.06659204985493L403.93600196167756,187.598711312097L402.90696429927846,188.56797458978377L401.5619324564377,188.4581667242449L401.11257578713634,188.89255131334488L400.8666064406909,189.55188218743183L395.809663349325,190.61956911622468L390.89216144036027,191.61082640022465L386.7875429830249,192.4029327681373L385.0066088922328,192.80361539389378L379.6841172117785,193.69830209579123L373.68964485886727,194.71746618294384Z\" style=\"stroke: rgb(68, 68, 68); stroke-opacity: 1; stroke-width: 1px; opacity: 1;\"/><path class=\"choroplethlocation\" fill=\"rgb(70, 16, 98)\" d=\"M420.0885110654809,172.27295826577927L420.16655885925377,171.09807594249168L419.03576500161705,167.04724238089727L421.35080804114125,166.3033934755598L422.2294406962419,168.17711276270285L423.32344121903174,168.83742088971593L423.8440141779508,169.922625192628L423.3765979310249,170.18371800664158Z\" style=\"stroke: rgb(68, 68, 68); stroke-opacity: 1; stroke-width: 1px; opacity: 1;\"/><path class=\"choroplethlocation\" fill=\"rgb(42, 120, 142)\" d=\"M381.1024956298597,253.81598295666834L379.96058611679535,253.6001328678301L379.32808075190354,253.36846320392303L379.10329232025117,251.9439164652251L378.2173170920727,250.62291049933964L376.9297190455838,249.96048030085876L377.08687862071747,249.33872642534723L376.5443310226256,248.5596854564977L375.86326891144887,246.87196196010825L373.58508377134496,245.69116237492864L372.5763693210099,243.98318044921012L370.9239713495108,242.9659081605975L370.37383553424473,242.05053273936943L367.91481718891714,240.5457773483363L366.9910099759024,239.28262067088414L365.44039227860355,237.04350019966625L364.32760563075794,236.73221174400635L362.4570484983358,235.65838601823964L363.2297713421857,234.09440373543038L363.8640232464867,233.34423231732558L364.47928031715486,233.0605266442122L367.58094733918165,231.29523292585048L373.2671268326292,230.51662370521808L376.193850792132,230.3926150454377L376.3768804635802,231.029590326508L376.86396754361965,230.4857604048879L378.03221952979305,231.6305010013641L378.1684857146465,232.47454870855546L385.0671946364806,231.3857978184036L393.2854090265053,237.38954657835677L390.63203358553517,240.74624662722226L390.1878953100271,243.42742541074836L384.06994147846086,249.61037640323633Z\" style=\"stroke: rgb(68, 68, 68); stroke-opacity: 1; stroke-width: 1px; opacity: 1;\"/><path class=\"choroplethlocation\" fill=\"rgb(70, 16, 98)\" d=\"M280.65162889359067,153.55794981142384L280.57576257724634,154.66481390755274L279.38697595779666,155.50353959257433L279.0993190013674,156.54404780775081L279.5786324638029,157.7217922609414L280.5543422745572,158.31552236771307L281.1503088864114,165.69944488145768L281.0449107438792,172.89947130333712L280.32476018272797,172.89554140940186L280.31349156233256,174.7305128280396L281.03114566702243,175.7833805813887L280.8820241852516,176.63510620549886L280.58494849861177,177.8797208079867L280.14077432324905,179.12359032801908L281.0111076048429,179.98153755757397L281.0076617775832,180.70346982922473L280.0584492915942,180.56682342666386L279.54946598104,180.23507795723134L279.3356069904192,179.57715577071525L277.8112033873111,178.90670129569503L276.367797455143,177.90500051904536L274.3311155797179,177.93915213101718L273.02246014516885,177.91482257016946L272.5794855477419,178.23393394701952L270.4844985743703,177.59598164243442L269.0582922667303,176.57477063707955L257.8945527861875,176.15171995748648L249.56514899679146,175.6824822124757L238.7136651150994,174.87363130329277L239.9015897589964,159.2104624920932L240.77582690909594,152.2159800814053L250.88902942271798,152.90449214688817L261.8420692735372,153.49222744015145L270.51488850537663,153.7894044549584Z\" style=\"stroke: rgb(68, 68, 68); stroke-opacity: 1; stroke-width: 1px; opacity: 1;\"/><path class=\"choroplethlocation\" fill=\"rgb(63, 69, 135)\" d=\"M319.34079105051615,237.40173635799016L320.0236911931021,236.6350495755758L319.80532028220074,234.4074660012692L320.7080726694172,233.36216472236214L320.865249167926,232.0334241624734L321.9392311608755,231.23853451486974L322.424837498178,230.08511554305852L322.46084941263246,229.42304987399405L322.81508839032824,227.5519812603286L323.1363387003833,226.4084389850949L323.2455025731051,225.67508628593094L331.96198067175675,225.0779521656114L331.85769961647196,223.83135858383974L333.0423337404692,223.73103662793926L333.22847517872583,224.04547074490597L337.0017250419195,223.51020005511583L340.3226905031487,223.25914976325276L343.87913169600154,222.96427929673376L347.36976320374276,222.78709157140582L349.08905790099345,222.46160662359938L354.484462984934,222.15385644717003L358.55224324402536,221.4389169998637L360.2213329186729,220.75378879713645L360.51807215846117,220.5812386421427L360.2213329186729,220.75378879713645L358.55224324402536,221.4389169998637L367.54757944075266,220.46013855071834L368.2445948764953,220.29116679362448L370.5790611286099,219.80861028531598L370.5701161870526,220.80882529184657L370.81647139393084,221.90344756411122L369.68418687840665,222.40681835232732L368.9311887826642,223.8498145979197L367.79673335619145,223.81684786936063L365.79749510426495,225.63413919390592L365.2208975839717,224.98452719886637L363.86144089600435,226.2379740002619L363.94270635007246,226.8247105977892L362.8317168529342,227.57530465042203L362.363542313817,228.3030808145325L361.025994257144,229.212899881893L359.6333772207218,229.72812707769776L358.38167235594364,230.08903405262265L357.69910286958725,231.10467888366583L357.32611533857465,232.01391282641794L356.10087007415257,232.63098829902668L356.14202124466834,234.28291174230935L352.8516931920408,234.74607664801374L348.0942668061017,235.22078549819219L340.1088087832073,235.97528246403112L332.28162634832734,236.67373592770372L325.4824935870354,236.99779666172628Z\" style=\"stroke: rgb(68, 68, 68); stroke-opacity: 1; stroke-width: 1px; opacity: 1;\"/><path class=\"choroplethlocation\" fill=\"rgb(67, 189, 113)\" d=\"M215.47438331816647,259.9952480784856L214.85787435832492,258.6739907748756L214.8472849600613,258.013426994779L220.7064273209675,258.6433172965718L232.27367713867406,259.7206406864592L238.23232338691318,260.1897945497832L239.30040482236996,245.72705205457422L240.79740554748793,225.45637298105953L246.89842922011792,225.87464269330093L253.00352003618042,226.2286279102246L259.11200066978995,226.51828935913875L258.7905203235454,234.14670997589695L258.48033546717727,241.50709943972024L259.9932581659234,242.4242868024881L260.9491947875625,243.05339247346313L262.59999227652446,242.5874277907212L263.5235566081307,244.26345366536975L265.63415002089425,244.8564856753199L267.4244970394078,245.3018940110446L270.37667396983596,245.2426748407804L271.1578247686987,247.09966203841051L273.06148032200684,246.34735001668957L274.84976870561087,247.55877204170127L276.5704911006274,248.10683797445438L277.5692743739863,247.00067396903663L278.544159469244,248.32360469589383L280.60476285582706,247.87738118583323L281.5907394024652,248.27557943451384L282.5791908583028,247.9495300183461L283.73096444004557,247.35901801984576L285.0460140355732,247.29149840943734L287.26598355398687,247.4133028370573L288.65904758211923,246.87745007076126L290.47506232082753,247.64774625682622L293.2131169316691,249.12107675466234L293.55158746284144,249.64107056752067L294.78681551308733,249.48796139181277L296.2730219961526,249.52414783485014L295.95025004148243,253.93061433675553L296.53854021515036,262.1175077003586L297.5699994165677,263.0123909470093L298.01930184731447,264.1814041021181L298.56913900218865,265.9368269379405L299.3767946947044,267.68461040393913L299.99930892429217,268.7157604034652L299.4750352130333,271.54266551367954L299.0685389731835,272.40300650099846L298.51272174353585,274.2468955710523L299.0408658052273,274.75690322314347L298.9917187316723,276.2607857706965L298.06802391453647,277.32768536092203L297.40191313484627,278.4525491563031L297.8533389791973,279.2910241329731L292.3368081345444,281.1529758537593L286.28296625329193,286.8767266777989L279.51639815073804,290.18834799315357L275.9528539398237,293.6661760208706L275.77422157548335,293.7939762030936L274.21947943112434,297.21439449728985L274.0928858930117,299.8067874587765L274.05441026738424,302.4627799684543L274.36195725012726,306.156014918752L275.06398718717213,307.7170444885238L275.59430534541315,308.75752117386537L272.8732623785354,308.9130299206109L268.01956275419013,307.1364824361924L262.6713011311686,304.65987975031516L260.8141743023078,301.0355550238987L259.49139365342245,295.60247664395524L255.68386287466237,291.0941208093001L254.07265006227237,287.7020355093732L253.51355733810576,286.5032790872596L250.4583010140612,281.13367414085167L245.86681863655394,277.80642545727693L243.35836486031616,277.71706201016696L240.41833689480103,277.5883719002959L235.82198814191506,283.3378551135071L230.43840782680624,280.62287594290865L229.37741006435422,279.7479741714261L227.17790472131222,277.98464183118335L225.91891301063274,273.676501435792L224.1587216744242,269.4430471018234L220.58379793413454,265.6736019086556L220.26494886905,265.44378386347637L217.53901370661333,262.9211026874684L215.69738761198545,260.28355670313647Z\" style=\"stroke: rgb(68, 68, 68); stroke-opacity: 1; stroke-width: 1px; opacity: 1;\"/><path class=\"choroplethlocation\" fill=\"rgb(70, 24, 105)\" d=\"M182.08729046668944,174.8634904597746L198.6977564136247,177.71748789707402L197.50563793878442,185.18084010030879L208.84596543804196,187.06937167189352L204.67945736893984,217.79513369316396L195.9455071869963,216.45456215382916L184.4355137099526,214.49926036306755L174.78987079528898,212.86561310131918Z\" style=\"stroke: rgb(68, 68, 68); stroke-opacity: 1; stroke-width: 1px; opacity: 1;\"/><path class=\"choroplethlocation\" fill=\"rgb(57, 86, 139)\" d=\"M360.51807215846117,220.5812386421427L361.41614849609255,220.12791213240848L361.78898363206736,219.34619179286892L361.85843421263553,219.27024645538694L361.9278654544409,219.19429265434462L363.3761656046244,218.12995727308322L363.89161618463913,217.25979303061274L363.9558313457217,216.58574124978264L365.695457848737,215.40625164024357L367.2351609152468,213.4511490998849L367.76843684530536,212.77298227111135L368.19509193978405,214.04107762297838L368.826528851302,214.54589282886133L369.0015352749599,214.65278561437083L370.0331356104127,215.16280632207372L371.24488568071416,214.2442782137809L371.7480897347312,213.89976332295362L372.5383765413092,214.37629552271477L374.3087701516437,213.4958765201377L374.6861406768984,213.36865410005828L374.690469117183,212.90105582300941L374.64862769079895,212.640981083444L375.3877851504101,212.7884296048769L375.99999842475677,212.15500176198805L376.07738275729747,212.1423510059712L376.8725671696849,212.14521548362023L377.77007069460876,211.32879591451632L377.7822849753816,210.92615907674718L377.7389134278093,210.66632855319557L377.51005393051895,209.7697727583382L378.0511715649063,208.27687569368675L379.03794811015075,207.10796015610873L379.1561532001235,205.9520520990216L379.55802029410904,205.0813921022795L379.91563058864693,204.41835156965624L380.23296644511976,202.6256424484465L381.0959893770015,203.07666663269913L382.0366322779184,203.51291114141327L382.81694522210626,203.03993671926906L382.993916269478,202.27246683841065L383.4387751615425,201.25596411644273L383.68939377459094,200.4747045991544L383.84631873437615,200.04479409477716L384.3596130598797,200.2862228607318L385.01454706123,199.16241194111882L385.58722912803466,198.4543326650371L385.9681356189437,197.98197020061002L386.146277138957,197.68096352640583L386.57719445237996,197.0647127278428L386.64995917404605,195.37640516145268L386.6520833924915,194.97407747122554L389.71399576709325,196.33445196427988L389.96466401196096,196.42012883332387L390.3647826562807,194.86693592238538L390.52742265131496,194.90231474047556L391.240616803266,194.96402024895804L392.1057965822555,195.39750676094917L391.9327759789985,196.10280129316016L391.8957700444088,196.3114250645815L393.18908405690803,196.52501001185465L394.41126055962445,197.15321431529435L394.99369256495334,197.70747185160354L395.08502419357103,198.15928011391497L395.13994040791215,198.82000158554308L394.9392727657587,198.9948524978945L394.29963757486547,199.72784236340522L393.95236055331554,201.54308482447658L394.7891952746842,201.7789919688559L395.7113317351916,201.25755971688324L396.10898252837563,202.05057189128962L396.2373207284047,202.29334519785948L400.68940964211015,203.86241162042887L400.77921125123737,203.91083174227987L402.5150959342425,211.01546494887367L404.33753076002336,211.23443833012777L405.50911700682514,213.6768095554612L404.8106844285501,213.82651859252832L399.152037899022,215.0735479081249L392.778967222681,216.39903516829503L380.8161220886934,218.4950638437556L370.5790611286099,219.80861028531598L368.2445948764953,220.29116679362448L367.54757944075266,220.46013855071834L358.55224324402536,221.4389169998637L360.2213329186729,220.75378879713645ZM404.16670902032956,202.98560501379632L404.6775524315167,202.40284671805415L406.01775064425783,201.97430446558798L404.04501211699215,208.7380733669762L403.4378526852835,208.5311671161699Z\" style=\"stroke: rgb(68, 68, 68); stroke-opacity: 1; stroke-width: 1px; opacity: 1;\"/><path class=\"choroplethlocation\" fill=\"rgb(69, 50, 125)\" d=\"M414.1196552993225,162.61570100514348L409.56469843705065,163.61145271624042L408.3388237585777,157.36446483782214L407.48453465018156,157.50493975958398L407.3529071354268,157.2672218028087L407.42380454565694,156.0368383561178L406.4737111467721,154.2462431370239L406.6427344703941,152.52182970690257L406.01910056019886,151.46165871790748L405.4264751887962,149.31809103378862L405.38616846799914,148.25203171976477L405.10017493428455,146.77549950107078L410.2107533098376,145.43893305202187L414.77871639340583,144.25719956773952L414.69605684881014,146.44032203502434L415.3891431211888,147.4069958360028L415.43272864026494,148.40952836613678L414.4268096376649,149.6187837287037L413.54465463316757,150.18515550401048L413.5337522880487,150.99866081261666L413.70553786116704,152.2382906474893L413.53733714404774,154.17389970855322L413.2824607739136,154.91495589036498L413.0270199759477,156.53459952764808L413.33839421357516,158.34864815091225L413.2408905163761,158.84669541119098L413.66924744446635,160.83503414174106L413.5035326564387,161.95929931790243Z\" style=\"stroke: rgb(68, 68, 68); stroke-opacity: 1; stroke-width: 1px; opacity: 1;\"/><path class=\"choroplethlocation\" fill=\"rgb(47, 108, 142)\" d=\"M177.22924901978627,119.01156338441075L175.16869714438764,128.4773714656975L172.96816457775844,138.89309533974324L173.18420088255291,140.14186971379485L172.81818272908248,141.46102200026417L162.13036126724805,139.0153779124854L160.05462223664466,139.30485567806818L158.78672296195916,138.64940547703912L157.6318019710955,138.9603777124646L155.53331651258387,139.29433782189574L153.1918372764283,138.61274296650953L151.8961461430859,138.87494245558952L150.68342900976643,138.81918052880906L149.97789116133353,138.22295992471442L148.2490532109828,137.4120657441319L146.9706823959622,137.32857683117345L144.81174052261477,137.53568083986193L143.51794281797535,137.2361095778611L142.40012177154293,136.57655556441898L142.28733029962012,135.45862331970824L142.51553235052813,134.1682160918429L141.9823595065395,132.52178685794712L140.6489153365921,131.6564353299019L139.59233638062236,130.59720417323496L138.00362731301797,130.12195272785488L136.89813508133315,129.71989815250794L137.7886753370118,125.37044484952321L138.14480125416353,118.62978458892883L137.6985275969445,114.83470938044627L138.77924466240742,113.61447342336845L145.16156425687828,118.23929477272821L145.82441991328503,125.91950819077516L147.62121125301556,124.34179826360975L147.7212419921444,123.49413482429708L148.5647833939177,118.08122724428398L148.5501770902567,111.63083833190268L162.54455789428033,115.46601798132366L170.77501653852096,117.51289577968782Z\" style=\"stroke: rgb(68, 68, 68); stroke-opacity: 1; stroke-width: 1px; opacity: 1;\"/><path class=\"choroplethlocation\" fill=\"rgb(69, 12, 94)\" d=\"M309.984276603763,172.24178687131405L309.79463560215186,171.33294994937313L309.7030893916922,169.50150436857558L309.45601975813776,168.85830454265368L307.54669374529607,167.83558521057392L306.13473715612315,166.5887881018574L305.6716401198435,165.75757709458776L305.0816338467688,165.25873806837268L303.26498450158783,164.21863585484738L302.6251133633432,164.17718059374164L300.947716513239,162.79762945840378L301.10175280178464,161.0930714322252L301.0305818682579,159.00529820338966L301.382982503368,157.03491694264022L300.1488586060642,155.64144452481486L300.8684186137685,154.24829861596095L302.0208119920101,153.4255644713282L303.30541966035275,152.53001748200978L303.4464330370238,152.589650415694L303.2092117930331,148.30241392390894L304.631686950427,147.78939972955828L309.8292387095855,145.9828198047747L313.121023566947,148.33706398406122L313.1935100028462,148.39790854236026L313.52907000143335,148.24774171349526L314.36867606297375,148.4574076370003L314.8654723484654,149.79493229317376L319.57468127164316,150.84976829945492L322.78470148374623,151.98153611199263L324.2367692261014,151.86676480807637L325.28447071479036,151.9120312286862L325.7328463935327,153.1167239558772L327.0248025663467,153.5307125847047L327.60040447181694,154.52781806111284L327.30874476168435,155.20741349402846L327.135855111011,156.4659771267588L328.32748567595,156.4282441677521L328.08623798773016,157.6938386577707L328.8660883479091,158.5427440562588L328.8603347113093,158.47771360639484L329.0061894766484,158.53032914825013L328.941901995455,158.6015724814925L327.0761702367547,161.5821581237983L327.9296539836673,162.4277058991379L331.41778984186453,157.13053344366784L332.24982796786725,156.98631873049862L329.9875519267476,163.16553227612354L329.1821335595509,168.62350821450912L328.55574367291956,173.08377777702623L329.5269054251698,176.75220766773077L329.5456475164404,178.66074196508038L325.24367248857095,178.94912916709967L319.41386350364786,179.37342232151394L313.6527103993087,179.72978135420226L313.07662140724835,178.5788969803387L311.1464285094063,177.95974281862811L310.7916673594767,176.73000798840354L310.4648979387366,176.02431969158238L310.3850463566359,174.45270449746778L310.8601274781028,173.83759527269552L310.0759900544766,172.63081497299027Z\" style=\"stroke: rgb(68, 68, 68); stroke-opacity: 1; stroke-width: 1px; opacity: 1;\"/><path class=\"choroplethlocation\" fill=\"rgb(71, 30, 110)\" d=\"M367.76843684530536,212.77298227111135L366.5871096690604,212.8142623846325L365.83452144188493,211.9923993039988L364.8426891823737,211.13778350901964L364.36543768383683,210.00874231389093L363.5047419962904,208.93416208008637L363.34978460813176,207.29321665572616L363.0945026841973,206.5978077852912L364.52182539554747,206.19366413500688L365.21159488801914,205.02861541827298L365.0401229115487,203.3233341817472L365.6275626980944,201.5064642492939L366.4159317034697,201.5890523951059L366.6183515645971,202.4243315797196L367.10173341807155,202.01896253588671L367.1458246938836,201.27985551121185L367.1669624843019,199.87830750503014L368.25400843627756,198.38083609742387L369.02908878690863,198.39458368659348L369.75354541970023,198.08200638600238L370.3711578484837,197.58526758093495L371.6724253717136,195.5786226503576L371.6222876633719,194.78665585855742L371.9596088942848,193.06558310536906L372.22984531923055,190.95496412893482L372.16703359464765,189.16522630404228L371.7856943151065,188.22756122712468L372.53680150256235,187.70472147803673L373.68964485886727,194.71746618294384L379.6841172117785,193.69830209579123L380.29208691425333,197.60196692024022L381.08180873759693,196.7941368791915L381.8979055328521,195.71255109227332L382.9660607367835,195.18571153238258L383.64966220238085,194.25838940270387L385.3579571802977,194.27830292044314L385.9233783415224,193.5701890568938L386.8609206233367,192.79100957010058L388.76601367000796,193.03068895860423L389.72664087641715,193.98493319014614L390.3647826562807,194.86693592238538L389.96466401196096,196.42012883332387L389.71399576709325,196.33445196427988L386.6520833924915,194.97407747122554L386.64995917404605,195.37640516145268L386.57719445237996,197.0647127278428L386.146277138957,197.68096352640583L385.9681356189437,197.98197020061002L385.58722912803466,198.4543326650371L385.01454706123,199.16241194111882L384.3596130598797,200.2862228607318L383.84631873437615,200.04479409477716L383.68939377459094,200.4747045991544L383.4387751615425,201.25596411644273L382.993916269478,202.27246683841065L382.81694522210626,203.03993671926906L382.0366322779184,203.51291114141327L381.0959893770015,203.07666663269913L380.23296644511976,202.6256424484465L379.91563058864693,204.41835156965624L379.55802029410904,205.0813921022795L379.1561532001235,205.9520520990216L379.03794811015075,207.10796015610873L378.0511715649063,208.27687569368675L377.51005393051895,209.7697727583382L377.7389134278093,210.66632855319557L377.7822849753816,210.92615907674718L377.77007069460876,211.32879591451632L376.8725671696849,212.14521548362023L376.07738275729747,212.1423510059712L375.99999842475677,212.15500176198805L375.3877851504101,212.7884296048769L374.64862769079895,212.640981083444L374.690469117183,212.90105582300941L374.6861406768984,213.36865410005828L374.3087701516437,213.4958765201377L372.5383765413092,214.37629552271477L371.7480897347312,213.89976332295362L371.24488568071416,214.2442782137809L370.0331356104127,215.16280632207372L369.0015352749599,214.65278561437083L368.826528851302,214.54589282886133L368.19509193978405,214.04107762297838Z\" style=\"stroke: rgb(68, 68, 68); stroke-opacity: 1; stroke-width: 1px; opacity: 1;\"/><path class=\"choroplethlocation\" fill=\"rgb(62, 71, 136)\" d=\"M201.59710834790374,158.66610585158168L201.7187824795089,158.35451852756626L202.32732382664878,154.54804031523634L212.8481293839305,156.05273104993597L221.2146646846083,157.20954461489117L230.87381369588866,158.2303959485982L239.9015897589964,159.2104624920932L238.7136651150994,174.87363130329277L237.41411173740929,190.1871736790509L231.68325532822183,189.73644765557555L220.25056362079738,188.52318744562524L214.54443620987604,187.8263111809909L208.84596543804196,187.06937167189352L197.50563793878442,185.18084010030879L198.6977564136247,177.71748789707402L201.7166221922525,158.81763940407018Z\" style=\"stroke: rgb(68, 68, 68); stroke-opacity: 1; stroke-width: 1px; opacity: 1;\"/></g></g></g><g class=\"layer lakes\"><path d=\"M390.69729305393287,157.00502807956445L391.4721387175018,157.9120798696885L392.37545810907886,160.79996971863358L388.8711228392764,164.1371795158089L384.2806939991615,164.3821313308004L379.90748118024453,164.94682042326974L377.50447493714887,166.25348197773928L376.31449712452905,164.93592073553225L378.570759191895,163.2616104502253L383.93849384188746,162.24591755589574L388.872875123932,161.2610878161541L390.019083572527,157.94907813247136L390.5280009627124,157.24110436944108ZM356.1957669433643,178.92945430868917L356.1563982270867,179.7302561311243L356.89180009664204,180.75685059167796L359.0390418505827,181.7184847555189L360.4299975165971,181.52049593031057L366.3001459323621,176.45622175527666L371.88933306298344,174.28867373819367L378.4218940454372,169.28605470183487L378.4242057209428,168.48567626762474L378.6247121320025,169.18254312152357L374.69374983493907,174.61119463156928L370.86265184924275,177.5208712156993L368.10997493969654,178.96377888228216L365.15720795263155,181.61770980842783L361.20574776955505,183.26782900128973L358.35980870569244,183.2736137490577L354.6173248264877,182.1245534280538ZM316.64374657109283,137.19899623686638L318.3172722831678,137.0184667668927L322.77521075719426,134.54239564531878L327.83046487395336,136.90103280463399L333.2189635261674,139.31292957634025L337.6720101025785,141.38728550937907L341.9526083419064,143.38383965298522L342.7336257209525,145.31957520481092L344.0477874497554,145.88221776588307L343.79946726308555,146.69817651980804L342.1873957156483,146.5622912290063L340.84757676840735,144.5585533566259L335.7403315991822,145.83810663199932L331.25284180873916,147.9845806380605L327.2914205756163,145.4096690615815L324.2082219323037,144.69300346351258L325.57117154623603,140.54390927823152L321.16415725786584,143.43498369240444L317.1130607868941,146.19735554381947L313.1935100028462,148.39790854236026L309.8292387095855,145.9828198047747L304.631686950427,147.78939972955828L304.5853059090181,146.6860069137922L307.9837367088881,143.28270426940168L311.5485830568021,140.0439448173015ZM388.5422505982516,293.35581086102604L386.9966779107124,293.34234893021335L386.7881946952562,291.4725787833196L388.3294833503518,291.48670057056825ZM191.51264926385744,181.72116932631798L191.55011377009737,183.26179951150812L190.95122060810746,185.4275148279096L188.4445125482762,182.85381089557478L188.3552467993079,182.50408860503836L188.0289950135905,178.84027029294396L189.3805702688374,180.5492358845384L190.26812423719764,181.5056730393207L191.4046537474916,181.0355814026018ZM342.6630672210664,151.81538053270106L343.5154145596549,150.73083638441778L343.65337791071346,150.71441391658936L348.2583025909914,149.48761792949335L345.26811684149476,146.78125854023705L346.1975079907427,145.87926450047104L346.69028366460117,147.5873595799468L347.8755218988727,148.6833532010536L349.31801158884764,148.49651835428176L350.2619213205206,149.29155070500832L349.7520331938792,150.73865191156085L355.78145513488914,153.5988966221508L357.9527513536184,160.2819835214625L359.98663585495376,166.7983852542377L359.06410563407184,171.50283321285656L358.33057422738983,168.42901841412493L356.7076720589039,164.16120184473164L354.54652382738584,163.66917881786992L351.6609653222144,167.49090500553427L350.5833345737339,167.56457962449832L350.04862769612714,165.65247895326814L352.62229831922735,162.2133307405822L352.6442212524529,158.64817549839972L351.7639488675039,155.27412312225925L347.4189933423642,152.8132324943681ZM343.5154145596549,150.73083638441778L342.6630672210664,151.81538053270106L342.3085245129799,154.810265439131L341.21424330891466,155.7234414082501L340.6576168858071,159.59663591470485L339.88698080850554,157.11951158560635L337.9136711563829,159.17194210926817L336.8429508375678,161.84639472868582L335.81248783572966,165.76479724864413L335.8542807871236,169.05064874643995L338.2059707400089,173.62020757548248L338.50848582123865,178.6679956453441L336.6261631512491,182.68652395280083L335.6271143356283,183.8405405052497L334.16308654555183,184.83834829036567L332.25382699994964,185.0803721160692L331.6912033362773,184.60316552195917L329.79392344019817,180.68195052451546L329.5456475164404,178.66074196508038L329.5269054251698,176.75220766773077L328.55574367291956,173.08377777702623L329.1821335595509,168.62350821450912L329.9875519267476,163.16553227612354L332.24982796786725,156.98631873049862L331.41778984186453,157.13053344366784L327.9296539836673,162.4277058991379L327.0761702367547,161.5821581237983L328.941901995455,158.6015724814925L331.69506343574255,153.37054778995258L335.2334821912468,152.36704372465414L339.2124831862225,150.37203796764936Z\" style=\"stroke: none; fill: rgb(255, 255, 255); fill-opacity: 1;\"/></g><g class=\"layer frontplot\"><g class=\"scatterlayer\"/></g></g></g><g class=\"funnelarealayer\"/><g class=\"pielayer\"/><g class=\"iciclelayer\"/><g class=\"treemaplayer\"/><g class=\"sunburstlayer\"/><g class=\"glimages\"/><defs id=\"topdefs-1289ee\"><g class=\"clips\"/></defs><g class=\"layer-above\"><g class=\"imagelayer\"/><g class=\"shapelayer\"/></g><g class=\"infolayer\"><g class=\"cbcoloraxis colorbar\" transform=\"translate(80,100)\"><rect class=\"cbbg\" x=\"408\" y=\"0\" width=\"100.453125\" height=\"220\" style=\"fill: rgb(0, 0, 0); fill-opacity: 0; stroke: rgb(68, 68, 68); stroke-opacity: 1; stroke-width: 0;\"/><g class=\"cbfills\" transform=\"translate(0,32)\"><rect class=\"cbfill gradient_filled\" x=\"418\" y=\"0\" width=\"30\" height=\"178\" style=\"fill: url('#g1289ee-cbcoloraxis');\"/></g><g class=\"cblines\" transform=\"translate(0,32)\"/><g class=\"cbaxis crisp\" transform=\"translate(0,-100)\"><path class=\"ycbcoloraxistick ticks crisp\" d=\"M447.5,0h-6\" transform=\"translate(0,267.03999999999996)\" style=\"stroke: rgb(237, 237, 237); stroke-opacity: 1; stroke-width: 1px;\"/><path class=\"ycbcoloraxistick ticks crisp\" d=\"M447.5,0h-6\" transform=\"translate(0,205.98000000000002)\" style=\"stroke: rgb(237, 237, 237); stroke-opacity: 1; stroke-width: 1px;\"/><path class=\"ycbcoloraxistick ticks crisp\" d=\"M447.5,0h-6\" transform=\"translate(0,144.91)\" style=\"stroke: rgb(237, 237, 237); stroke-opacity: 1; stroke-width: 1px;\"/><g class=\"ycbcoloraxistick\"><text text-anchor=\"start\" x=\"450.9\" y=\"4.199999999999999\" transform=\"translate(0,267.03999999999996)\" style=\"font-family: 'Open Sans', verdana, arial, sans-serif; font-size: 12px; fill: rgb(51, 51, 51); fill-opacity: 1; white-space: pre; opacity: 1;\">20M</text></g><g class=\"ycbcoloraxistick\"><text text-anchor=\"start\" x=\"450.9\" y=\"4.199999999999999\" style=\"font-family: 'Open Sans', verdana, arial, sans-serif; font-size: 12px; fill: rgb(51, 51, 51); fill-opacity: 1; white-space: pre; opacity: 1;\" transform=\"translate(0,205.98000000000002)\">40M</text></g><g class=\"ycbcoloraxistick\"><text text-anchor=\"start\" x=\"450.9\" y=\"4.199999999999999\" style=\"font-family: 'Open Sans', verdana, arial, sans-serif; font-size: 12px; fill: rgb(51, 51, 51); fill-opacity: 1; white-space: pre; opacity: 1;\" transform=\"translate(0,144.91)\">60M</text></g></g><g class=\"cbtitleunshift\" transform=\"translate(-80,-100)\"><g class=\"cbtitle\" transform=\"\"><text class=\"ycbcoloraxistitle\" x=\"498\" y=\"123.5\" text-anchor=\"start\" style=\"font-family: 'Open Sans', verdana, arial, sans-serif; font-size: 14px; fill: rgb(51, 51, 51); opacity: 1; font-weight: normal; white-space: pre;\">Total_Sales</text></g></g><rect class=\"cboutline\" x=\"418\" y=\"32\" width=\"30\" height=\"178\" style=\"stroke: rgb(68, 68, 68); stroke-opacity: 1; fill: none; stroke-width: 0;\"/></g><g class=\"g-gtitle\"><text class=\"gtitle\" x=\"300\" y=\"50\" text-anchor=\"middle\" dy=\"0em\" style=\"font-family: 'Open Sans', verdana, arial, sans-serif; font-size: 17px; fill: rgb(51, 51, 51); opacity: 1; font-weight: normal; white-space: pre;\">Total Sales per State</text></g></g></svg>"
     },
     "metadata": {},
     "output_type": "display_data"
    }
   ],
   "source": [
    "# Group the total sales according to the state\n",
    "states = data[['State_Abb','Total_Sales']].groupby('State_Abb', as_index=False).sum()\n",
    "\n",
    "fig = px.choropleth(states, locations='State_Abb', color='Total_Sales', \n",
    "                    locationmode='USA-states', scope='usa', title='Total Sales per State', color_continuous_scale='Viridis')\n",
    "\n",
    "# Show figure\n",
    "# Added 'png' to save the figure in the notebook as static images to show in GitHub\n",
    "fig.show('png')"
   ]
  }
 ],
 "metadata": {
  "kernelspec": {
   "display_name": "base",
   "language": "python",
   "name": "python3"
  },
  "language_info": {
   "codemirror_mode": {
    "name": "ipython",
    "version": 3
   },
   "file_extension": ".py",
   "mimetype": "text/x-python",
   "name": "python",
   "nbconvert_exporter": "python",
   "pygments_lexer": "ipython3",
   "version": "3.9.13"
  },
  "papermill": {
   "default_parameters": {},
   "duration": 16.308105,
   "end_time": "2022-12-29T21:55:52.779650",
   "environment_variables": {},
   "exception": null,
   "input_path": "__notebook__.ipynb",
   "output_path": "__notebook__.ipynb",
   "parameters": {},
   "start_time": "2022-12-29T21:55:36.471545",
   "version": "2.3.4"
  },
  "vscode": {
   "interpreter": {
    "hash": "ad2bdc8ecc057115af97d19610ffacc2b4e99fae6737bb82f5d7fb13d2f2c186"
   }
  }
 },
 "nbformat": 4,
 "nbformat_minor": 5
}
